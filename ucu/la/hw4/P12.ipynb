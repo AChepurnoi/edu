{
 "cells": [
  {
   "cell_type": "code",
   "execution_count": 19,
   "metadata": {},
   "outputs": [],
   "source": [
    "import numpy as np\n",
    "from matplotlib import pyplot as plt"
   ]
  },
  {
   "cell_type": "markdown",
   "metadata": {},
   "source": [
    "#### A, B) Data is generated with numpy multivariate normal with zero mean and covariance matrix constructed as $I + u u^T$"
   ]
  },
  {
   "cell_type": "code",
   "execution_count": 20,
   "metadata": {},
   "outputs": [],
   "source": [
    "u = np.array([[1, -2, 3, -4, 5, -6, 7, -8, 9, -10]]).T\n",
    "e = np.ones_like(u) + np.matmul(u, u.T)\n",
    "data = np.random.multivariate_normal(np.zeros(10), e, 100)\n",
    "data = data - np.mean(data, axis=0)"
   ]
  },
  {
   "cell_type": "code",
   "execution_count": 21,
   "metadata": {},
   "outputs": [],
   "source": [
    "# empirical covariance matrix\n",
    "ecov = np.matmul(data.T, data) / (len(data) -1)"
   ]
  },
  {
   "cell_type": "markdown",
   "metadata": {},
   "source": [
    "#### B, C) Eigenvalues are computed with numpy function\n",
    "Eigenvalues are then sorted and fraction of total variance computed\n",
    "\n",
    "We can see that first two eigenvalues describe data very good"
   ]
  },
  {
   "cell_type": "code",
   "execution_count": 22,
   "metadata": {},
   "outputs": [],
   "source": [
    "evals, evecs = np.linalg.eig(ecov)\n",
    "sorted_idx = np.argsort(-evals)\n",
    "evals = evals[sorted_idx]\n",
    "evecs = evecs[sorted_idx]"
   ]
  },
  {
   "cell_type": "code",
   "execution_count": 23,
   "metadata": {},
   "outputs": [],
   "source": [
    "fraction = evals / np.sum(evals) * 100"
   ]
  },
  {
   "cell_type": "code",
   "execution_count": 24,
   "metadata": {},
   "outputs": [
    {
     "name": "stdout",
     "output_type": "stream",
     "text": [
      "Eigenvalue: 385.5, Total variance included: 97.3\n",
      "Eigenvalue: 10.6, Total variance included: 2.7\n",
      "Eigenvalue: 0.0, Total variance included: 0.0\n",
      "Eigenvalue: 0.0, Total variance included: 0.0\n",
      "Eigenvalue: 0.0, Total variance included: 0.0\n",
      "Eigenvalue: 0.0, Total variance included: 0.0\n",
      "Eigenvalue: 0.0, Total variance included: 0.0\n",
      "Eigenvalue: -0.0, Total variance included: -0.0\n",
      "Eigenvalue: -0.0, Total variance included: -0.0\n",
      "Eigenvalue: -0.0, Total variance included: -0.0\n"
     ]
    },
    {
     "name": "stderr",
     "output_type": "stream",
     "text": [
      "/Users/sasha/programming/vodafone-music/.env/lib/python3.7/site-packages/ipykernel_launcher.py:3: ComplexWarning: Casting complex values to real discards the imaginary part\n",
      "  This is separate from the ipykernel package so we can avoid doing imports until\n"
     ]
    }
   ],
   "source": [
    "# Warning is irrelevant as imaginary part is 0\n",
    "for i, f in enumerate(fraction):\n",
    "    print(\"Eigenvalue: %.1f, Total variance included: %.1f\" % (evals[i], f))"
   ]
  },
  {
   "cell_type": "code",
   "execution_count": null,
   "metadata": {},
   "outputs": [],
   "source": []
  }
 ],
 "metadata": {
  "kernelspec": {
   "display_name": "Python 3",
   "language": "python",
   "name": "python3"
  },
  "language_info": {
   "codemirror_mode": {
    "name": "ipython",
    "version": 3
   },
   "file_extension": ".py",
   "mimetype": "text/x-python",
   "name": "python",
   "nbconvert_exporter": "python",
   "pygments_lexer": "ipython3",
   "version": "3.7.0"
  }
 },
 "nbformat": 4,
 "nbformat_minor": 2
}
