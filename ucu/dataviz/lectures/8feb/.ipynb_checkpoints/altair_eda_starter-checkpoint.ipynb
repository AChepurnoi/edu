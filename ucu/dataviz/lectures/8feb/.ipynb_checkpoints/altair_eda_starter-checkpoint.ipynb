{
 "cells": [
  {
   "cell_type": "code",
   "execution_count": 1,
   "metadata": {
    "colab": {},
    "colab_type": "code",
    "id": "8YWP_wq8orbz"
   },
   "outputs": [],
   "source": [
    "import pandas as pd\n",
    "import altair as alt"
   ]
  },
  {
   "cell_type": "code",
   "execution_count": 2,
   "metadata": {
    "colab": {},
    "colab_type": "code",
    "id": "XprOOR49o5O7"
   },
   "outputs": [
    {
     "data": {
      "text/plain": [
       "DataTransformerRegistry.enable('default')"
      ]
     },
     "execution_count": 2,
     "metadata": {},
     "output_type": "execute_result"
    }
   ],
   "source": [
    "alt.data_transformers.enable('default', max_rows=None) "
   ]
  },
  {
   "cell_type": "code",
   "execution_count": 5,
   "metadata": {},
   "outputs": [
    {
     "data": {
      "text/plain": [
       "RendererRegistry.enable('notebook')"
      ]
     },
     "execution_count": 5,
     "metadata": {},
     "output_type": "execute_result"
    }
   ],
   "source": [
    "alt.renderers.enable('notebook')"
   ]
  },
  {
   "cell_type": "code",
   "execution_count": 3,
   "metadata": {
    "colab": {
     "base_uri": "https://localhost:8080/",
     "height": 204
    },
    "colab_type": "code",
    "id": "f64a1Z78pWqX",
    "outputId": "12dfb8ae-d8f5-47a3-8954-51b14154e7be",
    "scrolled": true
   },
   "outputs": [
    {
     "data": {
      "text/html": [
       "<div>\n",
       "<style scoped>\n",
       "    .dataframe tbody tr th:only-of-type {\n",
       "        vertical-align: middle;\n",
       "    }\n",
       "\n",
       "    .dataframe tbody tr th {\n",
       "        vertical-align: top;\n",
       "    }\n",
       "\n",
       "    .dataframe thead th {\n",
       "        text-align: right;\n",
       "    }\n",
       "</style>\n",
       "<table border=\"1\" class=\"dataframe\">\n",
       "  <thead>\n",
       "    <tr style=\"text-align: right;\">\n",
       "      <th></th>\n",
       "      <th>date</th>\n",
       "      <th>tavg</th>\n",
       "      <th>consumption</th>\n",
       "      <th>month</th>\n",
       "      <th>season</th>\n",
       "    </tr>\n",
       "  </thead>\n",
       "  <tbody>\n",
       "    <tr>\n",
       "      <th>0</th>\n",
       "      <td>2016-01-01</td>\n",
       "      <td>-11.932927</td>\n",
       "      <td>363439</td>\n",
       "      <td>January</td>\n",
       "      <td>Winter</td>\n",
       "    </tr>\n",
       "    <tr>\n",
       "      <th>1</th>\n",
       "      <td>2016-01-02</td>\n",
       "      <td>-14.957317</td>\n",
       "      <td>442786</td>\n",
       "      <td>January</td>\n",
       "      <td>Winter</td>\n",
       "    </tr>\n",
       "    <tr>\n",
       "      <th>2</th>\n",
       "      <td>2016-01-03</td>\n",
       "      <td>-17.039024</td>\n",
       "      <td>460553</td>\n",
       "      <td>January</td>\n",
       "      <td>Winter</td>\n",
       "    </tr>\n",
       "    <tr>\n",
       "      <th>3</th>\n",
       "      <td>2016-01-04</td>\n",
       "      <td>-16.225610</td>\n",
       "      <td>503460</td>\n",
       "      <td>January</td>\n",
       "      <td>Winter</td>\n",
       "    </tr>\n",
       "    <tr>\n",
       "      <th>4</th>\n",
       "      <td>2016-01-05</td>\n",
       "      <td>-10.917073</td>\n",
       "      <td>507364</td>\n",
       "      <td>January</td>\n",
       "      <td>Winter</td>\n",
       "    </tr>\n",
       "  </tbody>\n",
       "</table>\n",
       "</div>"
      ],
      "text/plain": [
       "         date       tavg  consumption    month  season\n",
       "0  2016-01-01 -11.932927       363439  January  Winter\n",
       "1  2016-01-02 -14.957317       442786  January  Winter\n",
       "2  2016-01-03 -17.039024       460553  January  Winter\n",
       "3  2016-01-04 -16.225610       503460  January  Winter\n",
       "4  2016-01-05 -10.917073       507364  January  Winter"
      ]
     },
     "execution_count": 3,
     "metadata": {},
     "output_type": "execute_result"
    }
   ],
   "source": [
    "df = pd.read_csv('https://gist.githubusercontent.com/andriy-gazin/cdd08754ca4158cdd933780d789e867a/raw/8ac67885806bb960b221a80773776c2fedf94291/weather_vs_electricity_consumption.csv')\n",
    "df.head()"
   ]
  },
  {
   "cell_type": "code",
   "execution_count": 12,
   "metadata": {},
   "outputs": [
    {
     "ename": "SchemaValidationError",
     "evalue": "Invalid specification\n\n        altair.vegalite.v2.schema.core.EncodingWithFacet, validating 'additionalProperties'\n\n        Additional properties are not allowed ('scale' was unexpected)\n        ",
     "output_type": "error",
     "traceback": [
      "\u001b[0;31m---------------------------------------------------------------------------\u001b[0m",
      "\u001b[0;31mSchemaValidationError\u001b[0m                     Traceback (most recent call last)",
      "\u001b[0;32m~/programming/edu/ucu/dataviz/.env/lib/python3.7/site-packages/altair/vegalite/v2/api.py\u001b[0m in \u001b[0;36mto_dict\u001b[0;34m(self, *args, **kwargs)\u001b[0m\n\u001b[1;32m    419\u001b[0m         \u001b[0;32mif\u001b[0m \u001b[0mdct\u001b[0m \u001b[0;32mis\u001b[0m \u001b[0;32mNone\u001b[0m\u001b[0;34m:\u001b[0m\u001b[0;34m\u001b[0m\u001b[0;34m\u001b[0m\u001b[0m\n\u001b[1;32m    420\u001b[0m             \u001b[0mkwargs\u001b[0m\u001b[0;34m[\u001b[0m\u001b[0;34m'validate'\u001b[0m\u001b[0;34m]\u001b[0m \u001b[0;34m=\u001b[0m \u001b[0;34m'deep'\u001b[0m\u001b[0;34m\u001b[0m\u001b[0;34m\u001b[0m\u001b[0m\n\u001b[0;32m--> 421\u001b[0;31m             \u001b[0mdct\u001b[0m \u001b[0;34m=\u001b[0m \u001b[0msuper\u001b[0m\u001b[0;34m(\u001b[0m\u001b[0mTopLevelMixin\u001b[0m\u001b[0;34m,\u001b[0m \u001b[0mcopy\u001b[0m\u001b[0;34m)\u001b[0m\u001b[0;34m.\u001b[0m\u001b[0mto_dict\u001b[0m\u001b[0;34m(\u001b[0m\u001b[0;34m*\u001b[0m\u001b[0margs\u001b[0m\u001b[0;34m,\u001b[0m \u001b[0;34m**\u001b[0m\u001b[0mkwargs\u001b[0m\u001b[0;34m)\u001b[0m\u001b[0;34m\u001b[0m\u001b[0;34m\u001b[0m\u001b[0m\n\u001b[0m\u001b[1;32m    422\u001b[0m \u001b[0;34m\u001b[0m\u001b[0m\n\u001b[1;32m    423\u001b[0m         \u001b[0;31m# TODO: following entries are added after validation. Should they be validated?\u001b[0m\u001b[0;34m\u001b[0m\u001b[0;34m\u001b[0m\u001b[0;34m\u001b[0m\u001b[0m\n",
      "\u001b[0;32m~/programming/edu/ucu/dataviz/.env/lib/python3.7/site-packages/altair/utils/schemapi.py\u001b[0m in \u001b[0;36mto_dict\u001b[0;34m(self, validate, ignore, context)\u001b[0m\n\u001b[1;32m    243\u001b[0m             \u001b[0mresult\u001b[0m \u001b[0;34m=\u001b[0m \u001b[0m_todict\u001b[0m\u001b[0;34m(\u001b[0m\u001b[0mself\u001b[0m\u001b[0;34m.\u001b[0m\u001b[0m_args\u001b[0m\u001b[0;34m[\u001b[0m\u001b[0;36m0\u001b[0m\u001b[0;34m]\u001b[0m\u001b[0;34m)\u001b[0m\u001b[0;34m\u001b[0m\u001b[0;34m\u001b[0m\u001b[0m\n\u001b[1;32m    244\u001b[0m         \u001b[0;32melif\u001b[0m \u001b[0;32mnot\u001b[0m \u001b[0mself\u001b[0m\u001b[0;34m.\u001b[0m\u001b[0m_args\u001b[0m\u001b[0;34m:\u001b[0m\u001b[0;34m\u001b[0m\u001b[0;34m\u001b[0m\u001b[0m\n\u001b[0;32m--> 245\u001b[0;31m             result = _todict({k: v for k, v in self._kwds.items()\n\u001b[0m\u001b[1;32m    246\u001b[0m                               if k not in ignore})\n\u001b[1;32m    247\u001b[0m         \u001b[0;32melse\u001b[0m\u001b[0;34m:\u001b[0m\u001b[0;34m\u001b[0m\u001b[0;34m\u001b[0m\u001b[0m\n",
      "\u001b[0;32m~/programming/edu/ucu/dataviz/.env/lib/python3.7/site-packages/altair/utils/schemapi.py\u001b[0m in \u001b[0;36m_todict\u001b[0;34m(val)\u001b[0m\n\u001b[1;32m    235\u001b[0m                 \u001b[0;32mreturn\u001b[0m \u001b[0;34m[\u001b[0m\u001b[0m_todict\u001b[0m\u001b[0;34m(\u001b[0m\u001b[0mv\u001b[0m\u001b[0;34m)\u001b[0m \u001b[0;32mfor\u001b[0m \u001b[0mv\u001b[0m \u001b[0;32min\u001b[0m \u001b[0mval\u001b[0m\u001b[0;34m]\u001b[0m\u001b[0;34m\u001b[0m\u001b[0;34m\u001b[0m\u001b[0m\n\u001b[1;32m    236\u001b[0m             \u001b[0;32melif\u001b[0m \u001b[0misinstance\u001b[0m\u001b[0;34m(\u001b[0m\u001b[0mval\u001b[0m\u001b[0;34m,\u001b[0m \u001b[0mdict\u001b[0m\u001b[0;34m)\u001b[0m\u001b[0;34m:\u001b[0m\u001b[0;34m\u001b[0m\u001b[0;34m\u001b[0m\u001b[0m\n\u001b[0;32m--> 237\u001b[0;31m                 return {k: _todict(v) for k, v in val.items()\n\u001b[0m\u001b[1;32m    238\u001b[0m                         if v is not Undefined}\n\u001b[1;32m    239\u001b[0m             \u001b[0;32melse\u001b[0m\u001b[0;34m:\u001b[0m\u001b[0;34m\u001b[0m\u001b[0;34m\u001b[0m\u001b[0m\n",
      "\u001b[0;32m~/programming/edu/ucu/dataviz/.env/lib/python3.7/site-packages/altair/utils/schemapi.py\u001b[0m in \u001b[0;36m<dictcomp>\u001b[0;34m(.0)\u001b[0m\n\u001b[1;32m    236\u001b[0m             \u001b[0;32melif\u001b[0m \u001b[0misinstance\u001b[0m\u001b[0;34m(\u001b[0m\u001b[0mval\u001b[0m\u001b[0;34m,\u001b[0m \u001b[0mdict\u001b[0m\u001b[0;34m)\u001b[0m\u001b[0;34m:\u001b[0m\u001b[0;34m\u001b[0m\u001b[0;34m\u001b[0m\u001b[0m\n\u001b[1;32m    237\u001b[0m                 return {k: _todict(v) for k, v in val.items()\n\u001b[0;32m--> 238\u001b[0;31m                         if v is not Undefined}\n\u001b[0m\u001b[1;32m    239\u001b[0m             \u001b[0;32melse\u001b[0m\u001b[0;34m:\u001b[0m\u001b[0;34m\u001b[0m\u001b[0;34m\u001b[0m\u001b[0m\n\u001b[1;32m    240\u001b[0m                 \u001b[0;32mreturn\u001b[0m \u001b[0mval\u001b[0m\u001b[0;34m\u001b[0m\u001b[0;34m\u001b[0m\u001b[0m\n",
      "\u001b[0;32m~/programming/edu/ucu/dataviz/.env/lib/python3.7/site-packages/altair/utils/schemapi.py\u001b[0m in \u001b[0;36m_todict\u001b[0;34m(val)\u001b[0m\n\u001b[1;32m    231\u001b[0m         \u001b[0;32mdef\u001b[0m \u001b[0m_todict\u001b[0m\u001b[0;34m(\u001b[0m\u001b[0mval\u001b[0m\u001b[0;34m)\u001b[0m\u001b[0;34m:\u001b[0m\u001b[0;34m\u001b[0m\u001b[0;34m\u001b[0m\u001b[0m\n\u001b[1;32m    232\u001b[0m             \u001b[0;32mif\u001b[0m \u001b[0misinstance\u001b[0m\u001b[0;34m(\u001b[0m\u001b[0mval\u001b[0m\u001b[0;34m,\u001b[0m \u001b[0mSchemaBase\u001b[0m\u001b[0;34m)\u001b[0m\u001b[0;34m:\u001b[0m\u001b[0;34m\u001b[0m\u001b[0;34m\u001b[0m\u001b[0m\n\u001b[0;32m--> 233\u001b[0;31m                 \u001b[0;32mreturn\u001b[0m \u001b[0mval\u001b[0m\u001b[0;34m.\u001b[0m\u001b[0mto_dict\u001b[0m\u001b[0;34m(\u001b[0m\u001b[0mvalidate\u001b[0m\u001b[0;34m=\u001b[0m\u001b[0msub_validate\u001b[0m\u001b[0;34m,\u001b[0m \u001b[0mcontext\u001b[0m\u001b[0;34m=\u001b[0m\u001b[0mcontext\u001b[0m\u001b[0;34m)\u001b[0m\u001b[0;34m\u001b[0m\u001b[0;34m\u001b[0m\u001b[0m\n\u001b[0m\u001b[1;32m    234\u001b[0m             \u001b[0;32melif\u001b[0m \u001b[0misinstance\u001b[0m\u001b[0;34m(\u001b[0m\u001b[0mval\u001b[0m\u001b[0;34m,\u001b[0m \u001b[0;34m(\u001b[0m\u001b[0mlist\u001b[0m\u001b[0;34m,\u001b[0m \u001b[0mtuple\u001b[0m\u001b[0;34m)\u001b[0m\u001b[0;34m)\u001b[0m\u001b[0;34m:\u001b[0m\u001b[0;34m\u001b[0m\u001b[0;34m\u001b[0m\u001b[0m\n\u001b[1;32m    235\u001b[0m                 \u001b[0;32mreturn\u001b[0m \u001b[0;34m[\u001b[0m\u001b[0m_todict\u001b[0m\u001b[0;34m(\u001b[0m\u001b[0mv\u001b[0m\u001b[0;34m)\u001b[0m \u001b[0;32mfor\u001b[0m \u001b[0mv\u001b[0m \u001b[0;32min\u001b[0m \u001b[0mval\u001b[0m\u001b[0;34m]\u001b[0m\u001b[0;34m\u001b[0m\u001b[0;34m\u001b[0m\u001b[0m\n",
      "\u001b[0;32m~/programming/edu/ucu/dataviz/.env/lib/python3.7/site-packages/altair/utils/schemapi.py\u001b[0m in \u001b[0;36mto_dict\u001b[0;34m(self, validate, ignore, context)\u001b[0m\n\u001b[1;32m    252\u001b[0m                 \u001b[0mself\u001b[0m\u001b[0;34m.\u001b[0m\u001b[0mvalidate\u001b[0m\u001b[0;34m(\u001b[0m\u001b[0mresult\u001b[0m\u001b[0;34m)\u001b[0m\u001b[0;34m\u001b[0m\u001b[0;34m\u001b[0m\u001b[0m\n\u001b[1;32m    253\u001b[0m             \u001b[0;32mexcept\u001b[0m \u001b[0mjsonschema\u001b[0m\u001b[0;34m.\u001b[0m\u001b[0mValidationError\u001b[0m \u001b[0;32mas\u001b[0m \u001b[0merr\u001b[0m\u001b[0;34m:\u001b[0m\u001b[0;34m\u001b[0m\u001b[0;34m\u001b[0m\u001b[0m\n\u001b[0;32m--> 254\u001b[0;31m                 \u001b[0;32mraise\u001b[0m \u001b[0mSchemaValidationError\u001b[0m\u001b[0;34m(\u001b[0m\u001b[0mself\u001b[0m\u001b[0;34m,\u001b[0m \u001b[0merr\u001b[0m\u001b[0;34m)\u001b[0m\u001b[0;34m\u001b[0m\u001b[0;34m\u001b[0m\u001b[0m\n\u001b[0m\u001b[1;32m    255\u001b[0m         \u001b[0;32mreturn\u001b[0m \u001b[0mresult\u001b[0m\u001b[0;34m\u001b[0m\u001b[0;34m\u001b[0m\u001b[0m\n\u001b[1;32m    256\u001b[0m \u001b[0;34m\u001b[0m\u001b[0m\n",
      "\u001b[0;31mSchemaValidationError\u001b[0m: Invalid specification\n\n        altair.vegalite.v2.schema.core.EncodingWithFacet, validating 'additionalProperties'\n\n        Additional properties are not allowed ('scale' was unexpected)\n        "
     ]
    },
    {
     "data": {
      "text/plain": [
       "Chart({\n",
       "  data:            date       tavg  consumption     month  season\n",
       "  0    2016-01-01 -11.932927       363439   January  Winter\n",
       "  1    2016-01-02 -14.957317       442786   January  Winter\n",
       "  2    2016-01-03 -17.039024       460553   January  Winter\n",
       "  3    2016-01-04 -16.225610       503460   January  Winter\n",
       "  4    2016-01-05 -10.917073       507364   January  Winter\n",
       "  5    2016-01-06  -6.657317       493315   January  Winter\n",
       "  6    2016-01-07  -3.965854       448638   January  Winter\n",
       "  7    2016-01-08  -2.691463       441274   January  Winter\n",
       "  8    2016-01-09  -2.481707       437575   January  Winter\n",
       "  9    2016-01-10  -1.728049       434342   January  Winter\n",
       "  10   2016-01-11  -1.121951       460939   January  Winter\n",
       "  11   2016-01-12   2.660976       457176   January  Winter\n",
       "  12   2016-01-13   1.809756       449852   January  Winter\n",
       "  13   2016-01-14  -0.232927       443787   January  Winter\n",
       "  14   2016-01-15  -1.948780       450847   January  Winter\n",
       "  15   2016-01-16  -0.831707       445345   January  Winter\n",
       "  16   2016-01-17  -5.465854       437641   January  Winter\n",
       "  17   2016-01-18  -6.045122       466357   January  Winter\n",
       "  18   2016-01-19  -6.106098       458601   January  Winter\n",
       "  19   2016-01-20  -7.558537       472149   January  Winter\n",
       "  20   2016-01-21  -7.808537       483412   January  Winter\n",
       "  21   2016-01-22  -9.226829       488093   January  Winter\n",
       "  22   2016-01-23 -10.663415       476157   January  Winter\n",
       "  23   2016-01-24 -13.117073       470306   January  Winter\n",
       "  24   2016-01-25 -10.323171       503013   January  Winter\n",
       "  25   2016-01-26  -5.651220       492193   January  Winter\n",
       "  26   2016-01-27  -0.902439       484136   January  Winter\n",
       "  27   2016-01-28   3.518293       465609   January  Winter\n",
       "  28   2016-01-29   2.182927       449083   January  Winter\n",
       "  29   2016-01-30   1.465854       430379   January  Winter\n",
       "  ..          ...        ...          ...       ...     ...\n",
       "  335  2016-12-01  -2.206667       476816  December  Winter\n",
       "  336  2016-12-02  -0.900000       473718  December  Winter\n",
       "  337  2016-12-03  -1.533333       453159  December  Winter\n",
       "  338  2016-12-04  -4.083333       442425  December  Winter\n",
       "  339  2016-12-05  -6.260000       481603  December  Winter\n",
       "  340  2016-12-06  -2.230000       483163  December  Winter\n",
       "  341  2016-12-07  -8.040000       484518  December  Winter\n",
       "  342  2016-12-08  -2.876667       493820  December  Winter\n",
       "  343  2016-12-09   4.103333       473548  December  Winter\n",
       "  344  2016-12-10   5.073333       448215  December  Winter\n",
       "  345  2016-12-11   3.966667       429164  December  Winter\n",
       "  346  2016-12-12   0.413333       460359  December  Winter\n",
       "  347  2016-12-13  -6.873333       477671  December  Winter\n",
       "  348  2016-12-14  -4.343333       489518  December  Winter\n",
       "  349  2016-12-15  -3.176667       487942  December  Winter\n",
       "  350  2016-12-16  -8.486667       491579  December  Winter\n",
       "  351  2016-12-17  -5.603333       480229  December  Winter\n",
       "  352  2016-12-18  -2.863333       460873  December  Winter\n",
       "  353  2016-12-19  -1.666667       478664  December  Winter\n",
       "  354  2016-12-20  -0.956667       481337  December  Winter\n",
       "  355  2016-12-21  -3.940000       494524  December  Winter\n",
       "  356  2016-12-22  -2.690000       484463  December  Winter\n",
       "  357  2016-12-23  -3.186667       489737  December  Winter\n",
       "  358  2016-12-24  -1.313333       474224  December  Winter\n",
       "  359  2016-12-25  -0.970000       451905  December  Winter\n",
       "  360  2016-12-26   0.070000       472630  December  Winter\n",
       "  361  2016-12-27   1.490000       468360  December  Winter\n",
       "  362  2016-12-28   0.633333       463962  December  Winter\n",
       "  363  2016-12-29  -0.783333       463487  December  Winter\n",
       "  364  2016-12-30  -2.423333       458018  December  Winter\n",
       "  \n",
       "  [365 rows x 5 columns],\n",
       "  encoding: EncodingWithFacet({\n",
       "    scale: Scale({\n",
       "      zero: False\n",
       "    }),\n",
       "    x: X({\n",
       "      shorthand: 'tavg'\n",
       "    }),\n",
       "    y: Y({\n",
       "      shorthand: 'consumption'\n",
       "    })\n",
       "  }),\n",
       "  mark: 'circle'\n",
       "})"
      ]
     },
     "execution_count": 12,
     "metadata": {},
     "output_type": "execute_result"
    }
   ],
   "source": [
    "alt.Chart(df).mark_circle().encode(x=\"tavg\", y='consumption', scale=alt.Scale(zero=False))"
   ]
  },
  {
   "cell_type": "code",
   "execution_count": 0,
   "metadata": {
    "colab": {},
    "colab_type": "code",
    "id": "P0z3NyfVrXcz"
   },
   "outputs": [],
   "source": [
    "# create simple scatterolot (tavg vs consumption)"
   ]
  },
  {
   "cell_type": "markdown",
   "metadata": {
    "colab_type": "text",
    "id": "VQ3JnSRSrNYb"
   },
   "source": [
    "https://gist.githubusercontent.com/andriy-gazin/2fa2836cc9287fc3fa0bed034fe08bbb/raw/fb1d8293da37bebdc3650c1f4e31bd3ff34f1580/electricity.csv"
   ]
  }
 ],
 "metadata": {
  "colab": {
   "collapsed_sections": [],
   "name": "altair_eda.ipynb",
   "provenance": [],
   "version": "0.3.2"
  },
  "kernelspec": {
   "display_name": "Python 3",
   "language": "python",
   "name": "python3"
  },
  "language_info": {
   "codemirror_mode": {
    "name": "ipython",
    "version": 3
   },
   "file_extension": ".py",
   "mimetype": "text/x-python",
   "name": "python",
   "nbconvert_exporter": "python",
   "pygments_lexer": "ipython3",
   "version": "3.7.2"
  }
 },
 "nbformat": 4,
 "nbformat_minor": 1
}
