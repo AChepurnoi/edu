{
 "cells": [
  {
   "cell_type": "code",
   "execution_count": 291,
   "metadata": {},
   "outputs": [],
   "source": [
    "import os\n",
    "from gensim.models import KeyedVectors\n",
    "from sklearn.neighbors import KNeighborsClassifier\n",
    "from sklearn.preprocessing import LabelEncoder\n",
    "from sklearn.model_selection import train_test_split\n",
    "from sklearn.metrics.classification import f1_score, accuracy_score\n",
    "from sklearn.neighbors import NearestNeighbors\n",
    "import numpy as np\n",
    "import tqdm\n",
    "from collections import Counter\n",
    "from langdetect import detect"
   ]
  },
  {
   "cell_type": "markdown",
   "metadata": {},
   "source": [
    "Побудуйте класифікатор, який буде предбачати категорію запиту до служби 1551 з використанням тільки векторів слів (не використовувати інших фічі, такі як самі слова, нграми і т.д)."
   ]
  },
  {
   "cell_type": "markdown",
   "metadata": {},
   "source": [
    "## Data loading and preprocessing"
   ]
  },
  {
   "cell_type": "code",
   "execution_count": 292,
   "metadata": {},
   "outputs": [],
   "source": [
    "model = KeyedVectors.load_word2vec_format('word2vec', binary=False)\n",
    "model.init_sims(replace=True)"
   ]
  },
  {
   "cell_type": "code",
   "execution_count": 293,
   "metadata": {},
   "outputs": [],
   "source": [
    "class FileParser:\n",
    "    def __init__(self):\n",
    "        self.documents = []\n",
    "        self.state = \"empty\"\n",
    "        self.current = {}\n",
    "    \n",
    "    def process_line(self, line, category):\n",
    "        if line.strip().isnumeric():\n",
    "            self.state = \"id\"\n",
    "            self.current['id'] = line.strip().lower()\n",
    "        elif self.state == \"id\" or (self.state == 'text' and line != '\\n'):\n",
    "            self.state = 'text'\n",
    "            current_text = self.current.get(\"text\", \"\")\n",
    "            self.current['text'] = current_text + line.lower().replace(\"\\n\", \" \")\n",
    "        elif line == '\\n' and self.state != 'newline':\n",
    "            self.state = 'newline'\n",
    "        elif line == '\\n' and self.state == 'newline':\n",
    "            self.state = \"empty\"\n",
    "            self.current['category'] = category\n",
    "            self.documents.append(self.current)\n",
    "            self.current = {}\n",
    "            "
   ]
  },
  {
   "cell_type": "markdown",
   "metadata": {},
   "source": [
    "### Parse TXT File"
   ]
  },
  {
   "cell_type": "code",
   "execution_count": 302,
   "metadata": {},
   "outputs": [
    {
     "data": {
      "application/vnd.jupyter.widget-view+json": {
       "model_id": "a6d666c0a13145f588bf0573a04b8f61",
       "version_major": 2,
       "version_minor": 0
      },
      "text/plain": [
       "HBox(children=(IntProgress(value=0, max=189), HTML(value='')))"
      ]
     },
     "metadata": {},
     "output_type": "display_data"
    }
   ],
   "source": [
    "# Parsing txt files\n",
    "DATA_PATH = \"data\"\n",
    "parser = FileParser()\n",
    "for file_name in tqdm.tqdm_notebook(os.listdir(DATA_PATH)):\n",
    "    category = file_name.split(\".\")[0]\n",
    "    with open(f\"{DATA_PATH}/{file_name}\", encoding='utf-8', errors='ignore') as file:  \n",
    "        for line in file:\n",
    "            parser.process_line(line, category)"
   ]
  },
  {
   "cell_type": "code",
   "execution_count": 303,
   "metadata": {},
   "outputs": [],
   "source": [
    "documents = parser.documents\n",
    "categories = {doc['category'] for doc in documents}"
   ]
  },
  {
   "cell_type": "markdown",
   "metadata": {},
   "source": [
    "### Validate and filter documents by lang and available text"
   ]
  },
  {
   "cell_type": "code",
   "execution_count": 304,
   "metadata": {},
   "outputs": [
    {
     "data": {
      "application/vnd.jupyter.widget-view+json": {
       "model_id": "e156c9602cf44a6a8ed466626fde2572",
       "version_major": 2,
       "version_minor": 0
      },
      "text/plain": [
       "HBox(children=(IntProgress(value=0, max=131780), HTML(value='')))"
      ]
     },
     "metadata": {},
     "output_type": "display_data"
    },
    {
     "name": "stdout",
     "output_type": "stream",
     "text": [
      "Can't detect lang for text:  \n",
      "Can't detect lang for text:  \n",
      "Can't detect lang for text:  \n",
      "Can't detect lang for text:  \n",
      "Can't detect lang for text:  \n",
      "Can't detect lang for text:  \n",
      "Can't detect lang for text:  \n",
      "Can't detect lang for text:  \n",
      "Can't detect lang for text:  \n",
      "Can't detect lang for text:  \n",
      "Can't detect lang for text:  \n",
      "Can't detect lang for text:  \n",
      "Can't detect lang for text:  \n",
      "Can't detect lang for text:  \n",
      "Can't detect lang for text:  \n",
      "Can't detect lang for text:  \n",
      "Can't detect lang for text:  \n",
      "Can't detect lang for text:  \n",
      "Can't detect lang for text:  \n",
      "Can't detect lang for text:  \n",
      "Can't detect lang for text:  \n",
      "Can't detect lang for text:  \n",
      "Can't detect lang for text:  \n",
      "Can't detect lang for text:  \n",
      "Can't detect lang for text:  \n",
      "Can't detect lang for text:  \n",
      "Can't detect lang for text:  \n",
      "Can't detect lang for text:  \n",
      "Can't detect lang for text:  \n",
      "Can't detect lang for text:  \n",
      "Can't detect lang for text:  \n",
      "Can't detect lang for text:  \n",
      "Can't detect lang for text:  \n",
      "Can't detect lang for text:  \n",
      "Can't detect lang for text:  \n",
      "Can't detect lang for text:  \n",
      "Can't detect lang for text:  \n",
      "Can't detect lang for text:  \n",
      "Can't detect lang for text:  \n",
      "Can't detect lang for text:  \n",
      "Can't detect lang for text:  \n",
      "Can't detect lang for text:  \n",
      "Can't detect lang for text:  \n",
      "Can't detect lang for text:  \n",
      "Can't detect lang for text:  \n",
      "Can't detect lang for text:  \n",
      "Can't detect lang for text: daria.denysova@gmail.com \n",
      "Can't detect lang for text: 2) \n",
      "Can't detect lang for text:  \n",
      "Can't detect lang for text:  \n",
      "Can't detect lang for text:  \n",
      "Can't detect lang for text:  \n",
      "Can't detect lang for text: ” \n",
      "Can't detect lang for text:  \n",
      "Can't detect lang for text:  \n",
      "Can't detect lang for text:  \n",
      "Can't detect lang for text:  \n",
      "Can't detect lang for text:  \n",
      "Can't detect lang for text:  \n",
      "Can't detect lang for text:  \n",
      "Can't detect lang for text:  \n",
      "Can't detect lang for text:  \n",
      "Can't detect lang for text:  \n",
      "Can't detect lang for text:  \n",
      "Can't detect lang for text:  \n",
      "Can't detect lang for text:  \n",
      "Can't detect lang for text:  \n",
      "Can't detect lang for text:  \n",
      "Can't detect lang for text:  \n",
      "Can't detect lang for text:  \n",
      "Can't detect lang for text:  \n",
      "Can't detect lang for text:  \n",
      "Can't detect lang for text:  \n",
      "Can't detect lang for text:  \n",
      "Can't detect lang for text:  \n",
      "Can't detect lang for text:  \n",
      "Can't detect lang for text:  \n",
      "Can't detect lang for text:  \n",
      "Can't detect lang for text: 06.11.2013. \n",
      "Can't detect lang for text:  \n",
      "Can't detect lang for text:  \n",
      "Can't detect lang for text:  \n",
      "Can't detect lang for text:  \n",
      "Can't detect lang for text:  \n",
      "Can't detect lang for text:  \n",
      "Can't detect lang for text:  \n",
      "Can't detect lang for text:  \n",
      "Can't detect lang for text:  \n",
      "Can't detect lang for text:  \n",
      "Can't detect lang for text:  \n",
      "Can't detect lang for text:  \n",
      "Can't detect lang for text: № \n",
      "Can't detect lang for text:  \n",
      "Can't detect lang for text:  \n",
      "Can't detect lang for text:  \n",
      "Can't detect lang for text:  \n",
      "Can't detect lang for text:  \n",
      "Can't detect lang for text:  \n",
      "Can't detect lang for text:  \n",
      "Can't detect lang for text:  \n",
      "Can't detect lang for text:  \n",
      "Can't detect lang for text:  \n",
      "Can't detect lang for text:  \n",
      "Can't detect lang for text:  \n",
      "Can't detect lang for text:  \n",
      "Can't detect lang for text:  \n",
      "Can't detect lang for text:  \n",
      "Can't detect lang for text:  \n",
      "Can't detect lang for text:  \n",
      "Can't detect lang for text:  \n",
      "Can't detect lang for text:  \n",
      "Can't detect lang for text:  \n",
      "Can't detect lang for text:  \n",
      "Can't detect lang for text:  \n",
      "Can't detect lang for text:  \n",
      "Can't detect lang for text:  \n",
      "Can't detect lang for text:  \n",
      "Can't detect lang for text:  \n",
      "Can't detect lang for text:  \n",
      "Can't detect lang for text:  \n",
      "Can't detect lang for text:  \n",
      "Can't detect lang for text:  \n",
      "Can't detect lang for text:  \n",
      "Can't detect lang for text:  \n",
      "Can't detect lang for text:  \n",
      "Can't detect lang for text:  \n",
      "Can't detect lang for text:  \n",
      "Can't detect lang for text:  \n",
      "Can't detect lang for text:  \n",
      "Can't detect lang for text:  \n",
      "Can't detect lang for text:  \n",
      "Can't detect lang for text:  \n",
      "Can't detect lang for text:  \n",
      "Can't detect lang for text:  \n",
      "Can't detect lang for text:  \n",
      "Can't detect lang for text:  \n",
      "Can't detect lang for text:  \n",
      "Can't detect lang for text:  \n",
      "Can't detect lang for text:  \n",
      "Can't detect lang for text:  \n",
      "Can't detect lang for text:  \n",
      "Can't detect lang for text:  \n",
      "Can't detect lang for text:  \n",
      "Can't detect lang for text:  \n",
      "Can't detect lang for text:  \n",
      "Can't detect lang for text:  \n",
      "Can't detect lang for text:  \n",
      "Can't detect lang for text:  \n",
      "Can't detect lang for text:  \n",
      "Can't detect lang for text:  \n",
      "Can't detect lang for text:  \n",
      "Can't detect lang for text:  \n",
      "Can't detect lang for text:  \n",
      "Can't detect lang for text:  \n",
      "Can't detect lang for text:  \n",
      "Can't detect lang for text:  \n",
      "Can't detect lang for text:  \n",
      "Can't detect lang for text:  \n",
      "Can't detect lang for text:  \n",
      "Can't detect lang for text:  \n",
      "Can't detect lang for text:  \n",
      "Can't detect lang for text:  \n",
      "Can't detect lang for text:  \n",
      "Can't detect lang for text:  \n",
      "Can't detect lang for text:  \n",
      "Can't detect lang for text:  \n",
      "Can't detect lang for text:  \n",
      "Can't detect lang for text:  \n",
      "Can't detect lang for text:  \n",
      "Can't detect lang for text:  \n",
      "Can't detect lang for text:  \n",
      "Can't detect lang for text:  \n",
      "Can't detect lang for text:  \n",
      "Can't detect lang for text:  \n",
      "Can't detect lang for text:  \n",
      "Can't detect lang for text:  \n",
      "Can't detect lang for text:  \n",
      "Can't detect lang for text:  \n",
      "Can't detect lang for text:  \n",
      "Can't detect lang for text:  \n",
      "Can't detect lang for text:  \n",
      "Can't detect lang for text:  \n",
      "Can't detect lang for text:  \n",
      "Can't detect lang for text:  \n",
      "Can't detect lang for text:  \n",
      "Can't detect lang for text:  \n",
      "Can't detect lang for text:  \n",
      "Can't detect lang for text:  \n",
      "Can't detect lang for text:  \n",
      "Can't detect lang for text:  \n",
      "Can't detect lang for text:  \n",
      "Can't detect lang for text:  \n",
      "Can't detect lang for text:  \n",
      "Can't detect lang for text:  \n",
      "Can't detect lang for text:  \n",
      "Can't detect lang for text:  \n",
      "Can't detect lang for text:  \n",
      "Can't detect lang for text:  \n",
      "Can't detect lang for text:  \n",
      "Can't detect lang for text:  \n",
      "Can't detect lang for text:  \n",
      "Can't detect lang for text:  \n",
      "Can't detect lang for text:  \n",
      "Can't detect lang for text:  \n",
      "Can't detect lang for text:  \n",
      "Can't detect lang for text:  \n",
      "Can't detect lang for text:  \n",
      "Can't detect lang for text:  \n",
      "Can't detect lang for text:  \n",
      "Can't detect lang for text: http://moygrad.kiev.ua/2013/08/30/v-odnom-iz-zhekov-kieva-pridumali-unikalnuyu-shemu-vykachki-deneg-s-zhilcov/ \n",
      "Can't detect lang for text:  \n",
      "Can't detect lang for text:  \n",
      "Can't detect lang for text:  \n",
      "Can't detect lang for text:  \n",
      "Can't detect lang for text:  \n",
      "Can't detect lang for text:  \n",
      "Can't detect lang for text:  \n",
      "Can't detect lang for text:  \n",
      "Can't detect lang for text:  \n",
      "Can't detect lang for text:  \n",
      "Can't detect lang for text:  \n",
      "Can't detect lang for text:  \n",
      "Can't detect lang for text:  \n",
      "Can't detect lang for text:  \n",
      "Can't detect lang for text:  \n",
      "Can't detect lang for text:  \n",
      "Can't detect lang for text:  \n",
      "Can't detect lang for text:  \n",
      "Can't detect lang for text:  \n",
      "Can't detect lang for text:  \n",
      "Can't detect lang for text:  \n",
      "Can't detect lang for text:  \n",
      "Can't detect lang for text:  \n",
      "Can't detect lang for text:  \n",
      "Can't detect lang for text:  \n",
      "Can't detect lang for text:  \n",
      "Can't detect lang for text:  \n",
      "Can't detect lang for text:  \n",
      "Can't detect lang for text:  \n",
      "Can't detect lang for text:  \n",
      "Can't detect lang for text:  \n",
      "Can't detect lang for text:  \n",
      "Can't detect lang for text:  \n",
      "Can't detect lang for text:  \n",
      "Can't detect lang for text:  \n",
      "Can't detect lang for text:  \n",
      "Can't detect lang for text:  \n",
      "Can't detect lang for text:  \n",
      "Can't detect lang for text:  \n",
      "Can't detect lang for text:  \n",
      "Can't detect lang for text:            \n",
      "Can't detect lang for text:   \n",
      "Can't detect lang for text:  \n",
      "Can't detect lang for text:  \n",
      "Can't detect lang for text:  \n",
      "Can't detect lang for text:  \n",
      "Can't detect lang for text:  \n",
      "Can't detect lang for text:  \n",
      "Can't detect lang for text:  \n",
      "Can't detect lang for text:  \n",
      "Can't detect lang for text:  \n",
      "Can't detect lang for text:  \n",
      "Can't detect lang for text:  \n",
      "Can't detect lang for text:  \n",
      "Can't detect lang for text:  \n",
      "Can't detect lang for text:  \n",
      "Can't detect lang for text:  \n",
      "Can't detect lang for text:  \n"
     ]
    },
    {
     "name": "stdout",
     "output_type": "stream",
     "text": [
      "Can't detect lang for text:  \n",
      "Can't detect lang for text:  \n",
      "Can't detect lang for text: 2/09/2015 \n",
      "Can't detect lang for text:  \n",
      "Can't detect lang for text:  \n",
      "Can't detect lang for text:  \n",
      "Can't detect lang for text:  \n",
      "Can't detect lang for text: 2/09/2015 \n",
      "Can't detect lang for text:  \n",
      "Can't detect lang for text:  \n",
      "Can't detect lang for text:  \n",
      "Can't detect lang for text:  \n",
      "Can't detect lang for text:  \n",
      "Can't detect lang for text:  \n",
      "Can't detect lang for text:  \n",
      "Can't detect lang for text:  \n",
      "Can't detect lang for text:  \n",
      "Can't detect lang for text:  \n",
      "Can't detect lang for text:  \n",
      "Can't detect lang for text:  \n",
      "Can't detect lang for text:  \n",
      "Can't detect lang for text:  \n",
      "Can't detect lang for text:  \n",
      "Can't detect lang for text:  \n",
      "Can't detect lang for text:  \n",
      "Can't detect lang for text:  \n",
      "Can't detect lang for text:  \n",
      "Can't detect lang for text:  \n",
      "Can't detect lang for text:  \n",
      "Can't detect lang for text:  \n",
      "Can't detect lang for text: http://www.amc.gov.ua/amku/control/main/uk/publish/printable_article/105070;jsessionid=a70b2dc92edba76b962f1cca3aa7b50d.app2 \n",
      "Can't detect lang for text:  \n",
      "Can't detect lang for text:  \n",
      "Can't detect lang for text:  \n",
      "Can't detect lang for text:  \n",
      "Can't detect lang for text:  \n",
      "Can't detect lang for text:  \n",
      "Can't detect lang for text:  \n",
      "Can't detect lang for text: 20.05.2015 \n",
      "Can't detect lang for text: 18.05.2015 \n",
      "Can't detect lang for text:  \n",
      "Can't detect lang for text:  \n",
      "Can't detect lang for text:  \n",
      "Can't detect lang for text: 3) \n",
      "Can't detect lang for text:  \n",
      "Can't detect lang for text:  \n",
      "Can't detect lang for text:  \n",
      "Can't detect lang for text:  \n",
      "Can't detect lang for text:  \n",
      "Can't detect lang for text:  \n",
      "Can't detect lang for text:  \n",
      "Can't detect lang for text:  \n",
      "Can't detect lang for text:  \n",
      "Can't detect lang for text:  \n",
      "Can't detect lang for text:  \n",
      "Can't detect lang for text:  \n",
      "Can't detect lang for text:  \n",
      "Can't detect lang for text:  \n",
      "Can't detect lang for text:  \n",
      "Can't detect lang for text:  \n",
      "Can't detect lang for text:  \n",
      "Can't detect lang for text:  \n",
      "Can't detect lang for text:  \n",
      "Can't detect lang for text:  \n",
      "Can't detect lang for text:  \n",
      "Can't detect lang for text: 18.10 \n",
      "Can't detect lang for text:  \n",
      "Can't detect lang for text:  \n",
      "Can't detect lang for text:  \n",
      "Can't detect lang for text:  \n",
      "Can't detect lang for text:  \n",
      "Can't detect lang for text:  \n",
      "Can't detect lang for text:  \n",
      "Can't detect lang for text:  \n",
      "Can't detect lang for text:  \n",
      "Can't detect lang for text:  \n",
      "Can't detect lang for text:  \n",
      "Can't detect lang for text:  \n",
      "Can't detect lang for text:  \n",
      "Can't detect lang for text:  \n",
      "Can't detect lang for text: 1) \n",
      "Can't detect lang for text:  \n",
      "Can't detect lang for text:  \n",
      "Can't detect lang for text:  \n",
      "Can't detect lang for text:  \n",
      "Can't detect lang for text:  \n",
      "Can't detect lang for text:  \n",
      "Can't detect lang for text:  \n",
      "Can't detect lang for text: 27.11.2014, 00:23  \n",
      "Can't detect lang for text:  \n",
      "Can't detect lang for text:  \n",
      "Can't detect lang for text:  \n",
      "Can't detect lang for text:  \n",
      "Can't detect lang for text: http://news.bigmir.net/capital/832924-tri-raiona-kieva-ostanytsya-bez-goryachei-vodi-do-oseni \n",
      "Can't detect lang for text:  \n",
      "Can't detect lang for text:  \n",
      "Can't detect lang for text:  \n",
      "Can't detect lang for text:  \n",
      "Can't detect lang for text:  \n",
      "Can't detect lang for text:  \n",
      "Can't detect lang for text:  \n",
      "Can't detect lang for text: http://economics.lb.ua/business/2014/09/22/280200_obolon_troeshchina_ostanutsya_bez.html    \n",
      "Can't detect lang for text:  \n",
      "Can't detect lang for text:  \n",
      "Can't detect lang for text:  \n",
      "Can't detect lang for text:  \n",
      "Can't detect lang for text:  \n",
      "Can't detect lang for text:  \n",
      "Can't detect lang for text:  \n",
      "Can't detect lang for text:  \n",
      "Can't detect lang for text:  \n",
      "Can't detect lang for text:  \n",
      "Can't detect lang for text:  \n",
      "Can't detect lang for text:  \n",
      "Can't detect lang for text:  \n",
      "Can't detect lang for text:  \n",
      "Can't detect lang for text:  \n",
      "Can't detect lang for text:  \n",
      "Can't detect lang for text:  \n",
      "Can't detect lang for text:  \n",
      "Can't detect lang for text:  \n",
      "Can't detect lang for text:  \n",
      "Can't detect lang for text:  \n",
      "Can't detect lang for text:  \n",
      "Can't detect lang for text:  \n",
      "Can't detect lang for text:  \n",
      "Can't detect lang for text:  \n",
      "Can't detect lang for text:  \n",
      "Can't detect lang for text:  \n",
      "Can't detect lang for text:  \n",
      "Can't detect lang for text:  \n",
      "Can't detect lang for text:  \n",
      "Can't detect lang for text:  \n",
      "Can't detect lang for text:  \n",
      "Can't detect lang for text:  \n",
      "Can't detect lang for text:  \n",
      "Can't detect lang for text:  \n",
      "Can't detect lang for text:  \n",
      "Can't detect lang for text:  \n",
      "Can't detect lang for text:  \n",
      "Can't detect lang for text:  \n",
      "Can't detect lang for text:  \n",
      "Can't detect lang for text:  \n",
      "Can't detect lang for text:  \n",
      "Can't detect lang for text:  \n",
      "Can't detect lang for text:  \n",
      "Can't detect lang for text:  \n",
      "Can't detect lang for text:  \n",
      "Can't detect lang for text:  \n",
      "Can't detect lang for text:  \n",
      "Can't detect lang for text:  \n",
      "Can't detect lang for text:  \n",
      "Can't detect lang for text:  \n",
      "Can't detect lang for text:  \n",
      "Can't detect lang for text:  \n",
      "Can't detect lang for text:  \n",
      "Can't detect lang for text:  \n",
      "Can't detect lang for text:  \n",
      "Can't detect lang for text:  \n",
      "Can't detect lang for text:  \n",
      "Can't detect lang for text:  \n",
      "Can't detect lang for text:  \n",
      "Can't detect lang for text:  \n",
      "Can't detect lang for text:  \n",
      "Can't detect lang for text:  \n",
      "Can't detect lang for text:  \n"
     ]
    }
   ],
   "source": [
    "def valid_doc(doc):\n",
    "    contains_text = \"text\" in doc\n",
    "    if contains_text:\n",
    "        try:\n",
    "            is_uk = detect(doc['text']) == 'uk'\n",
    "            return is_uk\n",
    "        except:\n",
    "            print(f\"Can't detect lang for text: {doc['text']}\")\n",
    "            return False\n",
    "    \n",
    "    return contains_text\n",
    "\n",
    "#Filter not relevant documents\n",
    "documents = [doc for doc in tqdm.tqdm_notebook(documents) if valid_doc(doc)]"
   ]
  },
  {
   "cell_type": "code",
   "execution_count": 305,
   "metadata": {},
   "outputs": [],
   "source": [
    "class Vectorizer:\n",
    "    def __init__(self, w2v, stopwords):\n",
    "        self.w2v = w2v\n",
    "        self.stopwords = stopwords\n",
    "    \n",
    "    def vectorize_text(self, text):\n",
    "        result = np.zeros((300))\n",
    "        vectors = []\n",
    "        for word in text.split(\" \"):\n",
    "            if word in self.w2v and word not in self.stopwords and len(word) > 0:\n",
    "                vector = self.w2v.get_vector(word)\n",
    "                result += vector\n",
    "                vectors.append(vector)\n",
    "        return result, vectors\n"
   ]
  },
  {
   "cell_type": "code",
   "execution_count": null,
   "metadata": {},
   "outputs": [],
   "source": []
  },
  {
   "cell_type": "code",
   "execution_count": 306,
   "metadata": {},
   "outputs": [
    {
     "data": {
      "application/vnd.jupyter.widget-view+json": {
       "model_id": "10a41a0c00f8436f954c66b9b4f234bd",
       "version_major": 2,
       "version_minor": 0
      },
      "text/plain": [
       "HBox(children=(IntProgress(value=0, max=61855), HTML(value='')))"
      ]
     },
     "metadata": {},
     "output_type": "display_data"
    }
   ],
   "source": [
    "label_encoder = LabelEncoder().fit(list(categories))\n",
    "vectorizer = Vectorizer(model, [])\n",
    "for doc in tqdm.tqdm_notebook(documents):\n",
    "    aggregated_vector, vectors = vectorizer.vectorize_text(doc['text'])\n",
    "    doc['vector'] = aggregated_vector\n",
    "    doc['word_vector'] = vectors\n",
    "    doc['y'] = label_encoder.transform([doc['category']])[0]\n",
    "    "
   ]
  },
  {
   "cell_type": "code",
   "execution_count": 307,
   "metadata": {},
   "outputs": [],
   "source": [
    "X = documents\n",
    "labels = [doc['y'] for doc in documents]\n",
    "train, test, y_train, y_test = train_test_split(X, labels, stratify=labels, test_size=0.3)"
   ]
  },
  {
   "cell_type": "code",
   "execution_count": 308,
   "metadata": {},
   "outputs": [],
   "source": [
    "x_train = [x['vector'] for x in train]\n",
    "x_test = [x['vector'] for x in test]"
   ]
  },
  {
   "cell_type": "code",
   "execution_count": null,
   "metadata": {},
   "outputs": [],
   "source": []
  },
  {
   "cell_type": "markdown",
   "metadata": {},
   "source": [
    "## Task 1\n",
    "\n",
    "Можете використайте фільтрацію мови, щоб відібрати тільки україномовні запити.\n",
    "\n",
    "\n",
    "1. У якості безйлайну використайте класифікатор kNN, який буде шукати найближчі за косинусною відстанню вектори запитів, утворені сумуванням векторів всіх слів запиту."
   ]
  },
  {
   "cell_type": "code",
   "execution_count": null,
   "metadata": {
    "scrolled": true
   },
   "outputs": [],
   "source": []
  },
  {
   "cell_type": "code",
   "execution_count": 309,
   "metadata": {},
   "outputs": [
    {
     "data": {
      "text/plain": [
       "NearestNeighbors(algorithm='auto', leaf_size=30, metric='cosine',\n",
       "                 metric_params=None, n_jobs=-1, n_neighbors=1, p=2, radius=1.0)"
      ]
     },
     "execution_count": 309,
     "metadata": {},
     "output_type": "execute_result"
    }
   ],
   "source": [
    "neigh = NearestNeighbors(1, n_jobs=-1, metric='cosine')\n",
    "neigh.fit(x_train, y_train)"
   ]
  },
  {
   "cell_type": "code",
   "execution_count": 310,
   "metadata": {},
   "outputs": [],
   "source": [
    "predicted = neigh.kneighbors(x_test, 1, return_distance=False)"
   ]
  },
  {
   "cell_type": "code",
   "execution_count": 311,
   "metadata": {},
   "outputs": [],
   "source": [
    "y_predicted = np.array(y_train)[predicted].reshape(-1)"
   ]
  },
  {
   "cell_type": "code",
   "execution_count": 312,
   "metadata": {},
   "outputs": [
    {
     "name": "stdout",
     "output_type": "stream",
     "text": [
      "F1 weighted: 0.383 | F1 macro: 0.293\n"
     ]
    }
   ],
   "source": [
    "f1_w, f1_m = f1_score(y_test, y_predicted, average='weighted'), f1_score(y_test, y_predicted, average='macro')\n",
    "print(f\"F1 weighted: {f1_w:.3} | F1 macro: {f1_m:.3}\")"
   ]
  },
  {
   "cell_type": "code",
   "execution_count": null,
   "metadata": {},
   "outputs": [],
   "source": []
  },
  {
   "cell_type": "markdown",
   "metadata": {},
   "source": [
    "## Task 2\n",
    "\n",
    "2. Розробіть покращений класифікатор, для якого використайте іншу модель класифікації, яка би присвоювала ваги окремим елементам вектора (наприклад, Logistic Regression, SVM, Random Forest). Також можете зробити додаткові покращення, такі як:\n",
    "\n",
    "  - здійснювати попередню фільтрацію і відбирати тільки частину векторів для представлення\n",
    "\n",
    "  - використовувати лематизацію та інші форми нормалізації\n",
    "\n",
    "  - робити зваження векторів\n",
    "\n",
    "  - додатково використовувати інші способи побудувати вектор документу (наприклад, TF-IDF, LDA, ...)"
   ]
  },
  {
   "cell_type": "code",
   "execution_count": null,
   "metadata": {},
   "outputs": [],
   "source": []
  },
  {
   "cell_type": "code",
   "execution_count": 313,
   "metadata": {},
   "outputs": [],
   "source": [
    "from sklearn.linear_model import SGDClassifier"
   ]
  },
  {
   "cell_type": "code",
   "execution_count": 314,
   "metadata": {},
   "outputs": [
    {
     "name": "stdout",
     "output_type": "stream",
     "text": [
      "CPU times: user 19min 5s, sys: 3.28 s, total: 19min 8s\n",
      "Wall time: 5min\n"
     ]
    },
    {
     "name": "stderr",
     "output_type": "stream",
     "text": [
      "/Users/sasha/programming/edu/ucu/nlp/.env/lib/python3.7/site-packages/sklearn/linear_model/stochastic_gradient.py:561: ConvergenceWarning: Maximum number of iteration reached before convergence. Consider increasing max_iter to improve the fit.\n",
      "  ConvergenceWarning)\n"
     ]
    }
   ],
   "source": [
    "%%time\n",
    "linear = SGDClassifier(loss='log', alpha=0.000001, penalty='l1',\n",
    "                       max_iter=50, random_state=42, n_jobs=-1,\n",
    "                       verbose=0).fit(x_train, y_train)"
   ]
  },
  {
   "cell_type": "code",
   "execution_count": 315,
   "metadata": {
    "scrolled": true
   },
   "outputs": [
    {
     "name": "stdout",
     "output_type": "stream",
     "text": [
      "Test Score | F1 weighted: 0.418 | F1 macro: 0.346\n"
     ]
    }
   ],
   "source": [
    "logreg_predict = linear.predict(x_test)\n",
    "f1_w, f1_m = f1_score(y_test, logreg_predict, average='weighted'), f1_score(y_test, logreg_predict, average='macro')\n",
    "print(f\"Test Score | F1 weighted: {f1_w:.3} | F1 macro: {f1_m:.3}\")"
   ]
  },
  {
   "cell_type": "code",
   "execution_count": null,
   "metadata": {},
   "outputs": [],
   "source": []
  },
  {
   "cell_type": "markdown",
   "metadata": {},
   "source": [
    "### Removing stopwords from text"
   ]
  },
  {
   "cell_type": "code",
   "execution_count": 316,
   "metadata": {},
   "outputs": [],
   "source": [
    "with open(\"uk-stopwords.txt\") as f:\n",
    "    stopwords = f.read().split(\"\\n\")"
   ]
  },
  {
   "cell_type": "code",
   "execution_count": 317,
   "metadata": {},
   "outputs": [
    {
     "data": {
      "application/vnd.jupyter.widget-view+json": {
       "model_id": "25da249140b0490aa45e444e5b85a65a",
       "version_major": 2,
       "version_minor": 0
      },
      "text/plain": [
       "HBox(children=(IntProgress(value=0, max=61855), HTML(value='')))"
      ]
     },
     "metadata": {},
     "output_type": "display_data"
    }
   ],
   "source": [
    "label_encoder = LabelEncoder().fit(list(categories))\n",
    "vectorizer = Vectorizer(model, stopwords)\n",
    "for doc in tqdm.tqdm_notebook(documents):\n",
    "    aggregated_vector, vectors = vectorizer.vectorize_text(doc['text'])\n",
    "    doc['vector'] = aggregated_vector\n",
    "    doc['word_vector'] = vectors\n",
    "    doc['y'] = label_encoder.transform([doc['category']])[0]\n",
    "    "
   ]
  },
  {
   "cell_type": "code",
   "execution_count": 318,
   "metadata": {},
   "outputs": [],
   "source": [
    "X = documents\n",
    "labels = [doc['y'] for doc in documents]\n",
    "train, test, y_train, y_test = train_test_split(X, labels, stratify=labels, test_size=0.3)"
   ]
  },
  {
   "cell_type": "code",
   "execution_count": 319,
   "metadata": {},
   "outputs": [],
   "source": [
    "x_train = [x['vector'] for x in train]\n",
    "x_test = [x['vector'] for x in test]"
   ]
  },
  {
   "cell_type": "markdown",
   "metadata": {},
   "source": [
    "### Running classifier again"
   ]
  },
  {
   "cell_type": "code",
   "execution_count": 340,
   "metadata": {},
   "outputs": [
    {
     "name": "stdout",
     "output_type": "stream",
     "text": [
      "CPU times: user 23min 23s, sys: 14.1 s, total: 23min 37s\n",
      "Wall time: 8min 33s\n"
     ]
    },
    {
     "name": "stderr",
     "output_type": "stream",
     "text": [
      "/Users/sasha/programming/edu/ucu/nlp/.env/lib/python3.7/site-packages/sklearn/linear_model/stochastic_gradient.py:561: ConvergenceWarning: Maximum number of iteration reached before convergence. Consider increasing max_iter to improve the fit.\n",
      "  ConvergenceWarning)\n"
     ]
    }
   ],
   "source": [
    "%%time\n",
    "linear = SGDClassifier(loss='log', alpha=0.000001, penalty='l1',\n",
    "                       max_iter=50, random_state=42, n_jobs=-1,\n",
    "                       verbose=0).fit(x_train, y_train)"
   ]
  },
  {
   "cell_type": "code",
   "execution_count": 341,
   "metadata": {},
   "outputs": [
    {
     "name": "stdout",
     "output_type": "stream",
     "text": [
      "Test Score | F1 weighted: 0.406 | F1 macro: 0.334\n"
     ]
    }
   ],
   "source": [
    "logreg_predict = linear.predict(x_test)\n",
    "f1_w, f1_m = f1_score(y_test, logreg_predict, average='weighted'), f1_score(y_test, logreg_predict, average='macro')\n",
    "print(f\"Test Score | F1 weighted: {f1_w:.3} | F1 macro: {f1_m:.3}\")"
   ]
  },
  {
   "cell_type": "markdown",
   "metadata": {},
   "source": [
    "### Removing stopwords doesn't improve quality"
   ]
  },
  {
   "cell_type": "markdown",
   "metadata": {},
   "source": [
    "## Task 3\n",
    "\n",
    "3. Розробіть класифікатор на основі нейромережі: або feed-forward з використанням агрегованого вектору, або LSTM (чи BiLSTM), що проходить по всьому тексту. "
   ]
  },
  {
   "cell_type": "code",
   "execution_count": 345,
   "metadata": {},
   "outputs": [],
   "source": [
    "import torch\n",
    "import torch.nn as nn\n",
    "from torch.utils import data\n",
    "from torch.functional import F\n",
    "import matplotlib.pyplot as plt\n",
    "from torch.nn.utils.rnn import pad_sequence, pack_sequence"
   ]
  },
  {
   "cell_type": "code",
   "execution_count": null,
   "metadata": {},
   "outputs": [],
   "source": []
  },
  {
   "cell_type": "code",
   "execution_count": 346,
   "metadata": {},
   "outputs": [],
   "source": [
    "# Pad batch to the same seq len\n",
    "def padding_collate(batch):\n",
    "    data = [item[0] for item in batch]\n",
    "    data = pad_sequence(data, batch_first=True)\n",
    "    targets = torch.cat([item[1] for item in batch])\n",
    "    return [data, targets]\n",
    "\n",
    "class DataLoader(data.Dataset):\n",
    "    def __init__(self, data, max_len=50):\n",
    "        self.data = [doc for doc in data if len(doc['word_vector']) > 1]\n",
    "        self.max_len=max_len\n",
    "    \n",
    "    def __len__(self):\n",
    "        return len(self.data)\n",
    "\n",
    "    def __getitem__(self, idx):\n",
    "        doc = self.data[idx]\n",
    "        vector = np.array(doc['word_vector'])[:self.max_len]\n",
    "        label = doc['y']\n",
    "        return torch.from_numpy(vector).float(), torch.from_numpy(np.array([label])).long()"
   ]
  },
  {
   "cell_type": "markdown",
   "metadata": {},
   "source": [
    "### Define Training "
   ]
  },
  {
   "cell_type": "code",
   "execution_count": 347,
   "metadata": {},
   "outputs": [],
   "source": [
    "class Trainer:\n",
    "    def __init__(self, net, config, lr=0.001, l2_rate=0):\n",
    "        net.train()\n",
    "        net.to(config['DEVICE'])\n",
    "        self.device = config['DEVICE']\n",
    "        self.net = net\n",
    "        self.config = config\n",
    "        self.optimizer = torch.optim.Adam(net.parameters(), lr=lr, weight_decay=l2_rate)\n",
    "        self.loss = nn.CrossEntropyLoss()\n",
    "        self.losses = []\n",
    "\n",
    "    def run(self, dataloader, epochs=1):\n",
    "        print(\">> Running trainer\")\n",
    "        for epoch in range(epochs):\n",
    "            print(\">>> Epoch %s\" % epoch)\n",
    "            for idx, (vectors, target) in enumerate(tqdm.tqdm_notebook(dataloader, ascii=True)):\n",
    "                vectors, target = vectors.to(self.device), target.to(self.device)\n",
    "                self.optimizer.zero_grad()\n",
    "                predict = self.net(vectors)\n",
    "                loss = self.loss(predict, target)\n",
    "                loss.backward()\n",
    "                self.losses.append(loss.item())\n",
    "                self.optimizer.step()\n",
    "                if idx % 400 == 0:\n",
    "                    print(\">>> Loss: {}\".format(np.mean(self.losses[-10:])))\n",
    "\n",
    "                if self.config['DEBUG'] == True:\n",
    "                    break\n",
    "            print(\"Trainer epoch finished\")\n"
   ]
  },
  {
   "cell_type": "markdown",
   "metadata": {},
   "source": [
    "### Define evaluation"
   ]
  },
  {
   "cell_type": "code",
   "execution_count": 348,
   "metadata": {},
   "outputs": [],
   "source": [
    "class Evaluation:\n",
    "    def __init__(self, net, config):\n",
    "        net.eval()\n",
    "        net.to(config['DEVICE'])\n",
    "        self.device = config['DEVICE']\n",
    "        self.net = net\n",
    "        self.config = config\n",
    "        self.loss = nn.CrossEntropyLoss()\n",
    "\n",
    "    def run(self, dataloader):\n",
    "        print(\">> Running Evaluation\")\n",
    "        predicted = []\n",
    "        labels = []\n",
    "        with torch.no_grad():\n",
    "            for idx, (image, target) in enumerate(tqdm.tqdm_notebook(dataloader, ascii=True)):\n",
    "                image, target = image.to(self.device), target.to(self.device)\n",
    "                predict = self.net(image)\n",
    "                pred = F.softmax(predict, 1).argmax(dim=1, keepdim=True)\n",
    "                predicted.extend(list(pred.numpy()))\n",
    "                labels.extend(list(target.view_as(pred).numpy()))\n",
    "                if self.config['DEBUG'] == True:\n",
    "                    break\n",
    "\n",
    "        print(\"Evaluation finished\")\n",
    "        return {\n",
    "            'f1_weighted': f1_score(labels, predicted, average='weighted'),\n",
    "            'f1_macro': f1_score(labels, predicted, average='macro')\n",
    "\n",
    "        }"
   ]
  },
  {
   "cell_type": "markdown",
   "metadata": {},
   "source": [
    "### Define Network"
   ]
  },
  {
   "cell_type": "code",
   "execution_count": 358,
   "metadata": {},
   "outputs": [],
   "source": [
    "class Network(nn.Module):\n",
    "    def __init__(self, categories_count):\n",
    "        super(Network,self).__init__()\n",
    "        hidden_size = 100\n",
    "        self.lstm = nn.LSTM(input_size=300, hidden_size=hidden_size, batch_first=True,\n",
    "                            num_layers=1, bidirectional=False)\n",
    "        self.linear = nn.Linear(hidden_size * 3, categories_count)\n",
    "    \n",
    "    def forward(self, input):\n",
    "        out, (h0, c0) = self.lstm(input)\n",
    "        out = out[:, -1:, :].transpose(0, 1)\n",
    "        out = torch.cat((out, h0, c0), 2)[0]\n",
    "        out = self.linear(F.relu(out))\n",
    "        return out"
   ]
  },
  {
   "cell_type": "code",
   "execution_count": 359,
   "metadata": {},
   "outputs": [],
   "source": [
    "config = {\n",
    "    'DEBUG': False,\n",
    "    'CUDA': torch.cuda.is_available(),\n",
    "    'DEVICE': torch.device(\"cuda\" if torch.cuda.is_available() else \"cpu\")\n",
    "}"
   ]
  },
  {
   "cell_type": "code",
   "execution_count": null,
   "metadata": {},
   "outputs": [],
   "source": []
  },
  {
   "cell_type": "code",
   "execution_count": 360,
   "metadata": {
    "scrolled": false
   },
   "outputs": [
    {
     "data": {
      "image/png": "[encoded data removed]",
      "text/plain": [
       "<Figure size 432x288 with 1 Axes>"
      ]
     },
     "metadata": {
      "needs_background": "light"
     },
     "output_type": "display_data"
    }
   ],
   "source": [
    "vectors_lens = np.array([len(doc['word_vector']) for doc in documents])\n",
    "#Value that can be used as upper limit for LSTM seq len\n",
    "seq_len = int(np.quantile(vectors_lens, .90))\n",
    "# Number of vector counts per document (distribution) \n",
    "_ = plt.hist(vectors_lens)"
   ]
  },
  {
   "cell_type": "code",
   "execution_count": null,
   "metadata": {},
   "outputs": [],
   "source": []
  },
  {
   "cell_type": "code",
   "execution_count": 361,
   "metadata": {},
   "outputs": [],
   "source": [
    "net = Network(len(categories))"
   ]
  },
  {
   "cell_type": "code",
   "execution_count": 362,
   "metadata": {},
   "outputs": [],
   "source": [
    "train_data = DataLoader(train, max_len=seq_len)\n",
    "test_data = DataLoader(test, max_len=seq_len)\n",
    "train_loader = torch.utils.data.DataLoader(train_data, batch_size=64, num_workers=2, shuffle=False, collate_fn=padding_collate)\n",
    "test_loader = torch.utils.data.DataLoader(test_data, batch_size=64, num_workers=2, shuffle=False, collate_fn=padding_collate)"
   ]
  },
  {
   "cell_type": "code",
   "execution_count": null,
   "metadata": {},
   "outputs": [],
   "source": []
  },
  {
   "cell_type": "code",
   "execution_count": 363,
   "metadata": {},
   "outputs": [],
   "source": [
    "trainer = Trainer(net, config, lr=0.01, l2_rate=1e-5)\n",
    "evaluation = Evaluation(net, config)"
   ]
  },
  {
   "cell_type": "code",
   "execution_count": 364,
   "metadata": {
    "scrolled": false
   },
   "outputs": [
    {
     "name": "stdout",
     "output_type": "stream",
     "text": [
      ">> Running trainer\n",
      ">>> Epoch 0\n"
     ]
    },
    {
     "data": {
      "application/vnd.jupyter.widget-view+json": {
       "model_id": "14551264b0884995a5032bf7dcf56041",
       "version_major": 2,
       "version_minor": 0
      },
      "text/plain": [
       "HBox(children=(IntProgress(value=0, max=647), HTML(value='')))"
      ]
     },
     "metadata": {},
     "output_type": "display_data"
    },
    {
     "name": "stdout",
     "output_type": "stream",
     "text": [
      ">>> Loss: 5.235105991363525\n",
      ">>> Loss: 4.3908915519714355\n",
      "Trainer epoch finished\n",
      ">> Running Evaluation\n"
     ]
    },
    {
     "data": {
      "application/vnd.jupyter.widget-view+json": {
       "model_id": "02ac7fc1da1c4078ad488b932b26f03c",
       "version_major": 2,
       "version_minor": 0
      },
      "text/plain": [
       "HBox(children=(IntProgress(value=0, max=647), HTML(value='')))"
      ]
     },
     "metadata": {},
     "output_type": "display_data"
    },
    {
     "name": "stdout",
     "output_type": "stream",
     "text": [
      "Evaluation finished\n",
      "Train res:{'f1_weighted': 0.09655110604352615, 'f1_macro': 0.009396328601963768}\n",
      ">> Running Evaluation\n"
     ]
    },
    {
     "data": {
      "application/vnd.jupyter.widget-view+json": {
       "model_id": "6086f13d45cc40b490262718107ca46d",
       "version_major": 2,
       "version_minor": 0
      },
      "text/plain": [
       "HBox(children=(IntProgress(value=0, max=278), HTML(value='')))"
      ]
     },
     "metadata": {},
     "output_type": "display_data"
    },
    {
     "name": "stdout",
     "output_type": "stream",
     "text": [
      "Evaluation finished\n",
      "Test res:{'f1_weighted': 0.09456387077474929, 'f1_macro': 0.008713736407547553}\n",
      ">> Running trainer\n",
      ">>> Epoch 0\n"
     ]
    },
    {
     "data": {
      "application/vnd.jupyter.widget-view+json": {
       "model_id": "8306f3e17bc14c8aa53308c0463598f3",
       "version_major": 2,
       "version_minor": 0
      },
      "text/plain": [
       "HBox(children=(IntProgress(value=0, max=647), HTML(value='')))"
      ]
     },
     "metadata": {},
     "output_type": "display_data"
    },
    {
     "name": "stdout",
     "output_type": "stream",
     "text": [
      ">>> Loss: 3.8205539703369142\n",
      ">>> Loss: 3.1506368637084963\n",
      "Trainer epoch finished\n",
      ">> Running Evaluation\n"
     ]
    },
    {
     "data": {
      "application/vnd.jupyter.widget-view+json": {
       "model_id": "15e6c714e9cd4bc3ad73719a06de0ea6",
       "version_major": 2,
       "version_minor": 0
      },
      "text/plain": [
       "HBox(children=(IntProgress(value=0, max=647), HTML(value='')))"
      ]
     },
     "metadata": {},
     "output_type": "display_data"
    },
    {
     "name": "stdout",
     "output_type": "stream",
     "text": [
      "Evaluation finished\n",
      "Train res:{'f1_weighted': 0.24785820577456685, 'f1_macro': 0.05088687360449753}\n",
      ">> Running Evaluation\n"
     ]
    },
    {
     "data": {
      "application/vnd.jupyter.widget-view+json": {
       "model_id": "3e6a53e56e194abb9cbe0af9df989d3e",
       "version_major": 2,
       "version_minor": 0
      },
      "text/plain": [
       "HBox(children=(IntProgress(value=0, max=278), HTML(value='')))"
      ]
     },
     "metadata": {},
     "output_type": "display_data"
    },
    {
     "name": "stdout",
     "output_type": "stream",
     "text": [
      "Evaluation finished\n",
      "Test res:{'f1_weighted': 0.2425759815517387, 'f1_macro': 0.0484893452308696}\n",
      ">> Running trainer\n",
      ">>> Epoch 0\n"
     ]
    },
    {
     "data": {
      "application/vnd.jupyter.widget-view+json": {
       "model_id": "3b6ea576f54348b9904d7909fc57f5ad",
       "version_major": 2,
       "version_minor": 0
      },
      "text/plain": [
       "HBox(children=(IntProgress(value=0, max=647), HTML(value='')))"
      ]
     },
     "metadata": {},
     "output_type": "display_data"
    },
    {
     "name": "stdout",
     "output_type": "stream",
     "text": [
      ">>> Loss: 2.5729610204696653\n",
      ">>> Loss: 2.539376425743103\n",
      "Trainer epoch finished\n",
      ">> Running Evaluation\n"
     ]
    },
    {
     "data": {
      "application/vnd.jupyter.widget-view+json": {
       "model_id": "1972d1ec8a28485ebbad27ee9da2cfe3",
       "version_major": 2,
       "version_minor": 0
      },
      "text/plain": [
       "HBox(children=(IntProgress(value=0, max=647), HTML(value='')))"
      ]
     },
     "metadata": {},
     "output_type": "display_data"
    },
    {
     "name": "stdout",
     "output_type": "stream",
     "text": [
      "Evaluation finished\n",
      "Train res:{'f1_weighted': 0.3564215031634467, 'f1_macro': 0.12750583811629101}\n",
      ">> Running Evaluation\n"
     ]
    },
    {
     "data": {
      "application/vnd.jupyter.widget-view+json": {
       "model_id": "231c326df0ac48b0876ed2388aa61573",
       "version_major": 2,
       "version_minor": 0
      },
      "text/plain": [
       "HBox(children=(IntProgress(value=0, max=278), HTML(value='')))"
      ]
     },
     "metadata": {},
     "output_type": "display_data"
    },
    {
     "name": "stdout",
     "output_type": "stream",
     "text": [
      "Evaluation finished\n",
      "Test res:{'f1_weighted': 0.3394017253070774, 'f1_macro': 0.11143039831909828}\n",
      ">> Running trainer\n",
      ">>> Epoch 0\n"
     ]
    },
    {
     "data": {
      "application/vnd.jupyter.widget-view+json": {
       "model_id": "ca94fc782b71404797963e3dbea15834",
       "version_major": 2,
       "version_minor": 0
      },
      "text/plain": [
       "HBox(children=(IntProgress(value=0, max=647), HTML(value='')))"
      ]
     },
     "metadata": {},
     "output_type": "display_data"
    },
    {
     "name": "stdout",
     "output_type": "stream",
     "text": [
      ">>> Loss: 2.1144041776657105\n",
      ">>> Loss: 2.16889910697937\n",
      "Trainer epoch finished\n",
      ">> Running Evaluation\n"
     ]
    },
    {
     "data": {
      "application/vnd.jupyter.widget-view+json": {
       "model_id": "411b3c53625444b6bc711cd01b31e28d",
       "version_major": 2,
       "version_minor": 0
      },
      "text/plain": [
       "HBox(children=(IntProgress(value=0, max=647), HTML(value='')))"
      ]
     },
     "metadata": {},
     "output_type": "display_data"
    },
    {
     "name": "stdout",
     "output_type": "stream",
     "text": [
      "Evaluation finished\n",
      "Train res:{'f1_weighted': 0.41334248567152776, 'f1_macro': 0.18643676482561877}\n",
      ">> Running Evaluation\n"
     ]
    },
    {
     "data": {
      "application/vnd.jupyter.widget-view+json": {
       "model_id": "9612869373ed4d9a81bd86318f6dc392",
       "version_major": 2,
       "version_minor": 0
      },
      "text/plain": [
       "HBox(children=(IntProgress(value=0, max=278), HTML(value='')))"
      ]
     },
     "metadata": {},
     "output_type": "display_data"
    },
    {
     "name": "stdout",
     "output_type": "stream",
     "text": [
      "Evaluation finished\n",
      "Test res:{'f1_weighted': 0.3848225756742922, 'f1_macro': 0.15461147411543907}\n",
      ">> Running trainer\n",
      ">>> Epoch 0\n"
     ]
    },
    {
     "data": {
      "application/vnd.jupyter.widget-view+json": {
       "model_id": "86e0e2c699c54c4c8bd625c7775cd530",
       "version_major": 2,
       "version_minor": 0
      },
      "text/plain": [
       "HBox(children=(IntProgress(value=0, max=647), HTML(value='')))"
      ]
     },
     "metadata": {},
     "output_type": "display_data"
    },
    {
     "name": "stdout",
     "output_type": "stream",
     "text": [
      ">>> Loss: 1.8995880961418152\n",
      ">>> Loss: 1.985366201400757\n",
      "Trainer epoch finished\n",
      ">> Running Evaluation\n"
     ]
    },
    {
     "data": {
      "application/vnd.jupyter.widget-view+json": {
       "model_id": "23243715f8f143529d14b9db9f73cad6",
       "version_major": 2,
       "version_minor": 0
      },
      "text/plain": [
       "HBox(children=(IntProgress(value=0, max=647), HTML(value='')))"
      ]
     },
     "metadata": {},
     "output_type": "display_data"
    },
    {
     "name": "stdout",
     "output_type": "stream",
     "text": [
      "Evaluation finished\n",
      "Train res:{'f1_weighted': 0.45389342324006293, 'f1_macro': 0.23458523035711218}\n",
      ">> Running Evaluation\n"
     ]
    },
    {
     "data": {
      "application/vnd.jupyter.widget-view+json": {
       "model_id": "a40cdf09b55e4681a0d8c43e14fa3f22",
       "version_major": 2,
       "version_minor": 0
      },
      "text/plain": [
       "HBox(children=(IntProgress(value=0, max=278), HTML(value='')))"
      ]
     },
     "metadata": {},
     "output_type": "display_data"
    },
    {
     "name": "stdout",
     "output_type": "stream",
     "text": [
      "Evaluation finished\n",
      "Test res:{'f1_weighted': 0.41198815014238754, 'f1_macro': 0.18923518488136612}\n",
      ">> Running trainer\n",
      ">>> Epoch 0\n"
     ]
    },
    {
     "data": {
      "application/vnd.jupyter.widget-view+json": {
       "model_id": "2a794f73b435450db5a40500fcce5d2f",
       "version_major": 2,
       "version_minor": 0
      },
      "text/plain": [
       "HBox(children=(IntProgress(value=0, max=647), HTML(value='')))"
      ]
     },
     "metadata": {},
     "output_type": "display_data"
    },
    {
     "name": "stdout",
     "output_type": "stream",
     "text": [
      ">>> Loss: 1.7336170196533203\n",
      ">>> Loss: 1.8316847085952759\n",
      "Trainer epoch finished\n",
      ">> Running Evaluation\n"
     ]
    },
    {
     "data": {
      "application/vnd.jupyter.widget-view+json": {
       "model_id": "6b026125015d433cb0e76721a986113b",
       "version_major": 2,
       "version_minor": 0
      },
      "text/plain": [
       "HBox(children=(IntProgress(value=0, max=647), HTML(value='')))"
      ]
     },
     "metadata": {},
     "output_type": "display_data"
    },
    {
     "name": "stdout",
     "output_type": "stream",
     "text": [
      "Evaluation finished\n",
      "Train res:{'f1_weighted': 0.4910021248530335, 'f1_macro': 0.2795505445537405}\n",
      ">> Running Evaluation\n"
     ]
    },
    {
     "data": {
      "application/vnd.jupyter.widget-view+json": {
       "model_id": "763759ac32d54ea49ebc93f0b6adaa90",
       "version_major": 2,
       "version_minor": 0
      },
      "text/plain": [
       "HBox(children=(IntProgress(value=0, max=278), HTML(value='')))"
      ]
     },
     "metadata": {},
     "output_type": "display_data"
    },
    {
     "name": "stdout",
     "output_type": "stream",
     "text": [
      "Evaluation finished\n",
      "Test res:{'f1_weighted': 0.4371322776491343, 'f1_macro': 0.22011372913925123}\n",
      ">> Running trainer\n",
      ">>> Epoch 0\n"
     ]
    },
    {
     "data": {
      "application/vnd.jupyter.widget-view+json": {
       "model_id": "0d2a1fdd0a5b4da0b0fedbb9ac05fe96",
       "version_major": 2,
       "version_minor": 0
      },
      "text/plain": [
       "HBox(children=(IntProgress(value=0, max=647), HTML(value='')))"
      ]
     },
     "metadata": {},
     "output_type": "display_data"
    },
    {
     "name": "stdout",
     "output_type": "stream",
     "text": [
      ">>> Loss: 1.5947080373764038\n",
      ">>> Loss: 1.7190400600433349\n",
      "Trainer epoch finished\n",
      ">> Running Evaluation\n"
     ]
    },
    {
     "data": {
      "application/vnd.jupyter.widget-view+json": {
       "model_id": "b938c2c7ddf24c8ebb001ab547954c7e",
       "version_major": 2,
       "version_minor": 0
      },
      "text/plain": [
       "HBox(children=(IntProgress(value=0, max=647), HTML(value='')))"
      ]
     },
     "metadata": {},
     "output_type": "display_data"
    },
    {
     "name": "stdout",
     "output_type": "stream",
     "text": [
      "Evaluation finished\n",
      "Train res:{'f1_weighted': 0.5160079760717126, 'f1_macro': 0.3197077205688633}\n",
      ">> Running Evaluation\n"
     ]
    },
    {
     "data": {
      "application/vnd.jupyter.widget-view+json": {
       "model_id": "c10dd385601249f0bd32e3fa1cf08fdb",
       "version_major": 2,
       "version_minor": 0
      },
      "text/plain": [
       "HBox(children=(IntProgress(value=0, max=278), HTML(value='')))"
      ]
     },
     "metadata": {},
     "output_type": "display_data"
    },
    {
     "name": "stdout",
     "output_type": "stream",
     "text": [
      "Evaluation finished\n",
      "Test res:{'f1_weighted': 0.4487213732987615, 'f1_macro': 0.24109662294119616}\n",
      ">> Running trainer\n",
      ">>> Epoch 0\n"
     ]
    },
    {
     "data": {
      "application/vnd.jupyter.widget-view+json": {
       "model_id": "dfa34cf4b1574d6a897b116d8951af5f",
       "version_major": 2,
       "version_minor": 0
      },
      "text/plain": [
       "HBox(children=(IntProgress(value=0, max=647), HTML(value='')))"
      ]
     },
     "metadata": {},
     "output_type": "display_data"
    },
    {
     "name": "stdout",
     "output_type": "stream",
     "text": [
      ">>> Loss: 1.488954782485962\n",
      ">>> Loss: 1.6124165534973145\n",
      "Trainer epoch finished\n",
      ">> Running Evaluation\n"
     ]
    },
    {
     "data": {
      "application/vnd.jupyter.widget-view+json": {
       "model_id": "35357bdcc5734280bbdd54741e6b4307",
       "version_major": 2,
       "version_minor": 0
      },
      "text/plain": [
       "HBox(children=(IntProgress(value=0, max=647), HTML(value='')))"
      ]
     },
     "metadata": {},
     "output_type": "display_data"
    },
    {
     "name": "stdout",
     "output_type": "stream",
     "text": [
      "Evaluation finished\n",
      "Train res:{'f1_weighted': 0.5450577132197321, 'f1_macro': 0.3595771342039086}\n",
      ">> Running Evaluation\n"
     ]
    },
    {
     "data": {
      "application/vnd.jupyter.widget-view+json": {
       "model_id": "23dc5fa41bdc435bb9fafe06b87ec156",
       "version_major": 2,
       "version_minor": 0
      },
      "text/plain": [
       "HBox(children=(IntProgress(value=0, max=278), HTML(value='')))"
      ]
     },
     "metadata": {},
     "output_type": "display_data"
    },
    {
     "name": "stdout",
     "output_type": "stream",
     "text": [
      "Evaluation finished\n",
      "Test res:{'f1_weighted': 0.46454322529178177, 'f1_macro': 0.260374784307287}\n",
      ">> Running trainer\n",
      ">>> Epoch 0\n"
     ]
    },
    {
     "data": {
      "application/vnd.jupyter.widget-view+json": {
       "model_id": "938e2264378f496e99272a08bc825629",
       "version_major": 2,
       "version_minor": 0
      },
      "text/plain": [
       "HBox(children=(IntProgress(value=0, max=647), HTML(value='')))"
      ]
     },
     "metadata": {},
     "output_type": "display_data"
    },
    {
     "name": "stdout",
     "output_type": "stream",
     "text": [
      ">>> Loss: 1.4018668413162232\n",
      ">>> Loss: 1.4932612895965576\n",
      "Trainer epoch finished\n",
      ">> Running Evaluation\n"
     ]
    },
    {
     "data": {
      "application/vnd.jupyter.widget-view+json": {
       "model_id": "c93e455d45814e269837ddee333488fe",
       "version_major": 2,
       "version_minor": 0
      },
      "text/plain": [
       "HBox(children=(IntProgress(value=0, max=647), HTML(value='')))"
      ]
     },
     "metadata": {},
     "output_type": "display_data"
    },
    {
     "name": "stdout",
     "output_type": "stream",
     "text": [
      "Evaluation finished\n",
      "Train res:{'f1_weighted': 0.5671477799572949, 'f1_macro': 0.3932398120828325}\n",
      ">> Running Evaluation\n"
     ]
    },
    {
     "data": {
      "application/vnd.jupyter.widget-view+json": {
       "model_id": "6d8ca29f529347469e94a1114de099b5",
       "version_major": 2,
       "version_minor": 0
      },
      "text/plain": [
       "HBox(children=(IntProgress(value=0, max=278), HTML(value='')))"
      ]
     },
     "metadata": {},
     "output_type": "display_data"
    },
    {
     "name": "stdout",
     "output_type": "stream",
     "text": [
      "Evaluation finished\n",
      "Test res:{'f1_weighted': 0.4695852098180507, 'f1_macro': 0.27429130595867607}\n",
      ">> Running trainer\n",
      ">>> Epoch 0\n"
     ]
    },
    {
     "data": {
      "application/vnd.jupyter.widget-view+json": {
       "model_id": "897fa548ad244a598ddfcf10f076adcb",
       "version_major": 2,
       "version_minor": 0
      },
      "text/plain": [
       "HBox(children=(IntProgress(value=0, max=647), HTML(value='')))"
      ]
     },
     "metadata": {},
     "output_type": "display_data"
    },
    {
     "name": "stdout",
     "output_type": "stream",
     "text": [
      ">>> Loss: 1.3512339830398559\n",
      ">>> Loss: 1.4344612598419189\n",
      "Trainer epoch finished\n",
      ">> Running Evaluation\n"
     ]
    },
    {
     "data": {
      "application/vnd.jupyter.widget-view+json": {
       "model_id": "1428eabbef5f4f53acbcb2a94998580e",
       "version_major": 2,
       "version_minor": 0
      },
      "text/plain": [
       "HBox(children=(IntProgress(value=0, max=647), HTML(value='')))"
      ]
     },
     "metadata": {},
     "output_type": "display_data"
    },
    {
     "name": "stdout",
     "output_type": "stream",
     "text": [
      "Evaluation finished\n",
      "Train res:{'f1_weighted': 0.5838087276428794, 'f1_macro': 0.4207496561476055}\n",
      ">> Running Evaluation\n"
     ]
    },
    {
     "data": {
      "application/vnd.jupyter.widget-view+json": {
       "model_id": "f5b05cdc20354c5c9aee1764c9c75e0c",
       "version_major": 2,
       "version_minor": 0
      },
      "text/plain": [
       "HBox(children=(IntProgress(value=0, max=278), HTML(value='')))"
      ]
     },
     "metadata": {},
     "output_type": "display_data"
    },
    {
     "name": "stdout",
     "output_type": "stream",
     "text": [
      "Evaluation finished\n",
      "Test res:{'f1_weighted': 0.47264789086631603, 'f1_macro': 0.28485490500834176}\n"
     ]
    }
   ],
   "source": [
    "for i in range(10):\n",
    "    trainer.run(train_loader, epochs=1)\n",
    "    res = evaluation.run(train_loader)\n",
    "    print(\"Train res:\" + str(res))\n",
    "    res = evaluation.run(test_loader)\n",
    "    print(\"Test res:\" + str(res))"
   ]
  },
  {
   "cell_type": "code",
   "execution_count": 365,
   "metadata": {},
   "outputs": [
    {
     "name": "stdout",
     "output_type": "stream",
     "text": [
      ">> Running trainer\n",
      ">>> Epoch 0\n"
     ]
    },
    {
     "data": {
      "application/vnd.jupyter.widget-view+json": {
       "model_id": "0cc682a80b5a4f6da983bc402ea4e656",
       "version_major": 2,
       "version_minor": 0
      },
      "text/plain": [
       "HBox(children=(IntProgress(value=0, max=647), HTML(value='')))"
      ]
     },
     "metadata": {},
     "output_type": "display_data"
    },
    {
     "name": "stdout",
     "output_type": "stream",
     "text": [
      ">>> Loss: 1.5131094455718994\n",
      ">>> Loss: 1.1915362536907197\n",
      "Trainer epoch finished\n",
      ">> Running Evaluation\n"
     ]
    },
    {
     "data": {
      "application/vnd.jupyter.widget-view+json": {
       "model_id": "a699099333b94a82a8ffff73e0fc9f87",
       "version_major": 2,
       "version_minor": 0
      },
      "text/plain": [
       "HBox(children=(IntProgress(value=0, max=647), HTML(value='')))"
      ]
     },
     "metadata": {},
     "output_type": "display_data"
    },
    {
     "name": "stdout",
     "output_type": "stream",
     "text": [
      "Evaluation finished\n",
      "Train res:{'f1_weighted': 0.6560373400056358, 'f1_macro': 0.5189963901817295}\n",
      ">> Running Evaluation\n"
     ]
    },
    {
     "data": {
      "application/vnd.jupyter.widget-view+json": {
       "model_id": "76a09cc915d243208666715fb8c26100",
       "version_major": 2,
       "version_minor": 0
      },
      "text/plain": [
       "HBox(children=(IntProgress(value=0, max=278), HTML(value='')))"
      ]
     },
     "metadata": {},
     "output_type": "display_data"
    },
    {
     "name": "stdout",
     "output_type": "stream",
     "text": [
      "Evaluation finished\n",
      "Test res:{'f1_weighted': 0.5060578911848793, 'f1_macro': 0.3263619135697875}\n",
      ">> Running trainer\n",
      ">>> Epoch 0\n"
     ]
    },
    {
     "data": {
      "application/vnd.jupyter.widget-view+json": {
       "model_id": "0b74e82ce27a4ab99afaba9cf19852e8",
       "version_major": 2,
       "version_minor": 0
      },
      "text/plain": [
       "HBox(children=(IntProgress(value=0, max=647), HTML(value='')))"
      ]
     },
     "metadata": {},
     "output_type": "display_data"
    },
    {
     "name": "stdout",
     "output_type": "stream",
     "text": [
      ">>> Loss: 1.0498349368572235\n",
      ">>> Loss: 1.0964420139789581\n",
      "Trainer epoch finished\n",
      ">> Running Evaluation\n"
     ]
    },
    {
     "data": {
      "application/vnd.jupyter.widget-view+json": {
       "model_id": "d7a3500becbd495eb356de16762f26fd",
       "version_major": 2,
       "version_minor": 0
      },
      "text/plain": [
       "HBox(children=(IntProgress(value=0, max=647), HTML(value='')))"
      ]
     },
     "metadata": {},
     "output_type": "display_data"
    },
    {
     "name": "stdout",
     "output_type": "stream",
     "text": [
      "Evaluation finished\n",
      "Train res:{'f1_weighted': 0.6731801970219178, 'f1_macro': 0.5444009037541222}\n",
      ">> Running Evaluation\n"
     ]
    },
    {
     "data": {
      "application/vnd.jupyter.widget-view+json": {
       "model_id": "2293bfa0b608481ba3c1d82a6905912e",
       "version_major": 2,
       "version_minor": 0
      },
      "text/plain": [
       "HBox(children=(IntProgress(value=0, max=278), HTML(value='')))"
      ]
     },
     "metadata": {},
     "output_type": "display_data"
    },
    {
     "name": "stdout",
     "output_type": "stream",
     "text": [
      "Evaluation finished\n",
      "Test res:{'f1_weighted': 0.509300747868522, 'f1_macro': 0.33070549703788904}\n",
      ">> Running trainer\n",
      ">>> Epoch 0\n"
     ]
    },
    {
     "data": {
      "application/vnd.jupyter.widget-view+json": {
       "model_id": "44c23e1b7c994534918eb303bec4f08b",
       "version_major": 2,
       "version_minor": 0
      },
      "text/plain": [
       "HBox(children=(IntProgress(value=0, max=647), HTML(value='')))"
      ]
     },
     "metadata": {},
     "output_type": "display_data"
    },
    {
     "name": "stdout",
     "output_type": "stream",
     "text": [
      ">>> Loss: 1.0200837314128877\n",
      ">>> Loss: 1.0404276430606842\n",
      "Trainer epoch finished\n",
      ">> Running Evaluation\n"
     ]
    },
    {
     "data": {
      "application/vnd.jupyter.widget-view+json": {
       "model_id": "1cac1e5f5c4543018bfffd783baa794e",
       "version_major": 2,
       "version_minor": 0
      },
      "text/plain": [
       "HBox(children=(IntProgress(value=0, max=647), HTML(value='')))"
      ]
     },
     "metadata": {},
     "output_type": "display_data"
    },
    {
     "name": "stdout",
     "output_type": "stream",
     "text": [
      "Evaluation finished\n",
      "Train res:{'f1_weighted': 0.6857817657692603, 'f1_macro': 0.5645964697883058}\n",
      ">> Running Evaluation\n"
     ]
    },
    {
     "data": {
      "application/vnd.jupyter.widget-view+json": {
       "model_id": "911961cc586e4ef08682fae657bc86e1",
       "version_major": 2,
       "version_minor": 0
      },
      "text/plain": [
       "HBox(children=(IntProgress(value=0, max=278), HTML(value='')))"
      ]
     },
     "metadata": {},
     "output_type": "display_data"
    },
    {
     "name": "stdout",
     "output_type": "stream",
     "text": [
      "Evaluation finished\n",
      "Test res:{'f1_weighted': 0.5107524124169446, 'f1_macro': 0.33306198222738653}\n",
      ">> Running trainer\n",
      ">>> Epoch 0\n"
     ]
    },
    {
     "data": {
      "application/vnd.jupyter.widget-view+json": {
       "model_id": "43b0dfde33294f928a02627427e5ec21",
       "version_major": 2,
       "version_minor": 0
      },
      "text/plain": [
       "HBox(children=(IntProgress(value=0, max=647), HTML(value='')))"
      ]
     },
     "metadata": {},
     "output_type": "display_data"
    },
    {
     "name": "stdout",
     "output_type": "stream",
     "text": [
      ">>> Loss: 0.9831374108791351\n",
      ">>> Loss: 0.9990274846553803\n",
      "Trainer epoch finished\n",
      ">> Running Evaluation\n"
     ]
    },
    {
     "data": {
      "application/vnd.jupyter.widget-view+json": {
       "model_id": "6685af27f5bd451e9af384f6f7ca604d",
       "version_major": 2,
       "version_minor": 0
      },
      "text/plain": [
       "HBox(children=(IntProgress(value=0, max=647), HTML(value='')))"
      ]
     },
     "metadata": {},
     "output_type": "display_data"
    },
    {
     "name": "stdout",
     "output_type": "stream",
     "text": [
      "Evaluation finished\n",
      "Train res:{'f1_weighted': 0.6980047179501265, 'f1_macro': 0.5825284547400441}\n",
      ">> Running Evaluation\n"
     ]
    },
    {
     "data": {
      "application/vnd.jupyter.widget-view+json": {
       "model_id": "3e414be3b4df4ee48ebb86e94c92f4f5",
       "version_major": 2,
       "version_minor": 0
      },
      "text/plain": [
       "HBox(children=(IntProgress(value=0, max=278), HTML(value='')))"
      ]
     },
     "metadata": {},
     "output_type": "display_data"
    },
    {
     "name": "stdout",
     "output_type": "stream",
     "text": [
      "Evaluation finished\n",
      "Test res:{'f1_weighted': 0.5095786554791621, 'f1_macro': 0.3344544538747077}\n",
      ">> Running trainer\n",
      ">>> Epoch 0\n"
     ]
    },
    {
     "data": {
      "application/vnd.jupyter.widget-view+json": {
       "model_id": "6d13c3ae029c4d49b680e068839980d0",
       "version_major": 2,
       "version_minor": 0
      },
      "text/plain": [
       "HBox(children=(IntProgress(value=0, max=647), HTML(value='')))"
      ]
     },
     "metadata": {},
     "output_type": "display_data"
    },
    {
     "name": "stdout",
     "output_type": "stream",
     "text": [
      ">>> Loss: 0.9494922518730163\n",
      ">>> Loss: 0.963718056678772\n",
      "Trainer epoch finished\n",
      ">> Running Evaluation\n"
     ]
    },
    {
     "data": {
      "application/vnd.jupyter.widget-view+json": {
       "model_id": "dce21c76b8374e13820f8ad45c66ebe4",
       "version_major": 2,
       "version_minor": 0
      },
      "text/plain": [
       "HBox(children=(IntProgress(value=0, max=647), HTML(value='')))"
      ]
     },
     "metadata": {},
     "output_type": "display_data"
    },
    {
     "name": "stdout",
     "output_type": "stream",
     "text": [
      "Evaluation finished\n",
      "Train res:{'f1_weighted': 0.7082281848352527, 'f1_macro': 0.5963592450836364}\n",
      ">> Running Evaluation\n"
     ]
    },
    {
     "data": {
      "application/vnd.jupyter.widget-view+json": {
       "model_id": "bb7e39df042346fd970f0952738b4989",
       "version_major": 2,
       "version_minor": 0
      },
      "text/plain": [
       "HBox(children=(IntProgress(value=0, max=278), HTML(value='')))"
      ]
     },
     "metadata": {},
     "output_type": "display_data"
    },
    {
     "name": "stdout",
     "output_type": "stream",
     "text": [
      "Evaluation finished\n",
      "Test res:{'f1_weighted': 0.5098707662762817, 'f1_macro': 0.33627890721488596}\n",
      ">> Running trainer\n",
      ">>> Epoch 0\n"
     ]
    },
    {
     "data": {
      "application/vnd.jupyter.widget-view+json": {
       "model_id": "624b467a2674486da6e6b3e73036b840",
       "version_major": 2,
       "version_minor": 0
      },
      "text/plain": [
       "HBox(children=(IntProgress(value=0, max=647), HTML(value='')))"
      ]
     },
     "metadata": {},
     "output_type": "display_data"
    },
    {
     "name": "stdout",
     "output_type": "stream",
     "text": [
      ">>> Loss: 0.9190175235271454\n",
      ">>> Loss: 0.920563668012619\n",
      "Trainer epoch finished\n",
      ">> Running Evaluation\n"
     ]
    },
    {
     "data": {
      "application/vnd.jupyter.widget-view+json": {
       "model_id": "a78946ec79f74c37b7c6d85e81ada8d8",
       "version_major": 2,
       "version_minor": 0
      },
      "text/plain": [
       "HBox(children=(IntProgress(value=0, max=647), HTML(value='')))"
      ]
     },
     "metadata": {},
     "output_type": "display_data"
    },
    {
     "name": "stdout",
     "output_type": "stream",
     "text": [
      "Evaluation finished\n",
      "Train res:{'f1_weighted': 0.71749698897825, 'f1_macro': 0.6091663149431157}\n",
      ">> Running Evaluation\n"
     ]
    },
    {
     "data": {
      "application/vnd.jupyter.widget-view+json": {
       "model_id": "7fc31037dd764f76aa4e7786705add27",
       "version_major": 2,
       "version_minor": 0
      },
      "text/plain": [
       "HBox(children=(IntProgress(value=0, max=278), HTML(value='')))"
      ]
     },
     "metadata": {},
     "output_type": "display_data"
    },
    {
     "name": "stdout",
     "output_type": "stream",
     "text": [
      "Evaluation finished\n",
      "Test res:{'f1_weighted': 0.5083635123845102, 'f1_macro': 0.3342085180312537}\n",
      ">> Running trainer\n",
      ">>> Epoch 0\n"
     ]
    },
    {
     "data": {
      "application/vnd.jupyter.widget-view+json": {
       "model_id": "d788ff1317d247ce90580402ec4a22fa",
       "version_major": 2,
       "version_minor": 0
      },
      "text/plain": [
       "HBox(children=(IntProgress(value=0, max=647), HTML(value='')))"
      ]
     },
     "metadata": {},
     "output_type": "display_data"
    },
    {
     "name": "stdout",
     "output_type": "stream",
     "text": [
      ">>> Loss: 0.8846714794635773\n",
      ">>> Loss: 0.880657285451889\n",
      "Trainer epoch finished\n",
      ">> Running Evaluation\n"
     ]
    },
    {
     "data": {
      "application/vnd.jupyter.widget-view+json": {
       "model_id": "56c1fd61d3484496a6fda95a2db7842c",
       "version_major": 2,
       "version_minor": 0
      },
      "text/plain": [
       "HBox(children=(IntProgress(value=0, max=647), HTML(value='')))"
      ]
     },
     "metadata": {},
     "output_type": "display_data"
    },
    {
     "name": "stdout",
     "output_type": "stream",
     "text": [
      "Evaluation finished\n",
      "Train res:{'f1_weighted': 0.7268996302253845, 'f1_macro': 0.6219687368829616}\n",
      ">> Running Evaluation\n"
     ]
    },
    {
     "data": {
      "application/vnd.jupyter.widget-view+json": {
       "model_id": "aa5f402e228e4ca2a61a392a3d256782",
       "version_major": 2,
       "version_minor": 0
      },
      "text/plain": [
       "HBox(children=(IntProgress(value=0, max=278), HTML(value='')))"
      ]
     },
     "metadata": {},
     "output_type": "display_data"
    },
    {
     "name": "stdout",
     "output_type": "stream",
     "text": [
      "Evaluation finished\n",
      "Test res:{'f1_weighted': 0.5065843876822907, 'f1_macro': 0.33166429412396514}\n",
      ">> Running trainer\n",
      ">>> Epoch 0\n"
     ]
    },
    {
     "data": {
      "application/vnd.jupyter.widget-view+json": {
       "model_id": "a9054b4af42d44beb6805a4161f2c2a8",
       "version_major": 2,
       "version_minor": 0
      },
      "text/plain": [
       "HBox(children=(IntProgress(value=0, max=647), HTML(value='')))"
      ]
     },
     "metadata": {},
     "output_type": "display_data"
    },
    {
     "name": "stdout",
     "output_type": "stream",
     "text": [
      ">>> Loss: 0.856626158952713\n",
      ">>> Loss: 0.841754287481308\n",
      "Trainer epoch finished\n",
      ">> Running Evaluation\n"
     ]
    },
    {
     "data": {
      "application/vnd.jupyter.widget-view+json": {
       "model_id": "1959d26302f64caaa3abeab0836ccf5d",
       "version_major": 2,
       "version_minor": 0
      },
      "text/plain": [
       "HBox(children=(IntProgress(value=0, max=647), HTML(value='')))"
      ]
     },
     "metadata": {},
     "output_type": "display_data"
    },
    {
     "name": "stdout",
     "output_type": "stream",
     "text": [
      "Evaluation finished\n",
      "Train res:{'f1_weighted': 0.735396606401952, 'f1_macro': 0.6362377377113535}\n",
      ">> Running Evaluation\n"
     ]
    },
    {
     "data": {
      "application/vnd.jupyter.widget-view+json": {
       "model_id": "1639cf7d5b984091a66a5fd092554625",
       "version_major": 2,
       "version_minor": 0
      },
      "text/plain": [
       "HBox(children=(IntProgress(value=0, max=278), HTML(value='')))"
      ]
     },
     "metadata": {},
     "output_type": "display_data"
    },
    {
     "name": "stdout",
     "output_type": "stream",
     "text": [
      "Evaluation finished\n",
      "Test res:{'f1_weighted': 0.5072938715653693, 'f1_macro': 0.33480853660078963}\n",
      ">> Running trainer\n",
      ">>> Epoch 0\n"
     ]
    },
    {
     "data": {
      "application/vnd.jupyter.widget-view+json": {
       "model_id": "0ee37aceab8f4e53949669cb519cd359",
       "version_major": 2,
       "version_minor": 0
      },
      "text/plain": [
       "HBox(children=(IntProgress(value=0, max=647), HTML(value='')))"
      ]
     },
     "metadata": {},
     "output_type": "display_data"
    },
    {
     "name": "stdout",
     "output_type": "stream",
     "text": [
      ">>> Loss: 0.8213416874408722\n",
      ">>> Loss: 0.8084483444690704\n",
      "Trainer epoch finished\n",
      ">> Running Evaluation\n"
     ]
    },
    {
     "data": {
      "application/vnd.jupyter.widget-view+json": {
       "model_id": "789c88134ab84418ad00af425ed27485",
       "version_major": 2,
       "version_minor": 0
      },
      "text/plain": [
       "HBox(children=(IntProgress(value=0, max=647), HTML(value='')))"
      ]
     },
     "metadata": {},
     "output_type": "display_data"
    },
    {
     "name": "stdout",
     "output_type": "stream",
     "text": [
      "Evaluation finished\n",
      "Train res:{'f1_weighted': 0.7456380851752575, 'f1_macro': 0.6512669335330815}\n",
      ">> Running Evaluation\n"
     ]
    },
    {
     "data": {
      "application/vnd.jupyter.widget-view+json": {
       "model_id": "8b1ec096f0e04842b9df34d42a2e75c7",
       "version_major": 2,
       "version_minor": 0
      },
      "text/plain": [
       "HBox(children=(IntProgress(value=0, max=278), HTML(value='')))"
      ]
     },
     "metadata": {},
     "output_type": "display_data"
    },
    {
     "name": "stdout",
     "output_type": "stream",
     "text": [
      "Evaluation finished\n",
      "Test res:{'f1_weighted': 0.5078773487817975, 'f1_macro': 0.3388191821810324}\n",
      ">> Running trainer\n",
      ">>> Epoch 0\n"
     ]
    },
    {
     "data": {
      "application/vnd.jupyter.widget-view+json": {
       "model_id": "77c1530b08934caba96135f0018ea8a7",
       "version_major": 2,
       "version_minor": 0
      },
      "text/plain": [
       "HBox(children=(IntProgress(value=0, max=647), HTML(value='')))"
      ]
     },
     "metadata": {},
     "output_type": "display_data"
    },
    {
     "name": "stdout",
     "output_type": "stream",
     "text": [
      ">>> Loss: 0.7973391234874725\n",
      ">>> Loss: 0.7757346242666244\n",
      "Trainer epoch finished\n",
      ">> Running Evaluation\n"
     ]
    },
    {
     "data": {
      "application/vnd.jupyter.widget-view+json": {
       "model_id": "59f4af76c259492ba70c1313a7beeffc",
       "version_major": 2,
       "version_minor": 0
      },
      "text/plain": [
       "HBox(children=(IntProgress(value=0, max=647), HTML(value='')))"
      ]
     },
     "metadata": {},
     "output_type": "display_data"
    },
    {
     "name": "stdout",
     "output_type": "stream",
     "text": [
      "Evaluation finished\n",
      "Train res:{'f1_weighted': 0.7544625539310649, 'f1_macro': 0.6617601466756908}\n",
      ">> Running Evaluation\n"
     ]
    },
    {
     "data": {
      "application/vnd.jupyter.widget-view+json": {
       "model_id": "c86bd5e865bb4dcf83e34b6917a76947",
       "version_major": 2,
       "version_minor": 0
      },
      "text/plain": [
       "HBox(children=(IntProgress(value=0, max=278), HTML(value='')))"
      ]
     },
     "metadata": {},
     "output_type": "display_data"
    },
    {
     "name": "stdout",
     "output_type": "stream",
     "text": [
      "Evaluation finished\n",
      "Test res:{'f1_weighted': 0.5070839837283849, 'f1_macro': 0.3382328491559528}\n"
     ]
    }
   ],
   "source": [
    "trainer = Trainer(net, config, lr=0.001, l2_rate=1e-5)\n",
    "evaluation = Evaluation(net, config)\n",
    "for i in range(10):\n",
    "    trainer.run(train_loader, epochs=1)\n",
    "    res = evaluation.run(train_loader)\n",
    "    print(\"Train res:\" + str(res))\n",
    "    res = evaluation.run(test_loader)\n",
    "    print(\"Test res:\" + str(res))"
   ]
  },
  {
   "cell_type": "code",
   "execution_count": 366,
   "metadata": {},
   "outputs": [
    {
     "name": "stdout",
     "output_type": "stream",
     "text": [
      ">> Running trainer\n",
      ">>> Epoch 0\n"
     ]
    },
    {
     "data": {
      "application/vnd.jupyter.widget-view+json": {
       "model_id": "f73f06a7deb44383b5ee7cd0a594da44",
       "version_major": 2,
       "version_minor": 0
      },
      "text/plain": [
       "HBox(children=(IntProgress(value=0, max=647), HTML(value='')))"
      ]
     },
     "metadata": {},
     "output_type": "display_data"
    },
    {
     "name": "stdout",
     "output_type": "stream",
     "text": [
      ">>> Loss: 1.0243219137191772\n",
      ">>> Loss: 0.7560348868370056\n",
      "Trainer epoch finished\n",
      ">> Running Evaluation\n"
     ]
    },
    {
     "data": {
      "application/vnd.jupyter.widget-view+json": {
       "model_id": "d2f837021a5f49b6aabfe29835de34a1",
       "version_major": 2,
       "version_minor": 0
      },
      "text/plain": [
       "HBox(children=(IntProgress(value=0, max=647), HTML(value='')))"
      ]
     },
     "metadata": {},
     "output_type": "display_data"
    },
    {
     "name": "stdout",
     "output_type": "stream",
     "text": [
      "Evaluation finished\n",
      "Train res:{'f1_weighted': 0.7685728450632568, 'f1_macro': 0.6866495386112594}\n",
      ">> Running Evaluation\n"
     ]
    },
    {
     "data": {
      "application/vnd.jupyter.widget-view+json": {
       "model_id": "0845913650e54ab2858a003db72aed98",
       "version_major": 2,
       "version_minor": 0
      },
      "text/plain": [
       "HBox(children=(IntProgress(value=0, max=278), HTML(value='')))"
      ]
     },
     "metadata": {},
     "output_type": "display_data"
    },
    {
     "name": "stdout",
     "output_type": "stream",
     "text": [
      "Evaluation finished\n",
      "Test res:{'f1_weighted': 0.511185163521889, 'f1_macro': 0.34215486539700285}\n",
      ">> Running trainer\n",
      ">>> Epoch 0\n"
     ]
    },
    {
     "data": {
      "application/vnd.jupyter.widget-view+json": {
       "model_id": "b248119b42d74e999c60010cc4fabbe0",
       "version_major": 2,
       "version_minor": 0
      },
      "text/plain": [
       "HBox(children=(IntProgress(value=0, max=647), HTML(value='')))"
      ]
     },
     "metadata": {},
     "output_type": "display_data"
    },
    {
     "name": "stdout",
     "output_type": "stream",
     "text": [
      ">>> Loss: 0.7344521701335907\n",
      ">>> Loss: 0.7353523194789886\n",
      "Trainer epoch finished\n",
      ">> Running Evaluation\n"
     ]
    },
    {
     "data": {
      "application/vnd.jupyter.widget-view+json": {
       "model_id": "d2be297539684bf18dfce68517d61ca2",
       "version_major": 2,
       "version_minor": 0
      },
      "text/plain": [
       "HBox(children=(IntProgress(value=0, max=647), HTML(value='')))"
      ]
     },
     "metadata": {},
     "output_type": "display_data"
    },
    {
     "name": "stdout",
     "output_type": "stream",
     "text": [
      "Evaluation finished\n",
      "Train res:{'f1_weighted': 0.7730348704848232, 'f1_macro': 0.6933744107667537}\n",
      ">> Running Evaluation\n"
     ]
    },
    {
     "data": {
      "application/vnd.jupyter.widget-view+json": {
       "model_id": "0e7e3d7713974e4887161010f7142875",
       "version_major": 2,
       "version_minor": 0
      },
      "text/plain": [
       "HBox(children=(IntProgress(value=0, max=278), HTML(value='')))"
      ]
     },
     "metadata": {},
     "output_type": "display_data"
    },
    {
     "name": "stdout",
     "output_type": "stream",
     "text": [
      "Evaluation finished\n",
      "Test res:{'f1_weighted': 0.5119210098066188, 'f1_macro': 0.34257982381320545}\n",
      ">> Running trainer\n",
      ">>> Epoch 0\n"
     ]
    },
    {
     "data": {
      "application/vnd.jupyter.widget-view+json": {
       "model_id": "58ac49eb816b4ce68dc8230701919dba",
       "version_major": 2,
       "version_minor": 0
      },
      "text/plain": [
       "HBox(children=(IntProgress(value=0, max=647), HTML(value='')))"
      ]
     },
     "metadata": {},
     "output_type": "display_data"
    },
    {
     "name": "stdout",
     "output_type": "stream",
     "text": [
      ">>> Loss: 0.7360185623168946\n",
      ">>> Loss: 0.7258483171463013\n",
      "Trainer epoch finished\n",
      ">> Running Evaluation\n"
     ]
    },
    {
     "data": {
      "application/vnd.jupyter.widget-view+json": {
       "model_id": "a5edda79c67a4f83ab43712822bdbb36",
       "version_major": 2,
       "version_minor": 0
      },
      "text/plain": [
       "HBox(children=(IntProgress(value=0, max=647), HTML(value='')))"
      ]
     },
     "metadata": {},
     "output_type": "display_data"
    },
    {
     "name": "stdout",
     "output_type": "stream",
     "text": [
      "Evaluation finished\n",
      "Train res:{'f1_weighted': 0.7762548079450409, 'f1_macro': 0.6979967830653894}\n",
      ">> Running Evaluation\n"
     ]
    },
    {
     "data": {
      "application/vnd.jupyter.widget-view+json": {
       "model_id": "7273b681a177425688a61b0f2bc02cdd",
       "version_major": 2,
       "version_minor": 0
      },
      "text/plain": [
       "HBox(children=(IntProgress(value=0, max=278), HTML(value='')))"
      ]
     },
     "metadata": {},
     "output_type": "display_data"
    },
    {
     "name": "stdout",
     "output_type": "stream",
     "text": [
      "Evaluation finished\n",
      "Test res:{'f1_weighted': 0.5103801872152942, 'f1_macro': 0.34213248858887957}\n",
      ">> Running trainer\n",
      ">>> Epoch 0\n"
     ]
    },
    {
     "data": {
      "application/vnd.jupyter.widget-view+json": {
       "model_id": "a6543b37d1514f68b0d9caa173432b44",
       "version_major": 2,
       "version_minor": 0
      },
      "text/plain": [
       "HBox(children=(IntProgress(value=0, max=647), HTML(value='')))"
      ]
     },
     "metadata": {},
     "output_type": "display_data"
    },
    {
     "name": "stdout",
     "output_type": "stream",
     "text": [
      ">>> Loss: 0.7328279912471771\n",
      ">>> Loss: 0.7192842781543731\n",
      "Trainer epoch finished\n",
      ">> Running Evaluation\n"
     ]
    },
    {
     "data": {
      "application/vnd.jupyter.widget-view+json": {
       "model_id": "3daf697e942b478db0f01cbb26be92cc",
       "version_major": 2,
       "version_minor": 0
      },
      "text/plain": [
       "HBox(children=(IntProgress(value=0, max=647), HTML(value='')))"
      ]
     },
     "metadata": {},
     "output_type": "display_data"
    },
    {
     "name": "stdout",
     "output_type": "stream",
     "text": [
      "Evaluation finished\n",
      "Train res:{'f1_weighted': 0.778530194608766, 'f1_macro': 0.7025950882102259}\n",
      ">> Running Evaluation\n"
     ]
    },
    {
     "data": {
      "application/vnd.jupyter.widget-view+json": {
       "model_id": "d0c7b8765e31447ead03507831b870a9",
       "version_major": 2,
       "version_minor": 0
      },
      "text/plain": [
       "HBox(children=(IntProgress(value=0, max=278), HTML(value='')))"
      ]
     },
     "metadata": {},
     "output_type": "display_data"
    },
    {
     "name": "stdout",
     "output_type": "stream",
     "text": [
      "Evaluation finished\n",
      "Test res:{'f1_weighted': 0.5100524050447417, 'f1_macro': 0.34136693808087226}\n",
      ">> Running trainer\n",
      ">>> Epoch 0\n"
     ]
    },
    {
     "data": {
      "application/vnd.jupyter.widget-view+json": {
       "model_id": "513e8f3b0cb94f599c2ba33483090425",
       "version_major": 2,
       "version_minor": 0
      },
      "text/plain": [
       "HBox(children=(IntProgress(value=0, max=647), HTML(value='')))"
      ]
     },
     "metadata": {},
     "output_type": "display_data"
    },
    {
     "name": "stdout",
     "output_type": "stream",
     "text": [
      ">>> Loss: 0.7279239773750306\n",
      ">>> Loss: 0.713688725233078\n",
      "Trainer epoch finished\n",
      ">> Running Evaluation\n"
     ]
    },
    {
     "data": {
      "application/vnd.jupyter.widget-view+json": {
       "model_id": "7c4552bb7f9149ab8ad0f06040b329f0",
       "version_major": 2,
       "version_minor": 0
      },
      "text/plain": [
       "HBox(children=(IntProgress(value=0, max=647), HTML(value='')))"
      ]
     },
     "metadata": {},
     "output_type": "display_data"
    },
    {
     "name": "stdout",
     "output_type": "stream",
     "text": [
      "Evaluation finished\n",
      "Train res:{'f1_weighted': 0.7809926411952659, 'f1_macro': 0.7064764003743206}\n",
      ">> Running Evaluation\n"
     ]
    },
    {
     "data": {
      "application/vnd.jupyter.widget-view+json": {
       "model_id": "e629ac49d3a9403d9548d34324ae8b92",
       "version_major": 2,
       "version_minor": 0
      },
      "text/plain": [
       "HBox(children=(IntProgress(value=0, max=278), HTML(value='')))"
      ]
     },
     "metadata": {},
     "output_type": "display_data"
    },
    {
     "name": "stdout",
     "output_type": "stream",
     "text": [
      "Evaluation finished\n",
      "Test res:{'f1_weighted': 0.509707122611271, 'f1_macro': 0.34119669017489074}\n",
      ">> Running trainer\n",
      ">>> Epoch 0\n"
     ]
    },
    {
     "data": {
      "application/vnd.jupyter.widget-view+json": {
       "model_id": "87e934ccfb5d4af08d976830d88cc333",
       "version_major": 2,
       "version_minor": 0
      },
      "text/plain": [
       "HBox(children=(IntProgress(value=0, max=647), HTML(value='')))"
      ]
     },
     "metadata": {},
     "output_type": "display_data"
    },
    {
     "name": "stdout",
     "output_type": "stream",
     "text": [
      ">>> Loss: 0.722545862197876\n",
      ">>> Loss: 0.7085510134696961\n",
      "Trainer epoch finished\n",
      ">> Running Evaluation\n"
     ]
    },
    {
     "data": {
      "application/vnd.jupyter.widget-view+json": {
       "model_id": "7b1ddb56642c4ab6bfd316d43a8613ad",
       "version_major": 2,
       "version_minor": 0
      },
      "text/plain": [
       "HBox(children=(IntProgress(value=0, max=647), HTML(value='')))"
      ]
     },
     "metadata": {},
     "output_type": "display_data"
    },
    {
     "name": "stdout",
     "output_type": "stream",
     "text": [
      "Evaluation finished\n",
      "Train res:{'f1_weighted': 0.7831671269304898, 'f1_macro': 0.7095786019742254}\n",
      ">> Running Evaluation\n"
     ]
    },
    {
     "data": {
      "application/vnd.jupyter.widget-view+json": {
       "model_id": "65e5c09930d64fe1880c1df4969934c8",
       "version_major": 2,
       "version_minor": 0
      },
      "text/plain": [
       "HBox(children=(IntProgress(value=0, max=278), HTML(value='')))"
      ]
     },
     "metadata": {},
     "output_type": "display_data"
    },
    {
     "name": "stdout",
     "output_type": "stream",
     "text": [
      "Evaluation finished\n",
      "Test res:{'f1_weighted': 0.5099290831724992, 'f1_macro': 0.34017974247210264}\n",
      ">> Running trainer\n",
      ">>> Epoch 0\n"
     ]
    },
    {
     "data": {
      "application/vnd.jupyter.widget-view+json": {
       "model_id": "9c9720af57b446aa8ad548acd4656983",
       "version_major": 2,
       "version_minor": 0
      },
      "text/plain": [
       "HBox(children=(IntProgress(value=0, max=647), HTML(value='')))"
      ]
     },
     "metadata": {},
     "output_type": "display_data"
    },
    {
     "name": "stdout",
     "output_type": "stream",
     "text": [
      ">>> Loss: 0.7170731544494628\n",
      ">>> Loss: 0.703573077917099\n",
      "Trainer epoch finished\n",
      ">> Running Evaluation\n"
     ]
    },
    {
     "data": {
      "application/vnd.jupyter.widget-view+json": {
       "model_id": "fad5b4cc056b44eb9a1627690da17da2",
       "version_major": 2,
       "version_minor": 0
      },
      "text/plain": [
       "HBox(children=(IntProgress(value=0, max=647), HTML(value='')))"
      ]
     },
     "metadata": {},
     "output_type": "display_data"
    },
    {
     "name": "stdout",
     "output_type": "stream",
     "text": [
      "Evaluation finished\n",
      "Train res:{'f1_weighted': 0.7850957906687993, 'f1_macro': 0.7114895718739418}\n",
      ">> Running Evaluation\n"
     ]
    },
    {
     "data": {
      "application/vnd.jupyter.widget-view+json": {
       "model_id": "5efeedb81bba4ebabb684ae7d9f1a060",
       "version_major": 2,
       "version_minor": 0
      },
      "text/plain": [
       "HBox(children=(IntProgress(value=0, max=278), HTML(value='')))"
      ]
     },
     "metadata": {},
     "output_type": "display_data"
    },
    {
     "name": "stdout",
     "output_type": "stream",
     "text": [
      "Evaluation finished\n",
      "Test res:{'f1_weighted': 0.5094661013777215, 'f1_macro': 0.33926250751361825}\n",
      ">> Running trainer\n",
      ">>> Epoch 0\n"
     ]
    },
    {
     "data": {
      "application/vnd.jupyter.widget-view+json": {
       "model_id": "0f0d7d1e766b4c42b5803fa3c9b7c9f7",
       "version_major": 2,
       "version_minor": 0
      },
      "text/plain": [
       "HBox(children=(IntProgress(value=0, max=647), HTML(value='')))"
      ]
     },
     "metadata": {},
     "output_type": "display_data"
    },
    {
     "name": "stdout",
     "output_type": "stream",
     "text": [
      ">>> Loss: 0.7116670608520508\n",
      ">>> Loss: 0.698568868637085\n",
      "Trainer epoch finished\n",
      ">> Running Evaluation\n"
     ]
    },
    {
     "data": {
      "application/vnd.jupyter.widget-view+json": {
       "model_id": "fca15d1ee24e45c085e6e6c48f5d78a7",
       "version_major": 2,
       "version_minor": 0
      },
      "text/plain": [
       "HBox(children=(IntProgress(value=0, max=647), HTML(value='')))"
      ]
     },
     "metadata": {},
     "output_type": "display_data"
    },
    {
     "name": "stdout",
     "output_type": "stream",
     "text": [
      "Evaluation finished\n",
      "Train res:{'f1_weighted': 0.7870310260359108, 'f1_macro': 0.7149675210893044}\n",
      ">> Running Evaluation\n"
     ]
    },
    {
     "data": {
      "application/vnd.jupyter.widget-view+json": {
       "model_id": "72df6c3603a940c98c6b1437c366f1af",
       "version_major": 2,
       "version_minor": 0
      },
      "text/plain": [
       "HBox(children=(IntProgress(value=0, max=278), HTML(value='')))"
      ]
     },
     "metadata": {},
     "output_type": "display_data"
    },
    {
     "name": "stdout",
     "output_type": "stream",
     "text": [
      "Evaluation finished\n",
      "Test res:{'f1_weighted': 0.5096734794811235, 'f1_macro': 0.33920213833930074}\n",
      ">> Running trainer\n",
      ">>> Epoch 0\n"
     ]
    },
    {
     "data": {
      "application/vnd.jupyter.widget-view+json": {
       "model_id": "65560e7dae7940c881fde4d8eb0e03d1",
       "version_major": 2,
       "version_minor": 0
      },
      "text/plain": [
       "HBox(children=(IntProgress(value=0, max=647), HTML(value='')))"
      ]
     },
     "metadata": {},
     "output_type": "display_data"
    },
    {
     "name": "stdout",
     "output_type": "stream",
     "text": [
      ">>> Loss: 0.7067119240760803\n",
      ">>> Loss: 0.6940746128559112\n",
      "Trainer epoch finished\n",
      ">> Running Evaluation\n"
     ]
    },
    {
     "data": {
      "application/vnd.jupyter.widget-view+json": {
       "model_id": "0c600483c5444aba996e575cfa969332",
       "version_major": 2,
       "version_minor": 0
      },
      "text/plain": [
       "HBox(children=(IntProgress(value=0, max=647), HTML(value='')))"
      ]
     },
     "metadata": {},
     "output_type": "display_data"
    },
    {
     "name": "stdout",
     "output_type": "stream",
     "text": [
      "Evaluation finished\n",
      "Train res:{'f1_weighted': 0.7888072936759654, 'f1_macro': 0.7177036306132222}\n",
      ">> Running Evaluation\n"
     ]
    },
    {
     "data": {
      "application/vnd.jupyter.widget-view+json": {
       "model_id": "94d81b9a167745ed850d064cef0d1eae",
       "version_major": 2,
       "version_minor": 0
      },
      "text/plain": [
       "HBox(children=(IntProgress(value=0, max=278), HTML(value='')))"
      ]
     },
     "metadata": {},
     "output_type": "display_data"
    },
    {
     "name": "stdout",
     "output_type": "stream",
     "text": [
      "Evaluation finished\n",
      "Test res:{'f1_weighted': 0.509789704170597, 'f1_macro': 0.3384813932718008}\n",
      ">> Running trainer\n",
      ">>> Epoch 0\n"
     ]
    },
    {
     "data": {
      "application/vnd.jupyter.widget-view+json": {
       "model_id": "f4a5a260e26b4d8fb67d92ac04d035e8",
       "version_major": 2,
       "version_minor": 0
      },
      "text/plain": [
       "HBox(children=(IntProgress(value=0, max=647), HTML(value='')))"
      ]
     },
     "metadata": {},
     "output_type": "display_data"
    },
    {
     "name": "stdout",
     "output_type": "stream",
     "text": [
      ">>> Loss: 0.7013035476207733\n",
      ">>> Loss: 0.6894329190254211\n",
      "Trainer epoch finished\n",
      ">> Running Evaluation\n"
     ]
    },
    {
     "data": {
      "application/vnd.jupyter.widget-view+json": {
       "model_id": "90ec7e921dc242e39d1389082a4cc70d",
       "version_major": 2,
       "version_minor": 0
      },
      "text/plain": [
       "HBox(children=(IntProgress(value=0, max=647), HTML(value='')))"
      ]
     },
     "metadata": {},
     "output_type": "display_data"
    },
    {
     "name": "stdout",
     "output_type": "stream",
     "text": [
      "Evaluation finished\n",
      "Train res:{'f1_weighted': 0.7910317377932136, 'f1_macro': 0.7206901471988754}\n",
      ">> Running Evaluation\n"
     ]
    },
    {
     "data": {
      "application/vnd.jupyter.widget-view+json": {
       "model_id": "799c0383f75441bab400dbf90ce024c8",
       "version_major": 2,
       "version_minor": 0
      },
      "text/plain": [
       "HBox(children=(IntProgress(value=0, max=278), HTML(value='')))"
      ]
     },
     "metadata": {},
     "output_type": "display_data"
    },
    {
     "name": "stdout",
     "output_type": "stream",
     "text": [
      "Evaluation finished\n",
      "Test res:{'f1_weighted': 0.5093393904880633, 'f1_macro': 0.3381343484057252}\n"
     ]
    }
   ],
   "source": [
    "trainer = Trainer(net, config, lr=0.0001, l2_rate=1e-5)\n",
    "evaluation = Evaluation(net, config)\n",
    "for i in range(10):\n",
    "    trainer.run(train_loader, epochs=1)\n",
    "    res = evaluation.run(train_loader)\n",
    "    print(\"Train res:\" + str(res))\n",
    "    res = evaluation.run(test_loader)\n",
    "    print(\"Test res:\" + str(res))"
   ]
  },
  {
   "cell_type": "markdown",
   "metadata": {},
   "source": [
    "### Final result"
   ]
  },
  {
   "cell_type": "markdown",
   "metadata": {},
   "source": [
    "##### Test res: f1_weighted -  0.511185163521889, f1_macro - 0.34215486539700285"
   ]
  },
  {
   "cell_type": "code",
   "execution_count": null,
   "metadata": {},
   "outputs": [],
   "source": []
  }
 ],
 "metadata": {
  "kernelspec": {
   "display_name": "Python 3",
   "language": "python",
   "name": "python3"
  },
  "language_info": {
   "codemirror_mode": {
    "name": "ipython",
    "version": 3
   },
   "file_extension": ".py",
   "mimetype": "text/x-python",
   "name": "python",
   "nbconvert_exporter": "python",
   "pygments_lexer": "ipython3",
   "version": "3.7.3"
  }
 },
 "nbformat": 4,
 "nbformat_minor": 2
}
