{
 "cells": [
  {
   "cell_type": "code",
   "execution_count": 65,
   "metadata": {},
   "outputs": [],
   "source": [
    "import os\n",
    "from gensim.models import KeyedVectors\n",
    "from sklearn.neighbors import KNeighborsClassifier\n",
    "from sklearn.preprocessing import LabelEncoder\n",
    "from sklearn.model_selection import train_test_split\n",
    "from sklearn.metrics.classification import f1_score, accuracy_score\n",
    "from sklearn.neighbors import NearestNeighbors\n",
    "import numpy as np\n",
    "import tqdm\n",
    "from collections import Counter\n",
    "from langdetect import detect"
   ]
  },
  {
   "cell_type": "markdown",
   "metadata": {},
   "source": [
    "Побудуйте класифікатор, який буде предбачати категорію запиту до служби 1551 з використанням тільки векторів слів (не використовувати інших фічі, такі як самі слова, нграми і т.д)."
   ]
  },
  {
   "cell_type": "markdown",
   "metadata": {},
   "source": [
    "## Data loading and preprocessing"
   ]
  },
  {
   "cell_type": "code",
   "execution_count": 2,
   "metadata": {},
   "outputs": [],
   "source": [
    "model = KeyedVectors.load_word2vec_format('word2vec', binary=False)\n",
    "model.init_sims(replace=True)"
   ]
  },
  {
   "cell_type": "code",
   "execution_count": 3,
   "metadata": {},
   "outputs": [],
   "source": [
    "class FileParser:\n",
    "    def __init__(self):\n",
    "        self.documents = []\n",
    "        self.state = \"empty\"\n",
    "        self.current = {}\n",
    "    \n",
    "    def process_line(self, line, category):\n",
    "        if line.strip().isnumeric():\n",
    "            self.state = \"id\"\n",
    "            self.current['id'] = line.strip().lower()\n",
    "        elif self.state == \"id\" or (self.state == 'text' and line != '\\n'):\n",
    "            self.state = 'text'\n",
    "            current_text = self.current.get(\"text\", \"\")\n",
    "            self.current['text'] = current_text + line.lower().replace(\"\\n\", \" \")\n",
    "        elif line == '\\n' and self.state != 'newline':\n",
    "            self.state = 'newline'\n",
    "        elif line == '\\n' and self.state == 'newline':\n",
    "            self.state = \"empty\"\n",
    "            self.current['category'] = category\n",
    "            self.documents.append(self.current)\n",
    "            self.current = {}\n",
    "            "
   ]
  },
  {
   "cell_type": "code",
   "execution_count": null,
   "metadata": {},
   "outputs": [],
   "source": []
  },
  {
   "cell_type": "code",
   "execution_count": 4,
   "metadata": {},
   "outputs": [
    {
     "data": {
      "application/vnd.jupyter.widget-view+json": {
       "model_id": "743190f24fbc429ab2350a60c6eb397e",
       "version_major": 2,
       "version_minor": 0
      },
      "text/plain": [
       "HBox(children=(IntProgress(value=0, max=189), HTML(value='')))"
      ]
     },
     "metadata": {},
     "output_type": "display_data"
    },
    {
     "name": "stdout",
     "output_type": "stream",
     "text": [
      "\n"
     ]
    }
   ],
   "source": [
    "# Parsing txt files\n",
    "DATA_PATH = \"data\"\n",
    "parser = FileParser()\n",
    "for file_name in tqdm.tqdm_notebook(os.listdir(DATA_PATH)):\n",
    "    category = file_name.split(\".\")[0]\n",
    "    with open(f\"{DATA_PATH}/{file_name}\", encoding='utf-8', errors='ignore') as file:  \n",
    "        for line in file:\n",
    "            parser.process_line(line, category)"
   ]
  },
  {
   "cell_type": "code",
   "execution_count": 5,
   "metadata": {},
   "outputs": [],
   "source": [
    "documents = parser.documents\n",
    "categories = {doc['category'] for doc in documents}"
   ]
  },
  {
   "cell_type": "code",
   "execution_count": 7,
   "metadata": {},
   "outputs": [
    {
     "data": {
      "application/vnd.jupyter.widget-view+json": {
       "model_id": "4afb0583f48d400ba59aa4212980ea80",
       "version_major": 2,
       "version_minor": 0
      },
      "text/plain": [
       "HBox(children=(IntProgress(value=0, max=131780), HTML(value='')))"
      ]
     },
     "metadata": {},
     "output_type": "display_data"
    },
    {
     "name": "stdout",
     "output_type": "stream",
     "text": [
      "Can't detect lang:  \n",
      "Can't detect lang:  \n",
      "Can't detect lang:  \n",
      "Can't detect lang:  \n",
      "Can't detect lang:  \n",
      "Can't detect lang:  \n",
      "Can't detect lang:  \n",
      "Can't detect lang:  \n",
      "Can't detect lang:  \n",
      "Can't detect lang:  \n",
      "Can't detect lang:  \n",
      "Can't detect lang:  \n",
      "Can't detect lang:  \n",
      "Can't detect lang:  \n",
      "Can't detect lang:  \n",
      "Can't detect lang: з 1 грудня у нашому будинку не працює домофонна система (не зачиняються двері), послуги надає компанія цифрал-сервіс. неодноразові телефонні звернення результатів не дають. внаслідок цієї ситуації, за інформацією компаннії отіс, в нашому будинку було викрадено ліфтове обладнання, 5 грудня не працювали обидва ліфти. на разі не працює один ліфт. крім того, не замикано на замок вихід на горище, що в комплексі дало можливість викрадачам зняти відповідне обладнання. ми вимушені користуватись сходовими клітинами, які не прибрані. зважаючи на викладене прошу звернутись до компаннії цифрал-сервіс з питання забезпечення ремонту домофонної системи. \n",
      "Can't detect lang:  \n",
      "Can't detect lang:  \n",
      "Can't detect lang:  \n",
      "Can't detect lang:  \n",
      "Can't detect lang:  \n",
      "Can't detect lang:  \n",
      "Can't detect lang:  \n",
      "Can't detect lang: неналежный санiтарно - технiчний стан електричних матовых опор на перехрестi симона петлюри та жилявськоi вулиць. \n",
      "Can't detect lang: прошу відновити опори електромережі зовнішньго освітлення вздовж пішохідної доріжки між будинками №№ 37, 41 і 43б по просп. героїв сталінграда. \n",
      "Can't detect lang:  \n",
      "Can't detect lang:  \n",
      "Can't detect lang:  \n",
      "Can't detect lang:  \n",
      "Can't detect lang:  \n",
      "Can't detect lang:  \n",
      "Can't detect lang:  \n",
      "Can't detect lang:  \n",
      "Can't detect lang:  \n",
      "Can't detect lang:  \n",
      "Can't detect lang: температура гарячей воды на протяжении месяца не соответствует стандарту температуры подачи горячей воды. проведите перерасчет! \n",
      "Can't detect lang:  \n",
      "Can't detect lang: на придомовой территории дома 34 по улице андреевский спуск недавно установлен гараж (фото в приложении) принадлежащий владельцам вновьпостроенного соседнего дома. просьбы прекратить строительство были проигнорированы. \n",
      "Can't detect lang:  \n",
      "Can't detect lang:  \n",
      "Can't detect lang:  \n",
      "Can't detect lang:  \n",
      "Can't detect lang:  \n",
      "Can't detect lang:  \n",
      "Can't detect lang:  \n",
      "Can't detect lang:  \n",
      "Can't detect lang:  \n",
      "Can't detect lang:  \n",
      "Can't detect lang:  \n",
      "Can't detect lang:  \n",
      "Can't detect lang:  \n",
      "Can't detect lang: daria.denysova@gmail.com \n",
      "Can't detect lang: 2) \n",
      "Can't detect lang:  \n",
      "Can't detect lang:  \n",
      "Can't detect lang:  \n",
      "Can't detect lang:  \n",
      "Can't detect lang: ” \n",
      "Can't detect lang:  \n",
      "Can't detect lang:  \n",
      "Can't detect lang:  \n",
      "Can't detect lang:  \n",
      "Can't detect lang:  \n",
      "Can't detect lang:  \n",
      "Can't detect lang:  \n",
      "Can't detect lang:  \n",
      "Can't detect lang:  \n",
      "Can't detect lang:  \n",
      "Can't detect lang:  \n",
      "Can't detect lang:  \n",
      "Can't detect lang:  \n",
      "Can't detect lang:  \n",
      "Can't detect lang:  \n",
      "Can't detect lang:  \n",
      "Can't detect lang:  \n",
      "Can't detect lang:  \n",
      "Can't detect lang:  \n",
      "Can't detect lang:  \n",
      "Can't detect lang:  \n",
      "Can't detect lang:  \n",
      "Can't detect lang:  \n",
      "Can't detect lang:  \n",
      "Can't detect lang:  \n",
      "Can't detect lang: 06.11.2013. \n",
      "Can't detect lang:  \n",
      "Can't detect lang:  \n",
      "Can't detect lang:  \n",
      "Can't detect lang:  \n",
      "Can't detect lang:  \n",
      "Can't detect lang:  \n",
      "Can't detect lang:  \n",
      "Can't detect lang:  \n",
      "Can't detect lang:  \n",
      "Can't detect lang:  \n",
      "Can't detect lang:  \n",
      "Can't detect lang:  \n",
      "Can't detect lang: № \n",
      "Can't detect lang:  \n",
      "Can't detect lang:  \n",
      "Can't detect lang:  \n",
      "Can't detect lang:  \n",
      "Can't detect lang:  \n",
      "Can't detect lang:  \n",
      "Can't detect lang:  \n",
      "Can't detect lang:  \n",
      "Can't detect lang:  \n",
      "Can't detect lang:  \n",
      "Can't detect lang:  \n",
      "Can't detect lang:  \n",
      "Can't detect lang:  \n",
      "Can't detect lang:  \n",
      "Can't detect lang:  \n",
      "Can't detect lang:  \n",
      "Can't detect lang:  \n",
      "Can't detect lang:  \n",
      "Can't detect lang:  \n",
      "Can't detect lang:  \n",
      "Can't detect lang:  \n",
      "Can't detect lang:  \n",
      "Can't detect lang:  \n",
      "Can't detect lang:  \n",
      "Can't detect lang:  \n",
      "Can't detect lang:  \n",
      "Can't detect lang:  \n",
      "Can't detect lang:  \n",
      "Can't detect lang:  \n",
      "Can't detect lang:  \n",
      "Can't detect lang:  \n",
      "Can't detect lang:  \n",
      "Can't detect lang:  \n",
      "Can't detect lang:  \n",
      "Can't detect lang:  \n",
      "Can't detect lang:  \n",
      "Can't detect lang:  \n",
      "Can't detect lang:  \n",
      "Can't detect lang:  \n",
      "Can't detect lang:  \n",
      "Can't detect lang:  \n",
      "Can't detect lang:  \n",
      "Can't detect lang:  \n",
      "Can't detect lang:  \n",
      "Can't detect lang:  \n",
      "Can't detect lang:  \n",
      "Can't detect lang:  \n",
      "Can't detect lang:  \n",
      "Can't detect lang:  \n",
      "Can't detect lang:  \n",
      "Can't detect lang:  \n",
      "Can't detect lang:  \n",
      "Can't detect lang:  \n",
      "Can't detect lang:  \n",
      "Can't detect lang:  \n",
      "Can't detect lang:  \n",
      "Can't detect lang:  \n",
      "Can't detect lang:  \n",
      "Can't detect lang:  \n",
      "Can't detect lang:  \n",
      "Can't detect lang:  \n",
      "Can't detect lang:  \n",
      "Can't detect lang:  \n",
      "Can't detect lang:  \n",
      "Can't detect lang:  \n",
      "Can't detect lang:  \n",
      "Can't detect lang:  \n",
      "Can't detect lang:  \n",
      "Can't detect lang:  \n",
      "Can't detect lang:  \n",
      "Can't detect lang:  \n",
      "Can't detect lang:  \n",
      "Can't detect lang:  \n",
      "Can't detect lang:  \n",
      "Can't detect lang:  \n",
      "Can't detect lang:  \n",
      "Can't detect lang:  \n",
      "Can't detect lang:  \n",
      "Can't detect lang:  \n",
      "Can't detect lang:  \n",
      "Can't detect lang:  \n",
      "Can't detect lang:  \n",
      "Can't detect lang:  \n",
      "Can't detect lang:  \n",
      "Can't detect lang:  \n",
      "Can't detect lang:  \n",
      "Can't detect lang:  \n",
      "Can't detect lang:  \n",
      "Can't detect lang:  \n",
      "Can't detect lang:  \n",
      "Can't detect lang:  \n",
      "Can't detect lang:  \n",
      "Can't detect lang:  \n",
      "Can't detect lang:  \n",
      "Can't detect lang:  \n",
      "Can't detect lang:  \n",
      "Can't detect lang:  \n",
      "Can't detect lang:  \n",
      "Can't detect lang:  \n",
      "Can't detect lang:  \n",
      "Can't detect lang:  \n",
      "Can't detect lang:  \n",
      "Can't detect lang:  \n",
      "Can't detect lang:  \n",
      "Can't detect lang:  \n",
      "Can't detect lang:  \n",
      "Can't detect lang:  \n",
      "Can't detect lang:  \n",
      "Can't detect lang:  \n",
      "Can't detect lang:  \n",
      "Can't detect lang:  \n",
      "Can't detect lang:  \n",
      "Can't detect lang:  \n",
      "Can't detect lang:  \n",
      "Can't detect lang:  \n",
      "Can't detect lang:  \n",
      "Can't detect lang:  \n",
      "Can't detect lang: http://moygrad.kiev.ua/2013/08/30/v-odnom-iz-zhekov-kieva-pridumali-unikalnuyu-shemu-vykachki-deneg-s-zhilcov/ \n",
      "Can't detect lang:  \n",
      "Can't detect lang:  \n",
      "Can't detect lang:  \n",
      "Can't detect lang:  \n",
      "Can't detect lang:  \n",
      "Can't detect lang:  \n",
      "Can't detect lang:  \n",
      "Can't detect lang:  \n",
      "Can't detect lang:  \n",
      "Can't detect lang:  \n",
      "Can't detect lang:  \n",
      "Can't detect lang:  \n",
      "Can't detect lang:  \n",
      "Can't detect lang:  \n",
      "Can't detect lang:  \n",
      "Can't detect lang:  \n",
      "Can't detect lang:  \n",
      "Can't detect lang:  \n",
      "Can't detect lang:  \n",
      "Can't detect lang:  \n",
      "Can't detect lang:  \n",
      "Can't detect lang:  \n",
      "Can't detect lang:  \n",
      "Can't detect lang:  \n",
      "Can't detect lang:  \n",
      "Can't detect lang:  \n",
      "Can't detect lang:  \n",
      "Can't detect lang:  \n",
      "Can't detect lang:  \n",
      "Can't detect lang:  \n",
      "Can't detect lang:  \n",
      "Can't detect lang:  \n",
      "Can't detect lang:  \n",
      "Can't detect lang:  \n",
      "Can't detect lang:  \n",
      "Can't detect lang:  \n",
      "Can't detect lang:  \n",
      "Can't detect lang:  \n",
      "Can't detect lang:  \n",
      "Can't detect lang:  \n",
      "Can't detect lang:            \n",
      "Can't detect lang:   \n",
      "Can't detect lang:  \n",
      "Can't detect lang:  \n",
      "Can't detect lang:  \n",
      "Can't detect lang:  \n",
      "Can't detect lang:  \n",
      "Can't detect lang:  \n",
      "Can't detect lang:  \n",
      "Can't detect lang:  \n",
      "Can't detect lang:  \n",
      "Can't detect lang:  \n",
      "Can't detect lang:  \n",
      "Can't detect lang:  \n",
      "Can't detect lang:  \n",
      "Can't detect lang:  \n",
      "Can't detect lang:  \n",
      "Can't detect lang:  \n",
      "Can't detect lang:  \n",
      "Can't detect lang:  \n",
      "Can't detect lang: 2/09/2015 \n",
      "Can't detect lang:  \n",
      "Can't detect lang:  \n",
      "Can't detect lang:  \n",
      "Can't detect lang:  \n",
      "Can't detect lang: 2/09/2015 \n",
      "Can't detect lang:  \n",
      "Can't detect lang:  \n",
      "Can't detect lang:  \n",
      "Can't detect lang:  \n",
      "Can't detect lang:  \n",
      "Can't detect lang:  \n",
      "Can't detect lang:  \n",
      "Can't detect lang:  \n",
      "Can't detect lang:  \n",
      "Can't detect lang:  \n",
      "Can't detect lang:  \n",
      "Can't detect lang:  \n",
      "Can't detect lang:  \n",
      "Can't detect lang:  \n",
      "Can't detect lang:  \n",
      "Can't detect lang:  \n",
      "Can't detect lang:  \n",
      "Can't detect lang:  \n",
      "Can't detect lang:  \n",
      "Can't detect lang:  \n",
      "Can't detect lang:  \n",
      "Can't detect lang:  \n",
      "Can't detect lang: http://www.amc.gov.ua/amku/control/main/uk/publish/printable_article/105070;jsessionid=a70b2dc92edba76b962f1cca3aa7b50d.app2 \n",
      "Can't detect lang:  \n",
      "Can't detect lang:  \n",
      "Can't detect lang:  \n",
      "Can't detect lang:  \n",
      "Can't detect lang:  \n",
      "Can't detect lang:  \n",
      "Can't detect lang:  \n",
      "Can't detect lang: 20.05.2015 \n",
      "Can't detect lang: 18.05.2015 \n",
      "Can't detect lang:  \n",
      "Can't detect lang:  \n",
      "Can't detect lang:  \n"
     ]
    },
    {
     "name": "stdout",
     "output_type": "stream",
     "text": [
      "Can't detect lang: 3) \n",
      "Can't detect lang:  \n",
      "Can't detect lang:  \n",
      "Can't detect lang:  \n",
      "Can't detect lang:  \n",
      "Can't detect lang:  \n",
      "Can't detect lang:  \n",
      "Can't detect lang:  \n",
      "Can't detect lang:  \n",
      "Can't detect lang:  \n",
      "Can't detect lang:  \n",
      "Can't detect lang:  \n",
      "Can't detect lang:  \n",
      "Can't detect lang:  \n",
      "Can't detect lang:  \n",
      "Can't detect lang:  \n",
      "Can't detect lang:  \n",
      "Can't detect lang:  \n",
      "Can't detect lang:  \n",
      "Can't detect lang:  \n",
      "Can't detect lang:  \n",
      "Can't detect lang:  \n",
      "Can't detect lang: 18.10 \n",
      "Can't detect lang:  \n",
      "Can't detect lang:  \n",
      "Can't detect lang:  \n",
      "Can't detect lang:  \n",
      "Can't detect lang:  \n",
      "Can't detect lang:  \n",
      "Can't detect lang:  \n",
      "Can't detect lang:  \n",
      "Can't detect lang:  \n",
      "Can't detect lang:  \n",
      "Can't detect lang:  \n",
      "Can't detect lang:  \n",
      "Can't detect lang:  \n",
      "Can't detect lang:  \n",
      "Can't detect lang: 1) \n",
      "Can't detect lang:  \n",
      "Can't detect lang:  \n",
      "Can't detect lang:  \n",
      "Can't detect lang:  \n",
      "Can't detect lang:  \n",
      "Can't detect lang:  \n",
      "Can't detect lang:  \n",
      "Can't detect lang: 27.11.2014, 00:23  \n",
      "Can't detect lang:  \n",
      "Can't detect lang:  \n",
      "Can't detect lang:  \n",
      "Can't detect lang:  \n",
      "Can't detect lang: http://news.bigmir.net/capital/832924-tri-raiona-kieva-ostanytsya-bez-goryachei-vodi-do-oseni \n",
      "Can't detect lang:  \n",
      "Can't detect lang:  \n",
      "Can't detect lang:  \n",
      "Can't detect lang:  \n",
      "Can't detect lang:  \n",
      "Can't detect lang:  \n",
      "Can't detect lang:  \n",
      "Can't detect lang: http://economics.lb.ua/business/2014/09/22/280200_obolon_troeshchina_ostanutsya_bez.html    \n",
      "Can't detect lang:  \n",
      "Can't detect lang:  \n",
      "Can't detect lang:  \n",
      "Can't detect lang:  \n",
      "Can't detect lang:  \n",
      "Can't detect lang:  \n",
      "Can't detect lang:  \n",
      "Can't detect lang:  \n",
      "Can't detect lang:  \n",
      "Can't detect lang:  \n",
      "Can't detect lang:  \n",
      "Can't detect lang:  \n",
      "Can't detect lang:  \n",
      "Can't detect lang:  \n",
      "Can't detect lang:  \n",
      "Can't detect lang:  \n",
      "Can't detect lang:  \n",
      "Can't detect lang:  \n",
      "Can't detect lang:  \n",
      "Can't detect lang:  \n",
      "Can't detect lang:  \n",
      "Can't detect lang:  \n",
      "Can't detect lang:  \n",
      "Can't detect lang:  \n",
      "Can't detect lang:  \n",
      "Can't detect lang:  \n",
      "Can't detect lang:  \n",
      "Can't detect lang:  \n",
      "Can't detect lang:  \n",
      "Can't detect lang:  \n",
      "Can't detect lang:  \n",
      "Can't detect lang:  \n",
      "Can't detect lang:  \n",
      "Can't detect lang:  \n",
      "Can't detect lang:  \n",
      "Can't detect lang:  \n",
      "Can't detect lang:  \n",
      "Can't detect lang:  \n",
      "Can't detect lang:  \n",
      "Can't detect lang:  \n",
      "Can't detect lang:  \n",
      "Can't detect lang:  \n",
      "Can't detect lang:  \n",
      "Can't detect lang:  \n",
      "Can't detect lang:  \n",
      "Can't detect lang:  \n",
      "Can't detect lang:  \n",
      "Can't detect lang:  \n",
      "Can't detect lang:  \n",
      "Can't detect lang:  \n",
      "Can't detect lang:  \n",
      "Can't detect lang:  \n",
      "Can't detect lang:  \n",
      "Can't detect lang:  \n",
      "Can't detect lang:  \n",
      "Can't detect lang:  \n",
      "Can't detect lang:  \n",
      "Can't detect lang:  \n",
      "Can't detect lang:  \n",
      "Can't detect lang:  \n",
      "Can't detect lang:  \n",
      "Can't detect lang:  \n",
      "Can't detect lang:  \n",
      "Can't detect lang:  \n",
      "\n"
     ]
    }
   ],
   "source": [
    "def valid_doc(doc):\n",
    "    contains_text = \"text\" in doc\n",
    "    if contains_text:\n",
    "        try:\n",
    "            is_uk = detect(doc['text']) == 'uk'\n",
    "            return is_uk\n",
    "        except:\n",
    "            print(f\"Can't detect lang for text: {doc['text']}\")\n",
    "            return False\n",
    "    \n",
    "    return contains_text\n",
    "\n",
    "#Filter not relevant documents\n",
    "documents = [doc for doc in tqdm.tqdm_notebook(documents) if valid_doc(doc)]"
   ]
  },
  {
   "cell_type": "code",
   "execution_count": 72,
   "metadata": {},
   "outputs": [],
   "source": [
    "class Vectorizer:\n",
    "    def __init__(self, w2v, stopwords):\n",
    "        self.w2v = w2v\n",
    "        self.stopwords = stopwords\n",
    "    \n",
    "    def vectorize_text(self, text):\n",
    "        result = np.zeros((300))\n",
    "        vectors = []\n",
    "        for word in text.split(\" \"):\n",
    "            if word in self.w2v and word not in self.stopwords and len(word) > 0:\n",
    "                vector = self.w2v.get_vector(word)\n",
    "                result += vector\n",
    "                vectors.append(vector)\n",
    "        return result, vectors\n"
   ]
  },
  {
   "cell_type": "code",
   "execution_count": null,
   "metadata": {},
   "outputs": [],
   "source": []
  },
  {
   "cell_type": "code",
   "execution_count": 73,
   "metadata": {},
   "outputs": [
    {
     "data": {
      "application/vnd.jupyter.widget-view+json": {
       "model_id": "21911bdad33f43ec81ec7a97cb68400a",
       "version_major": 2,
       "version_minor": 0
      },
      "text/plain": [
       "HBox(children=(IntProgress(value=0, max=61858), HTML(value='')))"
      ]
     },
     "metadata": {},
     "output_type": "display_data"
    }
   ],
   "source": [
    "label_encoder = LabelEncoder().fit(list(categories))\n",
    "vectorizer = Vectorizer(model, [])\n",
    "for doc in tqdm.tqdm_notebook(documents):\n",
    "    aggregated_vector, vectors = vectorizer.vectorize_text(doc['text'])\n",
    "    doc['vector'] = aggregated_vector\n",
    "    doc['word_vector'] = vectors\n",
    "    doc['y'] = label_encoder.transform([doc['category']])[0]\n",
    "    "
   ]
  },
  {
   "cell_type": "code",
   "execution_count": 74,
   "metadata": {},
   "outputs": [],
   "source": [
    "X = documents\n",
    "labels = [doc['y'] for doc in documents]\n",
    "train, test, y_train, y_test = train_test_split(X, labels, stratify=labels, test_size=0.3)"
   ]
  },
  {
   "cell_type": "code",
   "execution_count": 75,
   "metadata": {},
   "outputs": [],
   "source": [
    "x_train = [x['vector'] for x in train]\n",
    "x_test = [x['vector'] for x in test]"
   ]
  },
  {
   "cell_type": "code",
   "execution_count": null,
   "metadata": {},
   "outputs": [],
   "source": []
  },
  {
   "cell_type": "markdown",
   "metadata": {},
   "source": [
    "## Task 1\n",
    "\n",
    "Можете використайте фільтрацію мови, щоб відібрати тільки україномовні запити.\n",
    "\n",
    "\n",
    "1. У якості безйлайну використайте класифікатор kNN, який буде шукати найближчі за косинусною відстанню вектори запитів, утворені сумуванням векторів всіх слів запиту."
   ]
  },
  {
   "cell_type": "code",
   "execution_count": null,
   "metadata": {
    "scrolled": true
   },
   "outputs": [],
   "source": []
  },
  {
   "cell_type": "code",
   "execution_count": 77,
   "metadata": {},
   "outputs": [
    {
     "data": {
      "text/plain": [
       "NearestNeighbors(algorithm='auto', leaf_size=30, metric='cosine',\n",
       "                 metric_params=None, n_jobs=-1, n_neighbors=1, p=2, radius=1.0)"
      ]
     },
     "execution_count": 77,
     "metadata": {},
     "output_type": "execute_result"
    }
   ],
   "source": [
    "neigh = NearestNeighbors(1, n_jobs=-1, metric='cosine')\n",
    "neigh.fit(x_train, y_train)"
   ]
  },
  {
   "cell_type": "code",
   "execution_count": 78,
   "metadata": {},
   "outputs": [],
   "source": [
    "predicted = neigh.kneighbors(x_test, 1, return_distance=False)"
   ]
  },
  {
   "cell_type": "code",
   "execution_count": 79,
   "metadata": {},
   "outputs": [],
   "source": [
    "y_predicted = np.array(y_train)[predicted].reshape(-1)"
   ]
  },
  {
   "cell_type": "code",
   "execution_count": 97,
   "metadata": {},
   "outputs": [
    {
     "name": "stdout",
     "output_type": "stream",
     "text": [
      "F1 weighted: 0.379 | F1 macro: 0.292\n"
     ]
    }
   ],
   "source": [
    "f1_w, f1_m = f1_score(y_test, y_predicted, average='weighted'), f1_score(y_test, y_predicted, average='macro')\n",
    "print(f\"F1 weighted: {f1_w:.3} | F1 macro: {f1_m:.3}\")"
   ]
  },
  {
   "cell_type": "code",
   "execution_count": null,
   "metadata": {},
   "outputs": [],
   "source": []
  },
  {
   "cell_type": "markdown",
   "metadata": {},
   "source": [
    "## Task 2\n",
    "\n",
    "2. Розробіть покращений класифікатор, для якого використайте іншу модель класифікації, яка би присвоювала ваги окремим елементам вектора (наприклад, Logistic Regression, SVM, Random Forest). Також можете зробити додаткові покращення, такі як:\n",
    "\n",
    "  - здійснювати попередню фільтрацію і відбирати тільки частину векторів для представлення\n",
    "\n",
    "  - використовувати лематизацію та інші форми нормалізації\n",
    "\n",
    "  - робити зваження векторів\n",
    "\n",
    "  - додатково використовувати інші способи побудувати вектор документу (наприклад, TF-IDF, LDA, ...)"
   ]
  },
  {
   "cell_type": "code",
   "execution_count": null,
   "metadata": {},
   "outputs": [],
   "source": []
  },
  {
   "cell_type": "code",
   "execution_count": 102,
   "metadata": {},
   "outputs": [],
   "source": [
    "from sklearn.linear_model import SGDClassifier"
   ]
  },
  {
   "cell_type": "code",
   "execution_count": 147,
   "metadata": {},
   "outputs": [
    {
     "name": "stdout",
     "output_type": "stream",
     "text": [
      "CPU times: user 19min 6s, sys: 2.66 s, total: 19min 8s\n",
      "Wall time: 5min 3s\n"
     ]
    },
    {
     "name": "stderr",
     "output_type": "stream",
     "text": [
      "/Users/sasha/programming/edu/ucu/nlp/.env/lib/python3.7/site-packages/sklearn/linear_model/stochastic_gradient.py:561: ConvergenceWarning: Maximum number of iteration reached before convergence. Consider increasing max_iter to improve the fit.\n",
      "  ConvergenceWarning)\n"
     ]
    }
   ],
   "source": [
    "%%time\n",
    "linear = SGDClassifier(loss='log', alpha=0.000001, penalty='l1',\n",
    "                       max_iter=50, random_state=42, n_jobs=-1,\n",
    "                       verbose=0).fit(x_train, y_train)"
   ]
  },
  {
   "cell_type": "code",
   "execution_count": 148,
   "metadata": {
    "scrolled": true
   },
   "outputs": [
    {
     "name": "stdout",
     "output_type": "stream",
     "text": [
      "Test Score | F1 weighted: 0.425 | F1 macro: 0.349\n"
     ]
    }
   ],
   "source": [
    "logreg_predict = linear.predict(x_test)\n",
    "f1_w, f1_m = f1_score(y_test, logreg_predict, average='weighted'), f1_score(y_test, logreg_predict, average='macro')\n",
    "print(f\"Test Score | F1 weighted: {f1_w:.3} | F1 macro: {f1_m:.3}\")"
   ]
  },
  {
   "cell_type": "code",
   "execution_count": null,
   "metadata": {},
   "outputs": [],
   "source": []
  },
  {
   "cell_type": "markdown",
   "metadata": {},
   "source": [
    "### Removing stopwords from text"
   ]
  },
  {
   "cell_type": "code",
   "execution_count": 168,
   "metadata": {},
   "outputs": [],
   "source": [
    "with open(\"uk-stopwords.txt\") as f:\n",
    "    stopwords = f.read().split(\"\\n\")"
   ]
  },
  {
   "cell_type": "code",
   "execution_count": 169,
   "metadata": {},
   "outputs": [
    {
     "data": {
      "application/vnd.jupyter.widget-view+json": {
       "model_id": "8d2fbb10dd4344cda0fada2901645f70",
       "version_major": 2,
       "version_minor": 0
      },
      "text/plain": [
       "HBox(children=(IntProgress(value=0, max=61858), HTML(value='')))"
      ]
     },
     "metadata": {},
     "output_type": "display_data"
    }
   ],
   "source": [
    "label_encoder = LabelEncoder().fit(list(categories))\n",
    "vectorizer = Vectorizer(model, stopwords)\n",
    "for doc in tqdm.tqdm_notebook(documents):\n",
    "    aggregated_vector, vectors = vectorizer.vectorize_text(doc['text'])\n",
    "    doc['vector'] = aggregated_vector\n",
    "    doc['word_vector'] = vectors\n",
    "    doc['y'] = label_encoder.transform([doc['category']])[0]\n",
    "    "
   ]
  },
  {
   "cell_type": "code",
   "execution_count": 170,
   "metadata": {},
   "outputs": [],
   "source": [
    "X = documents\n",
    "labels = [doc['y'] for doc in documents]\n",
    "train, test, y_train, y_test = train_test_split(X, labels, stratify=labels, test_size=0.3)"
   ]
  },
  {
   "cell_type": "code",
   "execution_count": 171,
   "metadata": {},
   "outputs": [],
   "source": [
    "x_train = [x['vector'] for x in train]\n",
    "x_test = [x['vector'] for x in test]"
   ]
  },
  {
   "cell_type": "markdown",
   "metadata": {},
   "source": [
    "### Running classifier again"
   ]
  },
  {
   "cell_type": "code",
   "execution_count": 172,
   "metadata": {},
   "outputs": [
    {
     "name": "stdout",
     "output_type": "stream",
     "text": [
      "CPU times: user 4min 26s, sys: 672 ms, total: 4min 27s\n",
      "Wall time: 1min 10s\n"
     ]
    },
    {
     "name": "stderr",
     "output_type": "stream",
     "text": [
      "/Users/sasha/programming/edu/ucu/nlp/.env/lib/python3.7/site-packages/sklearn/linear_model/stochastic_gradient.py:561: ConvergenceWarning: Maximum number of iteration reached before convergence. Consider increasing max_iter to improve the fit.\n",
      "  ConvergenceWarning)\n"
     ]
    }
   ],
   "source": [
    "%%time\n",
    "linear = SGDClassifier(loss='log', alpha=0.000001, penalty='l1',\n",
    "                       max_iter=10, random_state=42, n_jobs=-1,\n",
    "                       verbose=0).fit(x_train, y_train)"
   ]
  },
  {
   "cell_type": "code",
   "execution_count": 173,
   "metadata": {},
   "outputs": [
    {
     "name": "stdout",
     "output_type": "stream",
     "text": [
      "Test Score | F1 weighted: 0.422 | F1 macro: 0.347\n"
     ]
    }
   ],
   "source": [
    "logreg_predict = linear.predict(x_test)\n",
    "f1_w, f1_m = f1_score(y_test, logreg_predict, average='weighted'), f1_score(y_test, logreg_predict, average='macro')\n",
    "print(f\"Test Score | F1 weighted: {f1_w:.3} | F1 macro: {f1_m:.3}\")"
   ]
  },
  {
   "cell_type": "markdown",
   "metadata": {},
   "source": [
    "## Task 3\n",
    "\n",
    "3. Розробіть класифікатор на основі нейромережі: або feed-forward з використанням агрегованого вектору, або LSTM (чи BiLSTM), що проходить по всьому тексту. "
   ]
  },
  {
   "cell_type": "code",
   "execution_count": 174,
   "metadata": {},
   "outputs": [],
   "source": [
    "import torch\n",
    "import torch.nn as nn\n",
    "from torch.utils import data\n",
    "from torch.functional import F\n",
    "import matplotlib.pyplot as plt\n",
    "from torch.nn.utils.rnn import pad_sequence, pack_sequence"
   ]
  },
  {
   "cell_type": "code",
   "execution_count": null,
   "metadata": {},
   "outputs": [],
   "source": []
  },
  {
   "cell_type": "code",
   "execution_count": 184,
   "metadata": {},
   "outputs": [],
   "source": [
    "# Pad batch to the same seq len\n",
    "def padding_collate(batch):\n",
    "    data = [item[0] for item in batch]\n",
    "    data = pad_sequence(data, batch_first=True)\n",
    "    targets = torch.cat([item[1] for item in batch])\n",
    "    return [data, targets]\n",
    "\n",
    "class DataLoader(data.Dataset):\n",
    "    def __init__(self, data, max_len=50):\n",
    "        self.data = [doc for doc in data if len(doc['word_vector']) > 1]\n",
    "        self.max_len=max_len\n",
    "    \n",
    "    def __len__(self):\n",
    "        return len(self.data)\n",
    "\n",
    "    def __getitem__(self, idx):\n",
    "        doc = self.data[idx]\n",
    "        vector = np.array(doc['word_vector'])[:self.max_len]\n",
    "        label = doc['y']\n",
    "        return torch.from_numpy(vector).float(), torch.from_numpy(np.array([label])).long()"
   ]
  },
  {
   "cell_type": "code",
   "execution_count": 244,
   "metadata": {},
   "outputs": [],
   "source": [
    "class Trainer:\n",
    "    def __init__(self, net, config, lr=0.001, l2_rate=0):\n",
    "        net.train()\n",
    "        net.to(config['DEVICE'])\n",
    "        self.device = config['DEVICE']\n",
    "        self.net = net\n",
    "        self.config = config\n",
    "        self.optimizer = torch.optim.Adam(net.parameters(), lr=lr, weight_decay=l2_rate)\n",
    "        self.loss = nn.CrossEntropyLoss()\n",
    "        self.losses = []\n",
    "\n",
    "    def run(self, dataloader, epochs=1):\n",
    "        print(\">> Running trainer\")\n",
    "        for epoch in range(epochs):\n",
    "            print(\">>> Epoch %s\" % epoch)\n",
    "            for idx, (vectors, target) in enumerate(tqdm.tqdm_notebook(dataloader, ascii=True)):\n",
    "                vectors, target = vectors.to(self.device), target.to(self.device)\n",
    "                self.optimizer.zero_grad()\n",
    "                predict = self.net(vectors)\n",
    "                loss = self.loss(predict, target)\n",
    "                loss.backward()\n",
    "                self.losses.append(loss.item())\n",
    "                self.optimizer.step()\n",
    "                if idx % 50 == 0:\n",
    "                    print(\">>> Loss: {}\".format(np.mean(self.losses[-10:])))\n",
    "\n",
    "                if self.config['DEBUG'] == True:\n",
    "                    break\n",
    "            print(\"Trainer epoch finished\")\n"
   ]
  },
  {
   "cell_type": "code",
   "execution_count": 245,
   "metadata": {},
   "outputs": [],
   "source": [
    "class Evaluation:\n",
    "    def __init__(self, net, config):\n",
    "        net.eval()\n",
    "        net.to(config['DEVICE'])\n",
    "        self.device = config['DEVICE']\n",
    "        self.net = net\n",
    "        self.config = config\n",
    "        self.loss = nn.CrossEntropyLoss()\n",
    "\n",
    "    def run(self, dataloader):\n",
    "        print(\">> Running Evaluation\")\n",
    "        predicted = []\n",
    "        labels = []\n",
    "        with torch.no_grad():\n",
    "            for idx, (image, target) in enumerate(tqdm.tqdm_notebook(dataloader, ascii=True)):\n",
    "                image, target = image.to(self.device), target.to(self.device)\n",
    "                predict = self.net(image)\n",
    "                pred = F.softmax(predict, 1).argmax(dim=1, keepdim=True)\n",
    "                predicted.extend(list(pred.numpy()))\n",
    "                labels.extend(list(target.view_as(pred).numpy()))\n",
    "                if self.config['DEBUG'] == True:\n",
    "                    break\n",
    "\n",
    "        print(\"Evaluation finished\")\n",
    "        return {\n",
    "            'f1_weighted': f1_score(labels, predicted, average='weighted'),\n",
    "            'f1_macro': f1_score(labels, predicted, average='macro')\n",
    "\n",
    "        }"
   ]
  },
  {
   "cell_type": "code",
   "execution_count": 283,
   "metadata": {},
   "outputs": [],
   "source": [
    "class Network(nn.Module):\n",
    "    def __init__(self, categories_count):\n",
    "        super(Network,self).__init__()\n",
    "        hidden_size = 50\n",
    "        self.lstm = nn.LSTM(input_size=300, hidden_size=hidden_size, batch_first=True,\n",
    "                            num_layers=1, bidirectional=False)\n",
    "        self.linear = nn.Linear(hidden_size * 3, categories_count)\n",
    "    \n",
    "    def forward(self, input):\n",
    "        out, (h0, c0) = self.lstm(input)\n",
    "        out = out[:, -1:, :].transpose(0, 1)\n",
    "        out = torch.cat((out, h0, c0), 2)[0]\n",
    "        out = self.linear(F.relu(out))\n",
    "        return out"
   ]
  },
  {
   "cell_type": "code",
   "execution_count": 284,
   "metadata": {},
   "outputs": [],
   "source": [
    "config = {\n",
    "    'DEBUG': False,\n",
    "    'CUDA': torch.cuda.is_available(),\n",
    "    'DEVICE': torch.device(\"cuda\" if torch.cuda.is_available() else \"cpu\")\n",
    "}"
   ]
  },
  {
   "cell_type": "code",
   "execution_count": null,
   "metadata": {},
   "outputs": [],
   "source": []
  },
  {
   "cell_type": "code",
   "execution_count": 285,
   "metadata": {
    "scrolled": true
   },
   "outputs": [
    {
     "data": {
      "image/png": "[encoded data removed]",
      "text/plain": [
       "<Figure size 432x288 with 1 Axes>"
      ]
     },
     "metadata": {
      "needs_background": "light"
     },
     "output_type": "display_data"
    }
   ],
   "source": [
    "vectors_lens = np.array([len(doc['word_vector']) for doc in documents])\n",
    "#Value that can be used as upper limit for LSTM seq len\n",
    "seq_len = int(np.quantile(vectors_lens, .90))\n",
    "# Number of vector counts per document (distribution) \n",
    "_ = plt.hist(vectors_lens)"
   ]
  },
  {
   "cell_type": "code",
   "execution_count": null,
   "metadata": {},
   "outputs": [],
   "source": []
  },
  {
   "cell_type": "code",
   "execution_count": 286,
   "metadata": {},
   "outputs": [],
   "source": [
    "net = Network(len(categories))"
   ]
  },
  {
   "cell_type": "code",
   "execution_count": 287,
   "metadata": {},
   "outputs": [],
   "source": [
    "train_data = DataLoader(train, max_len=seq_len)\n",
    "test_data = DataLoader(test, max_len=seq_len)\n",
    "train_loader = torch.utils.data.DataLoader(train_data, batch_size=64, num_workers=2, shuffle=False, collate_fn=padding_collate)\n",
    "test_loader = torch.utils.data.DataLoader(test_data, batch_size=64, num_workers=2, shuffle=False, collate_fn=padding_collate)"
   ]
  },
  {
   "cell_type": "code",
   "execution_count": null,
   "metadata": {},
   "outputs": [],
   "source": []
  },
  {
   "cell_type": "code",
   "execution_count": 288,
   "metadata": {},
   "outputs": [],
   "source": [
    "trainer = Trainer(net, config, lr=0.01, l2_rate=1e-5)\n",
    "evaluation = Evaluation(net, config)"
   ]
  },
  {
   "cell_type": "code",
   "execution_count": 289,
   "metadata": {
    "scrolled": true
   },
   "outputs": [
    {
     "name": "stdout",
     "output_type": "stream",
     "text": [
      ">> Running trainer\n",
      ">>> Epoch 0\n"
     ]
    },
    {
     "data": {
      "application/vnd.jupyter.widget-view+json": {
       "model_id": "b1ba2010cbfd47c78b69ea15fcb8eb0a",
       "version_major": 2,
       "version_minor": 0
      },
      "text/plain": [
       "HBox(children=(IntProgress(value=0, max=647), HTML(value='')))"
      ]
     },
     "metadata": {},
     "output_type": "display_data"
    },
    {
     "name": "stdout",
     "output_type": "stream",
     "text": [
      ">>> Loss: 5.260350704193115\n",
      ">>> Loss: 4.504076099395752\n",
      ">>> Loss: 4.4239565372467045\n",
      ">>> Loss: 4.38068037033081\n",
      ">>> Loss: 4.391381120681762\n",
      ">>> Loss: 4.402788925170898\n",
      ">>> Loss: 4.3580022096633915\n",
      ">>> Loss: 4.372161436080932\n",
      ">>> Loss: 4.329658365249633\n",
      ">>> Loss: 4.2604481220245365\n",
      ">>> Loss: 4.431125545501709\n",
      ">>> Loss: 4.480238056182861\n",
      ">>> Loss: 4.403949642181397\n",
      "Trainer epoch finished\n",
      ">> Running Evaluation\n"
     ]
    },
    {
     "data": {
      "application/vnd.jupyter.widget-view+json": {
       "model_id": "237b04791fbd44e396c4b227a02f0119",
       "version_major": 2,
       "version_minor": 0
      },
      "text/plain": [
       "HBox(children=(IntProgress(value=0, max=647), HTML(value='')))"
      ]
     },
     "metadata": {},
     "output_type": "display_data"
    },
    {
     "name": "stdout",
     "output_type": "stream",
     "text": [
      "Evaluation finished\n",
      "Train res:{'f1_weighted': 0.03493522221036533, 'f1_macro': 0.003809909231563581}\n",
      ">> Running Evaluation\n"
     ]
    },
    {
     "data": {
      "application/vnd.jupyter.widget-view+json": {
       "model_id": "b1bc6eafcadc4170a6174d597b5d9eb0",
       "version_major": 2,
       "version_minor": 0
      },
      "text/plain": [
       "HBox(children=(IntProgress(value=0, max=278), HTML(value='')))"
      ]
     },
     "metadata": {},
     "output_type": "display_data"
    },
    {
     "name": "stdout",
     "output_type": "stream",
     "text": [
      "Evaluation finished\n",
      "Test res:{'f1_weighted': 0.03482106335723787, 'f1_macro': 0.0037509321926584454}\n",
      ">> Running trainer\n",
      ">>> Epoch 0\n"
     ]
    },
    {
     "data": {
      "application/vnd.jupyter.widget-view+json": {
       "model_id": "1a4763e1a8654adcb860851ec912d28a",
       "version_major": 2,
       "version_minor": 0
      },
      "text/plain": [
       "HBox(children=(IntProgress(value=0, max=647), HTML(value='')))"
      ]
     },
     "metadata": {},
     "output_type": "display_data"
    },
    {
     "name": "stdout",
     "output_type": "stream",
     "text": [
      ">>> Loss: 4.27941861152649\n",
      ">>> Loss: 3.9818229198455812\n",
      ">>> Loss: 3.8554938316345213\n",
      ">>> Loss: 3.689124584197998\n",
      ">>> Loss: 3.692984437942505\n",
      ">>> Loss: 3.575806450843811\n",
      ">>> Loss: 3.4685685873031615\n",
      ">>> Loss: 3.38601815700531\n",
      ">>> Loss: 3.3947025537490845\n",
      ">>> Loss: 3.1277458906173705\n",
      ">>> Loss: 3.02708580493927\n",
      ">>> Loss: 3.0171870231628417\n",
      ">>> Loss: 2.953862500190735\n",
      "Trainer epoch finished\n",
      ">> Running Evaluation\n"
     ]
    },
    {
     "data": {
      "application/vnd.jupyter.widget-view+json": {
       "model_id": "1692e3a799ca4cf59384ff487781893f",
       "version_major": 2,
       "version_minor": 0
      },
      "text/plain": [
       "HBox(children=(IntProgress(value=0, max=647), HTML(value='')))"
      ]
     },
     "metadata": {},
     "output_type": "display_data"
    },
    {
     "name": "stdout",
     "output_type": "stream",
     "text": [
      "Evaluation finished\n",
      "Train res:{'f1_weighted': 0.24466104426193322, 'f1_macro': 0.050704275288567066}\n",
      ">> Running Evaluation\n"
     ]
    },
    {
     "data": {
      "application/vnd.jupyter.widget-view+json": {
       "model_id": "e1a6a1562d1c416a975d31113898409c",
       "version_major": 2,
       "version_minor": 0
      },
      "text/plain": [
       "HBox(children=(IntProgress(value=0, max=278), HTML(value='')))"
      ]
     },
     "metadata": {},
     "output_type": "display_data"
    },
    {
     "name": "stdout",
     "output_type": "stream",
     "text": [
      "Evaluation finished\n",
      "Test res:{'f1_weighted': 0.24244645133033838, 'f1_macro': 0.04863882345330198}\n",
      ">> Running trainer\n",
      ">>> Epoch 0\n"
     ]
    },
    {
     "data": {
      "application/vnd.jupyter.widget-view+json": {
       "model_id": "3c709934cdb74f28838d77c5e439c71e",
       "version_major": 2,
       "version_minor": 0
      },
      "text/plain": [
       "HBox(children=(IntProgress(value=0, max=647), HTML(value='')))"
      ]
     },
     "metadata": {},
     "output_type": "display_data"
    },
    {
     "name": "stdout",
     "output_type": "stream",
     "text": [
      ">>> Loss: 2.6964094161987306\n",
      ">>> Loss: 2.705726456642151\n",
      ">>> Loss: 2.6604482650756838\n",
      ">>> Loss: 2.5717430830001833\n",
      ">>> Loss: 2.6618427276611327\n",
      ">>> Loss: 2.542675280570984\n",
      ">>> Loss: 2.481380295753479\n",
      ">>> Loss: 2.438708758354187\n",
      ">>> Loss: 2.5428693294525146\n",
      ">>> Loss: 2.3473293781280518\n",
      ">>> Loss: 2.3974022388458254\n",
      ">>> Loss: 2.3863854885101317\n",
      ">>> Loss: 2.398568105697632\n",
      "Trainer epoch finished\n",
      ">> Running Evaluation\n"
     ]
    },
    {
     "data": {
      "application/vnd.jupyter.widget-view+json": {
       "model_id": "211a0853b2204918a5e7b9e774242e8d",
       "version_major": 2,
       "version_minor": 0
      },
      "text/plain": [
       "HBox(children=(IntProgress(value=0, max=647), HTML(value='')))"
      ]
     },
     "metadata": {},
     "output_type": "display_data"
    },
    {
     "name": "stdout",
     "output_type": "stream",
     "text": [
      "Evaluation finished\n",
      "Train res:{'f1_weighted': 0.3491446796729237, 'f1_macro': 0.12515082334284539}\n",
      ">> Running Evaluation\n"
     ]
    },
    {
     "data": {
      "application/vnd.jupyter.widget-view+json": {
       "model_id": "97c2dd00b66442bab5b7a67c8cabc8a2",
       "version_major": 2,
       "version_minor": 0
      },
      "text/plain": [
       "HBox(children=(IntProgress(value=0, max=278), HTML(value='')))"
      ]
     },
     "metadata": {},
     "output_type": "display_data"
    },
    {
     "name": "stdout",
     "output_type": "stream",
     "text": [
      "Evaluation finished\n",
      "Test res:{'f1_weighted': 0.3356487786383236, 'f1_macro': 0.11674976237460212}\n",
      ">> Running trainer\n",
      ">>> Epoch 0\n"
     ]
    },
    {
     "data": {
      "application/vnd.jupyter.widget-view+json": {
       "model_id": "e514e170c98344888d4256557fe3dc98",
       "version_major": 2,
       "version_minor": 0
      },
      "text/plain": [
       "HBox(children=(IntProgress(value=0, max=647), HTML(value='')))"
      ]
     },
     "metadata": {},
     "output_type": "display_data"
    },
    {
     "name": "stdout",
     "output_type": "stream",
     "text": [
      ">>> Loss: 2.1567931056022642\n",
      ">>> Loss: 2.194332849979401\n",
      ">>> Loss: 2.214207148551941\n",
      ">>> Loss: 2.252085828781128\n",
      ">>> Loss: 2.3715344071388245\n",
      ">>> Loss: 2.170834982395172\n",
      ">>> Loss: 2.1421743035316467\n",
      ">>> Loss: 2.151401364803314\n",
      ">>> Loss: 2.236175203323364\n",
      ">>> Loss: 2.0609777569770813\n",
      ">>> Loss: 2.131549608707428\n",
      ">>> Loss: 2.1230246663093566\n",
      ">>> Loss: 2.1223384737968445\n",
      "Trainer epoch finished\n",
      ">> Running Evaluation\n"
     ]
    },
    {
     "data": {
      "application/vnd.jupyter.widget-view+json": {
       "model_id": "6c94ba5d2c9b4c3d80655503948ac578",
       "version_major": 2,
       "version_minor": 0
      },
      "text/plain": [
       "HBox(children=(IntProgress(value=0, max=647), HTML(value='')))"
      ]
     },
     "metadata": {},
     "output_type": "display_data"
    },
    {
     "name": "stdout",
     "output_type": "stream",
     "text": [
      "Evaluation finished\n",
      "Train res:{'f1_weighted': 0.4040537316051924, 'f1_macro': 0.1778776086289729}\n",
      ">> Running Evaluation\n"
     ]
    },
    {
     "data": {
      "application/vnd.jupyter.widget-view+json": {
       "model_id": "ec507747dd53461d94d309b5585040f3",
       "version_major": 2,
       "version_minor": 0
      },
      "text/plain": [
       "HBox(children=(IntProgress(value=0, max=278), HTML(value='')))"
      ]
     },
     "metadata": {},
     "output_type": "display_data"
    },
    {
     "name": "stdout",
     "output_type": "stream",
     "text": [
      "Evaluation finished\n",
      "Test res:{'f1_weighted': 0.3812505688936032, 'f1_macro': 0.16105176830108706}\n",
      ">> Running trainer\n",
      ">>> Epoch 0\n"
     ]
    },
    {
     "data": {
      "application/vnd.jupyter.widget-view+json": {
       "model_id": "96a9bfb29b514cfda672d543e3b61123",
       "version_major": 2,
       "version_minor": 0
      },
      "text/plain": [
       "HBox(children=(IntProgress(value=0, max=647), HTML(value='')))"
      ]
     },
     "metadata": {},
     "output_type": "display_data"
    },
    {
     "name": "stdout",
     "output_type": "stream",
     "text": [
      ">>> Loss: 1.933452546596527\n",
      ">>> Loss: 1.9688463926315307\n",
      ">>> Loss: 2.0239168047904967\n",
      ">>> Loss: 2.032167136669159\n",
      ">>> Loss: 2.162684404850006\n",
      ">>> Loss: 1.9977168560028076\n",
      ">>> Loss: 1.9297441959381103\n",
      ">>> Loss: 1.9874961137771607\n",
      ">>> Loss: 2.069981336593628\n",
      ">>> Loss: 1.922653603553772\n",
      ">>> Loss: 1.983115792274475\n",
      ">>> Loss: 1.9713904976844787\n",
      ">>> Loss: 1.993906605243683\n",
      "Trainer epoch finished\n",
      ">> Running Evaluation\n"
     ]
    },
    {
     "data": {
      "application/vnd.jupyter.widget-view+json": {
       "model_id": "304946f59f1f459dab035075cb0237c5",
       "version_major": 2,
       "version_minor": 0
      },
      "text/plain": [
       "HBox(children=(IntProgress(value=0, max=647), HTML(value='')))"
      ]
     },
     "metadata": {},
     "output_type": "display_data"
    },
    {
     "name": "stdout",
     "output_type": "stream",
     "text": [
      "Evaluation finished\n",
      "Train res:{'f1_weighted': 0.4431475069972119, 'f1_macro': 0.21965398856128684}\n",
      ">> Running Evaluation\n"
     ]
    },
    {
     "data": {
      "application/vnd.jupyter.widget-view+json": {
       "model_id": "53b5d97162c94c75812a33a9358c3e8d",
       "version_major": 2,
       "version_minor": 0
      },
      "text/plain": [
       "HBox(children=(IntProgress(value=0, max=278), HTML(value='')))"
      ]
     },
     "metadata": {},
     "output_type": "display_data"
    },
    {
     "name": "stdout",
     "output_type": "stream",
     "text": [
      "Evaluation finished\n",
      "Test res:{'f1_weighted': 0.40935677457482167, 'f1_macro': 0.18825361883830985}\n"
     ]
    }
   ],
   "source": [
    "for i in range(5):\n",
    "    trainer.run(train_loader, epochs=1)\n",
    "    res = evaluation.run(train_loader)\n",
    "    print(\"Train res:\" + str(res))\n",
    "    res = evaluation.run(test_loader)\n",
    "    print(\"Test res:\" + str(res))"
   ]
  },
  {
   "cell_type": "code",
   "execution_count": 290,
   "metadata": {},
   "outputs": [
    {
     "name": "stdout",
     "output_type": "stream",
     "text": [
      ">> Running trainer\n",
      ">>> Epoch 0\n"
     ]
    },
    {
     "data": {
      "application/vnd.jupyter.widget-view+json": {
       "model_id": "e1b5d9c1a04e4882a709127575f8cb1a",
       "version_major": 2,
       "version_minor": 0
      },
      "text/plain": [
       "HBox(children=(IntProgress(value=0, max=647), HTML(value='')))"
      ]
     },
     "metadata": {},
     "output_type": "display_data"
    },
    {
     "name": "stdout",
     "output_type": "stream",
     "text": [
      ">>> Loss: 1.961235761642456\n",
      ">>> Loss: 1.7989813566207886\n",
      ">>> Loss: 1.8217131733894347\n",
      ">>> Loss: 1.8259228587150573\n",
      ">>> Loss: 1.8666045308113097\n",
      ">>> Loss: 1.7520137310028077\n",
      ">>> Loss: 1.7398601055145264\n",
      ">>> Loss: 1.7499449491500854\n",
      ">>> Loss: 1.812553298473358\n",
      ">>> Loss: 1.6954295635223389\n",
      ">>> Loss: 1.7107745170593263\n",
      ">>> Loss: 1.6503387689590454\n",
      ">>> Loss: 1.575173032283783\n",
      "Trainer epoch finished\n",
      ">> Running Evaluation\n"
     ]
    },
    {
     "data": {
      "application/vnd.jupyter.widget-view+json": {
       "model_id": "632a0d8825b84b77a2a88dda18211a37",
       "version_major": 2,
       "version_minor": 0
      },
      "text/plain": [
       "HBox(children=(IntProgress(value=0, max=647), HTML(value='')))"
      ]
     },
     "metadata": {},
     "output_type": "display_data"
    },
    {
     "name": "stdout",
     "output_type": "stream",
     "text": [
      "Evaluation finished\n",
      "Train res:{'f1_weighted': 0.49102521482924216, 'f1_macro': 0.26912458956264346}\n",
      ">> Running Evaluation\n"
     ]
    },
    {
     "data": {
      "application/vnd.jupyter.widget-view+json": {
       "model_id": "1fb8c9100ba9415aa3611cd12f7960bc",
       "version_major": 2,
       "version_minor": 0
      },
      "text/plain": [
       "HBox(children=(IntProgress(value=0, max=278), HTML(value='')))"
      ]
     },
     "metadata": {},
     "output_type": "display_data"
    },
    {
     "name": "stdout",
     "output_type": "stream",
     "text": [
      "Evaluation finished\n",
      "Test res:{'f1_weighted': 0.44576610586159165, 'f1_macro': 0.22162051495404939}\n",
      ">> Running trainer\n",
      ">>> Epoch 0\n"
     ]
    },
    {
     "data": {
      "application/vnd.jupyter.widget-view+json": {
       "model_id": "5f7676be12104f8f851daf9b5dbefa92",
       "version_major": 2,
       "version_minor": 0
      },
      "text/plain": [
       "HBox(children=(IntProgress(value=0, max=647), HTML(value='')))"
      ]
     },
     "metadata": {},
     "output_type": "display_data"
    },
    {
     "name": "stdout",
     "output_type": "stream",
     "text": [
      ">>> Loss: 1.6025476992130279\n",
      ">>> Loss: 1.6980728149414062\n",
      ">>> Loss: 1.7492130517959594\n",
      ">>> Loss: 1.7535252451896668\n",
      ">>> Loss: 1.8063598036766053\n",
      ">>> Loss: 1.6757735013961792\n",
      ">>> Loss: 1.6649932742118836\n",
      ">>> Loss: 1.695382308959961\n",
      ">>> Loss: 1.765053653717041\n",
      ">>> Loss: 1.6396760821342469\n",
      ">>> Loss: 1.6743486166000365\n",
      ">>> Loss: 1.6084081888198853\n",
      ">>> Loss: 1.5549994707107544\n",
      "Trainer epoch finished\n",
      ">> Running Evaluation\n"
     ]
    },
    {
     "data": {
      "application/vnd.jupyter.widget-view+json": {
       "model_id": "55e97eab1e734691922bff4797b225b7",
       "version_major": 2,
       "version_minor": 0
      },
      "text/plain": [
       "HBox(children=(IntProgress(value=0, max=647), HTML(value='')))"
      ]
     },
     "metadata": {},
     "output_type": "display_data"
    },
    {
     "name": "stdout",
     "output_type": "stream",
     "text": [
      "Evaluation finished\n",
      "Train res:{'f1_weighted': 0.5010393497697457, 'f1_macro': 0.2850596732158345}\n",
      ">> Running Evaluation\n"
     ]
    },
    {
     "data": {
      "application/vnd.jupyter.widget-view+json": {
       "model_id": "1de05636dcae473fafd0adcdb34f938b",
       "version_major": 2,
       "version_minor": 0
      },
      "text/plain": [
       "HBox(children=(IntProgress(value=0, max=278), HTML(value='')))"
      ]
     },
     "metadata": {},
     "output_type": "display_data"
    },
    {
     "name": "stdout",
     "output_type": "stream",
     "text": [
      "Evaluation finished\n",
      "Test res:{'f1_weighted': 0.45118739768673904, 'f1_macro': 0.23064106160974004}\n",
      ">> Running trainer\n",
      ">>> Epoch 0\n"
     ]
    },
    {
     "data": {
      "application/vnd.jupyter.widget-view+json": {
       "model_id": "71d31b58dad84e0c8735bbc25bca2dbc",
       "version_major": 2,
       "version_minor": 0
      },
      "text/plain": [
       "HBox(children=(IntProgress(value=0, max=647), HTML(value='')))"
      ]
     },
     "metadata": {},
     "output_type": "display_data"
    },
    {
     "name": "stdout",
     "output_type": "stream",
     "text": [
      ">>> Loss: 1.5758160471916198\n",
      ">>> Loss: 1.6548134207725524\n",
      ">>> Loss: 1.711310040950775\n",
      ">>> Loss: 1.7140814900398254\n",
      ">>> Loss: 1.771048903465271\n",
      ">>> Loss: 1.628561758995056\n",
      ">>> Loss: 1.6272199153900146\n",
      ">>> Loss: 1.662140679359436\n",
      ">>> Loss: 1.7358387470245362\n",
      ">>> Loss: 1.6039551496505737\n",
      ">>> Loss: 1.649101150035858\n",
      ">>> Loss: 1.578217053413391\n",
      ">>> Loss: 1.5325187206268311\n",
      "Trainer epoch finished\n",
      ">> Running Evaluation\n"
     ]
    },
    {
     "data": {
      "application/vnd.jupyter.widget-view+json": {
       "model_id": "6e18824d639d4c2a80de574135c3b0db",
       "version_major": 2,
       "version_minor": 0
      },
      "text/plain": [
       "HBox(children=(IntProgress(value=0, max=647), HTML(value='')))"
      ]
     },
     "metadata": {},
     "output_type": "display_data"
    },
    {
     "name": "stdout",
     "output_type": "stream",
     "text": [
      "Evaluation finished\n",
      "Train res:{'f1_weighted': 0.5112602010211649, 'f1_macro': 0.2988987177976979}\n",
      ">> Running Evaluation\n"
     ]
    },
    {
     "data": {
      "application/vnd.jupyter.widget-view+json": {
       "model_id": "7d7658ebb3b04f3380bf2316d1cc599a",
       "version_major": 2,
       "version_minor": 0
      },
      "text/plain": [
       "HBox(children=(IntProgress(value=0, max=278), HTML(value='')))"
      ]
     },
     "metadata": {},
     "output_type": "display_data"
    },
    {
     "name": "stdout",
     "output_type": "stream",
     "text": [
      "Evaluation finished\n",
      "Test res:{'f1_weighted': 0.4546297669954961, 'f1_macro': 0.23665266638398472}\n",
      ">> Running trainer\n",
      ">>> Epoch 0\n"
     ]
    },
    {
     "data": {
      "application/vnd.jupyter.widget-view+json": {
       "model_id": "f6d8fa56686443e7a8c1f00d1368aeed",
       "version_major": 2,
       "version_minor": 0
      },
      "text/plain": [
       "HBox(children=(IntProgress(value=0, max=647), HTML(value='')))"
      ]
     },
     "metadata": {},
     "output_type": "display_data"
    },
    {
     "name": "stdout",
     "output_type": "stream",
     "text": [
      ">>> Loss: 1.544300389289856\n",
      ">>> Loss: 1.6156002879142761\n",
      ">>> Loss: 1.6795962691307067\n",
      ">>> Loss: 1.6833275198936462\n",
      ">>> Loss: 1.7395981550216675\n",
      ">>> Loss: 1.587189245223999\n",
      ">>> Loss: 1.599964189529419\n",
      ">>> Loss: 1.6373935103416444\n",
      ">>> Loss: 1.7108552932739258\n",
      ">>> Loss: 1.5717699527740479\n",
      ">>> Loss: 1.6275532364845275\n",
      ">>> Loss: 1.5513737082481385\n",
      ">>> Loss: 1.5111469507217408\n",
      "Trainer epoch finished\n",
      ">> Running Evaluation\n"
     ]
    },
    {
     "data": {
      "application/vnd.jupyter.widget-view+json": {
       "model_id": "e9ea8e012fa2427abd6c998eddeecc26",
       "version_major": 2,
       "version_minor": 0
      },
      "text/plain": [
       "HBox(children=(IntProgress(value=0, max=647), HTML(value='')))"
      ]
     },
     "metadata": {},
     "output_type": "display_data"
    },
    {
     "name": "stdout",
     "output_type": "stream",
     "text": [
      "Evaluation finished\n",
      "Train res:{'f1_weighted': 0.5188638203078191, 'f1_macro': 0.3087663082088473}\n",
      ">> Running Evaluation\n"
     ]
    },
    {
     "data": {
      "application/vnd.jupyter.widget-view+json": {
       "model_id": "100b49a981de4ed08c7b81094b91dc86",
       "version_major": 2,
       "version_minor": 0
      },
      "text/plain": [
       "HBox(children=(IntProgress(value=0, max=278), HTML(value='')))"
      ]
     },
     "metadata": {},
     "output_type": "display_data"
    },
    {
     "name": "stdout",
     "output_type": "stream",
     "text": [
      "Evaluation finished\n",
      "Test res:{'f1_weighted': 0.4565776102008144, 'f1_macro': 0.23998724936708665}\n",
      ">> Running trainer\n",
      ">>> Epoch 0\n"
     ]
    },
    {
     "data": {
      "application/vnd.jupyter.widget-view+json": {
       "model_id": "0b5bd6f6a6814e8caf6d470583f98cc4",
       "version_major": 2,
       "version_minor": 0
      },
      "text/plain": [
       "HBox(children=(IntProgress(value=0, max=647), HTML(value='')))"
      ]
     },
     "metadata": {},
     "output_type": "display_data"
    },
    {
     "name": "stdout",
     "output_type": "stream",
     "text": [
      ">>> Loss: 1.5142085373401641\n",
      ">>> Loss: 1.579076111316681\n",
      ">>> Loss: 1.6529138565063477\n",
      ">>> Loss: 1.6561358571052551\n",
      ">>> Loss: 1.7112264275550841\n",
      ">>> Loss: 1.5517464995384216\n",
      ">>> Loss: 1.575370466709137\n",
      ">>> Loss: 1.6134871602058412\n",
      ">>> Loss: 1.6876420378684998\n",
      ">>> Loss: 1.5451207876205444\n",
      ">>> Loss: 1.6047071456909179\n",
      ">>> Loss: 1.52471022605896\n",
      ">>> Loss: 1.4884766459465026\n",
      "Trainer epoch finished\n",
      ">> Running Evaluation\n"
     ]
    },
    {
     "data": {
      "application/vnd.jupyter.widget-view+json": {
       "model_id": "b5bf01d2e8f7443ab9ae7bbd36b41754",
       "version_major": 2,
       "version_minor": 0
      },
      "text/plain": [
       "HBox(children=(IntProgress(value=0, max=647), HTML(value='')))"
      ]
     },
     "metadata": {},
     "output_type": "display_data"
    },
    {
     "name": "stdout",
     "output_type": "stream",
     "text": [
      "Evaluation finished\n",
      "Train res:{'f1_weighted': 0.5262892343343534, 'f1_macro': 0.31919094772299167}\n",
      ">> Running Evaluation\n"
     ]
    },
    {
     "data": {
      "application/vnd.jupyter.widget-view+json": {
       "model_id": "e23a4619f93c41a3805d1b39b0a56d37",
       "version_major": 2,
       "version_minor": 0
      },
      "text/plain": [
       "HBox(children=(IntProgress(value=0, max=278), HTML(value='')))"
      ]
     },
     "metadata": {},
     "output_type": "display_data"
    },
    {
     "name": "stdout",
     "output_type": "stream",
     "text": [
      "Evaluation finished\n",
      "Test res:{'f1_weighted': 0.4589795211460174, 'f1_macro': 0.24504006787373267}\n",
      ">> Running trainer\n",
      ">>> Epoch 0\n"
     ]
    },
    {
     "data": {
      "application/vnd.jupyter.widget-view+json": {
       "model_id": "4e336e1b215e4fa1a67768d0d63b077c",
       "version_major": 2,
       "version_minor": 0
      },
      "text/plain": [
       "HBox(children=(IntProgress(value=0, max=647), HTML(value='')))"
      ]
     },
     "metadata": {},
     "output_type": "display_data"
    },
    {
     "name": "stdout",
     "output_type": "stream",
     "text": [
      ">>> Loss: 1.4869609355926514\n",
      ">>> Loss: 1.5437196016311645\n",
      ">>> Loss: 1.6257537961006165\n",
      ">>> Loss: 1.6310416340827942\n",
      ">>> Loss: 1.6828837871551514\n",
      ">>> Loss: 1.518530511856079\n",
      ">>> Loss: 1.5537189960479736\n",
      ">>> Loss: 1.588991105556488\n",
      ">>> Loss: 1.6649464607238769\n",
      ">>> Loss: 1.519627285003662\n",
      ">>> Loss: 1.5827396392822266\n",
      ">>> Loss: 1.5014172911643981\n",
      ">>> Loss: 1.469922387599945\n",
      "Trainer epoch finished\n",
      ">> Running Evaluation\n"
     ]
    },
    {
     "data": {
      "application/vnd.jupyter.widget-view+json": {
       "model_id": "048fe5bcec594eb7abb9bcc788248bed",
       "version_major": 2,
       "version_minor": 0
      },
      "text/plain": [
       "HBox(children=(IntProgress(value=0, max=647), HTML(value='')))"
      ]
     },
     "metadata": {},
     "output_type": "display_data"
    },
    {
     "name": "stdout",
     "output_type": "stream",
     "text": [
      "Evaluation finished\n",
      "Train res:{'f1_weighted': 0.5339594647171991, 'f1_macro': 0.3268106449759705}\n",
      ">> Running Evaluation\n"
     ]
    },
    {
     "data": {
      "application/vnd.jupyter.widget-view+json": {
       "model_id": "9621fc22cae34b99b1cc99f7847b0680",
       "version_major": 2,
       "version_minor": 0
      },
      "text/plain": [
       "HBox(children=(IntProgress(value=0, max=278), HTML(value='')))"
      ]
     },
     "metadata": {},
     "output_type": "display_data"
    },
    {
     "name": "stdout",
     "output_type": "stream",
     "text": [
      "Evaluation finished\n",
      "Test res:{'f1_weighted': 0.46278541283985136, 'f1_macro': 0.2476130434111446}\n",
      ">> Running trainer\n",
      ">>> Epoch 0\n"
     ]
    },
    {
     "data": {
      "application/vnd.jupyter.widget-view+json": {
       "model_id": "47446bf878ff4f4f9b9d674739ed99cb",
       "version_major": 2,
       "version_minor": 0
      },
      "text/plain": [
       "HBox(children=(IntProgress(value=0, max=647), HTML(value='')))"
      ]
     },
     "metadata": {},
     "output_type": "display_data"
    },
    {
     "name": "stdout",
     "output_type": "stream",
     "text": [
      ">>> Loss: 1.4632179856300354\n",
      ">>> Loss: 1.5156704187393188\n",
      ">>> Loss: 1.6018187999725342\n",
      ">>> Loss: 1.6069715857505797\n",
      ">>> Loss: 1.6544435143470764\n",
      ">>> Loss: 1.4876200795173644\n",
      ">>> Loss: 1.5313347697257995\n",
      ">>> Loss: 1.5671112895011903\n",
      ">>> Loss: 1.6480779886245727\n",
      ">>> Loss: 1.49263277053833\n",
      ">>> Loss: 1.5609479665756225\n",
      ">>> Loss: 1.4785666465759277\n",
      ">>> Loss: 1.4503050208091737\n",
      "Trainer epoch finished\n",
      ">> Running Evaluation\n"
     ]
    },
    {
     "data": {
      "application/vnd.jupyter.widget-view+json": {
       "model_id": "6d07b6875f2c46c1a65e1435ce3c4660",
       "version_major": 2,
       "version_minor": 0
      },
      "text/plain": [
       "HBox(children=(IntProgress(value=0, max=647), HTML(value='')))"
      ]
     },
     "metadata": {},
     "output_type": "display_data"
    },
    {
     "name": "stdout",
     "output_type": "stream",
     "text": [
      "Evaluation finished\n",
      "Train res:{'f1_weighted': 0.5410010681586316, 'f1_macro': 0.3373397646506577}\n",
      ">> Running Evaluation\n"
     ]
    },
    {
     "data": {
      "application/vnd.jupyter.widget-view+json": {
       "model_id": "c85aabc4fc0b4efe90bd5bf4bd89522b",
       "version_major": 2,
       "version_minor": 0
      },
      "text/plain": [
       "HBox(children=(IntProgress(value=0, max=278), HTML(value='')))"
      ]
     },
     "metadata": {},
     "output_type": "display_data"
    },
    {
     "name": "stdout",
     "output_type": "stream",
     "text": [
      "Evaluation finished\n",
      "Test res:{'f1_weighted': 0.46401890647113264, 'f1_macro': 0.2514386916391675}\n",
      ">> Running trainer\n",
      ">>> Epoch 0\n"
     ]
    },
    {
     "data": {
      "application/vnd.jupyter.widget-view+json": {
       "model_id": "588969ce0374466cbc0755cd9a3f3a04",
       "version_major": 2,
       "version_minor": 0
      },
      "text/plain": [
       "HBox(children=(IntProgress(value=0, max=647), HTML(value='')))"
      ]
     },
     "metadata": {},
     "output_type": "display_data"
    },
    {
     "name": "stdout",
     "output_type": "stream",
     "text": [
      ">>> Loss: 1.4383777558803559\n",
      ">>> Loss: 1.488575029373169\n",
      ">>> Loss: 1.5797021627426147\n",
      ">>> Loss: 1.5848244309425354\n",
      ">>> Loss: 1.6254807114601135\n",
      ">>> Loss: 1.4636614203453064\n",
      ">>> Loss: 1.5102742552757262\n",
      ">>> Loss: 1.546146774291992\n",
      ">>> Loss: 1.629168164730072\n",
      ">>> Loss: 1.466422700881958\n",
      ">>> Loss: 1.538399863243103\n",
      ">>> Loss: 1.4553078889846802\n",
      ">>> Loss: 1.4317919254302978\n",
      "Trainer epoch finished\n",
      ">> Running Evaluation\n"
     ]
    },
    {
     "data": {
      "application/vnd.jupyter.widget-view+json": {
       "model_id": "d957b6e300224d3eb43d09b29c4813b0",
       "version_major": 2,
       "version_minor": 0
      },
      "text/plain": [
       "HBox(children=(IntProgress(value=0, max=647), HTML(value='')))"
      ]
     },
     "metadata": {},
     "output_type": "display_data"
    },
    {
     "name": "stdout",
     "output_type": "stream",
     "text": [
      "Evaluation finished\n",
      "Train res:{'f1_weighted': 0.5470348452465876, 'f1_macro': 0.34467017797891064}\n",
      ">> Running Evaluation\n"
     ]
    },
    {
     "data": {
      "application/vnd.jupyter.widget-view+json": {
       "model_id": "4ff98890f6d6450390ee8dfb6181e188",
       "version_major": 2,
       "version_minor": 0
      },
      "text/plain": [
       "HBox(children=(IntProgress(value=0, max=278), HTML(value='')))"
      ]
     },
     "metadata": {},
     "output_type": "display_data"
    },
    {
     "name": "stdout",
     "output_type": "stream",
     "text": [
      "Evaluation finished\n",
      "Test res:{'f1_weighted': 0.46426949433303194, 'f1_macro': 0.2517724374544041}\n",
      ">> Running trainer\n",
      ">>> Epoch 0\n"
     ]
    },
    {
     "data": {
      "application/vnd.jupyter.widget-view+json": {
       "model_id": "8e487c2cc4f8467fab9e0b1db1d6e546",
       "version_major": 2,
       "version_minor": 0
      },
      "text/plain": [
       "HBox(children=(IntProgress(value=0, max=647), HTML(value='')))"
      ]
     },
     "metadata": {},
     "output_type": "display_data"
    },
    {
     "name": "stdout",
     "output_type": "stream",
     "text": [
      ">>> Loss: 1.4160678505897522\n",
      ">>> Loss: 1.4588831663131714\n",
      ">>> Loss: 1.5593629598617553\n",
      ">>> Loss: 1.5650781393051147\n",
      ">>> Loss: 1.5992554664611816\n",
      ">>> Loss: 1.433073353767395\n",
      ">>> Loss: 1.4923453211784363\n",
      ">>> Loss: 1.5258443236351014\n",
      ">>> Loss: 1.6086076617240905\n",
      ">>> Loss: 1.440658700466156\n",
      ">>> Loss: 1.5166418433189393\n",
      ">>> Loss: 1.433284842967987\n",
      ">>> Loss: 1.4188480138778687\n",
      "Trainer epoch finished\n",
      ">> Running Evaluation\n"
     ]
    },
    {
     "data": {
      "application/vnd.jupyter.widget-view+json": {
       "model_id": "f1301f564c4e40c19608e0cf4dcbc93f",
       "version_major": 2,
       "version_minor": 0
      },
      "text/plain": [
       "HBox(children=(IntProgress(value=0, max=647), HTML(value='')))"
      ]
     },
     "metadata": {},
     "output_type": "display_data"
    },
    {
     "name": "stdout",
     "output_type": "stream",
     "text": [
      "Evaluation finished\n",
      "Train res:{'f1_weighted': 0.5517703150583753, 'f1_macro': 0.35482378821972094}\n",
      ">> Running Evaluation\n"
     ]
    },
    {
     "data": {
      "application/vnd.jupyter.widget-view+json": {
       "model_id": "2fe96cafe4be41d393e86db4ff82f0a9",
       "version_major": 2,
       "version_minor": 0
      },
      "text/plain": [
       "HBox(children=(IntProgress(value=0, max=278), HTML(value='')))"
      ]
     },
     "metadata": {},
     "output_type": "display_data"
    },
    {
     "name": "stdout",
     "output_type": "stream",
     "text": [
      "Evaluation finished\n",
      "Test res:{'f1_weighted': 0.4643671655861745, 'f1_macro': 0.25486596497004266}\n",
      ">> Running trainer\n",
      ">>> Epoch 0\n"
     ]
    },
    {
     "data": {
      "application/vnd.jupyter.widget-view+json": {
       "model_id": "36304953f49a4ad092a84e789d5cc705",
       "version_major": 2,
       "version_minor": 0
      },
      "text/plain": [
       "HBox(children=(IntProgress(value=0, max=647), HTML(value='')))"
      ]
     },
     "metadata": {},
     "output_type": "display_data"
    },
    {
     "name": "stdout",
     "output_type": "stream",
     "text": [
      ">>> Loss: 1.4008284628391265\n",
      ">>> Loss: 1.4304833173751832\n",
      ">>> Loss: 1.538067674636841\n",
      ">>> Loss: 1.5384739518165589\n",
      ">>> Loss: 1.5687778353691102\n",
      ">>> Loss: 1.4079909086227418\n",
      ">>> Loss: 1.4741332411766053\n",
      ">>> Loss: 1.508238387107849\n",
      ">>> Loss: 1.5881536245346068\n",
      ">>> Loss: 1.4163170218467713\n",
      ">>> Loss: 1.4951847434043883\n",
      ">>> Loss: 1.4089576721191406\n",
      ">>> Loss: 1.4045347332954408\n",
      "Trainer epoch finished\n",
      ">> Running Evaluation\n"
     ]
    },
    {
     "data": {
      "application/vnd.jupyter.widget-view+json": {
       "model_id": "564bedbd246a47b1879209e481c4e575",
       "version_major": 2,
       "version_minor": 0
      },
      "text/plain": [
       "HBox(children=(IntProgress(value=0, max=647), HTML(value='')))"
      ]
     },
     "metadata": {},
     "output_type": "display_data"
    },
    {
     "name": "stdout",
     "output_type": "stream",
     "text": [
      "Evaluation finished\n",
      "Train res:{'f1_weighted': 0.557156623762157, 'f1_macro': 0.3589592547228754}\n",
      ">> Running Evaluation\n"
     ]
    },
    {
     "data": {
      "application/vnd.jupyter.widget-view+json": {
       "model_id": "e92ea8157f604024b682f0b573bbbc15",
       "version_major": 2,
       "version_minor": 0
      },
      "text/plain": [
       "HBox(children=(IntProgress(value=0, max=278), HTML(value='')))"
      ]
     },
     "metadata": {},
     "output_type": "display_data"
    },
    {
     "name": "stdout",
     "output_type": "stream",
     "text": [
      "Evaluation finished\n",
      "Test res:{'f1_weighted': 0.46536267244597473, 'f1_macro': 0.2559957775152176}\n",
      ">> Running trainer\n",
      ">>> Epoch 0\n"
     ]
    },
    {
     "data": {
      "application/vnd.jupyter.widget-view+json": {
       "model_id": "3e23a9790ca848fc80da6b527c84c596",
       "version_major": 2,
       "version_minor": 0
      },
      "text/plain": [
       "HBox(children=(IntProgress(value=0, max=647), HTML(value='')))"
      ]
     },
     "metadata": {},
     "output_type": "display_data"
    },
    {
     "name": "stdout",
     "output_type": "stream",
     "text": [
      ">>> Loss: 1.3721966683864593\n",
      ">>> Loss: 1.4080541968345641\n",
      ">>> Loss: 1.5206125140190125\n",
      ">>> Loss: 1.5201739192008972\n",
      ">>> Loss: 1.543177306652069\n",
      ">>> Loss: 1.3857041716575622\n",
      ">>> Loss: 1.457839596271515\n",
      ">>> Loss: 1.4902382254600526\n",
      ">>> Loss: 1.5715018510818481\n",
      ">>> Loss: 1.3927301943302155\n",
      ">>> Loss: 1.4722363471984863\n",
      ">>> Loss: 1.3871999502182006\n",
      ">>> Loss: 1.384765374660492\n",
      "Trainer epoch finished\n",
      ">> Running Evaluation\n"
     ]
    },
    {
     "data": {
      "application/vnd.jupyter.widget-view+json": {
       "model_id": "35ce65c59cf943e5aa844dcbf5028859",
       "version_major": 2,
       "version_minor": 0
      },
      "text/plain": [
       "HBox(children=(IntProgress(value=0, max=647), HTML(value='')))"
      ]
     },
     "metadata": {},
     "output_type": "display_data"
    },
    {
     "name": "stdout",
     "output_type": "stream",
     "text": [
      "Evaluation finished\n",
      "Train res:{'f1_weighted': 0.5613250541076305, 'f1_macro': 0.36545085717646164}\n",
      ">> Running Evaluation\n"
     ]
    },
    {
     "data": {
      "application/vnd.jupyter.widget-view+json": {
       "model_id": "0031c029a00f4d1e9a533e4da0ccdc70",
       "version_major": 2,
       "version_minor": 0
      },
      "text/plain": [
       "HBox(children=(IntProgress(value=0, max=278), HTML(value='')))"
      ]
     },
     "metadata": {},
     "output_type": "display_data"
    },
    {
     "name": "stdout",
     "output_type": "stream",
     "text": [
      "Evaluation finished\n",
      "Test res:{'f1_weighted': 0.4644147414015209, 'f1_macro': 0.25464283372321733}\n",
      ">> Running trainer\n",
      ">>> Epoch 0\n"
     ]
    },
    {
     "data": {
      "application/vnd.jupyter.widget-view+json": {
       "model_id": "f0bafe3633e343d9a44b067da4d1dad8",
       "version_major": 2,
       "version_minor": 0
      },
      "text/plain": [
       "HBox(children=(IntProgress(value=0, max=647), HTML(value='')))"
      ]
     },
     "metadata": {},
     "output_type": "display_data"
    },
    {
     "name": "stdout",
     "output_type": "stream",
     "text": [
      ">>> Loss: 1.3503919064998626\n",
      ">>> Loss: 1.387985622882843\n",
      ">>> Loss: 1.5044360399246215\n",
      ">>> Loss: 1.5022940397262574\n",
      ">>> Loss: 1.5189377427101136\n",
      ">>> Loss: 1.3579078912734985\n",
      ">>> Loss: 1.4432005763053894\n",
      ">>> Loss: 1.474015736579895\n",
      ">>> Loss: 1.55155953168869\n",
      ">>> Loss: 1.36929851770401\n",
      ">>> Loss: 1.4562970995903015\n",
      ">>> Loss: 1.3653289556503296\n",
      ">>> Loss: 1.3681562066078186\n",
      "Trainer epoch finished\n",
      ">> Running Evaluation\n"
     ]
    },
    {
     "data": {
      "application/vnd.jupyter.widget-view+json": {
       "model_id": "2631446fc2d0413989795f7bf85335d6",
       "version_major": 2,
       "version_minor": 0
      },
      "text/plain": [
       "HBox(children=(IntProgress(value=0, max=647), HTML(value='')))"
      ]
     },
     "metadata": {},
     "output_type": "display_data"
    },
    {
     "name": "stdout",
     "output_type": "stream",
     "text": [
      "Evaluation finished\n",
      "Train res:{'f1_weighted': 0.5668374792186209, 'f1_macro': 0.37348063142815285}\n",
      ">> Running Evaluation\n"
     ]
    },
    {
     "data": {
      "application/vnd.jupyter.widget-view+json": {
       "model_id": "f0f00faf3f7e4ae5aeac86c162ebfc10",
       "version_major": 2,
       "version_minor": 0
      },
      "text/plain": [
       "HBox(children=(IntProgress(value=0, max=278), HTML(value='')))"
      ]
     },
     "metadata": {},
     "output_type": "display_data"
    },
    {
     "name": "stdout",
     "output_type": "stream",
     "text": [
      "Evaluation finished\n",
      "Test res:{'f1_weighted': 0.4641763251387397, 'f1_macro': 0.25545436795110005}\n",
      ">> Running trainer\n",
      ">>> Epoch 0\n"
     ]
    },
    {
     "data": {
      "application/vnd.jupyter.widget-view+json": {
       "model_id": "021693545caf47fea899610716d2e77b",
       "version_major": 2,
       "version_minor": 0
      },
      "text/plain": [
       "HBox(children=(IntProgress(value=0, max=647), HTML(value='')))"
      ]
     },
     "metadata": {},
     "output_type": "display_data"
    },
    {
     "name": "stdout",
     "output_type": "stream",
     "text": [
      ">>> Loss: 1.3286922872066498\n",
      ">>> Loss: 1.365438961982727\n",
      ">>> Loss: 1.4797226071357727\n",
      ">>> Loss: 1.4824158906936646\n",
      ">>> Loss: 1.4902733206748962\n",
      ">>> Loss: 1.3359487533569336\n",
      ">>> Loss: 1.4276845812797547\n",
      ">>> Loss: 1.456873631477356\n",
      ">>> Loss: 1.5334894895553588\n",
      ">>> Loss: 1.3461854100227355\n",
      ">>> Loss: 1.4365686893463134\n",
      ">>> Loss: 1.3461166501045227\n",
      ">>> Loss: 1.3522444486618042\n",
      "Trainer epoch finished\n",
      ">> Running Evaluation\n"
     ]
    },
    {
     "data": {
      "application/vnd.jupyter.widget-view+json": {
       "model_id": "268070a268be48dba0877674a559a01b",
       "version_major": 2,
       "version_minor": 0
      },
      "text/plain": [
       "HBox(children=(IntProgress(value=0, max=647), HTML(value='')))"
      ]
     },
     "metadata": {},
     "output_type": "display_data"
    },
    {
     "name": "stdout",
     "output_type": "stream",
     "text": [
      "Evaluation finished\n",
      "Train res:{'f1_weighted': 0.5724058732959144, 'f1_macro': 0.38030911512282545}\n",
      ">> Running Evaluation\n"
     ]
    },
    {
     "data": {
      "application/vnd.jupyter.widget-view+json": {
       "model_id": "6212238d83a84341aab2f9187b6eea9b",
       "version_major": 2,
       "version_minor": 0
      },
      "text/plain": [
       "HBox(children=(IntProgress(value=0, max=278), HTML(value='')))"
      ]
     },
     "metadata": {},
     "output_type": "display_data"
    },
    {
     "name": "stdout",
     "output_type": "stream",
     "text": [
      "Evaluation finished\n",
      "Test res:{'f1_weighted': 0.46520845652734466, 'f1_macro': 0.2589691840843236}\n",
      ">> Running trainer\n",
      ">>> Epoch 0\n"
     ]
    },
    {
     "data": {
      "application/vnd.jupyter.widget-view+json": {
       "model_id": "9c2b4329f6444341aa4ee533cfa94716",
       "version_major": 2,
       "version_minor": 0
      },
      "text/plain": [
       "HBox(children=(IntProgress(value=0, max=647), HTML(value='')))"
      ]
     },
     "metadata": {},
     "output_type": "display_data"
    },
    {
     "name": "stdout",
     "output_type": "stream",
     "text": [
      ">>> Loss: 1.3118963897228242\n",
      ">>> Loss: 1.3419387936592102\n",
      ">>> Loss: 1.4588302373886108\n",
      ">>> Loss: 1.4595596075057984\n",
      ">>> Loss: 1.4632071733474732\n",
      ">>> Loss: 1.3169188261032105\n",
      ">>> Loss: 1.4106639504432679\n",
      ">>> Loss: 1.439591920375824\n",
      ">>> Loss: 1.5133697509765625\n",
      ">>> Loss: 1.3239826440811158\n",
      ">>> Loss: 1.4223581910133363\n",
      ">>> Loss: 1.3249845266342164\n",
      ">>> Loss: 1.3342423915863038\n",
      "Trainer epoch finished\n",
      ">> Running Evaluation\n"
     ]
    },
    {
     "data": {
      "application/vnd.jupyter.widget-view+json": {
       "model_id": "f08cc00d2504475d93fb3dd14ec1cf06",
       "version_major": 2,
       "version_minor": 0
      },
      "text/plain": [
       "HBox(children=(IntProgress(value=0, max=647), HTML(value='')))"
      ]
     },
     "metadata": {},
     "output_type": "display_data"
    },
    {
     "name": "stdout",
     "output_type": "stream",
     "text": [
      "Evaluation finished\n",
      "Train res:{'f1_weighted': 0.5758250745660486, 'f1_macro': 0.3843962632778869}\n",
      ">> Running Evaluation\n"
     ]
    },
    {
     "data": {
      "application/vnd.jupyter.widget-view+json": {
       "model_id": "734701548e0649caa1512a6b57376090",
       "version_major": 2,
       "version_minor": 0
      },
      "text/plain": [
       "HBox(children=(IntProgress(value=0, max=278), HTML(value='')))"
      ]
     },
     "metadata": {},
     "output_type": "display_data"
    },
    {
     "name": "stdout",
     "output_type": "stream",
     "text": [
      "Evaluation finished\n",
      "Test res:{'f1_weighted': 0.4665496103939381, 'f1_macro': 0.26083082220993753}\n",
      ">> Running trainer\n",
      ">>> Epoch 0\n"
     ]
    },
    {
     "data": {
      "application/vnd.jupyter.widget-view+json": {
       "model_id": "332e888e08e04106a13d396edcdbf9a0",
       "version_major": 2,
       "version_minor": 0
      },
      "text/plain": [
       "HBox(children=(IntProgress(value=0, max=647), HTML(value='')))"
      ]
     },
     "metadata": {},
     "output_type": "display_data"
    },
    {
     "name": "stdout",
     "output_type": "stream",
     "text": [
      ">>> Loss: 1.287959337234497\n",
      ">>> Loss: 1.3212997555732726\n",
      ">>> Loss: 1.4376974701881409\n",
      ">>> Loss: 1.4413092017173768\n",
      ">>> Loss: 1.4362730145454408\n",
      ">>> Loss: 1.2899959325790404\n",
      ">>> Loss: 1.390747332572937\n",
      ">>> Loss: 1.4268745303153991\n",
      ">>> Loss: 1.4986533761024474\n",
      ">>> Loss: 1.3023487210273743\n",
      ">>> Loss: 1.4056935548782348\n",
      ">>> Loss: 1.3059648990631103\n",
      ">>> Loss: 1.322823178768158\n",
      "Trainer epoch finished\n",
      ">> Running Evaluation\n"
     ]
    },
    {
     "data": {
      "application/vnd.jupyter.widget-view+json": {
       "model_id": "e846f76e1ce048e98099e5bee3eb5554",
       "version_major": 2,
       "version_minor": 0
      },
      "text/plain": [
       "HBox(children=(IntProgress(value=0, max=647), HTML(value='')))"
      ]
     },
     "metadata": {},
     "output_type": "display_data"
    },
    {
     "name": "stdout",
     "output_type": "stream",
     "text": [
      "Evaluation finished\n",
      "Train res:{'f1_weighted': 0.5799249552862504, 'f1_macro': 0.3900948729428255}\n",
      ">> Running Evaluation\n"
     ]
    },
    {
     "data": {
      "application/vnd.jupyter.widget-view+json": {
       "model_id": "c6008415e384407085fc466db8a77e11",
       "version_major": 2,
       "version_minor": 0
      },
      "text/plain": [
       "HBox(children=(IntProgress(value=0, max=278), HTML(value='')))"
      ]
     },
     "metadata": {},
     "output_type": "display_data"
    },
    {
     "name": "stdout",
     "output_type": "stream",
     "text": [
      "Evaluation finished\n",
      "Test res:{'f1_weighted': 0.46622134625102063, 'f1_macro': 0.2607220140769329}\n",
      ">> Running trainer\n",
      ">>> Epoch 0\n"
     ]
    },
    {
     "data": {
      "application/vnd.jupyter.widget-view+json": {
       "model_id": "9cd755f4829843b295f9c5e119c6a710",
       "version_major": 2,
       "version_minor": 0
      },
      "text/plain": [
       "HBox(children=(IntProgress(value=0, max=647), HTML(value='')))"
      ]
     },
     "metadata": {},
     "output_type": "display_data"
    },
    {
     "name": "stdout",
     "output_type": "stream",
     "text": [
      ">>> Loss: 1.2721725404262543\n",
      ">>> Loss: 1.303774929046631\n",
      ">>> Loss: 1.418080496788025\n",
      ">>> Loss: 1.4187437772750855\n",
      ">>> Loss: 1.4079698324203491\n",
      ">>> Loss: 1.2688532948493958\n",
      ">>> Loss: 1.376429522037506\n",
      ">>> Loss: 1.4124348163604736\n",
      ">>> Loss: 1.4753094434738159\n",
      ">>> Loss: 1.2889866173267364\n",
      ">>> Loss: 1.3881030797958374\n",
      ">>> Loss: 1.2875245094299317\n",
      ">>> Loss: 1.3021848320960998\n",
      "Trainer epoch finished\n",
      ">> Running Evaluation\n"
     ]
    },
    {
     "data": {
      "application/vnd.jupyter.widget-view+json": {
       "model_id": "6d8cc574f3da4f4088c161451eb31f65",
       "version_major": 2,
       "version_minor": 0
      },
      "text/plain": [
       "HBox(children=(IntProgress(value=0, max=647), HTML(value='')))"
      ]
     },
     "metadata": {},
     "output_type": "display_data"
    },
    {
     "name": "stdout",
     "output_type": "stream",
     "text": [
      "Evaluation finished\n",
      "Train res:{'f1_weighted': 0.5851942597903612, 'f1_macro': 0.3960278498721837}\n",
      ">> Running Evaluation\n"
     ]
    },
    {
     "data": {
      "application/vnd.jupyter.widget-view+json": {
       "model_id": "01770209ce744715a095d25b14310331",
       "version_major": 2,
       "version_minor": 0
      },
      "text/plain": [
       "HBox(children=(IntProgress(value=0, max=278), HTML(value='')))"
      ]
     },
     "metadata": {},
     "output_type": "display_data"
    },
    {
     "name": "stdout",
     "output_type": "stream",
     "text": [
      "Evaluation finished\n",
      "Test res:{'f1_weighted': 0.46672806263758726, 'f1_macro': 0.2622001348857238}\n",
      ">> Running trainer\n",
      ">>> Epoch 0\n"
     ]
    },
    {
     "data": {
      "application/vnd.jupyter.widget-view+json": {
       "model_id": "983ecd7b3216457792e7de251b8acfa7",
       "version_major": 2,
       "version_minor": 0
      },
      "text/plain": [
       "HBox(children=(IntProgress(value=0, max=647), HTML(value='')))"
      ]
     },
     "metadata": {},
     "output_type": "display_data"
    },
    {
     "name": "stdout",
     "output_type": "stream",
     "text": [
      ">>> Loss: 1.25477232336998\n",
      ">>> Loss: 1.2782140731811524\n",
      ">>> Loss: 1.4028008222579955\n",
      ">>> Loss: 1.397470438480377\n",
      ">>> Loss: 1.385764765739441\n",
      ">>> Loss: 1.251420533657074\n",
      ">>> Loss: 1.3575313925743102\n",
      ">>> Loss: 1.39424968957901\n",
      ">>> Loss: 1.460900115966797\n",
      ">>> Loss: 1.2716326534748077\n",
      ">>> Loss: 1.3663605451583862\n",
      ">>> Loss: 1.2687834620475769\n",
      ">>> Loss: 1.28339341878891\n",
      "Trainer epoch finished\n",
      ">> Running Evaluation\n"
     ]
    },
    {
     "data": {
      "application/vnd.jupyter.widget-view+json": {
       "model_id": "81642429e1d14709a3980530fa6f121c",
       "version_major": 2,
       "version_minor": 0
      },
      "text/plain": [
       "HBox(children=(IntProgress(value=0, max=647), HTML(value='')))"
      ]
     },
     "metadata": {},
     "output_type": "display_data"
    },
    {
     "name": "stdout",
     "output_type": "stream",
     "text": [
      "Evaluation finished\n",
      "Train res:{'f1_weighted': 0.5886347301726218, 'f1_macro': 0.40316325047842444}\n",
      ">> Running Evaluation\n"
     ]
    },
    {
     "data": {
      "application/vnd.jupyter.widget-view+json": {
       "model_id": "c2e96d2c27f9449abc13f071def8c50b",
       "version_major": 2,
       "version_minor": 0
      },
      "text/plain": [
       "HBox(children=(IntProgress(value=0, max=278), HTML(value='')))"
      ]
     },
     "metadata": {},
     "output_type": "display_data"
    },
    {
     "name": "stdout",
     "output_type": "stream",
     "text": [
      "Evaluation finished\n",
      "Test res:{'f1_weighted': 0.4667835615559829, 'f1_macro': 0.2624054756029767}\n",
      ">> Running trainer\n",
      ">>> Epoch 0\n"
     ]
    },
    {
     "data": {
      "application/vnd.jupyter.widget-view+json": {
       "model_id": "c5e9412cbc3a47a696080401aa163e8b",
       "version_major": 2,
       "version_minor": 0
      },
      "text/plain": [
       "HBox(children=(IntProgress(value=0, max=647), HTML(value='')))"
      ]
     },
     "metadata": {},
     "output_type": "display_data"
    },
    {
     "name": "stdout",
     "output_type": "stream",
     "text": [
      ">>> Loss: 1.232046401500702\n",
      ">>> Loss: 1.2607420086860657\n",
      ">>> Loss: 1.3786906123161315\n",
      ">>> Loss: 1.3785980224609375\n",
      ">>> Loss: 1.3592816710472106\n",
      ">>> Loss: 1.2302240967750548\n",
      ">>> Loss: 1.3362070202827454\n",
      ">>> Loss: 1.3753137469291687\n",
      ">>> Loss: 1.4390674829483032\n",
      ">>> Loss: 1.2541951954364776\n",
      ">>> Loss: 1.3538600564002992\n",
      ">>> Loss: 1.2489954352378845\n",
      ">>> Loss: 1.2659437298774718\n",
      "Trainer epoch finished\n",
      ">> Running Evaluation\n"
     ]
    },
    {
     "data": {
      "application/vnd.jupyter.widget-view+json": {
       "model_id": "7c356d9989e54ca6873db18f5ccfc191",
       "version_major": 2,
       "version_minor": 0
      },
      "text/plain": [
       "HBox(children=(IntProgress(value=0, max=647), HTML(value='')))"
      ]
     },
     "metadata": {},
     "output_type": "display_data"
    },
    {
     "name": "stdout",
     "output_type": "stream",
     "text": [
      "Evaluation finished\n",
      "Train res:{'f1_weighted': 0.5938263774149104, 'f1_macro': 0.41064840393297386}\n",
      ">> Running Evaluation\n"
     ]
    },
    {
     "data": {
      "application/vnd.jupyter.widget-view+json": {
       "model_id": "dcc872047b764db295ed97a7a47da1d6",
       "version_major": 2,
       "version_minor": 0
      },
      "text/plain": [
       "HBox(children=(IntProgress(value=0, max=278), HTML(value='')))"
      ]
     },
     "metadata": {},
     "output_type": "display_data"
    },
    {
     "name": "stdout",
     "output_type": "stream",
     "text": [
      "Evaluation finished\n",
      "Test res:{'f1_weighted': 0.4679858658285154, 'f1_macro': 0.26494543270256976}\n",
      ">> Running trainer\n",
      ">>> Epoch 0\n"
     ]
    },
    {
     "data": {
      "application/vnd.jupyter.widget-view+json": {
       "model_id": "7cbaabaa30334f878dafb3b12467765e",
       "version_major": 2,
       "version_minor": 0
      },
      "text/plain": [
       "HBox(children=(IntProgress(value=0, max=647), HTML(value='')))"
      ]
     },
     "metadata": {},
     "output_type": "display_data"
    },
    {
     "name": "stdout",
     "output_type": "stream",
     "text": [
      ">>> Loss: 1.208247923851013\n",
      ">>> Loss: 1.2484613180160522\n",
      ">>> Loss: 1.3538968801498412\n",
      ">>> Loss: 1.3623427629470826\n",
      ">>> Loss: 1.3313987851142883\n",
      ">>> Loss: 1.212493109703064\n",
      ">>> Loss: 1.3225181341171264\n",
      ">>> Loss: 1.3579586029052735\n",
      ">>> Loss: 1.4262410044670104\n",
      ">>> Loss: 1.2415411293506622\n",
      ">>> Loss: 1.3330032229423523\n",
      ">>> Loss: 1.2334640979766847\n",
      ">>> Loss: 1.242229700088501\n",
      "Trainer epoch finished\n",
      ">> Running Evaluation\n"
     ]
    },
    {
     "data": {
      "application/vnd.jupyter.widget-view+json": {
       "model_id": "60756d2c362b49658a269cb9a755c9e3",
       "version_major": 2,
       "version_minor": 0
      },
      "text/plain": [
       "HBox(children=(IntProgress(value=0, max=647), HTML(value='')))"
      ]
     },
     "metadata": {},
     "output_type": "display_data"
    },
    {
     "name": "stdout",
     "output_type": "stream",
     "text": [
      "Evaluation finished\n",
      "Train res:{'f1_weighted': 0.597033290736765, 'f1_macro': 0.4138493465853495}\n",
      ">> Running Evaluation\n"
     ]
    },
    {
     "data": {
      "application/vnd.jupyter.widget-view+json": {
       "model_id": "7524eafb11334590ad591ada70e3505e",
       "version_major": 2,
       "version_minor": 0
      },
      "text/plain": [
       "HBox(children=(IntProgress(value=0, max=278), HTML(value='')))"
      ]
     },
     "metadata": {},
     "output_type": "display_data"
    },
    {
     "name": "stdout",
     "output_type": "stream",
     "text": [
      "Evaluation finished\n",
      "Test res:{'f1_weighted': 0.4669492384492743, 'f1_macro': 0.26425961930621944}\n",
      ">> Running trainer\n",
      ">>> Epoch 0\n"
     ]
    },
    {
     "data": {
      "application/vnd.jupyter.widget-view+json": {
       "model_id": "0564a944e614403db5c2851ac76fc328",
       "version_major": 2,
       "version_minor": 0
      },
      "text/plain": [
       "HBox(children=(IntProgress(value=0, max=647), HTML(value='')))"
      ]
     },
     "metadata": {},
     "output_type": "display_data"
    },
    {
     "name": "stdout",
     "output_type": "stream",
     "text": [
      ">>> Loss: 1.1930028349161148\n",
      ">>> Loss: 1.2273751020431518\n",
      ">>> Loss: 1.3329102277755738\n",
      ">>> Loss: 1.3397757053375243\n",
      ">>> Loss: 1.3094866752624512\n",
      ">>> Loss: 1.189671403169632\n",
      ">>> Loss: 1.310279333591461\n",
      ">>> Loss: 1.342814064025879\n",
      ">>> Loss: 1.4028709650039672\n",
      ">>> Loss: 1.226837694644928\n",
      ">>> Loss: 1.3181882739067077\n",
      ">>> Loss: 1.2141779124736787\n",
      ">>> Loss: 1.2240363240242005\n",
      "Trainer epoch finished\n",
      ">> Running Evaluation\n"
     ]
    },
    {
     "data": {
      "application/vnd.jupyter.widget-view+json": {
       "model_id": "b763f7af1a6d4e92b2ab2c85067d1248",
       "version_major": 2,
       "version_minor": 0
      },
      "text/plain": [
       "HBox(children=(IntProgress(value=0, max=647), HTML(value='')))"
      ]
     },
     "metadata": {},
     "output_type": "display_data"
    },
    {
     "name": "stdout",
     "output_type": "stream",
     "text": [
      "Evaluation finished\n",
      "Train res:{'f1_weighted': 0.6026855033608356, 'f1_macro': 0.4199912361964254}\n",
      ">> Running Evaluation\n"
     ]
    },
    {
     "data": {
      "application/vnd.jupyter.widget-view+json": {
       "model_id": "dd86c8887a9c4c82b484c11061449520",
       "version_major": 2,
       "version_minor": 0
      },
      "text/plain": [
       "HBox(children=(IntProgress(value=0, max=278), HTML(value='')))"
      ]
     },
     "metadata": {},
     "output_type": "display_data"
    },
    {
     "name": "stdout",
     "output_type": "stream",
     "text": [
      "Evaluation finished\n",
      "Test res:{'f1_weighted': 0.47026802701413123, 'f1_macro': 0.2659054061394898}\n"
     ]
    }
   ],
   "source": [
    "trainer = Trainer(net, config, lr=0.001, l2_rate=1e-5)\n",
    "evaluation = Evaluation(net, config)\n",
    "for i in range(20):\n",
    "    trainer.run(train_loader, epochs=1)\n",
    "    res = evaluation.run(train_loader)\n",
    "    print(\"Train res:\" + str(res))\n",
    "    res = evaluation.run(test_loader)\n",
    "    print(\"Test res:\" + str(res))"
   ]
  },
  {
   "cell_type": "code",
   "execution_count": 256,
   "metadata": {},
   "outputs": [
    {
     "name": "stdout",
     "output_type": "stream",
     "text": [
      ">> Running trainer\n",
      ">>> Epoch 0\n"
     ]
    },
    {
     "data": {
      "application/vnd.jupyter.widget-view+json": {
       "model_id": "b80d7bf7419b4b75bc1f45e105916474",
       "version_major": 2,
       "version_minor": 0
      },
      "text/plain": [
       "HBox(children=(IntProgress(value=0, max=647), HTML(value='')))"
      ]
     },
     "metadata": {},
     "output_type": "display_data"
    },
    {
     "name": "stdout",
     "output_type": "stream",
     "text": [
      ">>> Loss: 0.9520504474639893\n",
      ">>> Loss: 0.9151710093021392\n",
      ">>> Loss: 0.992241096496582\n",
      ">>> Loss: 1.0297551989555358\n",
      ">>> Loss: 1.037773060798645\n",
      ">>> Loss: 0.9058693289756775\n",
      ">>> Loss: 0.9875766396522522\n",
      ">>> Loss: 0.9563185274600983\n",
      ">>> Loss: 1.000137484073639\n",
      ">>> Loss: 0.9478343665599823\n",
      ">>> Loss: 0.8942230105400085\n",
      ">>> Loss: 0.8583919465541839\n",
      ">>> Loss: 0.792788290977478\n",
      "Trainer epoch finished\n",
      ">> Running Evaluation\n"
     ]
    },
    {
     "data": {
      "application/vnd.jupyter.widget-view+json": {
       "model_id": "7e0125ca32984f2d84a12f145cc35244",
       "version_major": 2,
       "version_minor": 0
      },
      "text/plain": [
       "HBox(children=(IntProgress(value=0, max=647), HTML(value='')))"
      ]
     },
     "metadata": {},
     "output_type": "display_data"
    },
    {
     "name": "stdout",
     "output_type": "stream",
     "text": [
      "Evaluation finished\n",
      "Train res:{'f1_weighted': 0.7292054207649908, 'f1_macro': 0.6351696284995888}\n",
      ">> Running Evaluation\n"
     ]
    },
    {
     "data": {
      "application/vnd.jupyter.widget-view+json": {
       "model_id": "b5a7d9627fd04789a057763b3d21479a",
       "version_major": 2,
       "version_minor": 0
      },
      "text/plain": [
       "HBox(children=(IntProgress(value=0, max=278), HTML(value='')))"
      ]
     },
     "metadata": {},
     "output_type": "display_data"
    },
    {
     "name": "stdout",
     "output_type": "stream",
     "text": [
      "Evaluation finished\n",
      "Test res:{'f1_weighted': 0.5037706745066622, 'f1_macro': 0.3314000160164028}\n",
      ">> Running trainer\n",
      ">>> Epoch 0\n"
     ]
    },
    {
     "data": {
      "application/vnd.jupyter.widget-view+json": {
       "model_id": "f23165cb8ec54bf6b5235bf8e553ffd1",
       "version_major": 2,
       "version_minor": 0
      },
      "text/plain": [
       "HBox(children=(IntProgress(value=0, max=647), HTML(value='')))"
      ]
     },
     "metadata": {},
     "output_type": "display_data"
    },
    {
     "name": "stdout",
     "output_type": "stream",
     "text": [
      ">>> Loss: 0.7829216957092285\n",
      ">>> Loss: 0.8726774692535401\n",
      ">>> Loss: 0.9572717607021332\n",
      ">>> Loss: 0.9728882193565369\n",
      ">>> Loss: 0.9817004203796387\n",
      ">>> Loss: 0.8686112940311432\n",
      ">>> Loss: 0.9515065789222718\n",
      ">>> Loss: 0.9065944850444794\n",
      ">>> Loss: 0.9696988046169281\n",
      ">>> Loss: 0.9225357234477997\n",
      ">>> Loss: 0.8759595096111298\n",
      ">>> Loss: 0.845538318157196\n",
      ">>> Loss: 0.7920364499092102\n",
      "Trainer epoch finished\n",
      ">> Running Evaluation\n"
     ]
    },
    {
     "data": {
      "application/vnd.jupyter.widget-view+json": {
       "model_id": "4184db1ea1d34ab1958e6677da30c0e3",
       "version_major": 2,
       "version_minor": 0
      },
      "text/plain": [
       "HBox(children=(IntProgress(value=0, max=647), HTML(value='')))"
      ]
     },
     "metadata": {},
     "output_type": "display_data"
    },
    {
     "name": "stdout",
     "output_type": "stream",
     "text": [
      "Evaluation finished\n",
      "Train res:{'f1_weighted': 0.7373813140488824, 'f1_macro': 0.6490933350630831}\n",
      ">> Running Evaluation\n"
     ]
    },
    {
     "data": {
      "application/vnd.jupyter.widget-view+json": {
       "model_id": "c6371c215f1441a287ef8b8ef54077d8",
       "version_major": 2,
       "version_minor": 0
      },
      "text/plain": [
       "HBox(children=(IntProgress(value=0, max=278), HTML(value='')))"
      ]
     },
     "metadata": {},
     "output_type": "display_data"
    },
    {
     "name": "stdout",
     "output_type": "stream",
     "text": [
      "Evaluation finished\n",
      "Test res:{'f1_weighted': 0.504233616529749, 'f1_macro': 0.332540375792978}\n",
      ">> Running trainer\n",
      ">>> Epoch 0\n"
     ]
    },
    {
     "data": {
      "application/vnd.jupyter.widget-view+json": {
       "model_id": "2d4f410569dc41aca630ea589208febf",
       "version_major": 2,
       "version_minor": 0
      },
      "text/plain": [
       "HBox(children=(IntProgress(value=0, max=647), HTML(value='')))"
      ]
     },
     "metadata": {},
     "output_type": "display_data"
    },
    {
     "name": "stdout",
     "output_type": "stream",
     "text": [
      ">>> Loss: 0.7692135691642761\n",
      ">>> Loss: 0.8430493652820588\n",
      ">>> Loss: 0.9413741230964661\n",
      ">>> Loss: 0.9470601558685303\n",
      ">>> Loss: 0.9554083466529846\n",
      ">>> Loss: 0.8472128689289093\n",
      ">>> Loss: 0.9340928316116333\n",
      ">>> Loss: 0.8876856803894043\n",
      ">>> Loss: 0.9517769038677215\n",
      ">>> Loss: 0.9095649361610413\n",
      ">>> Loss: 0.8571035146713257\n",
      ">>> Loss: 0.8345108389854431\n",
      ">>> Loss: 0.7893376529216767\n",
      "Trainer epoch finished\n",
      ">> Running Evaluation\n"
     ]
    },
    {
     "data": {
      "application/vnd.jupyter.widget-view+json": {
       "model_id": "a9609e7257614616a14c814614d4fd35",
       "version_major": 2,
       "version_minor": 0
      },
      "text/plain": [
       "HBox(children=(IntProgress(value=0, max=647), HTML(value='')))"
      ]
     },
     "metadata": {},
     "output_type": "display_data"
    },
    {
     "name": "stdout",
     "output_type": "stream",
     "text": [
      "Evaluation finished\n",
      "Train res:{'f1_weighted': 0.7407730559719662, 'f1_macro': 0.6545758507396449}\n",
      ">> Running Evaluation\n"
     ]
    },
    {
     "data": {
      "application/vnd.jupyter.widget-view+json": {
       "model_id": "52f880b9ee8046d19a24e5f743dcfbaa",
       "version_major": 2,
       "version_minor": 0
      },
      "text/plain": [
       "HBox(children=(IntProgress(value=0, max=278), HTML(value='')))"
      ]
     },
     "metadata": {},
     "output_type": "display_data"
    },
    {
     "name": "stdout",
     "output_type": "stream",
     "text": [
      "Evaluation finished\n",
      "Test res:{'f1_weighted': 0.5048431469439877, 'f1_macro': 0.33295403678339663}\n",
      ">> Running trainer\n",
      ">>> Epoch 0\n"
     ]
    },
    {
     "data": {
      "application/vnd.jupyter.widget-view+json": {
       "model_id": "e3637a4551e24c939f4c560cf13f9181",
       "version_major": 2,
       "version_minor": 0
      },
      "text/plain": [
       "HBox(children=(IntProgress(value=0, max=647), HTML(value='')))"
      ]
     },
     "metadata": {},
     "output_type": "display_data"
    },
    {
     "name": "stdout",
     "output_type": "stream",
     "text": [
      ">>> Loss: 0.7590947568416595\n",
      ">>> Loss: 0.8269656896591187\n",
      ">>> Loss: 0.9289754569530487\n",
      ">>> Loss: 0.9300643146038056\n",
      ">>> Loss: 0.9394657909870148\n",
      ">>> Loss: 0.830944174528122\n",
      ">>> Loss: 0.9149375677108764\n",
      ">>> Loss: 0.8746452808380127\n",
      ">>> Loss: 0.9416573286056519\n",
      ">>> Loss: 0.8979973018169403\n",
      ">>> Loss: 0.8429227590560913\n",
      ">>> Loss: 0.8197513163089752\n",
      ">>> Loss: 0.7842360317707062\n",
      "Trainer epoch finished\n",
      ">> Running Evaluation\n"
     ]
    },
    {
     "data": {
      "application/vnd.jupyter.widget-view+json": {
       "model_id": "7c497f2de95c4b8a927665d99aa6695f",
       "version_major": 2,
       "version_minor": 0
      },
      "text/plain": [
       "HBox(children=(IntProgress(value=0, max=647), HTML(value='')))"
      ]
     },
     "metadata": {},
     "output_type": "display_data"
    },
    {
     "name": "stdout",
     "output_type": "stream",
     "text": [
      "Evaluation finished\n",
      "Train res:{'f1_weighted': 0.7452813132878763, 'f1_macro': 0.6625980931201132}\n",
      ">> Running Evaluation\n"
     ]
    },
    {
     "data": {
      "application/vnd.jupyter.widget-view+json": {
       "model_id": "40989a848a7740e9babe1b449a5b5fd2",
       "version_major": 2,
       "version_minor": 0
      },
      "text/plain": [
       "HBox(children=(IntProgress(value=0, max=278), HTML(value='')))"
      ]
     },
     "metadata": {},
     "output_type": "display_data"
    },
    {
     "name": "stdout",
     "output_type": "stream",
     "text": [
      "Evaluation finished\n",
      "Test res:{'f1_weighted': 0.5057997179362723, 'f1_macro': 0.3355208545880919}\n",
      ">> Running trainer\n",
      ">>> Epoch 0\n"
     ]
    },
    {
     "data": {
      "application/vnd.jupyter.widget-view+json": {
       "model_id": "4de5c77679c74d348d909a8e748d49eb",
       "version_major": 2,
       "version_minor": 0
      },
      "text/plain": [
       "HBox(children=(IntProgress(value=0, max=647), HTML(value='')))"
      ]
     },
     "metadata": {},
     "output_type": "display_data"
    },
    {
     "name": "stdout",
     "output_type": "stream",
     "text": [
      ">>> Loss: 0.7502448052167893\n",
      ">>> Loss: 0.8143530249595642\n",
      ">>> Loss: 0.9135873556137085\n",
      ">>> Loss: 0.9179432988166809\n",
      ">>> Loss: 0.9229217410087586\n",
      ">>> Loss: 0.8164565980434417\n",
      ">>> Loss: 0.8989285171031952\n",
      ">>> Loss: 0.8635313928127288\n",
      ">>> Loss: 0.9258894443511962\n",
      ">>> Loss: 0.8876598000526428\n"
     ]
    },
    {
     "name": "stderr",
     "output_type": "stream",
     "text": [
      "Traceback (most recent call last):\n",
      "Traceback (most recent call last):\n",
      "  File \"/usr/local/Cellar/python/3.7.3/Frameworks/Python.framework/Versions/3.7/lib/python3.7/multiprocessing/queues.py\", line 242, in _feed\n",
      "    send_bytes(obj)\n",
      "  File \"/usr/local/Cellar/python/3.7.3/Frameworks/Python.framework/Versions/3.7/lib/python3.7/multiprocessing/connection.py\", line 200, in send_bytes\n",
      "    self._send_bytes(m[offset:offset + size])\n",
      "  File \"/usr/local/Cellar/python/3.7.3/Frameworks/Python.framework/Versions/3.7/lib/python3.7/multiprocessing/queues.py\", line 242, in _feed\n",
      "    send_bytes(obj)\n",
      "  File \"/usr/local/Cellar/python/3.7.3/Frameworks/Python.framework/Versions/3.7/lib/python3.7/multiprocessing/connection.py\", line 404, in _send_bytes\n",
      "    self._send(header + buf)\n",
      "  File \"/usr/local/Cellar/python/3.7.3/Frameworks/Python.framework/Versions/3.7/lib/python3.7/multiprocessing/connection.py\", line 368, in _send\n",
      "    n = write(self._handle, buf)\n",
      "BrokenPipeError: [Errno 32] Broken pipe\n",
      "  File \"/usr/local/Cellar/python/3.7.3/Frameworks/Python.framework/Versions/3.7/lib/python3.7/multiprocessing/connection.py\", line 200, in send_bytes\n",
      "    self._send_bytes(m[offset:offset + size])\n",
      "  File \"/usr/local/Cellar/python/3.7.3/Frameworks/Python.framework/Versions/3.7/lib/python3.7/multiprocessing/connection.py\", line 404, in _send_bytes\n",
      "    self._send(header + buf)\n",
      "  File \"/usr/local/Cellar/python/3.7.3/Frameworks/Python.framework/Versions/3.7/lib/python3.7/multiprocessing/connection.py\", line 368, in _send\n",
      "    n = write(self._handle, buf)\n",
      "BrokenPipeError: [Errno 32] Broken pipe\n"
     ]
    },
    {
     "ename": "KeyboardInterrupt",
     "evalue": "",
     "output_type": "error",
     "traceback": [
      "\u001b[0;31m---------------------------------------------------------------------------\u001b[0m",
      "\u001b[0;31mKeyboardInterrupt\u001b[0m                         Traceback (most recent call last)",
      "\u001b[0;32m<ipython-input-256-682b45bff9a5>\u001b[0m in \u001b[0;36m<module>\u001b[0;34m\u001b[0m\n\u001b[1;32m      2\u001b[0m \u001b[0mevaluation\u001b[0m \u001b[0;34m=\u001b[0m \u001b[0mEvaluation\u001b[0m\u001b[0;34m(\u001b[0m\u001b[0mnet\u001b[0m\u001b[0;34m,\u001b[0m \u001b[0mconfig\u001b[0m\u001b[0;34m)\u001b[0m\u001b[0;34m\u001b[0m\u001b[0;34m\u001b[0m\u001b[0m\n\u001b[1;32m      3\u001b[0m \u001b[0;32mfor\u001b[0m \u001b[0mi\u001b[0m \u001b[0;32min\u001b[0m \u001b[0mrange\u001b[0m\u001b[0;34m(\u001b[0m\u001b[0;36m20\u001b[0m\u001b[0;34m)\u001b[0m\u001b[0;34m:\u001b[0m\u001b[0;34m\u001b[0m\u001b[0;34m\u001b[0m\u001b[0m\n\u001b[0;32m----> 4\u001b[0;31m     \u001b[0mtrainer\u001b[0m\u001b[0;34m.\u001b[0m\u001b[0mrun\u001b[0m\u001b[0;34m(\u001b[0m\u001b[0mtrain_loader\u001b[0m\u001b[0;34m,\u001b[0m \u001b[0mepochs\u001b[0m\u001b[0;34m=\u001b[0m\u001b[0;36m1\u001b[0m\u001b[0;34m)\u001b[0m\u001b[0;34m\u001b[0m\u001b[0;34m\u001b[0m\u001b[0m\n\u001b[0m\u001b[1;32m      5\u001b[0m     \u001b[0mres\u001b[0m \u001b[0;34m=\u001b[0m \u001b[0mevaluation\u001b[0m\u001b[0;34m.\u001b[0m\u001b[0mrun\u001b[0m\u001b[0;34m(\u001b[0m\u001b[0mtrain_loader\u001b[0m\u001b[0;34m)\u001b[0m\u001b[0;34m\u001b[0m\u001b[0;34m\u001b[0m\u001b[0m\n\u001b[1;32m      6\u001b[0m     \u001b[0mprint\u001b[0m\u001b[0;34m(\u001b[0m\u001b[0;34m\"Train res:\"\u001b[0m \u001b[0;34m+\u001b[0m \u001b[0mstr\u001b[0m\u001b[0;34m(\u001b[0m\u001b[0mres\u001b[0m\u001b[0;34m)\u001b[0m\u001b[0;34m)\u001b[0m\u001b[0;34m\u001b[0m\u001b[0;34m\u001b[0m\u001b[0m\n",
      "\u001b[0;32m<ipython-input-244-b2f6200fa1b2>\u001b[0m in \u001b[0;36mrun\u001b[0;34m(self, dataloader, epochs)\u001b[0m\n\u001b[1;32m     19\u001b[0m                 \u001b[0mpredict\u001b[0m \u001b[0;34m=\u001b[0m \u001b[0mself\u001b[0m\u001b[0;34m.\u001b[0m\u001b[0mnet\u001b[0m\u001b[0;34m(\u001b[0m\u001b[0mvectors\u001b[0m\u001b[0;34m)\u001b[0m\u001b[0;34m\u001b[0m\u001b[0;34m\u001b[0m\u001b[0m\n\u001b[1;32m     20\u001b[0m                 \u001b[0mloss\u001b[0m \u001b[0;34m=\u001b[0m \u001b[0mself\u001b[0m\u001b[0;34m.\u001b[0m\u001b[0mloss\u001b[0m\u001b[0;34m(\u001b[0m\u001b[0mpredict\u001b[0m\u001b[0;34m,\u001b[0m \u001b[0mtarget\u001b[0m\u001b[0;34m)\u001b[0m\u001b[0;34m\u001b[0m\u001b[0;34m\u001b[0m\u001b[0m\n\u001b[0;32m---> 21\u001b[0;31m                 \u001b[0mloss\u001b[0m\u001b[0;34m.\u001b[0m\u001b[0mbackward\u001b[0m\u001b[0;34m(\u001b[0m\u001b[0;34m)\u001b[0m\u001b[0;34m\u001b[0m\u001b[0;34m\u001b[0m\u001b[0m\n\u001b[0m\u001b[1;32m     22\u001b[0m                 \u001b[0mself\u001b[0m\u001b[0;34m.\u001b[0m\u001b[0mlosses\u001b[0m\u001b[0;34m.\u001b[0m\u001b[0mappend\u001b[0m\u001b[0;34m(\u001b[0m\u001b[0mloss\u001b[0m\u001b[0;34m.\u001b[0m\u001b[0mitem\u001b[0m\u001b[0;34m(\u001b[0m\u001b[0;34m)\u001b[0m\u001b[0;34m)\u001b[0m\u001b[0;34m\u001b[0m\u001b[0;34m\u001b[0m\u001b[0m\n\u001b[1;32m     23\u001b[0m                 \u001b[0mself\u001b[0m\u001b[0;34m.\u001b[0m\u001b[0moptimizer\u001b[0m\u001b[0;34m.\u001b[0m\u001b[0mstep\u001b[0m\u001b[0;34m(\u001b[0m\u001b[0;34m)\u001b[0m\u001b[0;34m\u001b[0m\u001b[0;34m\u001b[0m\u001b[0m\n",
      "\u001b[0;32m~/programming/edu/ucu/nlp/.env/lib/python3.7/site-packages/torch/tensor.py\u001b[0m in \u001b[0;36mbackward\u001b[0;34m(self, gradient, retain_graph, create_graph)\u001b[0m\n\u001b[1;32m    105\u001b[0m                 \u001b[0mproducts\u001b[0m\u001b[0;34m.\u001b[0m \u001b[0mDefaults\u001b[0m \u001b[0mto\u001b[0m\u001b[0;31m \u001b[0m\u001b[0;31m`\u001b[0m\u001b[0;31m`\u001b[0m\u001b[0;32mFalse\u001b[0m\u001b[0;31m`\u001b[0m\u001b[0;31m`\u001b[0m\u001b[0;34m.\u001b[0m\u001b[0;34m\u001b[0m\u001b[0;34m\u001b[0m\u001b[0m\n\u001b[1;32m    106\u001b[0m         \"\"\"\n\u001b[0;32m--> 107\u001b[0;31m         \u001b[0mtorch\u001b[0m\u001b[0;34m.\u001b[0m\u001b[0mautograd\u001b[0m\u001b[0;34m.\u001b[0m\u001b[0mbackward\u001b[0m\u001b[0;34m(\u001b[0m\u001b[0mself\u001b[0m\u001b[0;34m,\u001b[0m \u001b[0mgradient\u001b[0m\u001b[0;34m,\u001b[0m \u001b[0mretain_graph\u001b[0m\u001b[0;34m,\u001b[0m \u001b[0mcreate_graph\u001b[0m\u001b[0;34m)\u001b[0m\u001b[0;34m\u001b[0m\u001b[0;34m\u001b[0m\u001b[0m\n\u001b[0m\u001b[1;32m    108\u001b[0m \u001b[0;34m\u001b[0m\u001b[0m\n\u001b[1;32m    109\u001b[0m     \u001b[0;32mdef\u001b[0m \u001b[0mregister_hook\u001b[0m\u001b[0;34m(\u001b[0m\u001b[0mself\u001b[0m\u001b[0;34m,\u001b[0m \u001b[0mhook\u001b[0m\u001b[0;34m)\u001b[0m\u001b[0;34m:\u001b[0m\u001b[0;34m\u001b[0m\u001b[0;34m\u001b[0m\u001b[0m\n",
      "\u001b[0;32m~/programming/edu/ucu/nlp/.env/lib/python3.7/site-packages/torch/autograd/__init__.py\u001b[0m in \u001b[0;36mbackward\u001b[0;34m(tensors, grad_tensors, retain_graph, create_graph, grad_variables)\u001b[0m\n\u001b[1;32m     91\u001b[0m     Variable._execution_engine.run_backward(\n\u001b[1;32m     92\u001b[0m         \u001b[0mtensors\u001b[0m\u001b[0;34m,\u001b[0m \u001b[0mgrad_tensors\u001b[0m\u001b[0;34m,\u001b[0m \u001b[0mretain_graph\u001b[0m\u001b[0;34m,\u001b[0m \u001b[0mcreate_graph\u001b[0m\u001b[0;34m,\u001b[0m\u001b[0;34m\u001b[0m\u001b[0;34m\u001b[0m\u001b[0m\n\u001b[0;32m---> 93\u001b[0;31m         allow_unreachable=True)  # allow_unreachable flag\n\u001b[0m\u001b[1;32m     94\u001b[0m \u001b[0;34m\u001b[0m\u001b[0m\n\u001b[1;32m     95\u001b[0m \u001b[0;34m\u001b[0m\u001b[0m\n",
      "\u001b[0;31mKeyboardInterrupt\u001b[0m: "
     ]
    }
   ],
   "source": [
    "trainer = Trainer(net, config, lr=0.0001, l2_rate=1e-5)\n",
    "evaluation = Evaluation(net, config)\n",
    "for i in range(20):\n",
    "    trainer.run(train_loader, epochs=1)\n",
    "    res = evaluation.run(train_loader)\n",
    "    print(\"Train res:\" + str(res))\n",
    "    res = evaluation.run(test_loader)\n",
    "    print(\"Test res:\" + str(res))"
   ]
  },
  {
   "cell_type": "code",
   "execution_count": null,
   "metadata": {},
   "outputs": [],
   "source": []
  },
  {
   "cell_type": "code",
   "execution_count": null,
   "metadata": {},
   "outputs": [],
   "source": []
  }
 ],
 "metadata": {
  "kernelspec": {
   "display_name": "Python 3",
   "language": "python",
   "name": "python3"
  },
  "language_info": {
   "codemirror_mode": {
    "name": "ipython",
    "version": 3
   },
   "file_extension": ".py",
   "mimetype": "text/x-python",
   "name": "python",
   "nbconvert_exporter": "python",
   "pygments_lexer": "ipython3",
   "version": "3.7.3"
  }
 },
 "nbformat": 4,
 "nbformat_minor": 2
}
