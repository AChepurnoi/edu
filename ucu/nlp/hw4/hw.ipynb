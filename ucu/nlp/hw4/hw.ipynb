{
 "cells": [
  {
   "cell_type": "code",
   "execution_count": 1,
   "metadata": {},
   "outputs": [],
   "source": [
    "import torch\n",
    "import torch.nn as nn\n",
    "from torch.utils import data\n",
    "from torch.functional import F\n",
    "import matplotlib.pyplot as plt\n",
    "from torch.nn.utils.rnn import pad_sequence, pack_sequence"
   ]
  },
  {
   "cell_type": "code",
   "execution_count": 2,
   "metadata": {},
   "outputs": [],
   "source": [
    "import nltk\n",
    "import numpy as np\n",
    "from sklearn.preprocessing import LabelEncoder\n",
    "import tqdm"
   ]
  },
  {
   "cell_type": "markdown",
   "metadata": {},
   "source": [
    "## 1. Data parsing "
   ]
  },
  {
   "cell_type": "code",
   "execution_count": 3,
   "metadata": {},
   "outputs": [],
   "source": [
    "def read_data():\n",
    "    reader = nltk.corpus.reader.conll.ConllCorpusReader(\".\", fileids=['train.txt'],\n",
    "                                                   columntypes=['words','pos', 'tree', 'chunk'])\n",
    "    train = reader.iob_sents()\n",
    "    train = list(filter(lambda x: len(x) > 0, train))\n",
    "    # Dev\n",
    "    reader = nltk.corpus.reader.conll.ConllCorpusReader(\".\", fileids=['dev.txt'],\n",
    "                                                   columntypes=['words','pos', 'tree', 'chunk'])\n",
    "    dev = reader.iob_sents()\n",
    "    dev = list(filter(lambda x: len(x) > 0, dev))\n",
    "    #Test\n",
    "    reader = nltk.corpus.reader.conll.ConllCorpusReader(\".\", fileids=['test.txt'],\n",
    "                                               columntypes=['words','pos', 'tree', 'chunk'])\n",
    "    test = reader.iob_sents()\n",
    "    test = list(filter(lambda x: len(x) > 0, test))\n",
    "    \n",
    "    return train, dev, test\n",
    "    "
   ]
  },
  {
   "cell_type": "code",
   "execution_count": null,
   "metadata": {},
   "outputs": [],
   "source": []
  },
  {
   "cell_type": "code",
   "execution_count": 4,
   "metadata": {},
   "outputs": [],
   "source": [
    "def read_embeddings():\n",
    "    embeddings_index = dict()\n",
    "    f = open('glove.6B.100d.txt')\n",
    "    for line in f:\n",
    "        values = line.split()\n",
    "        word = values[0]\n",
    "        coefs = np.asarray(values[1:], dtype='float32')\n",
    "        embeddings_index[word] = coefs\n",
    "    f.close()\n",
    "    return embeddings_index"
   ]
  },
  {
   "cell_type": "markdown",
   "metadata": {},
   "source": [
    "## 2. Embedding loaders "
   ]
  },
  {
   "cell_type": "code",
   "execution_count": 5,
   "metadata": {},
   "outputs": [],
   "source": [
    "def embedding_loader_a(embeddings, word):\n",
    "    if word in embeddings:\n",
    "        return embeddings[word]\n",
    "    else:\n",
    "        return np.zeros(100)\n",
    "    \n",
    "def embedding_loader_b(embeddings, word):\n",
    "    if word.lower() in embeddings:\n",
    "        return embeddings[word.lower()]\n",
    "    else:\n",
    "        return np.zeros(100)\n",
    "    \n",
    "def embedding_loader_c(embeddings, word):\n",
    "    if word in embeddings:\n",
    "        return embeddings[word]\n",
    "    elif word.lower() in embeddings:\n",
    "        return embeddings[word.lower()]\n",
    "    else:\n",
    "        return np.zeros(100)"
   ]
  },
  {
   "cell_type": "code",
   "execution_count": 6,
   "metadata": {},
   "outputs": [],
   "source": [
    "train, dev, test = read_data()"
   ]
  },
  {
   "cell_type": "code",
   "execution_count": 7,
   "metadata": {},
   "outputs": [],
   "source": [
    "embeddings = read_embeddings()"
   ]
  },
  {
   "cell_type": "code",
   "execution_count": 8,
   "metadata": {},
   "outputs": [],
   "source": [
    "label_encoder = LabelEncoder()"
   ]
  },
  {
   "cell_type": "code",
   "execution_count": 12,
   "metadata": {},
   "outputs": [],
   "source": [
    "all_tokens = list({o[2] for l in train for o in l})"
   ]
  },
  {
   "cell_type": "code",
   "execution_count": null,
   "metadata": {},
   "outputs": [],
   "source": []
  },
  {
   "cell_type": "code",
   "execution_count": 14,
   "metadata": {},
   "outputs": [
    {
     "data": {
      "text/plain": [
       "LabelEncoder()"
      ]
     },
     "execution_count": 14,
     "metadata": {},
     "output_type": "execute_result"
    }
   ],
   "source": [
    "label_encoder = LabelEncoder()\n",
    "label_encoder.fit(['<PADDING>', *all_tokens])"
   ]
  },
  {
   "cell_type": "code",
   "execution_count": 15,
   "metadata": {},
   "outputs": [],
   "source": [
    "padding_label = label_encoder.transform(['<PADDING>'])[0]"
   ]
  },
  {
   "cell_type": "code",
   "execution_count": null,
   "metadata": {},
   "outputs": [],
   "source": []
  },
  {
   "cell_type": "markdown",
   "metadata": {},
   "source": [
    "## Defining neural network and batch dataloader"
   ]
  },
  {
   "cell_type": "code",
   "execution_count": 16,
   "metadata": {},
   "outputs": [],
   "source": [
    "# Pad batch to the same seq len\n",
    "def get_padding_collate(padding_label):\n",
    "    def padding_collate(batch):\n",
    "        data = [item[0] for item in batch]\n",
    "        data = pad_sequence(data, batch_first=False)\n",
    "        target = [item[1] for item in batch]\n",
    "        target = pad_sequence(target, batch_first=False, padding_value=padding_label)\n",
    "\n",
    "        mask = [item[2] for item in batch]\n",
    "        mask = pad_sequence(mask, batch_first=False)\n",
    "\n",
    "        return [data, target, mask]\n",
    "    return padding_collate\n",
    "\n",
    "class DataLoader(data.Dataset):\n",
    "    def __init__(self, data, label_encoder, embeddings_index, embedding_loader):\n",
    "        self.data = data\n",
    "        self.label_encoder = label_encoder\n",
    "        self.embedding_loader = embedding_loader\n",
    "        self.embeddings_index = embeddings_index\n",
    "    def __len__(self):\n",
    "        return len(self.data)\n",
    "\n",
    "    def __getitem__(self, idx):\n",
    "        words = np.array(self.data[idx])[:, 0]\n",
    "        tokens = np.array(self.data[idx])[:, 2]\n",
    "        x = np.array([self.embedding_loader(self.embeddings_index, word) for word in words])\n",
    "        y = self.label_encoder.transform(tokens)\n",
    "        target = torch.from_numpy(y).long()\n",
    "        return torch.from_numpy(x).float(), target, torch.ones_like(target)"
   ]
  },
  {
   "cell_type": "code",
   "execution_count": 17,
   "metadata": {},
   "outputs": [],
   "source": [
    "class Network(nn.Module):\n",
    "    def __init__(self, categories_count):\n",
    "        super(Network,self).__init__()\n",
    "        hidden_size = 50\n",
    "        self.lstm = nn.LSTM(input_size=100, hidden_size=hidden_size, batch_first=False,\n",
    "                            num_layers=1, bidirectional=True)\n",
    "        \n",
    "        self.hidden2tag = nn.Linear(hidden_size * 2, categories_count)\n",
    "    \n",
    "    def forward(self, input):\n",
    "        seq, batch, _ = input.shape\n",
    "        a, (b, c) = self.lstm(input)\n",
    "        tag_scores = []\n",
    "        for output in a:\n",
    "            tag_space = self.hidden2tag(output)\n",
    "            score = F.log_softmax(tag_space, dim=1)\n",
    "            tag_scores.append(score)\n",
    "            \n",
    "        return torch.stack(tag_scores)"
   ]
  },
  {
   "cell_type": "markdown",
   "metadata": {},
   "source": [
    "## 3. Training on batches"
   ]
  },
  {
   "cell_type": "code",
   "execution_count": 18,
   "metadata": {},
   "outputs": [],
   "source": [
    "class Trainer:\n",
    "    def __init__(self, net, config, lr=0.001, l2_rate=0):\n",
    "        net.train()\n",
    "        net.to(config['DEVICE'])\n",
    "        self.device = config['DEVICE']\n",
    "        self.net = net\n",
    "        self.config = config\n",
    "        self.optimizer = torch.optim.Adam(net.parameters(), lr=lr, weight_decay=l2_rate)\n",
    "        self.loss = nn.NLLLoss()\n",
    "        self.losses = []\n",
    "\n",
    "    def run(self, dataloader, epochs=1):\n",
    "        print(\">> Running trainer\")\n",
    "        for epoch in range(epochs):\n",
    "            print(\">>> Epoch %s\" % epoch)\n",
    "            for idx, (vectors, target, mask) in enumerate(tqdm.tqdm_notebook(dataloader, ascii=True)):\n",
    "                vectors, target, mask = vectors.to(self.device), target.to(self.device), mask.to(self.device)\n",
    "                self.optimizer.zero_grad()\n",
    "                predicts = self.net(vectors)\n",
    "                loss = 0\n",
    "                for seq_idx in range(len(predicts)):\n",
    "                    seq_loss = self.loss(predicts[seq_idx], target[seq_idx])\n",
    "                    loss += seq_loss\n",
    "                \n",
    "                loss.backward()\n",
    "                self.losses.append(loss.item())\n",
    "                self.optimizer.step()\n",
    "                if idx % 400 == 0:\n",
    "                    print(\">>> Loss: {}\".format(np.mean(self.losses[-50:])))\n",
    "\n",
    "                if self.config['DEBUG'] == True:\n",
    "                    break\n",
    "            print(\"Trainer epoch finished\")\n"
   ]
  },
  {
   "cell_type": "markdown",
   "metadata": {},
   "source": [
    "## 4. Score calculation and Evaluation "
   ]
  },
  {
   "cell_type": "code",
   "execution_count": 19,
   "metadata": {},
   "outputs": [],
   "source": [
    "from numba import jit\n",
    "\n",
    "@jit\n",
    "def calculate_metrics(prediction, gt, target):\n",
    "    tp = np.sum(np.logical_and(prediction == target, gt == target))\n",
    "    fp = np.sum(np.logical_and(prediction == target, gt != target))\n",
    "    fn = np.sum(np.logical_and(prediction != target, gt == target))\n",
    "    return (tp, fp, fn)\n",
    "\n",
    "def calculate_f1_score(gt, predicted):\n",
    "    gt = gt.reshape(-1)\n",
    "    predicted = predicted.reshape(-1)\n",
    "    tokens = set(np.unique(gt)).union(set(np.unique(predicted)))\n",
    "    tp_a = 0\n",
    "    fp_a = 0\n",
    "    fn_a = 0\n",
    "    for token in tqdm.tqdm_notebook(tokens):\n",
    "        tp, fp, fn = calculate_metrics(predicted, gt, token)\n",
    "        tp_a += tp\n",
    "        fp_a += fp\n",
    "        fn_a += fn\n",
    "    precision = tp_a / (tp_a + fp_a)\n",
    "    recall = tp_a / (tp_a + fn_a)\n",
    "    \n",
    "    f1_micro = (2 * precision * recall) / (precision + recall)\n",
    "    f05_micro = ((1 + 0.5 * 0.5) * precision * recall) / ( 0.5 * 0.5 * precision + recall)\n",
    "    return {\n",
    "        'f1': f1_micro,\n",
    "        'f05': f05_micro,\n",
    "        'recall': recall,\n",
    "        'precision': precision\n",
    "    }\n",
    "\n",
    "\n",
    "class Evaluation:\n",
    "    def __init__(self, net, config):\n",
    "        net.eval()\n",
    "        net.to(config['DEVICE'])\n",
    "        self.device = config['DEVICE']\n",
    "        self.net = net\n",
    "        self.config = config\n",
    "        self.loss = nn.CrossEntropyLoss()\n",
    "\n",
    "    def run(self, dataloader):\n",
    "        predicted = []\n",
    "        labels = []\n",
    "        with torch.no_grad():\n",
    "            for idx, (vectors, target, mask) in enumerate(tqdm.tqdm_notebook(dataloader, ascii=True)):\n",
    "                vectors, target, mask = vectors.to(self.device), target.to(self.device), mask.to(self.device)\n",
    "                predicts = self.net(vectors)\n",
    "                batch_preds = []\n",
    "                for seq_idx in range(len(predicts)):\n",
    "                    pred = F.softmax(predicts[seq_idx], 1).argmax(dim=1, keepdim=True)\n",
    "                    batch_preds.extend(list(pred.numpy()))\n",
    "                \n",
    "                predicted.extend(batch_preds)\n",
    "                labels.extend(list(target.view(-1).numpy()))\n",
    "                if self.config['DEBUG'] == True:\n",
    "                    break\n",
    "        predicted = np.array(predicted)\n",
    "        labels = np.array(labels)\n",
    "        return calculate_f1_score(labels, predicted.reshape(-1))"
   ]
  },
  {
   "cell_type": "code",
   "execution_count": 20,
   "metadata": {},
   "outputs": [],
   "source": [
    "config = {\n",
    "    'DEBUG': False,\n",
    "    'CUDA': torch.cuda.is_available(),\n",
    "    'DEVICE': torch.device(\"cuda\" if torch.cuda.is_available() else \"cpu\")\n",
    "}"
   ]
  },
  {
   "cell_type": "code",
   "execution_count": 23,
   "metadata": {},
   "outputs": [],
   "source": [
    "padding_collate = get_padding_collate(padding_label)"
   ]
  },
  {
   "cell_type": "code",
   "execution_count": 24,
   "metadata": {},
   "outputs": [],
   "source": [
    "\n",
    "def measure_performance(embedding_loader):\n",
    "    train_data = DataLoader(train, label_encoder, embeddings, embedding_loader)\n",
    "    test_data = DataLoader(test, label_encoder, embeddings, embedding_loader)\n",
    "    dev_data = DataLoader(dev, label_encoder, embeddings, embedding_loader)\n",
    "\n",
    "    train_loader = torch.utils.data.DataLoader(train_data, batch_size=8, num_workers=2,\n",
    "                                               shuffle=False, collate_fn=padding_collate)\n",
    "    test_loader = torch.utils.data.DataLoader(test_data, batch_size=64, num_workers=2, \n",
    "                                              shuffle=False, collate_fn=padding_collate)\n",
    "    dev_loader = torch.utils.data.DataLoader(dev_data, batch_size=64, num_workers=2, \n",
    "                                              shuffle=False, collate_fn=padding_collate)\n",
    "\n",
    "    net = Network(len(label_encoder.classes_))\n",
    "    trainer = Trainer(net, config)\n",
    "    for i in range(5):\n",
    "        trainer.run(train_loader)\n",
    "        dev_result = Evaluation(net, config).run(dev_loader)\n",
    "        print(f\"Epoch: {i+1} \\n---- Dev result: \" + str(dev_result))\n",
    "        test_result = Evaluation(net, config).run(test_loader)\n",
    "        print(f\"Epoch: {i+1} \\n---- Test result: \" + str(test_result))"
   ]
  },
  {
   "cell_type": "markdown",
   "metadata": {},
   "source": [
    "## 5. Performance reports for different embeddings"
   ]
  },
  {
   "cell_type": "markdown",
   "metadata": {},
   "source": [
    "* Loader A: 0.971\n",
    "* Loader B: 0.986\n",
    "* Loader C: 0.986"
   ]
  },
  {
   "cell_type": "code",
   "execution_count": 25,
   "metadata": {},
   "outputs": [
    {
     "name": "stdout",
     "output_type": "stream",
     "text": [
      ">> Running trainer\n",
      ">>> Epoch 0\n"
     ]
    },
    {
     "data": {
      "application/vnd.jupyter.widget-view+json": {
       "model_id": "077e629bdf1848d68f1c9520cc1a3c81",
       "version_major": 2,
       "version_minor": 0
      },
      "text/plain": [
       "HBox(children=(IntProgress(value=0, max=1756), HTML(value='')))"
      ]
     },
     "metadata": {},
     "output_type": "display_data"
    },
    {
     "name": "stdout",
     "output_type": "stream",
     "text": [
      ">>> Loss: 92.7218246459961\n",
      ">>> Loss: 8.048011136054992\n",
      ">>> Loss: 6.105228921175003\n",
      ">>> Loss: 6.092414779663086\n",
      ">>> Loss: 5.237387156486511\n",
      "\n",
      "Trainer epoch finished\n"
     ]
    },
    {
     "data": {
      "application/vnd.jupyter.widget-view+json": {
       "model_id": "3f7a89ed9b8f4a06a5b3f8171a0793d0",
       "version_major": 2,
       "version_minor": 0
      },
      "text/plain": [
       "HBox(children=(IntProgress(value=0, max=51), HTML(value='')))"
      ]
     },
     "metadata": {},
     "output_type": "display_data"
    },
    {
     "name": "stdout",
     "output_type": "stream",
     "text": [
      "\n"
     ]
    },
    {
     "data": {
      "application/vnd.jupyter.widget-view+json": {
       "model_id": "967c025d81114c0d92571a310eb9bd0d",
       "version_major": 2,
       "version_minor": 0
      },
      "text/plain": [
       "HBox(children=(IntProgress(value=0, max=10), HTML(value='')))"
      ]
     },
     "metadata": {},
     "output_type": "display_data"
    },
    {
     "name": "stdout",
     "output_type": "stream",
     "text": [
      "\n",
      "Epoch: 1 \n",
      "---- Dev result: {'f1': 0.9614556105762284, 'f05': 0.9614556105762284, 'recall': 0.9614556105762284, 'precision': 0.9614556105762284}\n"
     ]
    },
    {
     "data": {
      "application/vnd.jupyter.widget-view+json": {
       "model_id": "da6246de32cc4cc297a9f8289dfe3dc2",
       "version_major": 2,
       "version_minor": 0
      },
      "text/plain": [
       "HBox(children=(IntProgress(value=0, max=54), HTML(value='')))"
      ]
     },
     "metadata": {},
     "output_type": "display_data"
    },
    {
     "name": "stdout",
     "output_type": "stream",
     "text": [
      "\n"
     ]
    },
    {
     "data": {
      "application/vnd.jupyter.widget-view+json": {
       "model_id": "fb5d08b2369443d2a954351963f51303",
       "version_major": 2,
       "version_minor": 0
      },
      "text/plain": [
       "HBox(children=(IntProgress(value=0, max=10), HTML(value='')))"
      ]
     },
     "metadata": {},
     "output_type": "display_data"
    },
    {
     "name": "stdout",
     "output_type": "stream",
     "text": [
      "\n",
      "Epoch: 1 \n",
      "---- Test result: {'f1': 0.9591321450689752, 'f05': 0.9591321450689753, 'recall': 0.9591321450689752, 'precision': 0.9591321450689752}\n",
      ">> Running trainer\n",
      ">>> Epoch 0\n"
     ]
    },
    {
     "data": {
      "application/vnd.jupyter.widget-view+json": {
       "model_id": "00cf4a651a334f9d8efdec9a0593436e",
       "version_major": 2,
       "version_minor": 0
      },
      "text/plain": [
       "HBox(children=(IntProgress(value=0, max=1756), HTML(value='')))"
      ]
     },
     "metadata": {},
     "output_type": "display_data"
    },
    {
     "name": "stdout",
     "output_type": "stream",
     "text": [
      ">>> Loss: 5.385257003307342\n",
      ">>> Loss: 5.4594967699050905\n",
      ">>> Loss: 4.536996765136719\n",
      ">>> Loss: 4.968982446193695\n",
      ">>> Loss: 4.260535646677017\n",
      "\n",
      "Trainer epoch finished\n"
     ]
    },
    {
     "data": {
      "application/vnd.jupyter.widget-view+json": {
       "model_id": "52bfdd6e0cef403a9b8ca3f16956825c",
       "version_major": 2,
       "version_minor": 0
      },
      "text/plain": [
       "HBox(children=(IntProgress(value=0, max=51), HTML(value='')))"
      ]
     },
     "metadata": {},
     "output_type": "display_data"
    },
    {
     "name": "stdout",
     "output_type": "stream",
     "text": [
      "\n"
     ]
    },
    {
     "data": {
      "application/vnd.jupyter.widget-view+json": {
       "model_id": "37240fa080914105bd1fbb6cdacc3370",
       "version_major": 2,
       "version_minor": 0
      },
      "text/plain": [
       "HBox(children=(IntProgress(value=0, max=10), HTML(value='')))"
      ]
     },
     "metadata": {},
     "output_type": "display_data"
    },
    {
     "name": "stdout",
     "output_type": "stream",
     "text": [
      "\n",
      "Epoch: 2 \n",
      "---- Dev result: {'f1': 0.9674057241931883, 'f05': 0.9674057241931883, 'recall': 0.9674057241931883, 'precision': 0.9674057241931883}\n"
     ]
    },
    {
     "data": {
      "application/vnd.jupyter.widget-view+json": {
       "model_id": "2dd1be85fec24cbfba9803209009bad8",
       "version_major": 2,
       "version_minor": 0
      },
      "text/plain": [
       "HBox(children=(IntProgress(value=0, max=54), HTML(value='')))"
      ]
     },
     "metadata": {},
     "output_type": "display_data"
    },
    {
     "name": "stdout",
     "output_type": "stream",
     "text": [
      "\n"
     ]
    },
    {
     "data": {
      "application/vnd.jupyter.widget-view+json": {
       "model_id": "b37d88ed78b34a45b67cbed727c5199e",
       "version_major": 2,
       "version_minor": 0
      },
      "text/plain": [
       "HBox(children=(IntProgress(value=0, max=10), HTML(value='')))"
      ]
     },
     "metadata": {},
     "output_type": "display_data"
    },
    {
     "name": "stdout",
     "output_type": "stream",
     "text": [
      "\n",
      "Epoch: 2 \n",
      "---- Test result: {'f1': 0.9656859742610778, 'f05': 0.9656859742610778, 'recall': 0.9656859742610778, 'precision': 0.9656859742610778}\n",
      ">> Running trainer\n",
      ">>> Epoch 0\n"
     ]
    },
    {
     "data": {
      "application/vnd.jupyter.widget-view+json": {
       "model_id": "a413efeeb8744a579a2983e7e34c2b13",
       "version_major": 2,
       "version_minor": 0
      },
      "text/plain": [
       "HBox(children=(IntProgress(value=0, max=1756), HTML(value='')))"
      ]
     },
     "metadata": {},
     "output_type": "display_data"
    },
    {
     "name": "stdout",
     "output_type": "stream",
     "text": [
      ">>> Loss: 4.56727454662323\n",
      ">>> Loss: 4.829206333160401\n",
      ">>> Loss: 4.10224422454834\n",
      ">>> Loss: 4.601151878833771\n",
      ">>> Loss: 3.9309593093395234\n",
      "\n",
      "Trainer epoch finished\n"
     ]
    },
    {
     "data": {
      "application/vnd.jupyter.widget-view+json": {
       "model_id": "7dd4ee8e33d3469496b31530488eee5d",
       "version_major": 2,
       "version_minor": 0
      },
      "text/plain": [
       "HBox(children=(IntProgress(value=0, max=51), HTML(value='')))"
      ]
     },
     "metadata": {},
     "output_type": "display_data"
    },
    {
     "name": "stdout",
     "output_type": "stream",
     "text": [
      "\n"
     ]
    },
    {
     "data": {
      "application/vnd.jupyter.widget-view+json": {
       "model_id": "448d33925e75488e8d05fc94ca0c524a",
       "version_major": 2,
       "version_minor": 0
      },
      "text/plain": [
       "HBox(children=(IntProgress(value=0, max=10), HTML(value='')))"
      ]
     },
     "metadata": {},
     "output_type": "display_data"
    },
    {
     "name": "stdout",
     "output_type": "stream",
     "text": [
      "\n",
      "Epoch: 3 \n",
      "---- Dev result: {'f1': 0.9703216739127579, 'f05': 0.9703216739127578, 'recall': 0.9703216739127579, 'precision': 0.9703216739127579}\n"
     ]
    },
    {
     "data": {
      "application/vnd.jupyter.widget-view+json": {
       "model_id": "ba514911b3e749f8957d9361dc9c786a",
       "version_major": 2,
       "version_minor": 0
      },
      "text/plain": [
       "HBox(children=(IntProgress(value=0, max=54), HTML(value='')))"
      ]
     },
     "metadata": {},
     "output_type": "display_data"
    },
    {
     "name": "stdout",
     "output_type": "stream",
     "text": [
      "\n"
     ]
    },
    {
     "data": {
      "application/vnd.jupyter.widget-view+json": {
       "model_id": "8c91d388e3574ea6bd2593b30a92b520",
       "version_major": 2,
       "version_minor": 0
      },
      "text/plain": [
       "HBox(children=(IntProgress(value=0, max=10), HTML(value='')))"
      ]
     },
     "metadata": {},
     "output_type": "display_data"
    },
    {
     "name": "stdout",
     "output_type": "stream",
     "text": [
      "\n",
      "Epoch: 3 \n",
      "---- Test result: {'f1': 0.9690003198649761, 'f05': 0.9690003198649761, 'recall': 0.9690003198649761, 'precision': 0.9690003198649761}\n",
      ">> Running trainer\n",
      ">>> Epoch 0\n"
     ]
    },
    {
     "data": {
      "application/vnd.jupyter.widget-view+json": {
       "model_id": "8fd5f807d0204184be35654ce8c29f97",
       "version_major": 2,
       "version_minor": 0
      },
      "text/plain": [
       "HBox(children=(IntProgress(value=0, max=1756), HTML(value='')))"
      ]
     },
     "metadata": {},
     "output_type": "display_data"
    },
    {
     "name": "stdout",
     "output_type": "stream",
     "text": [
      ">>> Loss: 4.290261154174805\n",
      ">>> Loss: 4.541636357307434\n",
      ">>> Loss: 3.86840616106987\n",
      ">>> Loss: 4.446622521877289\n",
      ">>> Loss: 3.68896294593811\n",
      "\n",
      "Trainer epoch finished\n"
     ]
    },
    {
     "data": {
      "application/vnd.jupyter.widget-view+json": {
       "model_id": "74f66d149e914e3d98db84e068084a86",
       "version_major": 2,
       "version_minor": 0
      },
      "text/plain": [
       "HBox(children=(IntProgress(value=0, max=51), HTML(value='')))"
      ]
     },
     "metadata": {},
     "output_type": "display_data"
    },
    {
     "name": "stdout",
     "output_type": "stream",
     "text": [
      "\n"
     ]
    },
    {
     "data": {
      "application/vnd.jupyter.widget-view+json": {
       "model_id": "63a63aaee3494ebc873849c7dc8af0db",
       "version_major": 2,
       "version_minor": 0
      },
      "text/plain": [
       "HBox(children=(IntProgress(value=0, max=10), HTML(value='')))"
      ]
     },
     "metadata": {},
     "output_type": "display_data"
    },
    {
     "name": "stdout",
     "output_type": "stream",
     "text": [
      "\n",
      "Epoch: 4 \n",
      "---- Dev result: {'f1': 0.9723444498443513, 'f05': 0.9723444498443513, 'recall': 0.9723444498443513, 'precision': 0.9723444498443513}\n"
     ]
    },
    {
     "data": {
      "application/vnd.jupyter.widget-view+json": {
       "model_id": "ab97e4907d4247b78ff6fc6b999800a7",
       "version_major": 2,
       "version_minor": 0
      },
      "text/plain": [
       "HBox(children=(IntProgress(value=0, max=54), HTML(value='')))"
      ]
     },
     "metadata": {},
     "output_type": "display_data"
    },
    {
     "name": "stdout",
     "output_type": "stream",
     "text": [
      "\n"
     ]
    },
    {
     "data": {
      "application/vnd.jupyter.widget-view+json": {
       "model_id": "c1ac025910a742adb9c73b5ac96b76fa",
       "version_major": 2,
       "version_minor": 0
      },
      "text/plain": [
       "HBox(children=(IntProgress(value=0, max=10), HTML(value='')))"
      ]
     },
     "metadata": {},
     "output_type": "display_data"
    },
    {
     "name": "stdout",
     "output_type": "stream",
     "text": [
      "\n",
      "Epoch: 4 \n",
      "---- Test result: {'f1': 0.9704635319899004, 'f05': 0.9704635319899004, 'recall': 0.9704635319899004, 'precision': 0.9704635319899004}\n",
      ">> Running trainer\n",
      ">>> Epoch 0\n"
     ]
    },
    {
     "data": {
      "application/vnd.jupyter.widget-view+json": {
       "model_id": "f5fda74929904d54a21d2050a5ff6f65",
       "version_major": 2,
       "version_minor": 0
      },
      "text/plain": [
       "HBox(children=(IntProgress(value=0, max=1756), HTML(value='')))"
      ]
     },
     "metadata": {},
     "output_type": "display_data"
    },
    {
     "name": "stdout",
     "output_type": "stream",
     "text": [
      ">>> Loss: 4.063642431497573\n",
      ">>> Loss: 4.295072264671326\n",
      ">>> Loss: 3.6730082666873933\n",
      ">>> Loss: 4.281336473226547\n",
      ">>> Loss: 3.5233314234018325\n",
      "\n",
      "Trainer epoch finished\n"
     ]
    },
    {
     "data": {
      "application/vnd.jupyter.widget-view+json": {
       "model_id": "b0a81b320cff4e2b8645d60117bacad5",
       "version_major": 2,
       "version_minor": 0
      },
      "text/plain": [
       "HBox(children=(IntProgress(value=0, max=51), HTML(value='')))"
      ]
     },
     "metadata": {},
     "output_type": "display_data"
    },
    {
     "name": "stdout",
     "output_type": "stream",
     "text": [
      "\n"
     ]
    },
    {
     "data": {
      "application/vnd.jupyter.widget-view+json": {
       "model_id": "8bd5a95728e54a09817fee946adb3ab4",
       "version_major": 2,
       "version_minor": 0
      },
      "text/plain": [
       "HBox(children=(IntProgress(value=0, max=10), HTML(value='')))"
      ]
     },
     "metadata": {},
     "output_type": "display_data"
    },
    {
     "name": "stdout",
     "output_type": "stream",
     "text": [
      "\n",
      "Epoch: 5 \n",
      "---- Dev result: {'f1': 0.9731653816347707, 'f05': 0.9731653816347707, 'recall': 0.9731653816347707, 'precision': 0.9731653816347707}\n"
     ]
    },
    {
     "data": {
      "application/vnd.jupyter.widget-view+json": {
       "model_id": "5656d8283b2e40ea9b4753d18fbbe3e2",
       "version_major": 2,
       "version_minor": 0
      },
      "text/plain": [
       "HBox(children=(IntProgress(value=0, max=54), HTML(value='')))"
      ]
     },
     "metadata": {},
     "output_type": "display_data"
    },
    {
     "name": "stdout",
     "output_type": "stream",
     "text": [
      "\n"
     ]
    },
    {
     "data": {
      "application/vnd.jupyter.widget-view+json": {
       "model_id": "30de55e4a2f749c6be899c1b1bc79f68",
       "version_major": 2,
       "version_minor": 0
      },
      "text/plain": [
       "HBox(children=(IntProgress(value=0, max=10), HTML(value='')))"
      ]
     },
     "metadata": {},
     "output_type": "display_data"
    },
    {
     "name": "stdout",
     "output_type": "stream",
     "text": [
      "\n",
      "Epoch: 5 \n",
      "---- Test result: {'f1': 0.9712734028869515, 'f05': 0.9712734028869514, 'recall': 0.9712734028869515, 'precision': 0.9712734028869515}\n"
     ]
    }
   ],
   "source": [
    "measure_performance(embedding_loader_a)"
   ]
  },
  {
   "cell_type": "code",
   "execution_count": 26,
   "metadata": {},
   "outputs": [
    {
     "name": "stdout",
     "output_type": "stream",
     "text": [
      ">> Running trainer\n",
      ">>> Epoch 0\n"
     ]
    },
    {
     "data": {
      "application/vnd.jupyter.widget-view+json": {
       "model_id": "c7e5e15cfc754e53a9144894e69f5a68",
       "version_major": 2,
       "version_minor": 0
      },
      "text/plain": [
       "HBox(children=(IntProgress(value=0, max=1756), HTML(value='')))"
      ]
     },
     "metadata": {},
     "output_type": "display_data"
    },
    {
     "name": "stdout",
     "output_type": "stream",
     "text": [
      ">>> Loss: 94.14912414550781\n",
      ">>> Loss: 7.677001485824585\n",
      ">>> Loss: 4.584715450406074\n",
      ">>> Loss: 5.066996936798096\n",
      ">>> Loss: 2.840318018198013\n",
      "\n",
      "Trainer epoch finished\n"
     ]
    },
    {
     "data": {
      "application/vnd.jupyter.widget-view+json": {
       "model_id": "a7528e907dfc4ec59a2bd62e4caaa69e",
       "version_major": 2,
       "version_minor": 0
      },
      "text/plain": [
       "HBox(children=(IntProgress(value=0, max=51), HTML(value='')))"
      ]
     },
     "metadata": {},
     "output_type": "display_data"
    },
    {
     "name": "stdout",
     "output_type": "stream",
     "text": [
      "\n"
     ]
    },
    {
     "data": {
      "application/vnd.jupyter.widget-view+json": {
       "model_id": "8d5ad7fbdc0647ae996670be3f93ea89",
       "version_major": 2,
       "version_minor": 0
      },
      "text/plain": [
       "HBox(children=(IntProgress(value=0, max=10), HTML(value='')))"
      ]
     },
     "metadata": {},
     "output_type": "display_data"
    },
    {
     "name": "stdout",
     "output_type": "stream",
     "text": [
      "\n",
      "Epoch: 1 \n",
      "---- Dev result: {'f1': 0.9808427357387729, 'f05': 0.980842735738773, 'recall': 0.9808427357387729, 'precision': 0.9808427357387729}\n"
     ]
    },
    {
     "data": {
      "application/vnd.jupyter.widget-view+json": {
       "model_id": "d6169a9a2e3e401f9f07f523d6058e98",
       "version_major": 2,
       "version_minor": 0
      },
      "text/plain": [
       "HBox(children=(IntProgress(value=0, max=54), HTML(value='')))"
      ]
     },
     "metadata": {},
     "output_type": "display_data"
    },
    {
     "name": "stdout",
     "output_type": "stream",
     "text": [
      "\n"
     ]
    },
    {
     "data": {
      "application/vnd.jupyter.widget-view+json": {
       "model_id": "07e1d634670e4faea2e00cc80f7582a3",
       "version_major": 2,
       "version_minor": 0
      },
      "text/plain": [
       "HBox(children=(IntProgress(value=0, max=10), HTML(value='')))"
      ]
     },
     "metadata": {},
     "output_type": "display_data"
    },
    {
     "name": "stdout",
     "output_type": "stream",
     "text": [
      "\n",
      "Epoch: 1 \n",
      "---- Test result: {'f1': 0.9787323819051702, 'f05': 0.9787323819051703, 'recall': 0.9787323819051702, 'precision': 0.9787323819051702}\n",
      ">> Running trainer\n",
      ">>> Epoch 0\n"
     ]
    },
    {
     "data": {
      "application/vnd.jupyter.widget-view+json": {
       "model_id": "3b51704cb18d4b24889d3eee92758bbe",
       "version_major": 2,
       "version_minor": 0
      },
      "text/plain": [
       "HBox(children=(IntProgress(value=0, max=1756), HTML(value='')))"
      ]
     },
     "metadata": {},
     "output_type": "display_data"
    },
    {
     "name": "stdout",
     "output_type": "stream",
     "text": [
      ">>> Loss: 3.3474169081449507\n",
      ">>> Loss: 3.647911636829376\n",
      ">>> Loss: 2.3691920852661132\n",
      ">>> Loss: 3.4510275602340696\n",
      ">>> Loss: 1.7726290482282638\n",
      "\n",
      "Trainer epoch finished\n"
     ]
    },
    {
     "data": {
      "application/vnd.jupyter.widget-view+json": {
       "model_id": "31e93b7b07064a5b96e151993838f0e0",
       "version_major": 2,
       "version_minor": 0
      },
      "text/plain": [
       "HBox(children=(IntProgress(value=0, max=51), HTML(value='')))"
      ]
     },
     "metadata": {},
     "output_type": "display_data"
    },
    {
     "name": "stdout",
     "output_type": "stream",
     "text": [
      "\n"
     ]
    },
    {
     "data": {
      "application/vnd.jupyter.widget-view+json": {
       "model_id": "f96a45a5e8484347b90b14c1d2e38b63",
       "version_major": 2,
       "version_minor": 0
      },
      "text/plain": [
       "HBox(children=(IntProgress(value=0, max=10), HTML(value='')))"
      ]
     },
     "metadata": {},
     "output_type": "display_data"
    },
    {
     "name": "stdout",
     "output_type": "stream",
     "text": [
      "\n",
      "Epoch: 2 \n",
      "---- Dev result: {'f1': 0.986149238832044, 'f05': 0.9861492388320439, 'recall': 0.986149238832044, 'precision': 0.986149238832044}\n"
     ]
    },
    {
     "data": {
      "application/vnd.jupyter.widget-view+json": {
       "model_id": "7c3cdbf8a6c84245805f87092116c904",
       "version_major": 2,
       "version_minor": 0
      },
      "text/plain": [
       "HBox(children=(IntProgress(value=0, max=54), HTML(value='')))"
      ]
     },
     "metadata": {},
     "output_type": "display_data"
    },
    {
     "name": "stdout",
     "output_type": "stream",
     "text": [
      "\n"
     ]
    },
    {
     "data": {
      "application/vnd.jupyter.widget-view+json": {
       "model_id": "a77ebfb9a45e4f0a9bce64c14fccedb4",
       "version_major": 2,
       "version_minor": 0
      },
      "text/plain": [
       "HBox(children=(IntProgress(value=0, max=10), HTML(value='')))"
      ]
     },
     "metadata": {},
     "output_type": "display_data"
    },
    {
     "name": "stdout",
     "output_type": "stream",
     "text": [
      "\n",
      "Epoch: 2 \n",
      "---- Test result: {'f1': 0.9839182779014135, 'f05': 0.9839182779014135, 'recall': 0.9839182779014135, 'precision': 0.9839182779014135}\n",
      ">> Running trainer\n",
      ">>> Epoch 0\n"
     ]
    },
    {
     "data": {
      "application/vnd.jupyter.widget-view+json": {
       "model_id": "6fb0272a338a4f75a7d08051de652aa3",
       "version_major": 2,
       "version_minor": 0
      },
      "text/plain": [
       "HBox(children=(IntProgress(value=0, max=1756), HTML(value='')))"
      ]
     },
     "metadata": {},
     "output_type": "display_data"
    },
    {
     "name": "stdout",
     "output_type": "stream",
     "text": [
      ">>> Loss: 2.312031438946724\n",
      ">>> Loss: 2.5950870645046233\n",
      ">>> Loss: 1.6778836411237716\n",
      ">>> Loss: 2.7679545640945435\n",
      ">>> Loss: 1.4095083037018776\n",
      "\n",
      "Trainer epoch finished\n"
     ]
    },
    {
     "data": {
      "application/vnd.jupyter.widget-view+json": {
       "model_id": "745ca76652264a2caac7ebf74a541ef9",
       "version_major": 2,
       "version_minor": 0
      },
      "text/plain": [
       "HBox(children=(IntProgress(value=0, max=51), HTML(value='')))"
      ]
     },
     "metadata": {},
     "output_type": "display_data"
    },
    {
     "name": "stdout",
     "output_type": "stream",
     "text": [
      "\n"
     ]
    },
    {
     "data": {
      "application/vnd.jupyter.widget-view+json": {
       "model_id": "0cb78109689540f78c0ba47583b425ae",
       "version_major": 2,
       "version_minor": 0
      },
      "text/plain": [
       "HBox(children=(IntProgress(value=0, max=10), HTML(value='')))"
      ]
     },
     "metadata": {},
     "output_type": "display_data"
    },
    {
     "name": "stdout",
     "output_type": "stream",
     "text": [
      "\n",
      "Epoch: 3 \n",
      "---- Dev result: {'f1': 0.9880866378574337, 'f05': 0.9880866378574336, 'recall': 0.9880866378574337, 'precision': 0.9880866378574337}\n"
     ]
    },
    {
     "data": {
      "application/vnd.jupyter.widget-view+json": {
       "model_id": "e7377cf3ebfa45aa8344f18c66a560df",
       "version_major": 2,
       "version_minor": 0
      },
      "text/plain": [
       "HBox(children=(IntProgress(value=0, max=54), HTML(value='')))"
      ]
     },
     "metadata": {},
     "output_type": "display_data"
    },
    {
     "name": "stdout",
     "output_type": "stream",
     "text": [
      "\n"
     ]
    },
    {
     "data": {
      "application/vnd.jupyter.widget-view+json": {
       "model_id": "93f0d69032d0407d9401873e432a6e5d",
       "version_major": 2,
       "version_minor": 0
      },
      "text/plain": [
       "HBox(children=(IntProgress(value=0, max=10), HTML(value='')))"
      ]
     },
     "metadata": {},
     "output_type": "display_data"
    },
    {
     "name": "stdout",
     "output_type": "stream",
     "text": [
      "\n",
      "Epoch: 3 \n",
      "---- Test result: {'f1': 0.9852725998216922, 'f05': 0.9852725998216921, 'recall': 0.9852725998216922, 'precision': 0.9852725998216922}\n",
      ">> Running trainer\n",
      ">>> Epoch 0\n"
     ]
    },
    {
     "data": {
      "application/vnd.jupyter.widget-view+json": {
       "model_id": "244d54b77b424678add5f22533d0020e",
       "version_major": 2,
       "version_minor": 0
      },
      "text/plain": [
       "HBox(children=(IntProgress(value=0, max=1756), HTML(value='')))"
      ]
     },
     "metadata": {},
     "output_type": "display_data"
    },
    {
     "name": "stdout",
     "output_type": "stream",
     "text": [
      ">>> Loss: 1.9052227288484573\n",
      ">>> Loss: 2.0562340062856674\n",
      ">>> Loss: 1.3238331937789918\n",
      ">>> Loss: 2.316497153043747\n",
      ">>> Loss: 1.1657696714997292\n",
      "\n",
      "Trainer epoch finished\n"
     ]
    },
    {
     "data": {
      "application/vnd.jupyter.widget-view+json": {
       "model_id": "4b91d53af5c1440f8ad1567803810ab8",
       "version_major": 2,
       "version_minor": 0
      },
      "text/plain": [
       "HBox(children=(IntProgress(value=0, max=51), HTML(value='')))"
      ]
     },
     "metadata": {},
     "output_type": "display_data"
    },
    {
     "name": "stdout",
     "output_type": "stream",
     "text": [
      "\n"
     ]
    },
    {
     "data": {
      "application/vnd.jupyter.widget-view+json": {
       "model_id": "815183cd907a40ddaf2ea6d44f7439ba",
       "version_major": 2,
       "version_minor": 0
      },
      "text/plain": [
       "HBox(children=(IntProgress(value=0, max=10), HTML(value='')))"
      ]
     },
     "metadata": {},
     "output_type": "display_data"
    },
    {
     "name": "stdout",
     "output_type": "stream",
     "text": [
      "\n",
      "Epoch: 4 \n",
      "---- Dev result: {'f1': 0.9889338394651466, 'f05': 0.9889338394651465, 'recall': 0.9889338394651466, 'precision': 0.9889338394651466}\n"
     ]
    },
    {
     "data": {
      "application/vnd.jupyter.widget-view+json": {
       "model_id": "de670eb83eda44438ced460d1a87b8f6",
       "version_major": 2,
       "version_minor": 0
      },
      "text/plain": [
       "HBox(children=(IntProgress(value=0, max=54), HTML(value='')))"
      ]
     },
     "metadata": {},
     "output_type": "display_data"
    },
    {
     "name": "stdout",
     "output_type": "stream",
     "text": [
      "\n"
     ]
    },
    {
     "data": {
      "application/vnd.jupyter.widget-view+json": {
       "model_id": "04257be359da4905bc290f6fb63e5fd6",
       "version_major": 2,
       "version_minor": 0
      },
      "text/plain": [
       "HBox(children=(IntProgress(value=0, max=10), HTML(value='')))"
      ]
     },
     "metadata": {},
     "output_type": "display_data"
    },
    {
     "name": "stdout",
     "output_type": "stream",
     "text": [
      "\n",
      "Epoch: 4 \n",
      "---- Test result: {'f1': 0.9861437214588565, 'f05': 0.9861437214588566, 'recall': 0.9861437214588565, 'precision': 0.9861437214588565}\n",
      ">> Running trainer\n",
      ">>> Epoch 0\n"
     ]
    },
    {
     "data": {
      "application/vnd.jupyter.widget-view+json": {
       "model_id": "bcc546936b9f46618467bcefdfbe9e8d",
       "version_major": 2,
       "version_minor": 0
      },
      "text/plain": [
       "HBox(children=(IntProgress(value=0, max=1756), HTML(value='')))"
      ]
     },
     "metadata": {},
     "output_type": "display_data"
    },
    {
     "name": "stdout",
     "output_type": "stream",
     "text": [
      ">>> Loss: 1.6437223947048187\n",
      ">>> Loss: 1.713949654698372\n",
      ">>> Loss: 1.084339406490326\n",
      ">>> Loss: 1.9610538733005525\n",
      ">>> Loss: 0.9714409869909286\n",
      "\n",
      "Trainer epoch finished\n"
     ]
    },
    {
     "data": {
      "application/vnd.jupyter.widget-view+json": {
       "model_id": "6eb682c2d61f4e1ca909b4ec896ca1ca",
       "version_major": 2,
       "version_minor": 0
      },
      "text/plain": [
       "HBox(children=(IntProgress(value=0, max=51), HTML(value='')))"
      ]
     },
     "metadata": {},
     "output_type": "display_data"
    },
    {
     "name": "stdout",
     "output_type": "stream",
     "text": [
      "\n"
     ]
    },
    {
     "data": {
      "application/vnd.jupyter.widget-view+json": {
       "model_id": "fcdf308d2023466f85ca8397f9ae9e7d",
       "version_major": 2,
       "version_minor": 0
      },
      "text/plain": [
       "HBox(children=(IntProgress(value=0, max=10), HTML(value='')))"
      ]
     },
     "metadata": {},
     "output_type": "display_data"
    },
    {
     "name": "stdout",
     "output_type": "stream",
     "text": [
      "\n",
      "Epoch: 5 \n",
      "---- Dev result: {'f1': 0.9893081843615777, 'f05': 0.9893081843615777, 'recall': 0.9893081843615777, 'precision': 0.9893081843615777}\n"
     ]
    },
    {
     "data": {
      "application/vnd.jupyter.widget-view+json": {
       "model_id": "dbf5d3928a4f433d938dc041722d916a",
       "version_major": 2,
       "version_minor": 0
      },
      "text/plain": [
       "HBox(children=(IntProgress(value=0, max=54), HTML(value='')))"
      ]
     },
     "metadata": {},
     "output_type": "display_data"
    },
    {
     "name": "stdout",
     "output_type": "stream",
     "text": [
      "\n"
     ]
    },
    {
     "data": {
      "application/vnd.jupyter.widget-view+json": {
       "model_id": "c22b7131e996426d84098b385ea332e7",
       "version_major": 2,
       "version_minor": 0
      },
      "text/plain": [
       "HBox(children=(IntProgress(value=0, max=10), HTML(value='')))"
      ]
     },
     "metadata": {},
     "output_type": "display_data"
    },
    {
     "name": "stdout",
     "output_type": "stream",
     "text": [
      "\n",
      "Epoch: 5 \n",
      "---- Test result: {'f1': 0.9864159469704703, 'f05': 0.9864159469704703, 'recall': 0.9864159469704703, 'precision': 0.9864159469704703}\n"
     ]
    }
   ],
   "source": [
    "measure_performance(embedding_loader_b)"
   ]
  },
  {
   "cell_type": "code",
   "execution_count": 27,
   "metadata": {
    "scrolled": true
   },
   "outputs": [
    {
     "name": "stdout",
     "output_type": "stream",
     "text": [
      ">> Running trainer\n",
      ">>> Epoch 0\n"
     ]
    },
    {
     "data": {
      "application/vnd.jupyter.widget-view+json": {
       "model_id": "9b380b4a4fa144e4a42c1688ef8f028c",
       "version_major": 2,
       "version_minor": 0
      },
      "text/plain": [
       "HBox(children=(IntProgress(value=0, max=1756), HTML(value='')))"
      ]
     },
     "metadata": {},
     "output_type": "display_data"
    },
    {
     "name": "stdout",
     "output_type": "stream",
     "text": [
      ">>> Loss: 95.03756713867188\n",
      ">>> Loss: 7.953157591819763\n",
      ">>> Loss: 4.674965653419495\n",
      ">>> Loss: 5.1410298538208\n",
      ">>> Loss: 2.9535986149311064\n",
      "\n",
      "Trainer epoch finished\n"
     ]
    },
    {
     "data": {
      "application/vnd.jupyter.widget-view+json": {
       "model_id": "be81e07af25944e7842aa5ceedd365ec",
       "version_major": 2,
       "version_minor": 0
      },
      "text/plain": [
       "HBox(children=(IntProgress(value=0, max=51), HTML(value='')))"
      ]
     },
     "metadata": {},
     "output_type": "display_data"
    },
    {
     "name": "stdout",
     "output_type": "stream",
     "text": [
      "\n"
     ]
    },
    {
     "data": {
      "application/vnd.jupyter.widget-view+json": {
       "model_id": "08803d908679478e8b00b9c1fd00013c",
       "version_major": 2,
       "version_minor": 0
      },
      "text/plain": [
       "HBox(children=(IntProgress(value=0, max=10), HTML(value='')))"
      ]
     },
     "metadata": {},
     "output_type": "display_data"
    },
    {
     "name": "stdout",
     "output_type": "stream",
     "text": [
      "\n",
      "Epoch: 1 \n",
      "---- Dev result: {'f1': 0.9806851168350124, 'f05': 0.9806851168350124, 'recall': 0.9806851168350124, 'precision': 0.9806851168350124}\n"
     ]
    },
    {
     "data": {
      "application/vnd.jupyter.widget-view+json": {
       "model_id": "68c5f2e6b1a54ad6ba62489874240ffd",
       "version_major": 2,
       "version_minor": 0
      },
      "text/plain": [
       "HBox(children=(IntProgress(value=0, max=54), HTML(value='')))"
      ]
     },
     "metadata": {},
     "output_type": "display_data"
    },
    {
     "name": "stdout",
     "output_type": "stream",
     "text": [
      "\n"
     ]
    },
    {
     "data": {
      "application/vnd.jupyter.widget-view+json": {
       "model_id": "a4a827b99f684c39a8ee038d521ae64e",
       "version_major": 2,
       "version_minor": 0
      },
      "text/plain": [
       "HBox(children=(IntProgress(value=0, max=10), HTML(value='')))"
      ]
     },
     "metadata": {},
     "output_type": "display_data"
    },
    {
     "name": "stdout",
     "output_type": "stream",
     "text": [
      "\n",
      "Epoch: 1 \n",
      "---- Test result: {'f1': 0.9789161341255097, 'f05': 0.9789161341255095, 'recall': 0.9789161341255096, 'precision': 0.9789161341255096}\n",
      ">> Running trainer\n",
      ">>> Epoch 0\n"
     ]
    },
    {
     "data": {
      "application/vnd.jupyter.widget-view+json": {
       "model_id": "6c98c54e186949989c22df9b3077b116",
       "version_major": 2,
       "version_minor": 0
      },
      "text/plain": [
       "HBox(children=(IntProgress(value=0, max=1756), HTML(value='')))"
      ]
     },
     "metadata": {},
     "output_type": "display_data"
    },
    {
     "name": "stdout",
     "output_type": "stream",
     "text": [
      ">>> Loss: 3.4155039381980896\n",
      ">>> Loss: 3.6533314144611357\n",
      ">>> Loss: 2.291423262357712\n",
      ">>> Loss: 3.4486569917201995\n",
      ">>> Loss: 1.8454523158073426\n",
      "\n",
      "Trainer epoch finished\n"
     ]
    },
    {
     "data": {
      "application/vnd.jupyter.widget-view+json": {
       "model_id": "9b7d4732a5d941f7a64d69017080110b",
       "version_major": 2,
       "version_minor": 0
      },
      "text/plain": [
       "HBox(children=(IntProgress(value=0, max=51), HTML(value='')))"
      ]
     },
     "metadata": {},
     "output_type": "display_data"
    },
    {
     "name": "stdout",
     "output_type": "stream",
     "text": [
      "\n"
     ]
    },
    {
     "data": {
      "application/vnd.jupyter.widget-view+json": {
       "model_id": "1c9af6ec449d44909306033300fdae70",
       "version_major": 2,
       "version_minor": 0
      },
      "text/plain": [
       "HBox(children=(IntProgress(value=0, max=10), HTML(value='')))"
      ]
     },
     "metadata": {},
     "output_type": "display_data"
    },
    {
     "name": "stdout",
     "output_type": "stream",
     "text": [
      "\n",
      "Epoch: 2 \n",
      "---- Dev result: {'f1': 0.9864185044593015, 'f05': 0.9864185044593015, 'recall': 0.9864185044593015, 'precision': 0.9864185044593015}\n"
     ]
    },
    {
     "data": {
      "application/vnd.jupyter.widget-view+json": {
       "model_id": "2ef361d2c59a48cc857eb24aaf30035a",
       "version_major": 2,
       "version_minor": 0
      },
      "text/plain": [
       "HBox(children=(IntProgress(value=0, max=54), HTML(value='')))"
      ]
     },
     "metadata": {},
     "output_type": "display_data"
    },
    {
     "name": "stdout",
     "output_type": "stream",
     "text": [
      "\n"
     ]
    },
    {
     "data": {
      "application/vnd.jupyter.widget-view+json": {
       "model_id": "5aeda4e534164b9989c13c4c7b9ab5bb",
       "version_major": 2,
       "version_minor": 0
      },
      "text/plain": [
       "HBox(children=(IntProgress(value=0, max=10), HTML(value='')))"
      ]
     },
     "metadata": {},
     "output_type": "display_data"
    },
    {
     "name": "stdout",
     "output_type": "stream",
     "text": [
      "\n",
      "Epoch: 2 \n",
      "---- Test result: {'f1': 0.9838842497124618, 'f05': 0.9838842497124619, 'recall': 0.9838842497124618, 'precision': 0.9838842497124618}\n",
      ">> Running trainer\n",
      ">>> Epoch 0\n"
     ]
    },
    {
     "data": {
      "application/vnd.jupyter.widget-view+json": {
       "model_id": "4dfe5ffc64ea406eaa10898acea797b9",
       "version_major": 2,
       "version_minor": 0
      },
      "text/plain": [
       "HBox(children=(IntProgress(value=0, max=1756), HTML(value='')))"
      ]
     },
     "metadata": {},
     "output_type": "display_data"
    },
    {
     "name": "stdout",
     "output_type": "stream",
     "text": [
      ">>> Loss: 2.364742395877838\n",
      ">>> Loss: 2.6362554973363874\n",
      ">>> Loss: 1.6309620189666747\n",
      ">>> Loss: 2.783191310763359\n",
      ">>> Loss: 1.4425462484359741\n",
      "\n",
      "Trainer epoch finished\n"
     ]
    },
    {
     "data": {
      "application/vnd.jupyter.widget-view+json": {
       "model_id": "8038ab499d1b4bc79b9ba017feedf3cb",
       "version_major": 2,
       "version_minor": 0
      },
      "text/plain": [
       "HBox(children=(IntProgress(value=0, max=51), HTML(value='')))"
      ]
     },
     "metadata": {},
     "output_type": "display_data"
    },
    {
     "name": "stdout",
     "output_type": "stream",
     "text": [
      "\n"
     ]
    },
    {
     "data": {
      "application/vnd.jupyter.widget-view+json": {
       "model_id": "21c88baecb0d4f0088b5defc5f690b4c",
       "version_major": 2,
       "version_minor": 0
      },
      "text/plain": [
       "HBox(children=(IntProgress(value=0, max=10), HTML(value='')))"
      ]
     },
     "metadata": {},
     "output_type": "display_data"
    },
    {
     "name": "stdout",
     "output_type": "stream",
     "text": [
      "\n",
      "Epoch: 3 \n",
      "---- Dev result: {'f1': 0.9880997727660804, 'f05': 0.9880997727660804, 'recall': 0.9880997727660804, 'precision': 0.9880997727660804}\n"
     ]
    },
    {
     "data": {
      "application/vnd.jupyter.widget-view+json": {
       "model_id": "fc6d82279add4d88a53d4cea26802c1c",
       "version_major": 2,
       "version_minor": 0
      },
      "text/plain": [
       "HBox(children=(IntProgress(value=0, max=54), HTML(value='')))"
      ]
     },
     "metadata": {},
     "output_type": "display_data"
    },
    {
     "name": "stdout",
     "output_type": "stream",
     "text": [
      "\n"
     ]
    },
    {
     "data": {
      "application/vnd.jupyter.widget-view+json": {
       "model_id": "992829da734447bb9e34a516948f5532",
       "version_major": 2,
       "version_minor": 0
      },
      "text/plain": [
       "HBox(children=(IntProgress(value=0, max=10), HTML(value='')))"
      ]
     },
     "metadata": {},
     "output_type": "display_data"
    },
    {
     "name": "stdout",
     "output_type": "stream",
     "text": [
      "\n",
      "Epoch: 3 \n",
      "---- Test result: {'f1': 0.9853202392862247, 'f05': 0.9853202392862247, 'recall': 0.9853202392862247, 'precision': 0.9853202392862247}\n",
      ">> Running trainer\n",
      ">>> Epoch 0\n"
     ]
    },
    {
     "data": {
      "application/vnd.jupyter.widget-view+json": {
       "model_id": "b0d06db1efc14ea297fa2acc76198909",
       "version_major": 2,
       "version_minor": 0
      },
      "text/plain": [
       "HBox(children=(IntProgress(value=0, max=1756), HTML(value='')))"
      ]
     },
     "metadata": {},
     "output_type": "display_data"
    },
    {
     "name": "stdout",
     "output_type": "stream",
     "text": [
      ">>> Loss: 2.004744299054146\n",
      ">>> Loss: 2.1058286398649217\n",
      ">>> Loss: 1.2832660102844238\n",
      ">>> Loss: 2.33428885102272\n",
      ">>> Loss: 1.1694016057252883\n",
      "\n",
      "Trainer epoch finished\n"
     ]
    },
    {
     "data": {
      "application/vnd.jupyter.widget-view+json": {
       "model_id": "4100e16149db4d918970d6a29fc96f0e",
       "version_major": 2,
       "version_minor": 0
      },
      "text/plain": [
       "HBox(children=(IntProgress(value=0, max=51), HTML(value='')))"
      ]
     },
     "metadata": {},
     "output_type": "display_data"
    },
    {
     "name": "stdout",
     "output_type": "stream",
     "text": [
      "\n"
     ]
    },
    {
     "data": {
      "application/vnd.jupyter.widget-view+json": {
       "model_id": "e90d60ca5fb14ff0bea33d523b2d8dac",
       "version_major": 2,
       "version_minor": 0
      },
      "text/plain": [
       "HBox(children=(IntProgress(value=0, max=10), HTML(value='')))"
      ]
     },
     "metadata": {},
     "output_type": "display_data"
    },
    {
     "name": "stdout",
     "output_type": "stream",
     "text": [
      "\n",
      "Epoch: 4 \n",
      "---- Dev result: {'f1': 0.9889732441910866, 'f05': 0.9889732441910867, 'recall': 0.9889732441910867, 'precision': 0.9889732441910867}\n"
     ]
    },
    {
     "data": {
      "application/vnd.jupyter.widget-view+json": {
       "model_id": "e17bb58dd8e14714bee54edb33443f2e",
       "version_major": 2,
       "version_minor": 0
      },
      "text/plain": [
       "HBox(children=(IntProgress(value=0, max=54), HTML(value='')))"
      ]
     },
     "metadata": {},
     "output_type": "display_data"
    },
    {
     "name": "stdout",
     "output_type": "stream",
     "text": [
      "\n"
     ]
    },
    {
     "data": {
      "application/vnd.jupyter.widget-view+json": {
       "model_id": "78f92149428641a5bed1236a4314abf4",
       "version_major": 2,
       "version_minor": 0
      },
      "text/plain": [
       "HBox(children=(IntProgress(value=0, max=10), HTML(value='')))"
      ]
     },
     "metadata": {},
     "output_type": "display_data"
    },
    {
     "name": "stdout",
     "output_type": "stream",
     "text": [
      "\n",
      "Epoch: 4 \n",
      "---- Test result: {'f1': 0.9860280256164207, 'f05': 0.9860280256164207, 'recall': 0.9860280256164207, 'precision': 0.9860280256164207}\n",
      ">> Running trainer\n",
      ">>> Epoch 0\n"
     ]
    },
    {
     "data": {
      "application/vnd.jupyter.widget-view+json": {
       "model_id": "3f81ea9b95cf430786874ee8e3003869",
       "version_major": 2,
       "version_minor": 0
      },
      "text/plain": [
       "HBox(children=(IntProgress(value=0, max=1756), HTML(value='')))"
      ]
     },
     "metadata": {},
     "output_type": "display_data"
    },
    {
     "name": "stdout",
     "output_type": "stream",
     "text": [
      ">>> Loss: 1.7796859395503999\n",
      ">>> Loss: 1.753575022816658\n",
      ">>> Loss: 1.0459512716531754\n",
      ">>> Loss: 1.9909034770727159\n",
      ">>> Loss: 0.9722058302164078\n",
      "\n",
      "Trainer epoch finished\n"
     ]
    },
    {
     "data": {
      "application/vnd.jupyter.widget-view+json": {
       "model_id": "30615f710ea04521a4fe07d83579c4b4",
       "version_major": 2,
       "version_minor": 0
      },
      "text/plain": [
       "HBox(children=(IntProgress(value=0, max=51), HTML(value='')))"
      ]
     },
     "metadata": {},
     "output_type": "display_data"
    },
    {
     "name": "stdout",
     "output_type": "stream",
     "text": [
      "\n"
     ]
    },
    {
     "data": {
      "application/vnd.jupyter.widget-view+json": {
       "model_id": "8648f278cae9409b87346dbccf0fcf78",
       "version_major": 2,
       "version_minor": 0
      },
      "text/plain": [
       "HBox(children=(IntProgress(value=0, max=10), HTML(value='')))"
      ]
     },
     "metadata": {},
     "output_type": "display_data"
    },
    {
     "name": "stdout",
     "output_type": "stream",
     "text": [
      "\n",
      "Epoch: 5 \n",
      "---- Dev result: {'f1': 0.9894066961764281, 'f05': 0.9894066961764282, 'recall': 0.9894066961764281, 'precision': 0.9894066961764281}\n"
     ]
    },
    {
     "data": {
      "application/vnd.jupyter.widget-view+json": {
       "model_id": "8a102ba14f3c49feb6a0648bca59dd10",
       "version_major": 2,
       "version_minor": 0
      },
      "text/plain": [
       "HBox(children=(IntProgress(value=0, max=54), HTML(value='')))"
      ]
     },
     "metadata": {},
     "output_type": "display_data"
    },
    {
     "name": "stdout",
     "output_type": "stream",
     "text": [
      "\n"
     ]
    },
    {
     "data": {
      "application/vnd.jupyter.widget-view+json": {
       "model_id": "f486844a63954feb89be8eba90286fdd",
       "version_major": 2,
       "version_minor": 0
      },
      "text/plain": [
       "HBox(children=(IntProgress(value=0, max=10), HTML(value='')))"
      ]
     },
     "metadata": {},
     "output_type": "display_data"
    },
    {
     "name": "stdout",
     "output_type": "stream",
     "text": [
      "\n",
      "Epoch: 5 \n",
      "---- Test result: {'f1': 0.9863546962303572, 'f05': 0.9863546962303573, 'recall': 0.9863546962303572, 'precision': 0.9863546962303572}\n"
     ]
    }
   ],
   "source": [
    "measure_performance(embedding_loader_c)"
   ]
  },
  {
   "cell_type": "code",
   "execution_count": null,
   "metadata": {},
   "outputs": [],
   "source": []
  },
  {
   "cell_type": "code",
   "execution_count": null,
   "metadata": {},
   "outputs": [],
   "source": []
  },
  {
   "cell_type": "code",
   "execution_count": null,
   "metadata": {},
   "outputs": [],
   "source": []
  },
  {
   "cell_type": "code",
   "execution_count": null,
   "metadata": {},
   "outputs": [],
   "source": []
  },
  {
   "cell_type": "code",
   "execution_count": null,
   "metadata": {},
   "outputs": [],
   "source": []
  },
  {
   "cell_type": "code",
   "execution_count": null,
   "metadata": {},
   "outputs": [],
   "source": []
  },
  {
   "cell_type": "code",
   "execution_count": null,
   "metadata": {},
   "outputs": [],
   "source": []
  },
  {
   "cell_type": "code",
   "execution_count": null,
   "metadata": {},
   "outputs": [],
   "source": []
  }
 ],
 "metadata": {
  "kernelspec": {
   "display_name": "Python 3",
   "language": "python",
   "name": "python3"
  },
  "language_info": {
   "codemirror_mode": {
    "name": "ipython",
    "version": 3
   },
   "file_extension": ".py",
   "mimetype": "text/x-python",
   "name": "python",
   "nbconvert_exporter": "python",
   "pygments_lexer": "ipython3",
   "version": "3.7.3"
  }
 },
 "nbformat": 4,
 "nbformat_minor": 2
}
