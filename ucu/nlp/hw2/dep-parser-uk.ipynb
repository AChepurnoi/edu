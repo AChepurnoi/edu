{
 "cells": [
  {
   "cell_type": "markdown",
   "metadata": {},
   "source": [
    "# Transition-based arc-eager unlabeled dependency parser for Ukrainian"
   ]
  },
  {
   "cell_type": "markdown",
   "metadata": {},
   "source": [
    "## Read the data\n",
    "\n",
    "Useful links:\n",
    "* [UD corpus for Ukrainian](https://github.com/UniversalDependencies/UD_Ukrainian-IU/)\n",
    "* [Easy-to-use library for parsing UD](https://github.com/EmilStenstrom/conllu)"
   ]
  },
  {
   "cell_type": "code",
   "execution_count": null,
   "metadata": {},
   "outputs": [],
   "source": []
  },
  {
   "cell_type": "code",
   "execution_count": 1,
   "metadata": {},
   "outputs": [],
   "source": [
    "from collections import OrderedDict\n",
    "from conllu import parse\n",
    "from enum import Enum\n",
    "\n",
    "with open(\"uk_iu-ud-train.conllu\", \"r\") as f:\n",
    "    data = f.read()\n",
    "\n",
    "trees = parse(data)"
   ]
  },
  {
   "cell_type": "code",
   "execution_count": 2,
   "metadata": {},
   "outputs": [
    {
     "name": "stdout",
     "output_type": "stream",
     "text": [
      "OrderedDict([('id', 1), ('form', 'У'), ('lemma', 'у'), ('upostag', 'ADP'), ('xpostag', 'Spsl'), ('feats', OrderedDict([('Case', 'Loc')])), ('head', 2), ('deprel', 'case'), ('deps', [('case', 2)]), ('misc', OrderedDict([('Id', '0003'), ('LTranslit', 'u'), ('Translit', 'U')]))])\n"
     ]
    }
   ],
   "source": [
    "tree = trees[0]\n",
    "print(tree[0])"
   ]
  },
  {
   "cell_type": "code",
   "execution_count": 3,
   "metadata": {},
   "outputs": [
    {
     "name": "stdout",
     "output_type": "stream",
     "text": [
      "У <-- домі\n",
      "домі <-- була\n",
      "римського <-- патриція\n",
      "патриція <-- домі\n",
      "Руфіна <-- патриція\n",
      "була <-- root\n",
      "прегарна <-- фреска\n",
      "фреска <-- була\n",
      ", <-- зображення\n",
      "зображення <-- фреска\n",
      "Венери <-- зображення\n",
      "та <-- Адоніса\n",
      "Адоніса <-- Венери\n",
      ". <-- була\n"
     ]
    }
   ],
   "source": [
    "for node in tree:\n",
    "    head = node[\"head\"]\n",
    "    print(\"{} <-- {}\".format(node[\"form\"],\n",
    "                             tree[head - 1][\"form\"]\n",
    "                             if head > 0 else \"root\"))"
   ]
  },
  {
   "cell_type": "markdown",
   "metadata": {},
   "source": [
    "## Design actions and the oracle\n",
    "\n",
    "We will be using a static oracle that reproduces a single valid order of actions."
   ]
  },
  {
   "cell_type": "code",
   "execution_count": 4,
   "metadata": {},
   "outputs": [],
   "source": [
    "class Actions(str, Enum):\n",
    "    SHIFT = \"shift\"\n",
    "    REDUCE = \"reduce\"\n",
    "    RIGHT = \"right\"\n",
    "    LEFT = \"left\""
   ]
  },
  {
   "cell_type": "code",
   "execution_count": 5,
   "metadata": {},
   "outputs": [],
   "source": [
    "def oracle(stack, top_queue, relations):\n",
    "    \"\"\"\n",
    "    Make a decision on the right action to do.\n",
    "    \"\"\"\n",
    "    top_stack = stack[-1]\n",
    "    # check if both stack and queue are non-empty\n",
    "    if top_stack and not top_queue:\n",
    "        return Actions.REDUCE\n",
    "    # check if there are any clear dependencies\n",
    "    elif top_queue[\"head\"] == top_stack[\"id\"]:\n",
    "        return Actions.RIGHT\n",
    "    elif top_stack[\"head\"] == top_queue[\"id\"]:\n",
    "        return Actions.LEFT\n",
    "    # check if we can reduce the top of the stack\n",
    "    elif top_stack[\"id\"] in [i[0] for i in relations] and \\\n",
    "         (top_queue[\"head\"] < top_stack[\"id\"] or \\\n",
    "          [s for s in stack if s[\"head\"] == top_queue[\"id\"]]):\n",
    "        return Actions.REDUCE\n",
    "    # default option\n",
    "    else:\n",
    "        return Actions.SHIFT"
   ]
  },
  {
   "cell_type": "code",
   "execution_count": null,
   "metadata": {},
   "outputs": [],
   "source": []
  },
  {
   "cell_type": "code",
   "execution_count": 6,
   "metadata": {
    "scrolled": true
   },
   "outputs": [
    {
     "name": "stdout",
     "output_type": "stream",
     "text": [
      "Stack: ['ROOT_0']\n",
      "Queue: ['У_1', 'домі_2', 'римського_3', 'патриція_4', 'Руфіна_5', 'була_6', 'прегарна_7', 'фреска_8', ',_9', 'зображення_10', 'Венери_11', 'та_12', 'Адоніса_13', '._14']\n",
      "Relations: []\n",
      "Actions.SHIFT\n",
      "========================\n",
      "Stack: ['ROOT_0', 'У_1']\n",
      "Queue: ['домі_2', 'римського_3', 'патриція_4', 'Руфіна_5', 'була_6', 'прегарна_7', 'фреска_8', ',_9', 'зображення_10', 'Венери_11', 'та_12', 'Адоніса_13', '._14']\n",
      "Relations: []\n",
      "Actions.LEFT\n",
      "========================\n",
      "Stack: ['ROOT_0']\n",
      "Queue: ['домі_2', 'римського_3', 'патриція_4', 'Руфіна_5', 'була_6', 'прегарна_7', 'фреска_8', ',_9', 'зображення_10', 'Венери_11', 'та_12', 'Адоніса_13', '._14']\n",
      "Relations: [(1, 2)]\n",
      "Actions.SHIFT\n",
      "========================\n",
      "Stack: ['ROOT_0', 'домі_2']\n",
      "Queue: ['римського_3', 'патриція_4', 'Руфіна_5', 'була_6', 'прегарна_7', 'фреска_8', ',_9', 'зображення_10', 'Венери_11', 'та_12', 'Адоніса_13', '._14']\n",
      "Relations: [(1, 2)]\n",
      "Actions.SHIFT\n",
      "========================\n",
      "Stack: ['ROOT_0', 'домі_2', 'римського_3']\n",
      "Queue: ['патриція_4', 'Руфіна_5', 'була_6', 'прегарна_7', 'фреска_8', ',_9', 'зображення_10', 'Венери_11', 'та_12', 'Адоніса_13', '._14']\n",
      "Relations: [(1, 2)]\n",
      "Actions.LEFT\n",
      "========================\n",
      "Stack: ['ROOT_0', 'домі_2']\n",
      "Queue: ['патриція_4', 'Руфіна_5', 'була_6', 'прегарна_7', 'фреска_8', ',_9', 'зображення_10', 'Венери_11', 'та_12', 'Адоніса_13', '._14']\n",
      "Relations: [(1, 2), (3, 4)]\n",
      "Actions.RIGHT\n",
      "========================\n",
      "Stack: ['ROOT_0', 'домі_2', 'патриція_4']\n",
      "Queue: ['Руфіна_5', 'була_6', 'прегарна_7', 'фреска_8', ',_9', 'зображення_10', 'Венери_11', 'та_12', 'Адоніса_13', '._14']\n",
      "Relations: [(1, 2), (3, 4), (4, 2)]\n",
      "Actions.RIGHT\n",
      "========================\n",
      "Stack: ['ROOT_0', 'домі_2', 'патриція_4', 'Руфіна_5']\n",
      "Queue: ['була_6', 'прегарна_7', 'фреска_8', ',_9', 'зображення_10', 'Венери_11', 'та_12', 'Адоніса_13', '._14']\n",
      "Relations: [(1, 2), (3, 4), (4, 2), (5, 4)]\n",
      "Actions.REDUCE\n",
      "========================\n",
      "Stack: ['ROOT_0', 'домі_2', 'патриція_4']\n",
      "Queue: ['була_6', 'прегарна_7', 'фреска_8', ',_9', 'зображення_10', 'Венери_11', 'та_12', 'Адоніса_13', '._14']\n",
      "Relations: [(1, 2), (3, 4), (4, 2), (5, 4)]\n",
      "Actions.REDUCE\n",
      "========================\n",
      "Stack: ['ROOT_0', 'домі_2']\n",
      "Queue: ['була_6', 'прегарна_7', 'фреска_8', ',_9', 'зображення_10', 'Венери_11', 'та_12', 'Адоніса_13', '._14']\n",
      "Relations: [(1, 2), (3, 4), (4, 2), (5, 4)]\n",
      "Actions.LEFT\n",
      "========================\n",
      "Stack: ['ROOT_0']\n",
      "Queue: ['була_6', 'прегарна_7', 'фреска_8', ',_9', 'зображення_10', 'Венери_11', 'та_12', 'Адоніса_13', '._14']\n",
      "Relations: [(1, 2), (3, 4), (4, 2), (5, 4), (2, 6)]\n",
      "Actions.RIGHT\n",
      "========================\n",
      "Stack: ['ROOT_0', 'була_6']\n",
      "Queue: ['прегарна_7', 'фреска_8', ',_9', 'зображення_10', 'Венери_11', 'та_12', 'Адоніса_13', '._14']\n",
      "Relations: [(1, 2), (3, 4), (4, 2), (5, 4), (2, 6), (6, 0)]\n",
      "Actions.SHIFT\n",
      "========================\n",
      "Stack: ['ROOT_0', 'була_6', 'прегарна_7']\n",
      "Queue: ['фреска_8', ',_9', 'зображення_10', 'Венери_11', 'та_12', 'Адоніса_13', '._14']\n",
      "Relations: [(1, 2), (3, 4), (4, 2), (5, 4), (2, 6), (6, 0)]\n",
      "Actions.LEFT\n",
      "========================\n",
      "Stack: ['ROOT_0', 'була_6']\n",
      "Queue: ['фреска_8', ',_9', 'зображення_10', 'Венери_11', 'та_12', 'Адоніса_13', '._14']\n",
      "Relations: [(1, 2), (3, 4), (4, 2), (5, 4), (2, 6), (6, 0), (7, 8)]\n",
      "Actions.RIGHT\n",
      "========================\n",
      "Stack: ['ROOT_0', 'була_6', 'фреска_8']\n",
      "Queue: [',_9', 'зображення_10', 'Венери_11', 'та_12', 'Адоніса_13', '._14']\n",
      "Relations: [(1, 2), (3, 4), (4, 2), (5, 4), (2, 6), (6, 0), (7, 8), (8, 6)]\n",
      "Actions.SHIFT\n",
      "========================\n",
      "Stack: ['ROOT_0', 'була_6', 'фреска_8', ',_9']\n",
      "Queue: ['зображення_10', 'Венери_11', 'та_12', 'Адоніса_13', '._14']\n",
      "Relations: [(1, 2), (3, 4), (4, 2), (5, 4), (2, 6), (6, 0), (7, 8), (8, 6)]\n",
      "Actions.LEFT\n",
      "========================\n",
      "Stack: ['ROOT_0', 'була_6', 'фреска_8']\n",
      "Queue: ['зображення_10', 'Венери_11', 'та_12', 'Адоніса_13', '._14']\n",
      "Relations: [(1, 2), (3, 4), (4, 2), (5, 4), (2, 6), (6, 0), (7, 8), (8, 6), (9, 10)]\n",
      "Actions.RIGHT\n",
      "========================\n",
      "Stack: ['ROOT_0', 'була_6', 'фреска_8', 'зображення_10']\n",
      "Queue: ['Венери_11', 'та_12', 'Адоніса_13', '._14']\n",
      "Relations: [(1, 2), (3, 4), (4, 2), (5, 4), (2, 6), (6, 0), (7, 8), (8, 6), (9, 10), (10, 8)]\n",
      "Actions.RIGHT\n",
      "========================\n",
      "Stack: ['ROOT_0', 'була_6', 'фреска_8', 'зображення_10', 'Венери_11']\n",
      "Queue: ['та_12', 'Адоніса_13', '._14']\n",
      "Relations: [(1, 2), (3, 4), (4, 2), (5, 4), (2, 6), (6, 0), (7, 8), (8, 6), (9, 10), (10, 8), (11, 10)]\n",
      "Actions.SHIFT\n",
      "========================\n",
      "Stack: ['ROOT_0', 'була_6', 'фреска_8', 'зображення_10', 'Венери_11', 'та_12']\n",
      "Queue: ['Адоніса_13', '._14']\n",
      "Relations: [(1, 2), (3, 4), (4, 2), (5, 4), (2, 6), (6, 0), (7, 8), (8, 6), (9, 10), (10, 8), (11, 10)]\n",
      "Actions.LEFT\n",
      "========================\n",
      "Stack: ['ROOT_0', 'була_6', 'фреска_8', 'зображення_10', 'Венери_11']\n",
      "Queue: ['Адоніса_13', '._14']\n",
      "Relations: [(1, 2), (3, 4), (4, 2), (5, 4), (2, 6), (6, 0), (7, 8), (8, 6), (9, 10), (10, 8), (11, 10), (12, 13)]\n",
      "Actions.RIGHT\n",
      "========================\n",
      "Stack: ['ROOT_0', 'була_6', 'фреска_8', 'зображення_10', 'Венери_11', 'Адоніса_13']\n",
      "Queue: ['._14']\n",
      "Relations: [(1, 2), (3, 4), (4, 2), (5, 4), (2, 6), (6, 0), (7, 8), (8, 6), (9, 10), (10, 8), (11, 10), (12, 13), (13, 11)]\n",
      "Actions.REDUCE\n",
      "========================\n",
      "Stack: ['ROOT_0', 'була_6', 'фреска_8', 'зображення_10', 'Венери_11']\n",
      "Queue: ['._14']\n",
      "Relations: [(1, 2), (3, 4), (4, 2), (5, 4), (2, 6), (6, 0), (7, 8), (8, 6), (9, 10), (10, 8), (11, 10), (12, 13), (13, 11)]\n",
      "Actions.REDUCE\n",
      "========================\n",
      "Stack: ['ROOT_0', 'була_6', 'фреска_8', 'зображення_10']\n",
      "Queue: ['._14']\n",
      "Relations: [(1, 2), (3, 4), (4, 2), (5, 4), (2, 6), (6, 0), (7, 8), (8, 6), (9, 10), (10, 8), (11, 10), (12, 13), (13, 11)]\n",
      "Actions.REDUCE\n",
      "========================\n",
      "Stack: ['ROOT_0', 'була_6', 'фреска_8']\n",
      "Queue: ['._14']\n",
      "Relations: [(1, 2), (3, 4), (4, 2), (5, 4), (2, 6), (6, 0), (7, 8), (8, 6), (9, 10), (10, 8), (11, 10), (12, 13), (13, 11)]\n",
      "Actions.REDUCE\n",
      "========================\n",
      "Stack: ['ROOT_0', 'була_6']\n",
      "Queue: ['._14']\n",
      "Relations: [(1, 2), (3, 4), (4, 2), (5, 4), (2, 6), (6, 0), (7, 8), (8, 6), (9, 10), (10, 8), (11, 10), (12, 13), (13, 11)]\n",
      "Actions.RIGHT\n",
      "========================\n",
      "Stack: ['ROOT_0', 'була_6', '._14']\n",
      "Queue: []\n",
      "Relations: [(1, 2), (3, 4), (4, 2), (5, 4), (2, 6), (6, 0), (7, 8), (8, 6), (9, 10), (10, 8), (11, 10), (12, 13), (13, 11), (14, 6)]\n",
      "Actions.REDUCE\n",
      "========================\n",
      "Stack: ['ROOT_0', 'була_6']\n",
      "Queue: []\n",
      "Relations: [(1, 2), (3, 4), (4, 2), (5, 4), (2, 6), (6, 0), (7, 8), (8, 6), (9, 10), (10, 8), (11, 10), (12, 13), (13, 11), (14, 6)]\n",
      "Actions.REDUCE\n",
      "========================\n",
      "Stack: ['ROOT_0']\n",
      "Queue: []\n",
      "Relations: [(1, 2), (3, 4), (4, 2), (5, 4), (2, 6), (6, 0), (7, 8), (8, 6), (9, 10), (10, 8), (11, 10), (12, 13), (13, 11), (14, 6)]\n",
      "Actions.REDUCE\n",
      "========================\n",
      "Gold relations:\n",
      "[(1, 2), (2, 6), (3, 4), (4, 2), (5, 4), (6, 0), (7, 8), (8, 6), (9, 10), (10, 8), (11, 10), (12, 13), (13, 11), (14, 6)]\n",
      "Retrieved relations:\n",
      "[(1, 2), (2, 6), (3, 4), (4, 2), (5, 4), (6, 0), (7, 8), (8, 6), (9, 10), (10, 8), (11, 10), (12, 13), (13, 11), (14, 6)]\n"
     ]
    }
   ],
   "source": [
    "ROOT = OrderedDict([('id', 0), ('form', 'ROOT'), ('lemma', 'ROOT'), ('upostag', 'ROOT'),\n",
    "                    ('xpostag', None), ('feats', None), ('head', None), ('deprel', None),\n",
    "                    ('deps', None), ('misc', None)])\n",
    "\n",
    "def trace_actions(tree, log=True):\n",
    "    \"\"\"\n",
    "    Try out the oracle to verify it's returning the right actions.\n",
    "    \"\"\"\n",
    "    stack, queue, relations = [ROOT], tree[:], []\n",
    "    while queue or stack:\n",
    "        action = oracle(stack if len(stack) > 0 else None,\n",
    "                        queue[0] if len(queue) > 0 else None,\n",
    "                        relations)\n",
    "        if log:\n",
    "            print(\"Stack:\", [i[\"form\"]+\"_\"+str(i[\"id\"]) for i in stack])\n",
    "            print(\"Queue:\", [i[\"form\"]+\"_\"+str(i[\"id\"]) for i in queue])\n",
    "            print(\"Relations:\", relations)\n",
    "            print(action)\n",
    "            print(\"========================\")\n",
    "        if action == Actions.SHIFT:\n",
    "            stack.append(queue.pop(0))\n",
    "        elif action == Actions.REDUCE:\n",
    "            stack.pop()\n",
    "        elif action == Actions.LEFT:\n",
    "            relations.append((stack[-1][\"id\"], queue[0][\"id\"]))\n",
    "            stack.pop()\n",
    "        elif action == Actions.RIGHT:\n",
    "            relations.append((queue[0][\"id\"], stack[-1][\"id\"]))\n",
    "            stack.append(queue.pop(0))\n",
    "        else:\n",
    "            print(\"Unknown action.\")\n",
    "    if log:\n",
    "        print(\"Gold relations:\")\n",
    "        print([(node[\"id\"], node[\"head\"]) for node in tree])\n",
    "        print(\"Retrieved relations:\")\n",
    "        print(sorted(relations))\n",
    "\n",
    "trace_actions(tree)"
   ]
  },
  {
   "cell_type": "markdown",
   "metadata": {},
   "source": [
    "## Feature extraction\n",
    "\n",
    "Reference: [Dependency Parsing by Kübler, McDonald, and Nivre](https://books.google.com.ua/books?id=k3iiup7HB9UC&pg=PA21&hl=uk&source=gbs_toc_r&cad=4#v=onepage&q&f=false)"
   ]
  },
  {
   "cell_type": "code",
   "execution_count": 7,
   "metadata": {},
   "outputs": [
    {
     "data": {
      "text/plain": [
       "OrderedDict([('id', 1),\n",
       "             ('form', 'У'),\n",
       "             ('lemma', 'у'),\n",
       "             ('upostag', 'ADP'),\n",
       "             ('xpostag', 'Spsl'),\n",
       "             ('feats', OrderedDict([('Case', 'Loc')])),\n",
       "             ('head', 2),\n",
       "             ('deprel', 'case'),\n",
       "             ('deps', [('case', 2)]),\n",
       "             ('misc',\n",
       "              OrderedDict([('Id', '0003'),\n",
       "                           ('LTranslit', 'u'),\n",
       "                           ('Translit', 'U')]))])"
      ]
     },
     "execution_count": 7,
     "metadata": {},
     "output_type": "execute_result"
    }
   ],
   "source": [
    "tree[0]"
   ]
  },
  {
   "cell_type": "code",
   "execution_count": 8,
   "metadata": {},
   "outputs": [],
   "source": [
    "def extract_features(stack, queue):\n",
    "    features = dict()\n",
    "    if len(stack) > 0:\n",
    "        stack_top = stack[-1]\n",
    "        features[\"s0-word\"] = stack_top[\"form\"]\n",
    "        features[\"s0-lemma\"] = stack_top[\"lemma\"]\n",
    "        features[\"s0-tag\"] = stack_top[\"upostag\"]\n",
    "        if stack_top[\"xpostag\"]:\n",
    "            features[\"s0-xtag\"] = stack_top[\"xpostag\"]\n",
    "        if stack_top[\"feats\"]:\n",
    "            for k, v in stack_top[\"feats\"].items():\n",
    "                features[\"s0-\" + k] = v\n",
    "    if len(stack) > 1:\n",
    "        stack_top = stack[-2]\n",
    "        features[\"s1-word\"] = stack_top[\"form\"]\n",
    "        features[\"s1-lemma\"] = stack_top[\"lemma\"]\n",
    "        features[\"s1-tag\"] = stack_top[\"upostag\"]\n",
    "        if stack_top[\"xpostag\"]:\n",
    "            features[\"s1-xtag\"] = stack_top[\"xpostag\"]\n",
    "    if queue:\n",
    "        queue_top = queue[0]\n",
    "        features[\"q0-word\"] = queue_top[\"form\"]\n",
    "        features[\"q0-lemma\"] = queue_top[\"lemma\"]\n",
    "        features[\"q0-tag\"] = queue_top[\"upostag\"]\n",
    "        if queue_top['xpostag']:\n",
    "            features[\"q0-xtag\"] = queue_top[\"xpostag\"]\n",
    "        if queue_top[\"feats\"]:\n",
    "            for k, v in queue_top[\"feats\"].items():\n",
    "                features[\"q0-\" + k] = v\n",
    "    if len(queue) > 1:\n",
    "        queue_next = queue[1]\n",
    "        features[\"q1-word\"] = queue_next[\"form\"]\n",
    "        features[\"q1-tag\"] = queue_next[\"upostag\"]\n",
    "        if queue_next[\"xpostag\"]:\n",
    "            features[\"q1-xtag\"] = queue_next[\"xpostag\"]\n",
    "    if len(queue) > 2:\n",
    "        features[\"q2-tag\"] = queue[2][\"upostag\"]\n",
    "        if queue[2][\"xpostag\"]:\n",
    "            features[\"q2-xtag\"] = queue[2][\"xpostag\"]\n",
    "    if len(queue) > 3:\n",
    "        features[\"q3-tag\"] = queue[3][\"upostag\"]\n",
    "        if queue[3][\"xpostag\"]:\n",
    "            features[\"q3-tag\"] = queue[3][\"xpostag\"]\n",
    "    if stack and queue:\n",
    "        features[\"distance\"] = queue[0][\"id\"] - stack[-1][\"id\"]\n",
    "        features[\"same_tag\"] = queue[0][\"upostag\"] == stack[-1][\"upostag\"]\n",
    "    \n",
    "    if len(stack) > 1 and len(queue) > 1:\n",
    "        features[\"distance_1_1\"] = queue[1][\"id\"] - stack[-2][\"id\"]\n",
    "        features[\"same_tag_1_1\"] = queue[1][\"upostag\"] == stack[-2][\"upostag\"]\n",
    "        features[\"distance_1\"] = queue[0][\"id\"] - stack[-2][\"id\"]\n",
    "        features[\"same_tag_1\"] = queue[0][\"upostag\"] == stack[-2][\"upostag\"]\n",
    "        \n",
    "    if len(stack) > 2 and len(queue) > 2:\n",
    "        features[\"distance_2_2\"] = queue[2][\"id\"] - stack[-3][\"id\"]\n",
    "        features[\"same_tag_2_2\"] = queue[2][\"upostag\"] == stack[-3][\"upostag\"]\n",
    "        features[\"distance_2\"] = queue[0][\"id\"] - stack[-3][\"id\"]\n",
    "        features[\"same_tag_2\"] = queue[0][\"upostag\"] == stack[-3][\"upostag\"]\n",
    "    return features"
   ]
  },
  {
   "cell_type": "markdown",
   "metadata": {},
   "source": [
    "## Prepare train and test data"
   ]
  },
  {
   "cell_type": "code",
   "execution_count": 9,
   "metadata": {},
   "outputs": [],
   "source": [
    "def get_data(tree):\n",
    "    features, labels = [], []\n",
    "    stack, queue, relations = [ROOT], tree[:], []\n",
    "\n",
    "    while queue or stack:\n",
    "        action = oracle(stack if len(stack) > 0 else None,\n",
    "                        queue[0] if len(queue) > 0 else None,\n",
    "                        relations)\n",
    "        features.append(extract_features(stack, queue))\n",
    "        labels.append(action.value)\n",
    "        if action == Actions.SHIFT:\n",
    "            stack.append(queue.pop(0))\n",
    "        elif action == Actions.REDUCE:\n",
    "            stack.pop()\n",
    "        elif action == Actions.LEFT:\n",
    "            relations.append((stack[-1][\"id\"], queue[0][\"id\"]))\n",
    "            stack.pop()\n",
    "        elif action == Actions.RIGHT:\n",
    "            relations.append((queue[0][\"id\"], stack[-1][\"id\"]))\n",
    "            stack.append(queue.pop(0))\n",
    "        else:\n",
    "            print(\"Unknown action.\")\n",
    "    return features, labels"
   ]
  },
  {
   "cell_type": "code",
   "execution_count": 10,
   "metadata": {
    "scrolled": true
   },
   "outputs": [
    {
     "name": "stdout",
     "output_type": "stream",
     "text": [
      "Number of words: 14\n",
      "Number of actions: 29\n",
      "List of actions taken: ['shift', 'left', 'shift', 'shift', 'left', 'right', 'right', 'reduce', 'reduce', 'left', 'right', 'shift', 'left', 'right', 'shift', 'left', 'right', 'right', 'shift', 'left', 'right', 'reduce', 'reduce', 'reduce', 'reduce', 'right', 'reduce', 'reduce', 'reduce']\n",
      "Features:\n",
      "{'s0-word': 'ROOT', 's0-lemma': 'ROOT', 's0-tag': 'ROOT', 'q0-word': 'У', 'q0-lemma': 'у', 'q0-tag': 'ADP', 'q0-xtag': 'Spsl', 'q0-Case': 'Loc', 'q1-word': 'домі', 'q1-tag': 'NOUN', 'q1-xtag': 'Ncmsln', 'q2-tag': 'ADJ', 'q2-xtag': 'Ao-msgf', 'q3-tag': 'Ncmsgy', 'distance': 1, 'same_tag': False}\n",
      "{'s0-word': 'У', 's0-lemma': 'у', 's0-tag': 'ADP', 's0-xtag': 'Spsl', 's0-Case': 'Loc', 's1-word': 'ROOT', 's1-lemma': 'ROOT', 's1-tag': 'ROOT', 'q0-word': 'домі', 'q0-lemma': 'дім', 'q0-tag': 'NOUN', 'q0-xtag': 'Ncmsln', 'q0-Animacy': 'Inan', 'q0-Case': 'Loc', 'q0-Gender': 'Masc', 'q0-Number': 'Sing', 'q1-word': 'римського', 'q1-tag': 'ADJ', 'q1-xtag': 'Ao-msgf', 'q2-tag': 'NOUN', 'q2-xtag': 'Ncmsgy', 'q3-tag': 'Npmsgy', 'distance': 1, 'same_tag': False, 'distance_1_1': 3, 'same_tag_1_1': False, 'distance_1': 2, 'same_tag_1': False}\n",
      "{'s0-word': 'ROOT', 's0-lemma': 'ROOT', 's0-tag': 'ROOT', 'q0-word': 'домі', 'q0-lemma': 'дім', 'q0-tag': 'NOUN', 'q0-xtag': 'Ncmsln', 'q0-Animacy': 'Inan', 'q0-Case': 'Loc', 'q0-Gender': 'Masc', 'q0-Number': 'Sing', 'q1-word': 'римського', 'q1-tag': 'ADJ', 'q1-xtag': 'Ao-msgf', 'q2-tag': 'NOUN', 'q2-xtag': 'Ncmsgy', 'q3-tag': 'Npmsgy', 'distance': 2, 'same_tag': False}\n",
      "{'s0-word': 'домі', 's0-lemma': 'дім', 's0-tag': 'NOUN', 's0-xtag': 'Ncmsln', 's0-Animacy': 'Inan', 's0-Case': 'Loc', 's0-Gender': 'Masc', 's0-Number': 'Sing', 's1-word': 'ROOT', 's1-lemma': 'ROOT', 's1-tag': 'ROOT', 'q0-word': 'римського', 'q0-lemma': 'римський', 'q0-tag': 'ADJ', 'q0-xtag': 'Ao-msgf', 'q0-Case': 'Gen', 'q0-Gender': 'Masc', 'q0-Number': 'Sing', 'q1-word': 'патриція', 'q1-tag': 'NOUN', 'q1-xtag': 'Ncmsgy', 'q2-tag': 'PROPN', 'q2-xtag': 'Npmsgy', 'q3-tag': 'Vapis-sf', 'distance': 1, 'same_tag': False, 'distance_1_1': 4, 'same_tag_1_1': False, 'distance_1': 3, 'same_tag_1': False}\n",
      "{'s0-word': 'римського', 's0-lemma': 'римський', 's0-tag': 'ADJ', 's0-xtag': 'Ao-msgf', 's0-Case': 'Gen', 's0-Gender': 'Masc', 's0-Number': 'Sing', 's1-word': 'домі', 's1-lemma': 'дім', 's1-tag': 'NOUN', 's1-xtag': 'Ncmsln', 'q0-word': 'патриція', 'q0-lemma': 'патрицій', 'q0-tag': 'NOUN', 'q0-xtag': 'Ncmsgy', 'q0-Animacy': 'Anim', 'q0-Case': 'Gen', 'q0-Gender': 'Masc', 'q0-Number': 'Sing', 'q1-word': 'Руфіна', 'q1-tag': 'PROPN', 'q1-xtag': 'Npmsgy', 'q2-tag': 'VERB', 'q2-xtag': 'Vapis-sf', 'q3-tag': 'Ao-fsns', 'distance': 1, 'same_tag': False, 'distance_1_1': 3, 'same_tag_1_1': False, 'distance_1': 2, 'same_tag_1': True, 'distance_2_2': 6, 'same_tag_2_2': False, 'distance_2': 4, 'same_tag_2': False}\n",
      "{'s0-word': 'домі', 's0-lemma': 'дім', 's0-tag': 'NOUN', 's0-xtag': 'Ncmsln', 's0-Animacy': 'Inan', 's0-Case': 'Loc', 's0-Gender': 'Masc', 's0-Number': 'Sing', 's1-word': 'ROOT', 's1-lemma': 'ROOT', 's1-tag': 'ROOT', 'q0-word': 'патриція', 'q0-lemma': 'патрицій', 'q0-tag': 'NOUN', 'q0-xtag': 'Ncmsgy', 'q0-Animacy': 'Anim', 'q0-Case': 'Gen', 'q0-Gender': 'Masc', 'q0-Number': 'Sing', 'q1-word': 'Руфіна', 'q1-tag': 'PROPN', 'q1-xtag': 'Npmsgy', 'q2-tag': 'VERB', 'q2-xtag': 'Vapis-sf', 'q3-tag': 'Ao-fsns', 'distance': 2, 'same_tag': True, 'distance_1_1': 5, 'same_tag_1_1': False, 'distance_1': 4, 'same_tag_1': False}\n",
      "{'s0-word': 'патриція', 's0-lemma': 'патрицій', 's0-tag': 'NOUN', 's0-xtag': 'Ncmsgy', 's0-Animacy': 'Anim', 's0-Case': 'Gen', 's0-Gender': 'Masc', 's0-Number': 'Sing', 's1-word': 'домі', 's1-lemma': 'дім', 's1-tag': 'NOUN', 's1-xtag': 'Ncmsln', 'q0-word': 'Руфіна', 'q0-lemma': 'Руфін', 'q0-tag': 'PROPN', 'q0-xtag': 'Npmsgy', 'q0-Animacy': 'Anim', 'q0-Case': 'Gen', 'q0-Gender': 'Masc', 'q0-NameType': 'Giv', 'q0-Number': 'Sing', 'q1-word': 'була', 'q1-tag': 'VERB', 'q1-xtag': 'Vapis-sf', 'q2-tag': 'ADJ', 'q2-xtag': 'Ao-fsns', 'q3-tag': 'Ncfsnn', 'distance': 1, 'same_tag': False, 'distance_1_1': 4, 'same_tag_1_1': False, 'distance_1': 3, 'same_tag_1': False, 'distance_2_2': 7, 'same_tag_2_2': False, 'distance_2': 5, 'same_tag_2': False}\n",
      "{'s0-word': 'Руфіна', 's0-lemma': 'Руфін', 's0-tag': 'PROPN', 's0-xtag': 'Npmsgy', 's0-Animacy': 'Anim', 's0-Case': 'Gen', 's0-Gender': 'Masc', 's0-NameType': 'Giv', 's0-Number': 'Sing', 's1-word': 'патриція', 's1-lemma': 'патрицій', 's1-tag': 'NOUN', 's1-xtag': 'Ncmsgy', 'q0-word': 'була', 'q0-lemma': 'бути', 'q0-tag': 'VERB', 'q0-xtag': 'Vapis-sf', 'q0-Aspect': 'Imp', 'q0-Gender': 'Fem', 'q0-Mood': 'Ind', 'q0-Number': 'Sing', 'q0-Tense': 'Past', 'q0-VerbForm': 'Fin', 'q1-word': 'прегарна', 'q1-tag': 'ADJ', 'q1-xtag': 'Ao-fsns', 'q2-tag': 'NOUN', 'q2-xtag': 'Ncfsnn', 'q3-tag': 'U', 'distance': 1, 'same_tag': False, 'distance_1_1': 3, 'same_tag_1_1': False, 'distance_1': 2, 'same_tag_1': False, 'distance_2_2': 6, 'same_tag_2_2': True, 'distance_2': 4, 'same_tag_2': False}\n",
      "{'s0-word': 'патриція', 's0-lemma': 'патрицій', 's0-tag': 'NOUN', 's0-xtag': 'Ncmsgy', 's0-Animacy': 'Anim', 's0-Case': 'Gen', 's0-Gender': 'Masc', 's0-Number': 'Sing', 's1-word': 'домі', 's1-lemma': 'дім', 's1-tag': 'NOUN', 's1-xtag': 'Ncmsln', 'q0-word': 'була', 'q0-lemma': 'бути', 'q0-tag': 'VERB', 'q0-xtag': 'Vapis-sf', 'q0-Aspect': 'Imp', 'q0-Gender': 'Fem', 'q0-Mood': 'Ind', 'q0-Number': 'Sing', 'q0-Tense': 'Past', 'q0-VerbForm': 'Fin', 'q1-word': 'прегарна', 'q1-tag': 'ADJ', 'q1-xtag': 'Ao-fsns', 'q2-tag': 'NOUN', 'q2-xtag': 'Ncfsnn', 'q3-tag': 'U', 'distance': 2, 'same_tag': False, 'distance_1_1': 5, 'same_tag_1_1': False, 'distance_1': 4, 'same_tag_1': False, 'distance_2_2': 8, 'same_tag_2_2': False, 'distance_2': 6, 'same_tag_2': False}\n",
      "{'s0-word': 'домі', 's0-lemma': 'дім', 's0-tag': 'NOUN', 's0-xtag': 'Ncmsln', 's0-Animacy': 'Inan', 's0-Case': 'Loc', 's0-Gender': 'Masc', 's0-Number': 'Sing', 's1-word': 'ROOT', 's1-lemma': 'ROOT', 's1-tag': 'ROOT', 'q0-word': 'була', 'q0-lemma': 'бути', 'q0-tag': 'VERB', 'q0-xtag': 'Vapis-sf', 'q0-Aspect': 'Imp', 'q0-Gender': 'Fem', 'q0-Mood': 'Ind', 'q0-Number': 'Sing', 'q0-Tense': 'Past', 'q0-VerbForm': 'Fin', 'q1-word': 'прегарна', 'q1-tag': 'ADJ', 'q1-xtag': 'Ao-fsns', 'q2-tag': 'NOUN', 'q2-xtag': 'Ncfsnn', 'q3-tag': 'U', 'distance': 4, 'same_tag': False, 'distance_1_1': 7, 'same_tag_1_1': False, 'distance_1': 6, 'same_tag_1': False}\n",
      "{'s0-word': 'ROOT', 's0-lemma': 'ROOT', 's0-tag': 'ROOT', 'q0-word': 'була', 'q0-lemma': 'бути', 'q0-tag': 'VERB', 'q0-xtag': 'Vapis-sf', 'q0-Aspect': 'Imp', 'q0-Gender': 'Fem', 'q0-Mood': 'Ind', 'q0-Number': 'Sing', 'q0-Tense': 'Past', 'q0-VerbForm': 'Fin', 'q1-word': 'прегарна', 'q1-tag': 'ADJ', 'q1-xtag': 'Ao-fsns', 'q2-tag': 'NOUN', 'q2-xtag': 'Ncfsnn', 'q3-tag': 'U', 'distance': 6, 'same_tag': False}\n",
      "{'s0-word': 'була', 's0-lemma': 'бути', 's0-tag': 'VERB', 's0-xtag': 'Vapis-sf', 's0-Aspect': 'Imp', 's0-Gender': 'Fem', 's0-Mood': 'Ind', 's0-Number': 'Sing', 's0-Tense': 'Past', 's0-VerbForm': 'Fin', 's1-word': 'ROOT', 's1-lemma': 'ROOT', 's1-tag': 'ROOT', 'q0-word': 'прегарна', 'q0-lemma': 'прегарний', 'q0-tag': 'ADJ', 'q0-xtag': 'Ao-fsns', 'q0-Case': 'Nom', 'q0-Gender': 'Fem', 'q0-Number': 'Sing', 'q1-word': 'фреска', 'q1-tag': 'NOUN', 'q1-xtag': 'Ncfsnn', 'q2-tag': 'PUNCT', 'q2-xtag': 'U', 'q3-tag': 'Ncnsnn', 'distance': 1, 'same_tag': False, 'distance_1_1': 8, 'same_tag_1_1': False, 'distance_1': 7, 'same_tag_1': False}\n",
      "{'s0-word': 'прегарна', 's0-lemma': 'прегарний', 's0-tag': 'ADJ', 's0-xtag': 'Ao-fsns', 's0-Case': 'Nom', 's0-Gender': 'Fem', 's0-Number': 'Sing', 's1-word': 'була', 's1-lemma': 'бути', 's1-tag': 'VERB', 's1-xtag': 'Vapis-sf', 'q0-word': 'фреска', 'q0-lemma': 'фреска', 'q0-tag': 'NOUN', 'q0-xtag': 'Ncfsnn', 'q0-Animacy': 'Inan', 'q0-Case': 'Nom', 'q0-Gender': 'Fem', 'q0-Number': 'Sing', 'q1-word': ',', 'q1-tag': 'PUNCT', 'q1-xtag': 'U', 'q2-tag': 'NOUN', 'q2-xtag': 'Ncnsnn', 'q3-tag': 'Npfsgy', 'distance': 1, 'same_tag': False, 'distance_1_1': 3, 'same_tag_1_1': False, 'distance_1': 2, 'same_tag_1': False, 'distance_2_2': 10, 'same_tag_2_2': False, 'distance_2': 8, 'same_tag_2': False}\n",
      "{'s0-word': 'була', 's0-lemma': 'бути', 's0-tag': 'VERB', 's0-xtag': 'Vapis-sf', 's0-Aspect': 'Imp', 's0-Gender': 'Fem', 's0-Mood': 'Ind', 's0-Number': 'Sing', 's0-Tense': 'Past', 's0-VerbForm': 'Fin', 's1-word': 'ROOT', 's1-lemma': 'ROOT', 's1-tag': 'ROOT', 'q0-word': 'фреска', 'q0-lemma': 'фреска', 'q0-tag': 'NOUN', 'q0-xtag': 'Ncfsnn', 'q0-Animacy': 'Inan', 'q0-Case': 'Nom', 'q0-Gender': 'Fem', 'q0-Number': 'Sing', 'q1-word': ',', 'q1-tag': 'PUNCT', 'q1-xtag': 'U', 'q2-tag': 'NOUN', 'q2-xtag': 'Ncnsnn', 'q3-tag': 'Npfsgy', 'distance': 2, 'same_tag': False, 'distance_1_1': 9, 'same_tag_1_1': False, 'distance_1': 8, 'same_tag_1': False}\n",
      "{'s0-word': 'фреска', 's0-lemma': 'фреска', 's0-tag': 'NOUN', 's0-xtag': 'Ncfsnn', 's0-Animacy': 'Inan', 's0-Case': 'Nom', 's0-Gender': 'Fem', 's0-Number': 'Sing', 's1-word': 'була', 's1-lemma': 'бути', 's1-tag': 'VERB', 's1-xtag': 'Vapis-sf', 'q0-word': ',', 'q0-lemma': ',', 'q0-tag': 'PUNCT', 'q0-xtag': 'U', 'q1-word': 'зображення', 'q1-tag': 'NOUN', 'q1-xtag': 'Ncnsnn', 'q2-tag': 'PROPN', 'q2-xtag': 'Npfsgy', 'q3-tag': 'Ccs', 'distance': 1, 'same_tag': False, 'distance_1_1': 4, 'same_tag_1_1': False, 'distance_1': 3, 'same_tag_1': False, 'distance_2_2': 11, 'same_tag_2_2': False, 'distance_2': 9, 'same_tag_2': False}\n",
      "{'s0-word': ',', 's0-lemma': ',', 's0-tag': 'PUNCT', 's0-xtag': 'U', 's1-word': 'фреска', 's1-lemma': 'фреска', 's1-tag': 'NOUN', 's1-xtag': 'Ncfsnn', 'q0-word': 'зображення', 'q0-lemma': 'зображення', 'q0-tag': 'NOUN', 'q0-xtag': 'Ncnsnn', 'q0-Animacy': 'Inan', 'q0-Case': 'Nom', 'q0-Gender': 'Neut', 'q0-Number': 'Sing', 'q1-word': 'Венери', 'q1-tag': 'PROPN', 'q1-xtag': 'Npfsgy', 'q2-tag': 'CCONJ', 'q2-xtag': 'Ccs', 'q3-tag': 'Npmsgy', 'distance': 1, 'same_tag': False, 'distance_1_1': 3, 'same_tag_1_1': False, 'distance_1': 2, 'same_tag_1': True, 'distance_2_2': 6, 'same_tag_2_2': False, 'distance_2': 4, 'same_tag_2': False}\n",
      "{'s0-word': 'фреска', 's0-lemma': 'фреска', 's0-tag': 'NOUN', 's0-xtag': 'Ncfsnn', 's0-Animacy': 'Inan', 's0-Case': 'Nom', 's0-Gender': 'Fem', 's0-Number': 'Sing', 's1-word': 'була', 's1-lemma': 'бути', 's1-tag': 'VERB', 's1-xtag': 'Vapis-sf', 'q0-word': 'зображення', 'q0-lemma': 'зображення', 'q0-tag': 'NOUN', 'q0-xtag': 'Ncnsnn', 'q0-Animacy': 'Inan', 'q0-Case': 'Nom', 'q0-Gender': 'Neut', 'q0-Number': 'Sing', 'q1-word': 'Венери', 'q1-tag': 'PROPN', 'q1-xtag': 'Npfsgy', 'q2-tag': 'CCONJ', 'q2-xtag': 'Ccs', 'q3-tag': 'Npmsgy', 'distance': 2, 'same_tag': True, 'distance_1_1': 5, 'same_tag_1_1': False, 'distance_1': 4, 'same_tag_1': False, 'distance_2_2': 12, 'same_tag_2_2': False, 'distance_2': 10, 'same_tag_2': False}\n",
      "{'s0-word': 'зображення', 's0-lemma': 'зображення', 's0-tag': 'NOUN', 's0-xtag': 'Ncnsnn', 's0-Animacy': 'Inan', 's0-Case': 'Nom', 's0-Gender': 'Neut', 's0-Number': 'Sing', 's1-word': 'фреска', 's1-lemma': 'фреска', 's1-tag': 'NOUN', 's1-xtag': 'Ncfsnn', 'q0-word': 'Венери', 'q0-lemma': 'Венера', 'q0-tag': 'PROPN', 'q0-xtag': 'Npfsgy', 'q0-Animacy': 'Anim', 'q0-Case': 'Gen', 'q0-Gender': 'Fem', 'q0-NameType': 'Giv', 'q0-Number': 'Sing', 'q1-word': 'та', 'q1-tag': 'CCONJ', 'q1-xtag': 'Ccs', 'q2-tag': 'PROPN', 'q2-xtag': 'Npmsgy', 'q3-tag': 'U', 'distance': 1, 'same_tag': False, 'distance_1_1': 4, 'same_tag_1_1': False, 'distance_1': 3, 'same_tag_1': False, 'distance_2_2': 7, 'same_tag_2_2': False, 'distance_2': 5, 'same_tag_2': False}\n",
      "{'s0-word': 'Венери', 's0-lemma': 'Венера', 's0-tag': 'PROPN', 's0-xtag': 'Npfsgy', 's0-Animacy': 'Anim', 's0-Case': 'Gen', 's0-Gender': 'Fem', 's0-NameType': 'Giv', 's0-Number': 'Sing', 's1-word': 'зображення', 's1-lemma': 'зображення', 's1-tag': 'NOUN', 's1-xtag': 'Ncnsnn', 'q0-word': 'та', 'q0-lemma': 'та', 'q0-tag': 'CCONJ', 'q0-xtag': 'Ccs', 'q1-word': 'Адоніса', 'q1-tag': 'PROPN', 'q1-xtag': 'Npmsgy', 'q2-tag': 'PUNCT', 'q2-xtag': 'U', 'distance': 1, 'same_tag': False, 'distance_1_1': 3, 'same_tag_1_1': False, 'distance_1': 2, 'same_tag_1': False, 'distance_2_2': 6, 'same_tag_2_2': False, 'distance_2': 4, 'same_tag_2': False}\n",
      "{'s0-word': 'та', 's0-lemma': 'та', 's0-tag': 'CCONJ', 's0-xtag': 'Ccs', 's1-word': 'Венери', 's1-lemma': 'Венера', 's1-tag': 'PROPN', 's1-xtag': 'Npfsgy', 'q0-word': 'Адоніса', 'q0-lemma': 'Адоніс', 'q0-tag': 'PROPN', 'q0-xtag': 'Npmsgy', 'q0-Animacy': 'Anim', 'q0-Case': 'Gen', 'q0-Gender': 'Masc', 'q0-NameType': 'Giv', 'q0-Number': 'Sing', 'q1-word': '.', 'q1-tag': 'PUNCT', 'q1-xtag': 'U', 'distance': 1, 'same_tag': False, 'distance_1_1': 3, 'same_tag_1_1': False, 'distance_1': 2, 'same_tag_1': True}\n",
      "{'s0-word': 'Венери', 's0-lemma': 'Венера', 's0-tag': 'PROPN', 's0-xtag': 'Npfsgy', 's0-Animacy': 'Anim', 's0-Case': 'Gen', 's0-Gender': 'Fem', 's0-NameType': 'Giv', 's0-Number': 'Sing', 's1-word': 'зображення', 's1-lemma': 'зображення', 's1-tag': 'NOUN', 's1-xtag': 'Ncnsnn', 'q0-word': 'Адоніса', 'q0-lemma': 'Адоніс', 'q0-tag': 'PROPN', 'q0-xtag': 'Npmsgy', 'q0-Animacy': 'Anim', 'q0-Case': 'Gen', 'q0-Gender': 'Masc', 'q0-NameType': 'Giv', 'q0-Number': 'Sing', 'q1-word': '.', 'q1-tag': 'PUNCT', 'q1-xtag': 'U', 'distance': 2, 'same_tag': True, 'distance_1_1': 4, 'same_tag_1_1': False, 'distance_1': 3, 'same_tag_1': False}\n",
      "{'s0-word': 'Адоніса', 's0-lemma': 'Адоніс', 's0-tag': 'PROPN', 's0-xtag': 'Npmsgy', 's0-Animacy': 'Anim', 's0-Case': 'Gen', 's0-Gender': 'Masc', 's0-NameType': 'Giv', 's0-Number': 'Sing', 's1-word': 'Венери', 's1-lemma': 'Венера', 's1-tag': 'PROPN', 's1-xtag': 'Npfsgy', 'q0-word': '.', 'q0-lemma': '.', 'q0-tag': 'PUNCT', 'q0-xtag': 'U', 'distance': 1, 'same_tag': False}\n",
      "{'s0-word': 'Венери', 's0-lemma': 'Венера', 's0-tag': 'PROPN', 's0-xtag': 'Npfsgy', 's0-Animacy': 'Anim', 's0-Case': 'Gen', 's0-Gender': 'Fem', 's0-NameType': 'Giv', 's0-Number': 'Sing', 's1-word': 'зображення', 's1-lemma': 'зображення', 's1-tag': 'NOUN', 's1-xtag': 'Ncnsnn', 'q0-word': '.', 'q0-lemma': '.', 'q0-tag': 'PUNCT', 'q0-xtag': 'U', 'distance': 3, 'same_tag': False}\n",
      "{'s0-word': 'зображення', 's0-lemma': 'зображення', 's0-tag': 'NOUN', 's0-xtag': 'Ncnsnn', 's0-Animacy': 'Inan', 's0-Case': 'Nom', 's0-Gender': 'Neut', 's0-Number': 'Sing', 's1-word': 'фреска', 's1-lemma': 'фреска', 's1-tag': 'NOUN', 's1-xtag': 'Ncfsnn', 'q0-word': '.', 'q0-lemma': '.', 'q0-tag': 'PUNCT', 'q0-xtag': 'U', 'distance': 4, 'same_tag': False}\n",
      "{'s0-word': 'фреска', 's0-lemma': 'фреска', 's0-tag': 'NOUN', 's0-xtag': 'Ncfsnn', 's0-Animacy': 'Inan', 's0-Case': 'Nom', 's0-Gender': 'Fem', 's0-Number': 'Sing', 's1-word': 'була', 's1-lemma': 'бути', 's1-tag': 'VERB', 's1-xtag': 'Vapis-sf', 'q0-word': '.', 'q0-lemma': '.', 'q0-tag': 'PUNCT', 'q0-xtag': 'U', 'distance': 6, 'same_tag': False}\n",
      "{'s0-word': 'була', 's0-lemma': 'бути', 's0-tag': 'VERB', 's0-xtag': 'Vapis-sf', 's0-Aspect': 'Imp', 's0-Gender': 'Fem', 's0-Mood': 'Ind', 's0-Number': 'Sing', 's0-Tense': 'Past', 's0-VerbForm': 'Fin', 's1-word': 'ROOT', 's1-lemma': 'ROOT', 's1-tag': 'ROOT', 'q0-word': '.', 'q0-lemma': '.', 'q0-tag': 'PUNCT', 'q0-xtag': 'U', 'distance': 8, 'same_tag': False}\n",
      "{'s0-word': '.', 's0-lemma': '.', 's0-tag': 'PUNCT', 's0-xtag': 'U', 's1-word': 'була', 's1-lemma': 'бути', 's1-tag': 'VERB', 's1-xtag': 'Vapis-sf'}\n",
      "{'s0-word': 'була', 's0-lemma': 'бути', 's0-tag': 'VERB', 's0-xtag': 'Vapis-sf', 's0-Aspect': 'Imp', 's0-Gender': 'Fem', 's0-Mood': 'Ind', 's0-Number': 'Sing', 's0-Tense': 'Past', 's0-VerbForm': 'Fin', 's1-word': 'ROOT', 's1-lemma': 'ROOT', 's1-tag': 'ROOT'}\n",
      "{'s0-word': 'ROOT', 's0-lemma': 'ROOT', 's0-tag': 'ROOT'}\n"
     ]
    }
   ],
   "source": [
    "features, labels = get_data(tree)\n",
    "print(\"Number of words:\", len(tree))\n",
    "print(\"Number of actions:\", len(labels))\n",
    "print(\"List of actions taken:\", labels)\n",
    "print(\"Features:\")\n",
    "for word in features:\n",
    "    print(word)"
   ]
  },
  {
   "cell_type": "code",
   "execution_count": 11,
   "metadata": {},
   "outputs": [
    {
     "name": "stdout",
     "output_type": "stream",
     "text": [
      "190298 190298\n"
     ]
    }
   ],
   "source": [
    "train_features, train_labels = [], []\n",
    "for tree in trees:\n",
    "    tree_features, tree_labels = get_data([t for t in tree if type(t[\"id\"])==int])\n",
    "    train_features += tree_features\n",
    "    train_labels += tree_labels\n",
    "\n",
    "print(len(train_features), len(train_labels))"
   ]
  },
  {
   "cell_type": "code",
   "execution_count": 12,
   "metadata": {},
   "outputs": [
    {
     "name": "stdout",
     "output_type": "stream",
     "text": [
      "35124 35124\n"
     ]
    }
   ],
   "source": [
    "# Test data\n",
    "\n",
    "with open(\"uk_iu-ud-test.conllu\", \"r\") as f:\n",
    "    data = f.read()\n",
    "test_trees = parse(data)\n",
    "\n",
    "test_features, test_labels = [], []\n",
    "for tree in test_trees:\n",
    "    tree_features, tree_labels = get_data([t for t in tree if type(t[\"id\"])==int])\n",
    "    test_features += tree_features\n",
    "    test_labels += tree_labels\n",
    "\n",
    "print(len(test_features), len(test_labels))"
   ]
  },
  {
   "cell_type": "code",
   "execution_count": null,
   "metadata": {},
   "outputs": [],
   "source": []
  },
  {
   "cell_type": "markdown",
   "metadata": {},
   "source": [
    "## Train a classifier"
   ]
  },
  {
   "cell_type": "code",
   "execution_count": null,
   "metadata": {},
   "outputs": [],
   "source": []
  },
  {
   "cell_type": "code",
   "execution_count": 13,
   "metadata": {},
   "outputs": [],
   "source": [
    "from sklearn.feature_extraction import DictVectorizer\n",
    "from sklearn.linear_model import LogisticRegression\n",
    "from sklearn.metrics import classification_report\n",
    "from sklearn.svm import SVC"
   ]
  },
  {
   "cell_type": "code",
   "execution_count": 14,
   "metadata": {},
   "outputs": [
    {
     "name": "stdout",
     "output_type": "stream",
     "text": [
      "\n",
      "Total number of features:  147133\n"
     ]
    }
   ],
   "source": [
    "vectorizer = DictVectorizer()\n",
    "vec = vectorizer.fit(train_features)\n",
    "\n",
    "print(\"\\nTotal number of features: \", len(vec.get_feature_names()))"
   ]
  },
  {
   "cell_type": "code",
   "execution_count": 15,
   "metadata": {},
   "outputs": [],
   "source": [
    "train_features_vectorized = vec.transform(train_features)\n",
    "test_features_vectorized = vec.transform(test_features)\n",
    "\n",
    "#print(len(train_features_vectorized.toarray()), len(test_features_vectorized.toarray()))"
   ]
  },
  {
   "cell_type": "code",
   "execution_count": null,
   "metadata": {
    "scrolled": true
   },
   "outputs": [],
   "source": []
  },
  {
   "cell_type": "code",
   "execution_count": 16,
   "metadata": {},
   "outputs": [],
   "source": [
    "# lrc = SVC(verbose=1, max_iter=50, C=2, random_state=42, gamma=0.2)"
   ]
  },
  {
   "cell_type": "code",
   "execution_count": 17,
   "metadata": {},
   "outputs": [
    {
     "name": "stderr",
     "output_type": "stream",
     "text": [
      "[Parallel(n_jobs=1)]: Using backend SequentialBackend with 1 concurrent workers.\n"
     ]
    },
    {
     "name": "stdout",
     "output_type": "stream",
     "text": [
      "max_iter reached after 412 seconds\n"
     ]
    },
    {
     "name": "stderr",
     "output_type": "stream",
     "text": [
      "/Users/sasha/programming/edu/ucu/computer-vision/.env/lib/python3.7/site-packages/sklearn/linear_model/sag.py:337: ConvergenceWarning: The max_iter was reached which means the coef_ did not converge\n",
      "  \"the coef_ did not converge\", ConvergenceWarning)\n",
      "[Parallel(n_jobs=1)]: Done   1 out of   1 | elapsed:  6.9min finished\n"
     ]
    },
    {
     "data": {
      "text/plain": [
       "LogisticRegression(C=1.1, class_weight=None, dual=False, fit_intercept=True,\n",
       "                   intercept_scaling=1, l1_ratio=None, max_iter=1000,\n",
       "                   multi_class='multinomial', n_jobs=None, penalty='l2',\n",
       "                   random_state=42, solver='sag', tol=0.0001, verbose=1,\n",
       "                   warm_start=False)"
      ]
     },
     "execution_count": 17,
     "metadata": {},
     "output_type": "execute_result"
    }
   ],
   "source": [
    "lrc = LogisticRegression(random_state=42, solver=\"sag\", multi_class=\"multinomial\", max_iter=1000, verbose=1, C=1.1)\n",
    "lrc.fit(train_features_vectorized, train_labels)"
   ]
  },
  {
   "cell_type": "code",
   "execution_count": 18,
   "metadata": {},
   "outputs": [
    {
     "name": "stdout",
     "output_type": "stream",
     "text": [
      "              precision    recall  f1-score   support\n",
      "\n",
      "        left       0.88      0.92      0.90      8658\n",
      "      reduce       0.87      0.80      0.84      9350\n",
      "       right       0.79      0.83      0.81      8291\n",
      "       shift       0.88      0.89      0.89      8825\n",
      "\n",
      "    accuracy                           0.86     35124\n",
      "   macro avg       0.86      0.86      0.86     35124\n",
      "weighted avg       0.86      0.86      0.86     35124\n",
      "\n"
     ]
    }
   ],
   "source": [
    "predicted = lrc.predict(test_features_vectorized)\n",
    "print(classification_report(test_labels, predicted))"
   ]
  },
  {
   "cell_type": "code",
   "execution_count": null,
   "metadata": {},
   "outputs": [],
   "source": []
  },
  {
   "cell_type": "markdown",
   "metadata": {},
   "source": [
    "## Calculate the unlabeled attachment score\n",
    "UAS - the percentage of words in an input that are assigned the correct head."
   ]
  },
  {
   "cell_type": "code",
   "execution_count": 19,
   "metadata": {},
   "outputs": [],
   "source": [
    "def dep_parse(sentence, oracle, vectorizer, log=True):\n",
    "    stack, queue, relations = [ROOT], sentence[:], []\n",
    "    while queue or stack:\n",
    "        if stack and not queue:\n",
    "            stack.pop()\n",
    "        elif not stack and queue:\n",
    "            return sorted(relations)\n",
    "        else:\n",
    "            features = extract_features(stack, queue)\n",
    "            action = oracle.predict(vectorizer.transform([features]))[0]\n",
    "#             if log:\n",
    "#                 print(\"Stack:\", [i[\"form\"]+\"_\"+str(i[\"id\"]) for i in stack])\n",
    "#                 print(\"Queue:\", [i[\"form\"]+\"_\"+str(i[\"id\"]) for i in queue])\n",
    "#                 print(\"Relations:\", relations)\n",
    "#                 print(action)\n",
    "#                 print(\"========================\")\n",
    "            # actual parsing\n",
    "            if action == Actions.SHIFT:\n",
    "                stack.append(queue.pop(0))\n",
    "            elif action == Actions.REDUCE:\n",
    "                stack.pop()\n",
    "            elif action == Actions.LEFT:\n",
    "                relations.append((stack[-1][\"id\"], queue[0][\"id\"]))\n",
    "                stack.pop()\n",
    "            elif action == Actions.RIGHT:\n",
    "                relations.append((queue[0][\"id\"], stack[-1][\"id\"]))\n",
    "                stack.append(queue.pop(0))\n",
    "            else:\n",
    "                print(\"Unknown action.\")\n",
    "    return sorted(relations)"
   ]
  },
  {
   "cell_type": "code",
   "execution_count": 20,
   "metadata": {},
   "outputs": [
    {
     "name": "stdout",
     "output_type": "stream",
     "text": [
      "Total: 17116\n",
      "Correctly defined: 12585\n",
      "UAS: 0.74\n"
     ]
    }
   ],
   "source": [
    "total, tp = 0, 0\n",
    "for tree in test_trees:\n",
    "    tree = [t for t in tree if type(t[\"id\"])==int]\n",
    "    golden = [(node[\"id\"], node[\"head\"]) for node in tree]\n",
    "    predicted = dep_parse(tree, lrc, vec)\n",
    "    total += len(tree)\n",
    "    tp += len(set(golden).intersection(set(predicted)))\n",
    "\n",
    "print(\"Total:\", total)\n",
    "print(\"Correctly defined:\", tp)\n",
    "print(\"UAS:\", round(tp/total, 2))"
   ]
  },
  {
   "cell_type": "markdown",
   "metadata": {
    "collapsed": true
   },
   "source": [
    "### Results\n",
    "Baseline: 0.71\n",
    "\n",
    "First improvement: 0.74\n"
   ]
  },
  {
   "cell_type": "code",
   "execution_count": null,
   "metadata": {},
   "outputs": [],
   "source": []
  },
  {
   "cell_type": "code",
   "execution_count": null,
   "metadata": {},
   "outputs": [],
   "source": []
  },
  {
   "cell_type": "code",
   "execution_count": null,
   "metadata": {},
   "outputs": [],
   "source": []
  }
 ],
 "metadata": {
  "kernelspec": {
   "display_name": "Python 3",
   "language": "python",
   "name": "python3"
  },
  "language_info": {
   "codemirror_mode": {
    "name": "ipython",
    "version": 3
   },
   "file_extension": ".py",
   "mimetype": "text/x-python",
   "name": "python",
   "nbconvert_exporter": "python",
   "pygments_lexer": "ipython3",
   "version": "3.7.2"
  }
 },
 "nbformat": 4,
 "nbformat_minor": 2
}
