{
 "cells": [
  {
   "cell_type": "code",
   "execution_count": 1,
   "metadata": {
    "collapsed": true
   },
   "outputs": [],
   "source": [
    "import numpy as np\n",
    "import matplotlib.pyplot as plt"
   ]
  },
  {
   "cell_type": "code",
   "execution_count": 114,
   "metadata": {},
   "outputs": [],
   "source": [
    "# Preparing data\n",
    "data = np.genfromtxt(\"l3_data.csv\", delimiter=\",\")\n",
    "\n",
    "def split_data(data):\n",
    "    _, columns_count = data.shape\n",
    "    return data[:, 0:columns_count - 1], data[:, columns_count - 1]\n",
    "\n",
    "def normalize(data):\n",
    "    examples_count, columns_count = data.shape\n",
    "    for i in range(columns_count - 1):\n",
    "        feature = data[:, i]\n",
    "        min = np.min(feature)\n",
    "        max = np.max(feature)\n",
    "        data[:, i] = (feature - min) / (max - min)\n",
    "    return data"
   ]
  },
  {
   "cell_type": "code",
   "execution_count": 115,
   "metadata": {},
   "outputs": [],
   "source": [
    "# Distance function\n",
    "def distance(feature_test, feature):\n",
    "    result = np.sqrt(np.sum(np.power(feature_test - feature, 2)))\n",
    "    return result"
   ]
  },
  {
   "cell_type": "code",
   "execution_count": 126,
   "metadata": {
    "collapsed": true
   },
   "outputs": [],
   "source": [
    "# Find nearest\n",
    "def nearest(features_test, features, y, k = 5):\n",
    "    examples_count, _ = features.shape\n",
    "    feature_test_count, _ = features_test.shape\n",
    "    labels = np.zeros((1, feature_test_count))\n",
    "    for i in range(feature_test_count):\n",
    "        row = features_test[i:]\n",
    "        distances = np.array([distance(row, features[i]) for i in range(examples_count)])\n",
    "        nearest_labels = y[np.argsort(distances)[:k]]\n",
    "        label = np.argmax(np.bincount(nearest_labels.astype('int64')))\n",
    "        labels[0, i] = label\n",
    "    return labels"
   ]
  },
  {
   "cell_type": "code",
   "execution_count": 134,
   "metadata": {},
   "outputs": [
    {
     "data": {
      "image/png": "[encoded data removed]",
      "text/plain": [
       "<matplotlib.figure.Figure at 0x107e284e0>"
      ]
     },
     "metadata": {},
     "output_type": "display_data"
    }
   ],
   "source": [
    "def plot_area(pts):\n",
    "    for (x, y, color) in pts:\n",
    "        plt.plot(x, y, 's', color = color)  \n",
    "    plt.show()\n",
    "\n",
    "def pts(features, y):\n",
    "    colors = ['b', 'g', 'r', 'c', 'm', 'y', 'k']\n",
    "    xs = np.arange(0, 1, 0.02)\n",
    "    ys = np.arange(0, 1, 0.02)\n",
    "    pts = []\n",
    "    for i in xs:\n",
    "        for j in ys:\n",
    "            label = nearest(np.array([[i, j]]), features, y, k = 7)[0, 0]\n",
    "            pts.append((i, j, colors[label.astype('int64')]))\n",
    "    return pts\n",
    "    \n",
    "\n",
    "features, y = split_data(normalize(data))\n",
    "\n",
    "plot_area(pts(features, y))"
   ]
  },
  {
   "cell_type": "code",
   "execution_count": null,
   "metadata": {
    "collapsed": true
   },
   "outputs": [],
   "source": []
  },
  {
   "cell_type": "code",
   "execution_count": null,
   "metadata": {
    "collapsed": true
   },
   "outputs": [],
   "source": []
  }
 ],
 "metadata": {
  "kernelspec": {
   "display_name": "Python 3",
   "language": "python",
   "name": "python3"
  },
  "language_info": {
   "codemirror_mode": {
    "name": "ipython",
    "version": 3
   },
   "file_extension": ".py",
   "mimetype": "text/x-python",
   "name": "python",
   "nbconvert_exporter": "python",
   "pygments_lexer": "ipython3",
   "version": "3.6.2"
  }
 },
 "nbformat": 4,
 "nbformat_minor": 2
}
