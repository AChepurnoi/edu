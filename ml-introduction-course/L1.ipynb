{
 "cells": [
  {
   "cell_type": "markdown",
   "metadata": {},
   "source": [
    "# Linear regression"
   ]
  },
  {
   "cell_type": "markdown",
   "metadata": {},
   "source": [
    "In statistics, linear regression is a linear approach for modeling the relationship between a scalar dependent variable y and one or more explanatory variables (or independent variables) denoted X. The case of one explanatory variable is called simple linear regression. For more than one explanatory variable, the process is called multiple linear regression"
   ]
  },
  {
   "cell_type": "code",
   "execution_count": 2,
   "metadata": {
    "collapsed": true
   },
   "outputs": [],
   "source": [
    "import numpy as np\n",
    "import matplotlib.pyplot as plt"
   ]
  },
  {
   "cell_type": "code",
   "execution_count": 3,
   "metadata": {},
   "outputs": [
    {
     "data": {
      "image/png": "[encoded data removed]",
      "text/plain": [
       "<matplotlib.figure.Figure at 0x7f54f735d6a0>"
      ]
     },
     "metadata": {},
     "output_type": "display_data"
    }
   ],
   "source": [
    "data = np.genfromtxt(\"l1_data.csv\", delimiter=\",\")\n",
    "plt.plot(data[:,0], data[:, 1], 'bx')\n",
    "plt.show()"
   ]
  },
  {
   "cell_type": "markdown",
   "metadata": {},
   "source": [
    "So, we have X matrix n x k, where K is number of features and N is training examples and Y vector with ground truth. When predicting Y value, we need the way to measure how close prediction is. \n",
    "\n",
    "*Learning* here is to find $\\theta$ with smallest Loss. Generally speaking, $\\theta$ are coefficients of X's in some equation (hypothesis)\n",
    "\n",
    "Let's define *Loss* function here:\n",
    "$J(\\theta) = \\frac{1}{2m} \\sum_{i=1}^{m}(h_{\\theta}(x^{(i)}) - y^{(i)})^{2}$\n",
    "\n",
    "Where $h_{\\theta}$ is our hypothesis function: $h_{\\theta} = \\theta^{T} x$\n",
    "\n",
    "\n",
    "##### Our goal is to minimize the loss with respect to $\\theta$.\n",
    "\n",
    "\n",
    "One way to do it is using gradient descent. We have to take the derivative of J w.r.t to each $\\theta$. Long story short, this is the result: ($ \\frac{1}{m} \\sum_{i=1}^{m}(h_{\\theta}(x^{(i)}) - y^{(i)})x^{(i)}$)\n",
    "\n",
    "\n",
    "##### Now we could go and use gradient descent.\n",
    "\n",
    "Before running gradient descent for $\\theta$ we should take random initial $\\theta$ as baseline\n",
    "\n",
    "After this, we could use gradient descent to update $\\theta_j = \\theta_j - \\alpha \\frac{1}{m} \\sum_{i=1}^{m}(h_{\\theta}(x^{(i)}) - y^{(i)})x_j^{(i)}$)\n",
    "\n",
    "\n",
    "Here we have a new term: $\\alpha$ is *learning rate*. This indicates how *fast* the funtion will converge to local minima. If rate is too small - this will take a lot of time, too big - you can overshoot the minima\n",
    "\n",
    "##### When implementing - it's way better to use vectorized implementations of this formulas\n"
   ]
  },
  {
   "cell_type": "markdown",
   "metadata": {},
   "source": [
    "### Let's start with preparing data"
   ]
  },
  {
   "cell_type": "code",
   "execution_count": 4,
   "metadata": {},
   "outputs": [
    {
     "name": "stdout",
     "output_type": "stream",
     "text": [
      "(100, 1)\n"
     ]
    }
   ],
   "source": [
    "def split_data(data):\n",
    "    examples, features = data.shape\n",
    "    # features - 1 because last column is value we are trying to predict\n",
    "    return (data[0:, :features - 1], data[0:, features - 1])\n",
    "\n",
    "x, y  = split_data(data)\n",
    "print(x.shape)"
   ]
  },
  {
   "cell_type": "markdown",
   "metadata": {},
   "source": [
    "Now we are ready to start writing train function. One trick we should apply is to add bias column to our train data. \n",
    "In linear regression, without the bias term your solution has to go through the origin. That is, when all of your features are zero, your predicted value would also have to be zero. However, that may not be the answer the training data suggests. Adding a bias weight that does not depend on any of the features allows the hyperplane desbribed by your learned weights to more easily fit data that doesn't pass through the origin.  "
   ]
  },
  {
   "cell_type": "code",
   "execution_count": null,
   "metadata": {
    "collapsed": true
   },
   "outputs": [],
   "source": [
    "print(x.shape)\n",
    "def train(x, y, lr=0.0001, iter=15):\n",
    "    m, features = x.shape\n",
    "    # init theta with zeros \n",
    "    theta = np.zeros(features + 1)\n",
    "    # adding bias value\n",
    "    x_bias = np.column_stack((np.ones(m), x))\n",
    "    # collecting all costs to plot later\n",
    "    costs = []\n",
    "    for i in range(iter):\n",
    "        cost = (1 / (2 * m)) * np.sum((np.sum(np.transpose(theta) * x_bias, axis=1) - y) ** 2)\n",
    "        costs = [*costs, cost.as]\n",
    "        theta = theta - (\n",
    "            lr * (1 / m) * np.sum((np.sum(np.transpose(theta) * x_bias, axis=1) - y) * np.transpose(x_bias), axis=1))\n",
    "    return theta, costs\n"
   ]
  },
  {
   "cell_type": "code",
   "execution_count": 130,
   "metadata": {
    "collapsed": true
   },
   "outputs": [],
   "source": [
    "#Train theta\n",
    "theta, costs = train(x, y)"
   ]
  },
  {
   "cell_type": "code",
   "execution_count": 131,
   "metadata": {
    "collapsed": true
   },
   "outputs": [],
   "source": [
    "def plot_data(data, predicted, costs):\n",
    "    x, y = data\n",
    "    fig, (g1, g2) = plt.subplots(nrows=2, ncols=1)\n",
    "    g1.plot(x, y, 'bo', markersize=2)\n",
    "    g1.plot(x, predicted, 'ro', markersize=2)\n",
    "    g1.axis([x.min() - x.mean() / 10, x.max() + x.mean()/ 10, y.min() - y.mean()/ 10, y.max() + y.mean()/ 10])\n",
    "    g2.plot(costs)\n",
    "    plt.show()\n",
    "\n",
    "    \n",
    "def predict(theta, x):\n",
    "    m, features = x.shape\n",
    "    x_bias = np.column_stack((np.ones(m), x))\n",
    "    y = np.sum(np.transpose(theta) * x_bias, axis=1)\n",
    "    return y"
   ]
  },
  {
   "cell_type": "code",
   "execution_count": 132,
   "metadata": {},
   "outputs": [
    {
     "data": {
      "image/png": "[encoded data removed]",
      "text/plain": [
       "<matplotlib.figure.Figure at 0x1041f8828>"
      ]
     },
     "metadata": {},
     "output_type": "display_data"
    }
   ],
   "source": [
    "plot_data((x, y), predict(theta, x), costs)"
   ]
  },
  {
   "cell_type": "code",
   "execution_count": 71,
   "metadata": {},
   "outputs": [
    {
     "name": "stdout",
     "output_type": "stream",
     "text": [
      "Last cost value:  57.2172085263\n"
     ]
    }
   ],
   "source": [
    "print(\"Last cost value: \", costs[-1])"
   ]
  },
  {
   "cell_type": "markdown",
   "metadata": {
    "collapsed": true
   },
   "source": [
    "### Let's add some regularization to the model"
   ]
  },
  {
   "cell_type": "markdown",
   "metadata": {},
   "source": [
    "Regularization is a technique used in an attempt to solve the overfitting problem in statistical models. Overfitting can lean to bad generalization on test/real data"
   ]
  },
  {
   "cell_type": "markdown",
   "metadata": {},
   "source": [
    "Updated Loss function: ($\\lambda$ is regularization rate)\n",
    "\n",
    "\n",
    "$J(\\theta) = \\frac{1}{2m} \\sum_{i=1}^{m}(h_{\\theta}(x^{(i)}) - y^{(i)})^{2} + \\frac{\\lambda}{m} \\sum_{i=1}^{m}(\\theta_j^2)$\n",
    "\n",
    "Gradient: \n",
    "\n",
    "$\\theta_j = \\theta_j - \\alpha \\frac{1}{m} \\sum_{i=1}^{m}(h_{\\theta}(x^{(i)}) - y^{(i)})x_j^{(i)}$ for j = 0\n",
    "\n",
    "\n",
    "$\\theta_j = \\theta_j - \\alpha \\frac{1}{m} \\sum_{i=1}^{m}(h_{\\theta}(x^{(i)}) - y^{(i)})x_j^{(i)} + \\frac{\\lambda}{m}\\theta_j$ for j >= 1 \n"
   ]
  },
  {
   "cell_type": "code",
   "execution_count": 154,
   "metadata": {
    "collapsed": true
   },
   "outputs": [],
   "source": [
    "def train(x, y, lr=0.0001, iter=15, rr=1):\n",
    "    m, features = x.shape\n",
    "    # init theta with zeros \n",
    "    theta = np.zeros(features + 1)\n",
    "    # adding bias value\n",
    "    x_bias = np.column_stack((np.ones(m), x))\n",
    "    # collecting all costs to plot later\n",
    "    costs = []\n",
    "    for i in range(iter):\n",
    "        cost = (1 / (2 * m)) * np.sum((np.sum(np.transpose(theta) * x_bias, axis=1) - y) ** 2) + (rr / (\n",
    "        2 * m)) * np.sum(theta[1:] ** 2)\n",
    "        costs = [*costs, cost]\n",
    "        theta_update = theta - (\n",
    "            lr * (1 / m) * np.sum((np.sum(np.transpose(theta) * x_bias, axis=1) - y) * np.transpose(x_bias), axis=1))\n",
    "        theta_regularization = (rr / m) * theta\n",
    "#         Skip bias regularization\n",
    "        theta_regularization[0] = 0\n",
    "        theta = theta_update + theta_regularization\n",
    "        \n",
    "    return theta, costs"
   ]
  },
  {
   "cell_type": "code",
   "execution_count": 155,
   "metadata": {
    "collapsed": true
   },
   "outputs": [],
   "source": [
    "#Train theta\n",
    "theta, costs = train(x, y)"
   ]
  },
  {
   "cell_type": "code",
   "execution_count": 156,
   "metadata": {},
   "outputs": [
    {
     "data": {
      "image/png": "[encoded data removed]",
      "text/plain": [
       "<matplotlib.figure.Figure at 0x104034c18>"
      ]
     },
     "metadata": {},
     "output_type": "display_data"
    }
   ],
   "source": [
    "plot_data((x, y), predict(theta, x), costs)"
   ]
  },
  {
   "cell_type": "code",
   "execution_count": null,
   "metadata": {
    "collapsed": true
   },
   "outputs": [],
   "source": []
  }
 ],
 "metadata": {
  "kernelspec": {
   "display_name": "Python 3",
   "language": "python",
   "name": "python3"
  },
  "language_info": {
   "codemirror_mode": {
    "name": "ipython",
    "version": 3
   },
   "file_extension": ".py",
   "mimetype": "text/x-python",
   "name": "python",
   "nbconvert_exporter": "python",
   "pygments_lexer": "ipython3",
   "version": "3.6.3"
  }
 },
 "nbformat": 4,
 "nbformat_minor": 2
}
