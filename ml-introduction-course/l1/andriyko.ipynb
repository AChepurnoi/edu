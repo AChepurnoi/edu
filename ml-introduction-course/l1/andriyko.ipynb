{
 "cells": [
  {
   "cell_type": "code",
   "execution_count": 182,
   "metadata": {},
   "outputs": [],
   "source": [
    "import numpy as np\n",
    "import pandas as pd\n",
    "import matplotlib.pyplot as plt"
   ]
  },
  {
   "cell_type": "code",
   "execution_count": 183,
   "metadata": {},
   "outputs": [
    {
     "data": {
      "image/png": "[encoded data removed]",
      "text/plain": [
       "<matplotlib.figure.Figure at 0x7fc65913e748>"
      ]
     },
     "metadata": {},
     "output_type": "display_data"
    }
   ],
   "source": [
    "df_raw = pd.read_csv('../l1_data.csv', names=['x', 'y'])\n",
    "df_raw.plot.scatter(x='x', y='y', style='o')\n",
    "plt.show()"
   ]
  },
  {
   "cell_type": "code",
   "execution_count": 184,
   "metadata": {},
   "outputs": [],
   "source": [
    "def split_data(df):\n",
    "    return df.iloc[:, :-1], df.iloc[:, -1:]\n",
    "\n",
    "x, y = split_data(df_raw)\n",
    "\n",
    "x = x.as_matrix()\n",
    "y = y.as_matrix()"
   ]
  },
  {
   "cell_type": "code",
   "execution_count": 185,
   "metadata": {},
   "outputs": [],
   "source": [
    "def train(x, y, iter=20, learn_rate=0.0001, reg_rate=2):\n",
    "    examples, features = x.shape\n",
    "    theta = np.zeros((features + 1, 1))\n",
    "    b = np.ones((examples, 1))\n",
    "    x_b = np.column_stack((b, x))\n",
    "    costs = []\n",
    "    for i in range(iter):\n",
    "        h = np.dot(theta.T, x_b.T)\n",
    "        cost = (1 / (2 * examples)) * np.dot((h - y.T), (h - y.T).T)\n",
    "        cost_regualarization = reg_rate / (2 * examples) * np.sum(theta[1:] ** 2)\n",
    "        cost += cost_regualarization\n",
    "        grad = (1 / examples) * np.dot(x_b.T, (h - y.T).T)\n",
    "        grad_regularization = (reg_rate / examples) * theta[1:]\n",
    "        grad += grad_regularization\n",
    "        costs = [*costs, np.asscalar(cost)]\n",
    "        theta = theta - learn_rate * grad\n",
    "    return theta, costs\n",
    "\n",
    "theta, costs = train(x, y)"
   ]
  },
  {
   "cell_type": "code",
   "execution_count": 186,
   "metadata": {},
   "outputs": [],
   "source": [
    "def plot_data(data, predicted, costs):\n",
    "    x, y = data\n",
    "    fig, (g1, g2) = plt.subplots(nrows=2, ncols=1)\n",
    "    g1.plot(x.flatten(), y.flatten(), 'bo')\n",
    "    g1.plot(x.flatten(), predicted.flatten(), 'go')\n",
    "    g1.axis([x.min() - x.mean() / 10, x.max() + x.mean()/ 10, y.min() - y.mean()/ 10, y.max() + y.mean()/ 10])\n",
    "    g2.plot(costs)\n",
    "    plt.show()"
   ]
  },
  {
   "cell_type": "code",
   "execution_count": 187,
   "metadata": {},
   "outputs": [],
   "source": [
    "def predict(theta, x):\n",
    "    examples, features = x.shape\n",
    "    b = np.ones((examples, 1))\n",
    "    x_b = np.column_stack((b, x))\n",
    "    y = np.dot(theta.T, x_b.T)\n",
    "    return y"
   ]
  },
  {
   "cell_type": "code",
   "execution_count": 188,
   "metadata": {},
   "outputs": [
    {
     "data": {
      "image/png": "[encoded data removed]",
      "text/plain": [
       "<matplotlib.figure.Figure at 0x7fc653b31e48>"
      ]
     },
     "metadata": {},
     "output_type": "display_data"
    }
   ],
   "source": [
    "plot_data((x, y), predict(theta, x), costs)"
   ]
  },
  {
   "cell_type": "code",
   "execution_count": null,
   "metadata": {},
   "outputs": [],
   "source": []
  }
 ],
 "metadata": {
  "kernelspec": {
   "display_name": "Anaconda Python 3.6",
   "language": "python",
   "name": "anaconda"
  },
  "language_info": {
   "codemirror_mode": {
    "name": "ipython",
    "version": 3
   },
   "file_extension": ".py",
   "mimetype": "text/x-python",
   "name": "python",
   "nbconvert_exporter": "python",
   "pygments_lexer": "ipython3",
   "version": "3.6.1"
  }
 },
 "nbformat": 4,
 "nbformat_minor": 2
}
