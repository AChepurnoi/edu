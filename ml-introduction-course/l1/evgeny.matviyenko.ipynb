{
 "cells": [
  {
   "cell_type": "code",
   "execution_count": 9,
   "metadata": {
    "scrolled": true
   },
   "outputs": [
    {
     "data": {
      "image/png": "[encoded data removed]",
      "text/plain": [
       "<matplotlib.figure.Figure at 0x10601df60>"
      ]
     },
     "metadata": {},
     "output_type": "display_data"
    }
   ],
   "source": [
    "import numpy as np\n",
    "import matplotlib.pyplot as plt\n",
    "\n",
    "data = np.genfromtxt(\"../l1_data.csv\", delimiter=\",\")\n",
    "plt.plot(data[:, 0], data[:, 1], 'bx')\n",
    "plt.show()"
   ]
  },
  {
   "cell_type": "code",
   "execution_count": 92,
   "metadata": {
    "collapsed": true
   },
   "outputs": [],
   "source": [
    "def split(data):\n",
    "    examples_count, columns_count = data.shape\n",
    "    return data[:, 0:columns_count - 1], data[:, columns_count - 1]\n",
    "\n",
    "def add_bias(data):\n",
    "    examples_count, columns_count = data.shape\n",
    "    bias = np.ones((examples_count, columns_count + 1))\n",
    "    bias[:, 1:] = data\n",
    "    return bias\n",
    "\n",
    "def hypothesis(thetas, features):\n",
    "    return np.dot(thetas, features.T)\n",
    "\n",
    "def train(data, learning_rate=0.0001, iterations=30):\n",
    "    features, y = split(data)\n",
    "    bias_features = add_bias(features)\n",
    "    examples_count, features_count = bias_features.shape\n",
    "    costs = np.zeros(iterations)\n",
    "    thetas = np.zeros((1, features_count))\n",
    "    for i in range(iterations):\n",
    "        costs[i] = (1 / (2 * examples_count)) * np.sum((hypothesis(thetas, bias_features) - y) ** 2, axis=1)\n",
    "        thetas = thetas - (learning_rate / examples_count) * np.dot(hypothesis(thetas, bias_features) - y, bias_features)\n",
    "    return thetas, costs"
   ]
  },
  {
   "cell_type": "code",
   "execution_count": 93,
   "metadata": {
    "collapsed": true
   },
   "outputs": [],
   "source": [
    "thetas, costs = train(data)"
   ]
  },
  {
   "cell_type": "code",
   "execution_count": 94,
   "metadata": {
    "collapsed": true
   },
   "outputs": [],
   "source": [
    "def plot(costs):\n",
    "    plt.plot(costs)\n",
    "    plt.show()"
   ]
  },
  {
   "cell_type": "code",
   "execution_count": 95,
   "metadata": {},
   "outputs": [
    {
     "data": {
      "image/png": "[encoded data removed]",
      "text/plain": [
       "<matplotlib.figure.Figure at 0x108c09080>"
      ]
     },
     "metadata": {},
     "output_type": "display_data"
    },
    {
     "name": "stdout",
     "output_type": "stream",
     "text": [
      "[ 2782.55391724  1593.13345917   922.64270969   544.67893403   331.61616325\n",
      "   211.51008996   143.80483505   105.63855733    84.1237595     71.99560294\n",
      "    65.15880998    61.30482289    59.13227965    57.90758673    57.21720853\n",
      "    56.82803002    56.60864143    56.48496548    56.4152439     56.37593707\n",
      "    56.35377539    56.34127864    56.33423013    56.33025286    56.32800688\n",
      "    56.32673686    56.32601699    56.32560726    56.32537234    56.32523598]\n",
      "[[ 0.02996375  1.4786303 ]]\n"
     ]
    }
   ],
   "source": [
    "plot(costs)\n",
    "print(costs)\n",
    "print(thetas)"
   ]
  },
  {
   "cell_type": "code",
   "execution_count": null,
   "metadata": {
    "collapsed": true
   },
   "outputs": [],
   "source": []
  },
  {
   "cell_type": "code",
   "execution_count": null,
   "metadata": {
    "collapsed": true
   },
   "outputs": [],
   "source": []
  }
 ],
 "metadata": {
  "kernelspec": {
   "display_name": "Python 3",
   "language": "python",
   "name": "python3"
  },
  "language_info": {
   "codemirror_mode": {
    "name": "ipython",
    "version": 3
   },
   "file_extension": ".py",
   "mimetype": "text/x-python",
   "name": "python",
   "nbconvert_exporter": "python",
   "pygments_lexer": "ipython3",
   "version": "3.6.2"
  }
 },
 "nbformat": 4,
 "nbformat_minor": 2
}
