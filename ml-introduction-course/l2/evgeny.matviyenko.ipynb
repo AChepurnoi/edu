{
 "cells": [
  {
   "cell_type": "code",
   "execution_count": 114,
   "metadata": {},
   "outputs": [],
   "source": [
    "import numpy as np\n",
    "import matplotlib.pyplot as plt"
   ]
  },
  {
   "cell_type": "code",
   "execution_count": 115,
   "metadata": {},
   "outputs": [],
   "source": [
    "data = np.genfromtxt(\"../l2_data.txt\", delimiter=\",\", dtype=np.float128)"
   ]
  },
  {
   "cell_type": "code",
   "execution_count": 116,
   "metadata": {},
   "outputs": [],
   "source": [
    "# Preparing data\n",
    "def split_data(data):\n",
    "    _, columns_count = data.shape\n",
    "    return data[:, 0:columns_count - 1], data[:, columns_count - 1]\n",
    "\n",
    "def add_bias(data):\n",
    "    examples_count, columns_count = data.shape\n",
    "    bias = np.ones((examples_count, columns_count + 1))\n",
    "    bias[:, 1:] = data\n",
    "    return bias\n",
    "\n",
    "def normalize(data):\n",
    "    examples_count, columns_count = data.shape\n",
    "    for i in range(columns_count - 1):\n",
    "        feature = data[:, i]\n",
    "        data[:, i] = (feature - feature.min()) / (feature.max() - feature.min())\n",
    "    return data"
   ]
  },
  {
   "cell_type": "code",
   "execution_count": 117,
   "metadata": {
    "collapsed": true
   },
   "outputs": [],
   "source": [
    "# Hypothesis function\n",
    "def hypothesis(thetas, features):\n",
    "    a = 1 / (1 + np.exp(-np.dot(thetas, features.T)))\n",
    "    if a is np.array:\n",
    "        a[np.where(a == 0)] = 10 ** -9\n",
    "        a[np.where(a == 1)] = 0.999999\n",
    "    return a"
   ]
  },
  {
   "cell_type": "code",
   "execution_count": 118,
   "metadata": {},
   "outputs": [],
   "source": [
    "# Cost function\n",
    "def cost(thetas, features, y):\n",
    "    examples_count, _ = features.shape\n",
    "    return (1 / examples_count) * (np.dot(-y, np.log(hypothesis(thetas, features)).T) - \\\n",
    "                                   np.dot(1 - y, np.log(1 - hypothesis(thetas, features)).T))"
   ]
  },
  {
   "cell_type": "code",
   "execution_count": 139,
   "metadata": {},
   "outputs": [],
   "source": [
    "# Learning\n",
    "def theta_update(thetas, features, y, learning_rate):\n",
    "    examples_count, _ = features.shape\n",
    "    return learning_rate * np.dot(hypothesis(thetas, features) - y, features) / examples_count\n",
    "\n",
    "def theta_regularization(thetas, features, y, regularization_rate):\n",
    "    examples_count, _ = features.shape\n",
    "    thetas_r = (regularization_rate / examples_count) * thetas\n",
    "    thetas_r[(0, 0)] = 0\n",
    "    return thetas_r\n",
    "\n",
    "def train(data, iterations, learning_rate, regularization_rate):\n",
    "    data_normalized = normalize(data)\n",
    "    data_bias = add_bias(data_normalized)\n",
    "    features, y = split_data(data_bias)\n",
    "    _, features_count = features.shape\n",
    "    thetas = np.zeros((1, features_count))\n",
    "    costs = np.zeros((1, iterations))\n",
    "    for i in range(iterations):\n",
    "        costs[(0, i)] = cost(thetas, features, y)\n",
    "        thetas = thetas - (theta_update(thetas, features, y, learning_rate) + \\\n",
    "                           theta_regularization(thetas, features, y, regularization_rate))\n",
    "    return thetas, costs"
   ]
  },
  {
   "cell_type": "code",
   "execution_count": 142,
   "metadata": {},
   "outputs": [
    {
     "data": {
      "image/png": "[encoded data removed]",
      "text/plain": [
       "<matplotlib.figure.Figure at 0x13badcef0>"
      ]
     },
     "metadata": {},
     "output_type": "display_data"
    }
   ],
   "source": [
    "thetas, costs = train(data, 20000, 0.2, 0.001)\n",
    "plt.plot(costs.T)\n",
    "plt.show()"
   ]
  },
  {
   "cell_type": "code",
   "execution_count": null,
   "metadata": {
    "collapsed": true
   },
   "outputs": [],
   "source": []
  },
  {
   "cell_type": "code",
   "execution_count": null,
   "metadata": {
    "collapsed": true
   },
   "outputs": [],
   "source": []
  }
 ],
 "metadata": {
  "kernelspec": {
   "display_name": "Python 3",
   "language": "python",
   "name": "python3"
  },
  "language_info": {
   "codemirror_mode": {
    "name": "ipython",
    "version": 3
   },
   "file_extension": ".py",
   "mimetype": "text/x-python",
   "name": "python",
   "nbconvert_exporter": "python",
   "pygments_lexer": "ipython3",
   "version": "3.6.2"
  }
 },
 "nbformat": 4,
 "nbformat_minor": 2
}
