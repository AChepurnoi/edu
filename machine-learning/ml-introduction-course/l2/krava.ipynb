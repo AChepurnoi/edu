{
 "cells": [
  {
   "cell_type": "code",
   "execution_count": 31,
   "metadata": {
    "collapsed": true
   },
   "outputs": [],
   "source": [
    "def h(theta, x):\n",
    "    a = 1 / (1 + np.exp(-np.dot(theta, x.T)))\n",
    "    if a is np.array:\n",
    "        #Prevent 0's and inf under log function\n",
    "        a[np.where(a == 0)] = 10 ** -9\n",
    "        a[np.where(a == 1)] = 0.999999\n",
    "    return a\n",
    "\n",
    "def split(data):\n",
    "    examples, features = data.shape\n",
    "    x, y = (enrich_features(normalize(data[0:, :features - 1])), data[0:, features - 1])\n",
    "    return x, y\n",
    "\n",
    "def bias(x):\n",
    "    count, col = x.shape\n",
    "    return np.column_stack((np.ones(count), x))     \n",
    "\n",
    "def train(data, lr=0.08, iter=100000,rr=0):\n",
    "    x, y = split(data)\n",
    "    print(y[:])\n",
    "    bias_ = bias(x)\n",
    "    thetha = np.zeros(bias_.shape[1], dtype=np.float128)\n",
    "    costs = np.zeros(iter)   \n",
    "    for i in range(iter):\n",
    "        costs[i] = (1 / x.shape[0]) * np.sum(np.dot(-y, np.log(h(thetha,bias_))) - np.dot((1 - y), np.log(1 - h(thetha, bias_))))\n",
    "        thetha_new = thetha - lr * (1/ (x.shape[0])) * np.sum((h(thetha, bias_) - y)* bias_.T, axis=1)\n",
    "        thetha_reg = thetha * (rr / x.shape[0])\n",
    "        thetha_reg[0] = 0\n",
    "        thetha = thetha_new + thetha_reg\n",
    "    return thetha, costs\n",
    "\n",
    "\n",
    "def enrich_features(x, power=14):\n",
    "    m, features = x.shape\n",
    "    for p in range(2, power + 1):\n",
    "        for f in range(features):\n",
    "            x = np.append(x, np.power(x[0:, f], p).reshape(m, 1), axis=1)\n",
    "    return x\n",
    "\n",
    "def normalize(x):\n",
    "    m, features = x.shape\n",
    "    for i in range(features):\n",
    "        x[0:, i] = (x[0:, i] - x[0:, i].min()) / (x[0:, i].max() - x[0:, i].min())\n",
    "\n",
    "    return x"
   ]
  },
  {
   "cell_type": "code",
   "execution_count": 32,
   "metadata": {
    "collapsed": true
   },
   "outputs": [],
   "source": [
    "import numpy as np\n",
    "import matplotlib.pyplot as plt\n",
    "#Reading the data from file.\n",
    "data = np.genfromtxt(\"../l2_data.txt\", delimiter=\",\", dtype=np.float128)"
   ]
  },
  {
   "cell_type": "code",
   "execution_count": null,
   "metadata": {
    "collapsed": true
   },
   "outputs": [],
   "source": []
  },
  {
   "cell_type": "code",
   "execution_count": 33,
   "metadata": {},
   "outputs": [],
   "source": [
    "x, y = split(data)"
   ]
  },
  {
   "cell_type": "code",
   "execution_count": 34,
   "metadata": {},
   "outputs": [
    {
     "name": "stdout",
     "output_type": "stream",
     "text": [
      "[ 0.0  0.0  0.0  1.0  1.0  0.0  1.0  1.0  1.0  1.0  0.0  0.0  1.0  1.0  0.0\n",
      "  1.0  1.0  0.0  1.0  1.0  0.0  1.0  0.0  0.0  1.0  1.0  1.0  0.0  0.0  0.0\n",
      "  1.0  1.0  0.0  1.0  0.0  0.0  0.0  1.0  0.0  0.0  1.0  0.0  1.0  0.0  0.0\n",
      "  0.0  1.0  1.0  1.0  1.0  1.0  1.0  1.0  0.0  0.0  0.0  1.0  0.0  1.0  1.0\n",
      "  1.0  0.0  0.0  0.0  0.0  0.0  1.0  0.0  1.0  1.0  0.0  1.0  1.0  1.0  1.0\n",
      "  1.0  1.0  1.0  0.0  0.0  1.0  1.0  1.0  1.0  1.0  1.0  0.0  1.0  1.0  0.0\n",
      "  1.0  1.0  0.0  1.0  1.0  1.0  1.0  1.0  1.0  1.0]\n"
     ]
    }
   ],
   "source": [
    "theta, costs = train(data)"
   ]
  },
  {
   "cell_type": "code",
   "execution_count": 8,
   "metadata": {
    "collapsed": true
   },
   "outputs": [],
   "source": [
    "#Predict function for logistic regression\n",
    "def predict(theta, x):\n",
    "    m, features = x.shape\n",
    "    x_bias = np.column_stack((np.ones(m), x))\n",
    "    y = h(theta, x_bias)\n",
    "    return y\n",
    "predicted = predict(theta, x)"
   ]
  },
  {
   "cell_type": "code",
   "execution_count": 9,
   "metadata": {},
   "outputs": [
    {
     "name": "stdout",
     "output_type": "stream",
     "text": [
      "Accuracy: 0.96\n"
     ]
    }
   ],
   "source": [
    "conf = 0.5\n",
    "accuracy = (((predicted > conf).astype(int)) == y).sum() / len(y)\n",
    "\n",
    "print(\"Accuracy:\", accuracy)"
   ]
  },
  {
   "cell_type": "code",
   "execution_count": 10,
   "metadata": {
    "collapsed": true
   },
   "outputs": [],
   "source": [
    "#Redefine plotting \n",
    "def get_bound(theta):\n",
    "    pts = []\n",
    "    for i in np.arange(0.0, 1.0, 0.005):\n",
    "        for j in np.arange(0.0, 1.0, 0.005):\n",
    "            a = h(theta, np.column_stack((np.ones(1), enrich_features(np.array([i, j]).reshape(1, 2)))))\n",
    "            if 0.49 < a < 0.51:\n",
    "                pts = [*pts, (i, j)]\n",
    "    points = np.array(pts)\n",
    "    if len(points) == 0:\n",
    "        return np.array([[1], [1]])\n",
    "    return points[0:, 0], points[0:, 1]\n",
    "\n",
    "\n",
    "def plot_data(data, predicted, costs, bound):\n",
    "    x, y = data\n",
    "    xb, yb = bound\n",
    "    fig, (g1, g2, g3) = plt.subplots(nrows=3, ncols=1, figsize=(10, 10))\n",
    "    g1.plot(x[np.where(y == 1)][0:, 0], x[np.where(y == 1)][0:, 1], 'o', markersize=3)\n",
    "    g1.plot(x[np.where(y == 0)][0:, 0], x[np.where(y == 0)][0:, 1], 'x', markersize=3)\n",
    "    g1.plot(xb, yb, 'o', markersize=1)\n",
    "\n",
    "    g2.plot(x[np.where(predicted > 0.5)][0:, 0], x[np.where(predicted > 0.5)][0:, 1], 'o', markersize=3)\n",
    "    g2.plot(x[np.where(predicted <= 0.5)][0:, 0], x[np.where(predicted <= 0.5)][0:, 1], 'x', markersize=3)\n",
    "    g2.plot(xb, yb, 'o', markersize=1)\n",
    "\n",
    "    g1.axis([x.min() - x.mean(), x.max() + x.mean(), x.min() - x.mean(), x.max() + x.mean()])\n",
    "    g2.axis([x.min() - x.mean(), x.max() + x.mean(), x.min() - x.mean(), x.max() + x.mean()])\n",
    "\n",
    "    g3.plot(costs)\n",
    "    plt.show()"
   ]
  },
  {
   "cell_type": "code",
   "execution_count": 11,
   "metadata": {},
   "outputs": [
    {
     "data": {
      "image/png": "[encoded data removed]",
      "text/plain": [
       "<matplotlib.figure.Figure at 0x10d953940>"
      ]
     },
     "metadata": {},
     "output_type": "display_data"
    }
   ],
   "source": [
    "\n",
    "\n",
    "#Do the plotting!\n",
    "bound = get_bound(theta)\n",
    "plot_data((x, y), predicted, costs, bound)"
   ]
  },
  {
   "cell_type": "code",
   "execution_count": 225,
   "metadata": {
    "collapsed": true
   },
   "outputs": [],
   "source": [
    "data = np.genfromtxt(\"../l2_data_2.txt\", delimiter=\",\", dtype=np.float128)"
   ]
  },
  {
   "cell_type": "code",
   "execution_count": 226,
   "metadata": {
    "collapsed": true
   },
   "outputs": [],
   "source": [
    "def plot_data_raw(data):\n",
    "    plt.plot(data[np.where(data[:,2] == 1)][:,0], data[np.where(data[:,2] == 1)][:,1], 'o')\n",
    "    plt.plot(data[np.where(data[:,2] == 0)][:,0], data[np.where(data[:,2] == 0)][:,1], 'o')\n",
    "    plt.show()"
   ]
  },
  {
   "cell_type": "code",
   "execution_count": 227,
   "metadata": {},
   "outputs": [
    {
     "data": {
      "image/png": "[encoded data removed]",
      "text/plain": [
       "<matplotlib.figure.Figure at 0x113da74a8>"
      ]
     },
     "metadata": {},
     "output_type": "display_data"
    }
   ],
   "source": [
    "plot_data_raw(data)"
   ]
  },
  {
   "cell_type": "code",
   "execution_count": null,
   "metadata": {
    "collapsed": true
   },
   "outputs": [],
   "source": []
  }
 ],
 "metadata": {
  "kernelspec": {
   "display_name": "Python 3",
   "language": "python",
   "name": "python3"
  },
  "language_info": {
   "codemirror_mode": {
    "name": "ipython",
    "version": 3
   },
   "file_extension": ".py",
   "mimetype": "text/x-python",
   "name": "python",
   "nbconvert_exporter": "python",
   "pygments_lexer": "ipython3",
   "version": "3.6.3"
  }
 },
 "nbformat": 4,
 "nbformat_minor": 2
}
