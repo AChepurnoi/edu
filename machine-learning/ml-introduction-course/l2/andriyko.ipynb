{
 "cells": [
  {
   "cell_type": "code",
   "execution_count": 165,
   "metadata": {},
   "outputs": [],
   "source": [
    "import numpy as np\n",
    "import pandas as pd\n",
    "import matplotlib.pyplot as plt"
   ]
  },
  {
   "cell_type": "code",
   "execution_count": 166,
   "metadata": {},
   "outputs": [],
   "source": [
    "data = np.genfromtxt('../l2_data.txt', delimiter=',', dtype=np.float128)"
   ]
  },
  {
   "cell_type": "code",
   "execution_count": 167,
   "metadata": {},
   "outputs": [],
   "source": [
    "def split_data(data):\n",
    "    examples, features = data.shape\n",
    "    x = data[:, :features - 1]\n",
    "    y = data[:, features - 1]\n",
    "    y = y.reshape(-1, 1)\n",
    "    return x, y\n",
    "x, y = split_data(data)"
   ]
  },
  {
   "cell_type": "code",
   "execution_count": 168,
   "metadata": {},
   "outputs": [],
   "source": [
    "def normalize(dataset):\n",
    "    return (dataset - dataset.min(axis=0)) / (dataset.max(axis=0) - dataset.min(axis=0))\n",
    "x = normalize(x)"
   ]
  },
  {
   "cell_type": "code",
   "execution_count": 169,
   "metadata": {},
   "outputs": [],
   "source": [
    "def sigmoid(x):\n",
    "    return 1 / (1 + np.exp(-x)) \n",
    "\n",
    "def h(theta, x):\n",
    "    return sigmoid(np.dot(theta, x.T))\n",
    "\n",
    "def train(x, y, learn_rate=0.01, reg_rate=2, iters=500):\n",
    "    examples, features = x.shape\n",
    "    theta = np.zeros((1, features+1))\n",
    "    x_bias = np.column_stack((np.ones(examples), x))\n",
    "    costs = []\n",
    "    for i in range(iters):\n",
    "        first = -np.dot(y.T, np.log(h(theta, x_bias)).T)\n",
    "        second = np.dot((1-y).T, np.log(1 - h(theta, x_bias)).T)\n",
    "        reg = (reg_rate / (2*examples)) * np.sum(theta[1:] ** 2)\n",
    "        cost = np.sum(first - second) / examples + reg\n",
    "        costs = [*costs, cost]\n",
    "        grad = np.sum((h(theta, x_bias) - y.T)*x_bias.T, axis=1)\n",
    "        grad_reg = (reg_rate/examples) * theta\n",
    "        grad_reg[0] = 0\n",
    "        theta -= learn_rate*(grad+grad_reg)\n",
    "    return theta, costs\n",
    "\n",
    "\n",
    "theta, costs = train(x, y) "
   ]
  },
  {
   "cell_type": "code",
   "execution_count": 170,
   "metadata": {},
   "outputs": [],
   "source": [
    "def predict(x, theta):\n",
    "    examples, features = x.shape\n",
    "    x_bias = np.column_stack((np.ones(examples), x))\n",
    "    y_pred = h(theta, x_bias)\n",
    "    return y_pred\n",
    "\n",
    "def accuracy(x, theta, y, confidence=0.5):\n",
    "    y_pred = predict(x, theta)\n",
    "    err = np.sum((((y_pred > confidence).astype(int) - y.T) ** 2))\n",
    "    return (len(y) - err) / len(y)\n",
    "\n",
    "a = accuracy(x, theta, y)"
   ]
  },
  {
   "cell_type": "code",
   "execution_count": 171,
   "metadata": {},
   "outputs": [],
   "source": [
    "def get_bound(theta):\n",
    "    pts = []\n",
    "    for i in np.arange(0.0, 1.0, 0.005):\n",
    "        for j in np.arange(0.0, 1.0, 0.005):\n",
    "            a = h(theta, np.array([1, i, j]))\n",
    "            if 0.49 < a < 0.51:\n",
    "                pts = [*pts, (i, j)]\n",
    "    points = np.array(pts)\n",
    "    if len(points) == 0:\n",
    "        return np.array([[1], [1]])\n",
    "    return points[0:, 0], points[0:, 1]\n",
    "\n",
    "\n",
    "def plot_data(data, predicted, costs, bound):\n",
    "    x, y = data\n",
    "    xb, yb = bound\n",
    "    fig, (g1, g2) = plt.subplots(nrows=2, ncols=1, figsize=(10, 10))\n",
    "    g1.plot(x[np.where(y == 1)][:, 0], x[np.where(y == 1)][:, 1], 'o', markersize=3)\n",
    "    g1.plot(x[np.where(y == 0)][:, 0], x[np.where(y == 0)][:, 1], 'x', markersize=3)\n",
    "    g1.plot(xb, yb, 'o', markersize=1)\n",
    "\n",
    "    g1.axis([x.min() - x.mean(), x.max() + x.mean(), x.min() - x.mean(), x.max() + x.mean()])\n",
    "\n",
    "    g2.plot(costs)\n",
    "    plt.show()"
   ]
  },
  {
   "cell_type": "code",
   "execution_count": 172,
   "metadata": {},
   "outputs": [
    {
     "data": {
      "image/png": "[encoded data removed]",
      "text/plain": [
       "<matplotlib.figure.Figure at 0x7f7b4aa2d630>"
      ]
     },
     "metadata": {},
     "output_type": "display_data"
    }
   ],
   "source": [
    "%matplotlib inline\n",
    "bound = get_bound(theta)\n",
    "y = y.T.reshape(-1)\n",
    "plot_data((x, y), predict(x,theta), costs, bound)"
   ]
  },
  {
   "cell_type": "code",
   "execution_count": 173,
   "metadata": {},
   "outputs": [],
   "source": [
    "data_sq = np.genfromtxt(\"../l2_data_2.txt\", delimiter=\",\", dtype=np.float128)"
   ]
  },
  {
   "cell_type": "code",
   "execution_count": 174,
   "metadata": {},
   "outputs": [],
   "source": [
    "def enrich_features(x, power=4):\n",
    "    examples, features = x.shape\n",
    "    for p in range(2, power + 1):\n",
    "        for f in range(features):\n",
    "            x = np.append(x, np.power(x[0:, f], p).reshape(examples, 1), axis=1)\n",
    "    return x"
   ]
  },
  {
   "cell_type": "code",
   "execution_count": 175,
   "metadata": {},
   "outputs": [],
   "source": [
    "x, y = split_data(data_sq)"
   ]
  },
  {
   "cell_type": "code",
   "execution_count": 176,
   "metadata": {},
   "outputs": [
    {
     "data": {
      "text/plain": [
       "0.73728813559322033897"
      ]
     },
     "execution_count": 176,
     "metadata": {},
     "output_type": "execute_result"
    }
   ],
   "source": [
    "x = normalize(x)\n",
    "x = enrich_features(x)\n",
    "theta, costs = train(x, y)\n",
    "accuracy(x, theta, y)"
   ]
  },
  {
   "cell_type": "code",
   "execution_count": null,
   "metadata": {},
   "outputs": [],
   "source": []
  },
  {
   "cell_type": "code",
   "execution_count": null,
   "metadata": {
    "scrolled": true
   },
   "outputs": [],
   "source": [
    "\n"
   ]
  },
  {
   "cell_type": "code",
   "execution_count": null,
   "metadata": {},
   "outputs": [],
   "source": []
  }
 ],
 "metadata": {
  "kernelspec": {
   "display_name": "Anaconda Python 3.6",
   "language": "python",
   "name": "anaconda"
  },
  "language_info": {
   "codemirror_mode": {
    "name": "ipython",
    "version": 3
   },
   "file_extension": ".py",
   "mimetype": "text/x-python",
   "name": "python",
   "nbconvert_exporter": "python",
   "pygments_lexer": "ipython3",
   "version": "3.6.1"
  }
 },
 "nbformat": 4,
 "nbformat_minor": 2
}
