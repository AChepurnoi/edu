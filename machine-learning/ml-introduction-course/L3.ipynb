{
 "cells": [
  {
   "cell_type": "markdown",
   "metadata": {},
   "source": [
    "## KNN"
   ]
  },
  {
   "cell_type": "markdown",
   "metadata": {},
   "source": [
    "KNN can be used for both classification and regression predictive problems. However, it is more widely used in classification problems in the industry. \n",
    "\n",
    "This classification algorithm based on 'distance'. Classification done by nearest **K** neighbours  "
   ]
  },
  {
   "cell_type": "markdown",
   "metadata": {},
   "source": [
    "<img src = \"http://www.saedsayad.com/images/KNN_similarity.png\"/>"
   ]
  },
  {
   "cell_type": "markdown",
   "metadata": {},
   "source": [
    "## How K changes decision boundry\n",
    "\n",
    "<img src = \"https://www.analyticsvidhya.com/blog/wp-content/uploads/2014/10/K-judgement2.png\"/>"
   ]
  },
  {
   "cell_type": "markdown",
   "metadata": {},
   "source": [
    "## Soooo easy. Let's implement it!"
   ]
  },
  {
   "cell_type": "code",
   "execution_count": 34,
   "metadata": {
    "collapsed": true
   },
   "outputs": [],
   "source": [
    "import numpy as np\n",
    "import matplotlib.pyplot as plt\n",
    "from scipy.optimize import minimize, rosen, rosen_der\n",
    "\n",
    "#Separate\n",
    "def dummy_data_one():\n",
    "    x = np.array([\n",
    "        [1, 1],\n",
    "        [1, 2],\n",
    "        [2.5, 3.3],\n",
    "        [2.1, 1],\n",
    "        [4, 3],\n",
    "\n",
    "        [5.5, 6],\n",
    "        [7.9, 5],\n",
    "        [7.5, 10],\n",
    "        [6, 5.5]\n",
    "    ])\n",
    "\n",
    "    y = np.array([\n",
    "        1, 1, 1, 1, 1, 0, 0, 0, 0\n",
    "    ])\n",
    "\n",
    "    return x, y\n",
    "\n",
    "\n",
    "def dummy_data_two():\n",
    "    # #Radial\n",
    "    x = np.array([\n",
    "        [5, 5],\n",
    "        [4, 5],\n",
    "        [6, 5],\n",
    "        [5, 6],\n",
    "        [5, 4],\n",
    "\n",
    "        [8.0, 8],\n",
    "        [7.5, 6],\n",
    "        [10, 8],\n",
    "        \n",
    "        [3, 2],\n",
    "        [1, 1.5],\n",
    "        [2.4, 2.2],\n",
    "        \n",
    "        [1, 6.5],\n",
    "        [0.4, 9.2],\n",
    "        [2.1, 10.2],\n",
    "        \n",
    "        [7, 3],\n",
    "        [5.9, 2.2],\n",
    "        [6.8, 2.2]\n",
    "    ])\n",
    "\n",
    "    y = np.array([\n",
    "        1, 1, 1, 1, 1, 0, 0, 0, 0, 0, 0, 0, 0, 0, 0, 0, 0\n",
    "    ])\n",
    "    \n",
    "    return x, y"
   ]
  },
  {
   "cell_type": "code",
   "execution_count": 41,
   "metadata": {
    "collapsed": true
   },
   "outputs": [],
   "source": [
    "def plot_area(pts):\n",
    "    for (x, y, color) in pts:\n",
    "        plt.plot(x, y, 's', color = color)    \n",
    "\n",
    "def plot(x, y, bound = None):\n",
    "    if bound:\n",
    "        plot_area(bound)\n",
    "        \n",
    "    plt.plot(x[np.where(y == 0)][0:, 0], x[np.where(y == 0)][0:, 1], 'wx', markersize = 8)\n",
    "    plt.plot(x[np.where(y == 1)][0:, 0], x[np.where(y == 1)][0:, 1], 'wo', markersize = 8)\n",
    "    plt.show()\n",
    "\n",
    "def normalize(x):\n",
    "    res = x\n",
    "    for i in range(x.shape[1]):\n",
    "        res[:,i] = x[:,i] / x[:,i].max()\n",
    "    return res"
   ]
  },
  {
   "cell_type": "code",
   "execution_count": 47,
   "metadata": {
    "collapsed": true
   },
   "outputs": [],
   "source": [
    "x, y = dummy_data_two()\n",
    "x = normalize(x)\n"
   ]
  },
  {
   "cell_type": "code",
   "execution_count": 48,
   "metadata": {
    "collapsed": true
   },
   "outputs": [],
   "source": [
    "#Define distance function\n",
    "def compute_distance(x, y):\n",
    "    return np.sqrt(np.sum(np.power(x - y, 2)))"
   ]
  },
  {
   "cell_type": "code",
   "execution_count": 52,
   "metadata": {
    "collapsed": true
   },
   "outputs": [],
   "source": [
    "#Find closest for x_test from dataset X with labels Y, with K nearest\n",
    "def find_closest(x_test, x, y, k = 3):\n",
    "    res = []\n",
    "    for row in x_test:\n",
    "        distances = np.array([compute_distance(row, x[i]) for i in range(len(x))])\n",
    "        closest_labels = y[np.argsort(distances)[:k]]\n",
    "        prediction = np.argmax(np.bincount(closest_labels))\n",
    "        res.append(prediction)\n",
    "    \n",
    "    return np.array(res)\n",
    "    "
   ]
  },
  {
   "cell_type": "code",
   "execution_count": 53,
   "metadata": {
    "collapsed": true
   },
   "outputs": [],
   "source": [
    "#Plotting purposes\n",
    "def form_area_marks(x, y):\n",
    "    colors = ['b', 'g', 'r', 'c', 'm', 'y', 'k']\n",
    "    xs = np.arange(-0.1, 1.1, 0.02)\n",
    "    ys = np.arange(-0.1, 1.1, 0.02)\n",
    "    pts = []\n",
    "    for i in xs:\n",
    "        for j in ys:\n",
    "            label = find_closest(np.array([[i, j]]), x, y)[0]\n",
    "            pts.append((i, j, colors[label]))\n",
    "    return pts\n",
    "           \n",
    "    "
   ]
  },
  {
   "cell_type": "code",
   "execution_count": 54,
   "metadata": {},
   "outputs": [
    {
     "data": {
      "image/png": "[encoded data removed]",
      "text/plain": [
       "<matplotlib.figure.Figure at 0x108081630>"
      ]
     },
     "metadata": {},
     "output_type": "display_data"
    }
   ],
   "source": [
    "bound = form_area_marks(x, y)\n",
    "plot(x, y, bound)"
   ]
  },
  {
   "cell_type": "markdown",
   "metadata": {},
   "source": [
    "<img src = \"https://memegenerator.net/img/instances/250x250/64104111/its-so-easy-a-baby-monkey-could-do-it.jpg\">"
   ]
  },
  {
   "cell_type": "markdown",
   "metadata": {},
   "source": [
    "## K means"
   ]
  },
  {
   "cell_type": "markdown",
   "metadata": {},
   "source": [
    "K-means clustering aims to partition n observations into k clusters in which each observation belongs to the cluster with the nearest mean, serving as a prototype of the cluster.\n",
    "\n",
    "Our goal is to find the K clusters that minimizes objective function J \n",
    "(‘ci’ is the number of data points in ith cluster. ‘c’ is the number of cluster centers)\n",
    "<img src=\"https://sites.google.com/site/dataclusteringalgorithms/_/rsrc/1273047853039/k-means-clustering-algorithm/kmeans.JPG\" />"
   ]
  },
  {
   "cell_type": "markdown",
   "metadata": {},
   "source": [
    "Let's define algorithm:\n",
    "\n",
    "Let  X = {x1,x2,x3,……..,xn} be the set of data points and V = {v1,v2,…….,vc} be the set of centers.\n",
    "\n",
    "\n",
    "1) Randomly select ‘c’ cluster centers.\n",
    "\n",
    "\n",
    "2) Calculate the distance between each data point and cluster centers.\n",
    "\n",
    "\n",
    "3) Assign the data point to the cluster center whose distance from the cluster center is minimum of all the cluster centers..\n",
    "\n",
    "\n",
    "4) Recalculate the new cluster center using:  \n",
    "<img src=\"https://sites.google.com/site/dataclusteringalgorithms/_/rsrc/1273048565389/k-means-clustering-algorithm/kmeans1.bmp\">\n",
    "\n",
    "5) Recalculate the distance between each data point and new obtained cluster centers.\n",
    "\n",
    "\n",
    "6) If no data point was reassigned then stop, otherwise repeat from step 3).\n"
   ]
  },
  {
   "cell_type": "markdown",
   "metadata": {},
   "source": [
    "<img src =\"http://static6.businessinsider.com/image/4f631d58ecad04f05e000043/nows-a-great-time-to-learn-to-code--heres-how-to-get-started-up-to-92-off.jpg\"/>"
   ]
  },
  {
   "cell_type": "code",
   "execution_count": 55,
   "metadata": {
    "collapsed": true
   },
   "outputs": [],
   "source": [
    "import numpy as np\n",
    "import matplotlib.pyplot as plt\n",
    "from scipy.optimize import minimize, rosen, rosen_der\n",
    "\n",
    "def dummy_data_one():\n",
    "    x = np.array([\n",
    "        [1, 1],\n",
    "        [1, 2],\n",
    "        [2.5, 3.3],\n",
    "        [2.1, 1],\n",
    "        [2, 3],\n",
    "        \n",
    "        [1, 10],\n",
    "        [2, 12],\n",
    "        [3, 9],\n",
    "        [2.5, 11],\n",
    "        \n",
    "        \n",
    "        [7.5, 6],\n",
    "        [7.9, 5],\n",
    "        [7.5, 6.5],\n",
    "        [8, 5.5]\n",
    "    ])\n",
    "\n",
    "    return x\n",
    "\n",
    "def plot_area(pts):\n",
    "    for (x, y, color) in pts:\n",
    "        plt.plot(x, y, 's', color = color)    \n",
    "\n",
    "def plot(x,bound = None, centroids = None):\n",
    "    \n",
    "    if bound:\n",
    "        plot_area(bound)\n",
    "        \n",
    "    if centroids is not None:\n",
    "        plt.plot(centroids[0:, 0], centroids[0:, 1], 'wo', markersize = 14)\n",
    "    \n",
    "    plt.plot(x[0:, 0], x[0:, 1], 'yx', markersize = 8)\n",
    "    plt.show()\n",
    "\n",
    "def normalize(x):\n",
    "    res = x\n",
    "    for i in range(x.shape[1]):\n",
    "        res[:,i] = x[:,i] / x[:,i].max()\n",
    "    return res"
   ]
  },
  {
   "cell_type": "code",
   "execution_count": 56,
   "metadata": {},
   "outputs": [
    {
     "data": {
      "image/png": "[encoded data removed]",
      "text/plain": [
       "<matplotlib.figure.Figure at 0x109465f28>"
      ]
     },
     "metadata": {},
     "output_type": "display_data"
    }
   ],
   "source": [
    "x = dummy_data_one()\n",
    "x = normalize(x)\n",
    "plot(x)"
   ]
  },
  {
   "cell_type": "code",
   "execution_count": 64,
   "metadata": {
    "collapsed": true
   },
   "outputs": [],
   "source": [
    "#Inititalize starting clusters\n",
    "inits = np.array([[0.5, 0.5], [0.8, 0.8]])"
   ]
  },
  {
   "cell_type": "code",
   "execution_count": 65,
   "metadata": {
    "collapsed": true
   },
   "outputs": [],
   "source": [
    "def cluster_iter(centroids, x):\n",
    "    size, features = x.shape\n",
    "    cendroids_count = len(centroids)\n",
    "    distances = np.array([np.sum(np.power(x - centroids[k], 2), axis = 1) for k in range(cendroids_count)]).T\n",
    "    assigned_cenroids = np.array([np.argsort(distances[i])[0] for i in range(size)])\n",
    "    updated = [x[assigned_cenroids == k].mean(axis = 0) for k in range(cendroids_count)]\n",
    "    return np.array(updated)\n",
    "        "
   ]
  },
  {
   "cell_type": "code",
   "execution_count": 66,
   "metadata": {
    "collapsed": true
   },
   "outputs": [],
   "source": [
    "def cluster(inits, x, niter = 100):\n",
    "    centroids = inits\n",
    "    for i in range(niter):\n",
    "        prev = centroids\n",
    "        centroids = cluster_iter(prev, x)\n",
    "        if(np.all(centroids == prev)): \n",
    "            break\n",
    "\n",
    "    return centroids"
   ]
  },
  {
   "cell_type": "code",
   "execution_count": 67,
   "metadata": {
    "collapsed": true
   },
   "outputs": [],
   "source": [
    "c = cluster(inits, x)"
   ]
  },
  {
   "cell_type": "code",
   "execution_count": 68,
   "metadata": {
    "collapsed": true
   },
   "outputs": [],
   "source": [
    "#Our predict function\n",
    "def find_closest(centroids, x):\n",
    "    distances = np.sum(np.power(centroids - x, 2),axis = 1)\n",
    "    closest = np.argsort(distances)[0]\n",
    "    return closest"
   ]
  },
  {
   "cell_type": "code",
   "execution_count": 69,
   "metadata": {
    "collapsed": true
   },
   "outputs": [],
   "source": [
    "def form_boundry(centroids):\n",
    "    colors = ['b', 'g', 'r', 'c', 'm', 'y', 'k']\n",
    "    xs = np.arange(-0.1, 1.1, 0.02)\n",
    "    ys = np.arange(-0.1, 1.1, 0.02)\n",
    "    pts = []\n",
    "    for i in xs:\n",
    "        for j in ys:\n",
    "            label = find_closest(centroids, np.array([i, j]))\n",
    "            pts.append((i, j, colors[label]))\n",
    "    return pts"
   ]
  },
  {
   "cell_type": "code",
   "execution_count": 70,
   "metadata": {},
   "outputs": [
    {
     "data": {
      "image/png": "[encoded data removed]",
      "text/plain": [
       "<matplotlib.figure.Figure at 0x108348438>"
      ]
     },
     "metadata": {},
     "output_type": "display_data"
    }
   ],
   "source": [
    "boundry = form_boundry(c)\n",
    "plot(x, boundry, c)"
   ]
  },
  {
   "cell_type": "code",
   "execution_count": null,
   "metadata": {
    "collapsed": true
   },
   "outputs": [],
   "source": []
  }
 ],
 "metadata": {
  "kernelspec": {
   "display_name": "Python 3",
   "language": "python",
   "name": "python3"
  },
  "language_info": {
   "codemirror_mode": {
    "name": "ipython",
    "version": 3
   },
   "file_extension": ".py",
   "mimetype": "text/x-python",
   "name": "python",
   "nbconvert_exporter": "python",
   "pygments_lexer": "ipython3",
   "version": "3.6.3"
  }
 },
 "nbformat": 4,
 "nbformat_minor": 2
}
