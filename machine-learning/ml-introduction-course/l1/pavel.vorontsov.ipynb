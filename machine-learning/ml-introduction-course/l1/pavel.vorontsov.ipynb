{
 "cells": [
  {
   "cell_type": "code",
   "execution_count": 3,
   "metadata": {},
   "outputs": [],
   "source": [
    "import numpy as np\n",
    "import matplotlib.pyplot as plt"
   ]
  },
  {
   "cell_type": "code",
   "execution_count": 4,
   "metadata": {},
   "outputs": [
    {
     "data": {
      "image/png": "[encoded data removed]",
      "text/plain": [
       "<matplotlib.figure.Figure at 0x7fd94abc7ac8>"
      ]
     },
     "metadata": {},
     "output_type": "display_data"
    }
   ],
   "source": [
    "data = np.genfromtxt('../l1_data.csv', delimiter=',')\n",
    "plt.plot(data[:,0], data[:, 1], 'b.')\n",
    "plt.show()"
   ]
  },
  {
   "cell_type": "code",
   "execution_count": 5,
   "metadata": {},
   "outputs": [],
   "source": [
    "def split_data(data):\n",
    "    examples, features = data.shape\n",
    "    return (data[0:, :features - 1], data[0:, features - 1])\n",
    "\n",
    "def train(x, y, lr=0.0001, iter=15, rr=2):\n",
    "    m, features = x.shape\n",
    "    \n",
    "    theta = np.zeros(features + 1)\n",
    "    x_bias = np.column_stack((np.ones(m), x))\n",
    "    print(x_bias.shape)\n",
    "    print(theta.shape)\n",
    "    print(y.shape)\n",
    "    costs = []\n",
    "    \n",
    "    for i in range(iter):\n",
    "        cost = (1 / (2 * m)) * np.sum((np.sum(np.transpose(theta)*x_bias, axis=1) - y) ** 2) + (rr / m)* np.sum(theta[1:] ** 2)\n",
    "        costs = [*costs, cost]\n",
    "        theta_update = theta - (\n",
    "            lr * (1 / m) * np.sum((np.sum(np.transpose(theta) * x_bias, axis=1) - y) * np.transpose(x_bias), axis=1)\n",
    "        )\n",
    "        theta_regularization = (rr / m) * theta\n",
    "        theta_regularization[0] = 0\n",
    "        theta = theta_update + theta_regularization\n",
    "        \n",
    "    return theta, costs\n",
    "\n",
    "def plot_data(data, predicted, costs):\n",
    "    x, y = data\n",
    "    fig, (g1, g2) = plt.subplots(nrows=2, ncols=1)\n",
    "    g1.plot(x, y, 'bo', markersize=10)\n",
    "    g1.plot(x, predicted, 'ro', markersize=2)\n",
    "    g1.axis([x.min() - x.mean() / 10, x.max() + x.mean()/ 10, y.min() - y.mean()/ 10, y.max() + y.mean()/ 10])\n",
    "    g2.plot(costs)\n",
    "    plt.show() \n",
    "    \n",
    "def predict(theta, x):\n",
    "    m, features = x.shape\n",
    "    x_bias = np.column_stack((np.ones(m), x))\n",
    "    y = np.sum(np.transpose(theta) * x_bias, axis=1)\n",
    "    return y"
   ]
  },
  {
   "cell_type": "code",
   "execution_count": 6,
   "metadata": {},
   "outputs": [
    {
     "name": "stdout",
     "output_type": "stream",
     "text": [
      "(100, 2)\n",
      "(2,)\n",
      "(100,)\n"
     ]
    },
    {
     "data": {
      "image/png": "[encoded data removed]",
      "text/plain": [
       "<matplotlib.figure.Figure at 0x7fd91a37c748>"
      ]
     },
     "metadata": {},
     "output_type": "display_data"
    }
   ],
   "source": [
    "x, y = split_data(data)\n",
    "theta, costs = train(x, y)\n",
    "plot_data((x, y), predict(theta, x), costs)"
   ]
  },
  {
   "cell_type": "code",
   "execution_count": 7,
   "metadata": {},
   "outputs": [],
   "source": [
    "arr = list()\n",
    "for i in range(10):\n",
    "    arr.append([i, (i) ** 2])\n",
    "data_q = np.array(arr)"
   ]
  },
  {
   "cell_type": "code",
   "execution_count": 8,
   "metadata": {},
   "outputs": [],
   "source": [
    "def normalize(a):\n",
    "    return (a - a.min()) / (a.max() - a.min())\n",
    "\n",
    "def trainq(x, y, lr=0.0001, iter=5000, rr=0):\n",
    "    m, features = x.shape\n",
    "    \n",
    "    theta = np.zeros(features + 2)\n",
    "    x_bias = np.column_stack((np.ones(m), x, np.power(x, 2)))\n",
    "    costs = []\n",
    "    one2m = 1 / (2 * m)\n",
    "    \n",
    "    for i in range(iter):\n",
    "        t = np.dot(x_bias, theta.reshape((-1, 1)))\n",
    "        cost = (1 / (2 * m)) * \\\n",
    "            np.dot( (t - y.reshape((-1, 1))).T, t - y.reshape((-1, 1)) ) \\\n",
    "            + (rr / (2*m))* np.sum(theta[1:] ** 2)\n",
    "        costs = [*costs, cost.flatten()]\n",
    "        theta_update = theta - (\n",
    "            lr * (1 / m) * np.sum((np.sum(np.transpose(theta) * x_bias, axis=1) - y) * np.transpose(x_bias), axis=1)\n",
    "        )\n",
    "        theta_regularization = (rr / m) * theta\n",
    "        theta_regularization[0] = 0\n",
    "        theta = theta_update + theta_regularization\n",
    "        \n",
    "#         cost = (1 / (2 * m)) * np.sum((np.sum(np.transpose(theta)*x_bias, axis=1) - y) ** 2) + (rr / m)* np.sum(theta[1:] ** 2)\n",
    "#         costs = [*costs, cost]\n",
    "#         theta_update = theta - (\n",
    "#             lr * (1 / m) * np.sum((np.sum(np.transpose(theta) * x_bias, axis=1) - y) * np.transpose(x_bias), axis=1)\n",
    "#         )\n",
    "#         theta_regularization = (rr / m) * theta\n",
    "#         theta_regularization[0] = 0\n",
    "#         theta = theta_update + theta_regularization\n",
    "        \n",
    "    return theta, costs\n",
    "\n",
    "def predict_q(theta, x):\n",
    "    m, features = x.shape\n",
    "    x_bias = np.column_stack((np.ones(m), x, np.power(x, 2)))\n",
    "    y = np.dot(theta.T, x_bias.T)\n",
    "    return y"
   ]
  },
  {
   "cell_type": "code",
   "execution_count": 9,
   "metadata": {},
   "outputs": [
    {
     "data": {
      "image/png": "[encoded data removed]",
      "text/plain": [
       "<matplotlib.figure.Figure at 0x7fd917fc6470>"
      ]
     },
     "metadata": {},
     "output_type": "display_data"
    }
   ],
   "source": [
    "x, y = split_data(data_q)\n",
    "\n",
    "theta, costs = trainq(x, y)\n",
    "# print(theta, x)\n",
    "plot_data((x, y), predict_q(theta, x), costs)"
   ]
  },
  {
   "cell_type": "code",
   "execution_count": null,
   "metadata": {},
   "outputs": [],
   "source": []
  },
  {
   "cell_type": "code",
   "execution_count": null,
   "metadata": {},
   "outputs": [],
   "source": []
  }
 ],
 "metadata": {
  "kernelspec": {
   "display_name": "Python 3",
   "language": "python",
   "name": "python3"
  },
  "language_info": {
   "codemirror_mode": {
    "name": "ipython",
    "version": 3
   },
   "file_extension": ".py",
   "mimetype": "text/x-python",
   "name": "python",
   "nbconvert_exporter": "python",
   "pygments_lexer": "ipython3",
   "version": "3.5.3"
  }
 },
 "nbformat": 4,
 "nbformat_minor": 2
}
