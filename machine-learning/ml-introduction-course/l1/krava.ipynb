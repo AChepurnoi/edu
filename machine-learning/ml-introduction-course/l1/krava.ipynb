{
 "cells": [
  {
   "cell_type": "code",
   "execution_count": 7,
   "metadata": {
    "collapsed": true
   },
   "outputs": [],
   "source": [
    "\n",
    "import numpy as np\n",
    "import matplotlib.pyplot as plt"
   ]
  },
  {
   "cell_type": "code",
   "execution_count": 8,
   "metadata": {},
   "outputs": [
    {
     "data": {
      "image/png": "[encoded data removed]",
      "text/plain": [
       "<matplotlib.figure.Figure at 0x10d55dda0>"
      ]
     },
     "metadata": {},
     "output_type": "display_data"
    }
   ],
   "source": [
    "data = np.genfromtxt(\"../l1_data.csv\", delimiter=\",\")\n",
    "plt.plot(data[:,0], data[:, 1], 'bx')\n",
    "plt.show()"
   ]
  },
  {
   "cell_type": "code",
   "execution_count": 28,
   "metadata": {
    "collapsed": true
   },
   "outputs": [],
   "source": [
    "def split(data):\n",
    "    rows, columns = data.shape\n",
    "    return (data[:,0:columns - 1], data[:, columns - 1])\n",
    "\n",
    "def bias(x):\n",
    "    count, col = x.shape\n",
    "    return np.column_stack((np.ones(count), x))     \n",
    "\n",
    "def train(data, lr=0.0001, iter=30,rr=2):\n",
    "    x, y = split(data)\n",
    "    bias_ = bias(x)\n",
    "    thetha = np.zeros(bias_.shape[1])\n",
    "    costs = np.zeros(iter)   \n",
    "    for i in range(iter):\n",
    "        costs[i] = (1 / (2*x.shape[0])) * np.sum((np.sum(np.transpose(thetha) * bias_, axis = 1) - y) ** 2) + (rr / x.shape[0])* np.sum(thetha[1:] ** 2)\n",
    "        thetha_new = thetha - lr * ( 1/ (x.shape[0])) * np.sum((np.sum(np.transpose(thetha) * bias_, axis = 1) - y) * bias_.transpose(), axis = 1)\n",
    "    \n",
    "        thetha_reg = thetha * (rr / x.shape[0])\n",
    "        thetha_reg[0] = 0\n",
    "        thetha = thetha_new + thetha_reg\n",
    "    return thetha, costs"
   ]
  },
  {
   "cell_type": "code",
   "execution_count": 29,
   "metadata": {
    "collapsed": true
   },
   "outputs": [],
   "source": [
    "def plot_data(data, predicted, costs):\n",
    "    x, y = data\n",
    "    fig, (g1, g2) = plt.subplots(nrows=2, ncols=1)\n",
    "    g1.plot(x, y, 'bo', markersize=2)\n",
    "    g1.plot(x, predicted, 'ro', markersize=2)\n",
    "    g1.axis([x.min() - x.mean() / 10, x.max() + x.mean()/ 10, y.min() - y.mean()/ 10, y.max() + y.mean()/ 10])\n",
    "    g2.plot(costs)\n",
    "    plt.show()\n",
    "\n",
    "    \n",
    "def predict(theta, x):\n",
    "    m, features = x.shape\n",
    "    x_bias = np.column_stack((np.ones(m), x))\n",
    "    y = np.sum(np.transpose(theta) * x_bias, axis=1)\n",
    "    return y"
   ]
  },
  {
   "cell_type": "code",
   "execution_count": 30,
   "metadata": {
    "collapsed": true
   },
   "outputs": [],
   "source": [
    "thetha, costs = train(data)"
   ]
  },
  {
   "cell_type": "code",
   "execution_count": 31,
   "metadata": {},
   "outputs": [
    {
     "data": {
      "image/png": "[encoded data removed]",
      "text/plain": [
       "<matplotlib.figure.Figure at 0x10db76cf8>"
      ]
     },
     "metadata": {},
     "output_type": "display_data"
    }
   ],
   "source": [
    "x, y = split(data)\n",
    "plot_data((x, y), predict(thetha, x), costs)"
   ]
  },
  {
   "cell_type": "code",
   "execution_count": 32,
   "metadata": {},
   "outputs": [
    {
     "data": {
      "image/png": "[encoded data removed]",
      "text/plain": [
       "<matplotlib.figure.Figure at 0x10dac85f8>"
      ]
     },
     "metadata": {},
     "output_type": "display_data"
    },
    {
     "name": "stdout",
     "output_type": "stream",
     "text": [
      "[ 2782.55391724  1593.13617553   907.40644158   516.13414534   296.10882812\n",
      "   174.97517168   110.39816533    77.72901557    62.71140629    57.17452134\n",
      "    56.49453147    58.10210658    60.60780099    63.29175885    65.80773254\n",
      "    68.01278096    69.870366      71.3960767     72.62792413    73.61065182\n",
      "    74.38792435    74.99885036    75.47681408    75.84947267    76.13928778\n",
      "    76.36425228    76.53863879    76.67368848    76.7782086     76.85907246]\n"
     ]
    }
   ],
   "source": [
    "plt.plot(costs)\n",
    "plt.show()\n",
    "print(costs)"
   ]
  },
  {
   "cell_type": "code",
   "execution_count": null,
   "metadata": {
    "collapsed": true
   },
   "outputs": [],
   "source": []
  },
  {
   "cell_type": "code",
   "execution_count": null,
   "metadata": {
    "collapsed": true
   },
   "outputs": [],
   "source": []
  },
  {
   "cell_type": "code",
   "execution_count": null,
   "metadata": {
    "collapsed": true
   },
   "outputs": [],
   "source": []
  }
 ],
 "metadata": {
  "kernelspec": {
   "display_name": "Python 3",
   "language": "python",
   "name": "python3"
  },
  "language_info": {
   "codemirror_mode": {
    "name": "ipython",
    "version": 3
   },
   "file_extension": ".py",
   "mimetype": "text/x-python",
   "name": "python",
   "nbconvert_exporter": "python",
   "pygments_lexer": "ipython3",
   "version": "3.6.3"
  }
 },
 "nbformat": 4,
 "nbformat_minor": 2
}
