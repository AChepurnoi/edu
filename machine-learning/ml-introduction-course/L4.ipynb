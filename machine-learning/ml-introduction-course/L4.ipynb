{
 "cells": [
  {
   "cell_type": "markdown",
   "metadata": {},
   "source": [
    "## SVM classifier\n",
    "\n",
    "\n",
    "Large margin classifier. \n",
    "\n",
    "\n",
    "### Goal is to find the best separating hyperplane\n"
   ]
  },
  {
   "cell_type": "markdown",
   "metadata": {},
   "source": [
    "<img src=\"http://weknowmemes.com/wp-content/uploads/2014/03/welcome-to-hell-dog-gif.png\" />\n"
   ]
  },
  {
   "cell_type": "markdown",
   "metadata": {},
   "source": [
    "### Initial max margin problem\n",
    "\n",
    "<img src=\"l4_data/maxmargin.png\"/>\n",
    "\n",
    "<img src=\"l4_data/svm-1.png\"/>"
   ]
  },
  {
   "cell_type": "markdown",
   "metadata": {},
   "source": [
    "### Set margin constant to 1 And do some W scaling with multiplication. \n",
    "### s.t. Is essentially our hypothesis function\n",
    "<img src= \"l4_data/svm-3.png\" height=600 width=600/>"
   ]
  },
  {
   "cell_type": "markdown",
   "metadata": {},
   "source": [
    "### After doing A LOT OF MATH we will come to this optimization problem \n",
    "### (Lagrange duality - http://cs229.stanford.edu/notes/cs229-notes3.pdf)\n",
    "### Wiki (really usefull) - https://en.wikipedia.org/wiki/Support_vector_machine\n",
    "<img src= \"l4_data/svm-4.png\" height=600 width=600/>"
   ]
  },
  {
   "cell_type": "markdown",
   "metadata": {},
   "source": [
    "### Prediction function \n",
    "<img src = \"https://wikimedia.org/api/rest_v1/media/math/render/svg/e6096cb2a74a383da07b30358635f7a99ba461e4\"/>"
   ]
  },
  {
   "cell_type": "code",
   "execution_count": 23,
   "metadata": {},
   "outputs": [],
   "source": [
    "import numpy as np\n",
    "import matplotlib.pyplot as plt\n",
    "from scipy.optimize import minimize, rosen, rosen_der"
   ]
  },
  {
   "cell_type": "code",
   "execution_count": 24,
   "metadata": {},
   "outputs": [],
   "source": [
    "# x = np.array([\n",
    "#     [1, 1],\n",
    "#     [1, 2],\n",
    "#     [2.5, 3.3],\n",
    "#     [2.1, 1],\n",
    "#     [4, 3],\n",
    "    \n",
    "#     [5.5, 1],\n",
    "#     [7.9, 5],\n",
    "#     [7.5, 10],\n",
    "#     [8, 2.5]\n",
    "# ])\n",
    "\n",
    "# y = np.array([\n",
    "#     1, 1, 1, 1, 1, -1, -1, -1, -1\n",
    "# ])"
   ]
  },
  {
   "cell_type": "code",
   "execution_count": 61,
   "metadata": {},
   "outputs": [],
   "source": [
    "#Radial\n",
    "x = np.array([\n",
    "    [5, 5],\n",
    "    [4, 5],\n",
    "    [6, 5],\n",
    "    [5, 6],\n",
    "    [5, 4],\n",
    "    \n",
    "    [8.0, 8],\n",
    "    [3, 2],\n",
    "    [1, 10],\n",
    "    [7, 3]\n",
    "])\n",
    "\n",
    "y = np.array([\n",
    "    1, 1, 1, 1, 1, -1, -1, -1, -1\n",
    "])"
   ]
  },
  {
   "cell_type": "code",
   "execution_count": null,
   "metadata": {},
   "outputs": [],
   "source": []
  },
  {
   "cell_type": "code",
   "execution_count": 62,
   "metadata": {},
   "outputs": [],
   "source": [
    "for i in range(x.shape[1]):\n",
    "    x[:,i] = x[:,i] / x[:,i].max()"
   ]
  },
  {
   "cell_type": "code",
   "execution_count": 63,
   "metadata": {},
   "outputs": [
    {
     "data": {
      "image/png": "[encoded data removed]",
      "text/plain": [
       "<matplotlib.figure.Figure at 0x108040780>"
      ]
     },
     "metadata": {},
     "output_type": "display_data"
    }
   ],
   "source": [
    "def line(theta):\n",
    "    def foo(x):\n",
    "        return (theta[1] * x + theta[0]) / (- theta[2])\n",
    "    return foo\n",
    "plt.plot(x[np.where(y==-1)][0:,0], x[np.where(y==-1)][0:,1], 'x')\n",
    "plt.plot(x[np.where(y==1)][0:,0], x[np.where(y==1)][0:,1], 'o')\n",
    "plt.show()\n"
   ]
  },
  {
   "cell_type": "code",
   "execution_count": 64,
   "metadata": {},
   "outputs": [],
   "source": [
    "# Kernels"
   ]
  },
  {
   "cell_type": "code",
   "execution_count": 65,
   "metadata": {},
   "outputs": [],
   "source": [
    "def linear_kernel(x_test, x):\n",
    "    return np.dot(x_test, x.T)"
   ]
  },
  {
   "cell_type": "code",
   "execution_count": 160,
   "metadata": {},
   "outputs": [],
   "source": [
    "def polynomial_kernel(x_test, x, d = 3):\n",
    "    return np.power((1 + np.dot(x_test, x.T)), d)"
   ]
  },
  {
   "cell_type": "code",
   "execution_count": 161,
   "metadata": {},
   "outputs": [],
   "source": [
    "def radial_kernel(x_test, x, sigma = 50):\n",
    "    m, f = x.shape\n",
    "    m1, f1 = x_test.shape\n",
    "    \n",
    "    res = np.empty((m,m1))\n",
    "    for row in range(m1):\n",
    "        x0 = x_test[row]\n",
    "        for stack in range(m - 1):\n",
    "            x0 = np.vstack((x0, x_test[row]))\n",
    "        col = np.sum(np.power(np.subtract(x, x0), 2), axis = 1)\n",
    "        res[0:,row] = col\n",
    "        \n",
    "    return np.exp(res * -sigma).T"
   ]
  },
  {
   "cell_type": "code",
   "execution_count": 162,
   "metadata": {},
   "outputs": [],
   "source": [
    "# Hypothesis\n",
    "def h(alpha, b, y, x_test, x, kernel = linear_kernel):\n",
    "    return np.sum(alpha * y * kernel(x_test, x), axis = 1) + b\n"
   ]
  },
  {
   "cell_type": "code",
   "execution_count": 163,
   "metadata": {},
   "outputs": [],
   "source": [
    "def train(x, y, C = None, kernel = linear_kernel, epsi = 0.01):\n",
    "    size = len(y)\n",
    "    lowbound = [(0, C) for i in range(size)]\n",
    "    alpha = np.zeros(size)\n",
    "#     Optimization objective\n",
    "    def objective(alpha):\n",
    "        m, features = x.shape\n",
    "        second_term = np.sum((y * y.reshape(-1,1)) * (alpha * alpha.reshape(-1,1)) * kernel(x, x)) / 2\n",
    "        return -(np.sum(alpha) - second_term)\n",
    "#     Conditions\n",
    "    def condition2(alpha):\n",
    "        return np.sum(alpha * y)\n",
    "    \n",
    "    optim = minimize(objective, alpha, method = 'SLSQP', \\\n",
    "                     bounds=lowbound, constraints = [{'type': 'eq', 'fun': condition2}])\n",
    "    print(optim)\n",
    "    alpha = optim.x    \n",
    "    w = np.sum(np.column_stack((alpha[alpha > epsi] * y[alpha > epsi], alpha[alpha > epsi] * y[alpha > epsi])) * x[alpha > epsi], axis = 0)\n",
    "    test = h(alpha, 0 , y, x, x, kernel)\n",
    "    b = -(np.sum(alpha * y * kernel(x, x), axis = 1)).mean()\n",
    "    return (w, b, alpha)\n",
    "    \n",
    "    "
   ]
  },
  {
   "cell_type": "code",
   "execution_count": 164,
   "metadata": {},
   "outputs": [
    {
     "name": "stdout",
     "output_type": "stream",
     "text": [
      "     fun: -3.092509241187177\n",
      "     jac: array([ 0.61698785,  0.24771926,  0.24765638,  0.24762321,  0.24759266,\n",
      "       -0.24743974, -0.24744749, -0.24743927, -0.24750885])\n",
      " message: 'Optimization terminated successfully.'\n",
      "    nfev: 77\n",
      "     nit: 7\n",
      "    njev: 7\n",
      "  status: 0\n",
      " success: True\n",
      "       x: array([ 0.        ,  0.82788587,  0.8776042 ,  0.67861862,  0.70869638,\n",
      "        0.75306861,  0.760994  ,  0.75256071,  0.82618174])\n"
     ]
    }
   ],
   "source": [
    "w, b, alpha = train(x, y, C = 1, kernel=radial_kernel)"
   ]
  },
  {
   "cell_type": "code",
   "execution_count": null,
   "metadata": {},
   "outputs": [],
   "source": []
  },
  {
   "cell_type": "code",
   "execution_count": 167,
   "metadata": {},
   "outputs": [],
   "source": [
    "def bound(alpha, b, y, x, ikernel = linear_kernel):\n",
    "    xs = np.arange(0, 1, 0.005)\n",
    "    ys = np.arange(0, 1, 0.005)\n",
    "    pts = []\n",
    "    for i in xs:\n",
    "        for j in ys:\n",
    "            if np.abs(h(alpha, b, y, np.array([[i, j]]), x, kernel=ikernel)) < 0.01:\n",
    "                pts.append((i, j))\n",
    "    return pts"
   ]
  },
  {
   "cell_type": "code",
   "execution_count": 168,
   "metadata": {},
   "outputs": [],
   "source": [
    "bounds = bound(alpha, b, y, x, ikernel=radial_kernel)"
   ]
  },
  {
   "cell_type": "code",
   "execution_count": null,
   "metadata": {},
   "outputs": [],
   "source": []
  },
  {
   "cell_type": "code",
   "execution_count": null,
   "metadata": {},
   "outputs": [],
   "source": []
  },
  {
   "cell_type": "code",
   "execution_count": null,
   "metadata": {},
   "outputs": [],
   "source": []
  },
  {
   "cell_type": "code",
   "execution_count": 169,
   "metadata": {},
   "outputs": [
    {
     "data": {
      "image/png": "[encoded data removed]",
      "text/plain": [
       "<matplotlib.figure.Figure at 0x107af11d0>"
      ]
     },
     "metadata": {},
     "output_type": "display_data"
    }
   ],
   "source": [
    "\n",
    "plt.plot(np.array(bounds)[0:,0], np.array(bounds)[0:,1],'o', markersize=1)\n",
    "plt.plot(x[np.where(y==-1)][0:,0], x[np.where(y==-1)][0:,1], 'x')\n",
    "plt.plot(x[np.where(y==1)][0:,0], x[np.where(y==1)][0:,1], 'o')\n",
    "plt.show()"
   ]
  },
  {
   "cell_type": "code",
   "execution_count": null,
   "metadata": {
    "collapsed": true
   },
   "outputs": [],
   "source": []
  },
  {
   "cell_type": "code",
   "execution_count": null,
   "metadata": {},
   "outputs": [],
   "source": []
  },
  {
   "cell_type": "code",
   "execution_count": null,
   "metadata": {
    "collapsed": true
   },
   "outputs": [],
   "source": []
  },
  {
   "cell_type": "code",
   "execution_count": null,
   "metadata": {
    "collapsed": true
   },
   "outputs": [],
   "source": []
  },
  {
   "cell_type": "code",
   "execution_count": null,
   "metadata": {
    "collapsed": true
   },
   "outputs": [],
   "source": []
  },
  {
   "cell_type": "code",
   "execution_count": null,
   "metadata": {
    "collapsed": true
   },
   "outputs": [],
   "source": []
  },
  {
   "cell_type": "code",
   "execution_count": null,
   "metadata": {
    "collapsed": true
   },
   "outputs": [],
   "source": []
  },
  {
   "cell_type": "code",
   "execution_count": null,
   "metadata": {
    "collapsed": true
   },
   "outputs": [],
   "source": [
    "\n"
   ]
  },
  {
   "cell_type": "code",
   "execution_count": null,
   "metadata": {
    "collapsed": true
   },
   "outputs": [],
   "source": []
  },
  {
   "cell_type": "code",
   "execution_count": null,
   "metadata": {
    "collapsed": true
   },
   "outputs": [],
   "source": []
  },
  {
   "cell_type": "code",
   "execution_count": null,
   "metadata": {
    "collapsed": true
   },
   "outputs": [],
   "source": []
  },
  {
   "cell_type": "code",
   "execution_count": null,
   "metadata": {
    "collapsed": true
   },
   "outputs": [],
   "source": []
  },
  {
   "cell_type": "code",
   "execution_count": null,
   "metadata": {
    "collapsed": true
   },
   "outputs": [],
   "source": []
  },
  {
   "cell_type": "code",
   "execution_count": null,
   "metadata": {
    "collapsed": true
   },
   "outputs": [],
   "source": []
  },
  {
   "cell_type": "code",
   "execution_count": null,
   "metadata": {
    "collapsed": true
   },
   "outputs": [],
   "source": []
  }
 ],
 "metadata": {
  "kernelspec": {
   "display_name": "Python 3",
   "language": "python",
   "name": "python3"
  },
  "language_info": {
   "codemirror_mode": {
    "name": "ipython",
    "version": 3
   },
   "file_extension": ".py",
   "mimetype": "text/x-python",
   "name": "python",
   "nbconvert_exporter": "python",
   "pygments_lexer": "ipython3",
   "version": "3.6.3"
  }
 },
 "nbformat": 4,
 "nbformat_minor": 2
}
